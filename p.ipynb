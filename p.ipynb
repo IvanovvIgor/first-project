{
 "cells": [
  {
   "cell_type": "code",
   "execution_count": 6,
   "metadata": {},
   "outputs": [],
   "source": [
    "import pandas as pd\n",
    "import numpy as np \n",
    "import statistics as stat\n",
    "from matplotlib import pyplot as plt\n",
    "import seaborn as sns\n",
    "import warnings"
   ]
  },
  {
   "cell_type": "code",
   "execution_count": 10,
   "metadata": {
    "scrolled": true
   },
   "outputs": [
    {
     "data": {
      "text/html": [
       "<div>\n",
       "<style scoped>\n",
       "    .dataframe tbody tr th:only-of-type {\n",
       "        vertical-align: middle;\n",
       "    }\n",
       "\n",
       "    .dataframe tbody tr th {\n",
       "        vertical-align: top;\n",
       "    }\n",
       "\n",
       "    .dataframe thead th {\n",
       "        text-align: right;\n",
       "    }\n",
       "</style>\n",
       "<table border=\"1\" class=\"dataframe\">\n",
       "  <thead>\n",
       "    <tr style=\"text-align: right;\">\n",
       "      <th></th>\n",
       "      <th>id</th>\n",
       "      <th>name</th>\n",
       "      <th>has_test</th>\n",
       "      <th>response_letter_required</th>\n",
       "      <th>salary_from</th>\n",
       "      <th>salary_to</th>\n",
       "      <th>salary_currency</th>\n",
       "      <th>salary_gross</th>\n",
       "      <th>published_at</th>\n",
       "      <th>created_at</th>\n",
       "      <th>parsed_at</th>\n",
       "      <th>url</th>\n",
       "      <th>employer_name</th>\n",
       "      <th>description</th>\n",
       "      <th>alternate_url</th>\n",
       "      <th>area_id</th>\n",
       "      <th>area_name</th>\n",
       "    </tr>\n",
       "  </thead>\n",
       "  <tbody>\n",
       "    <tr>\n",
       "      <th>0</th>\n",
       "      <td>38228194</td>\n",
       "      <td>Project R’n’D / Технолог R’n’D</td>\n",
       "      <td>False</td>\n",
       "      <td>True</td>\n",
       "      <td>NaN</td>\n",
       "      <td>NaN</td>\n",
       "      <td>NaN</td>\n",
       "      <td>NaN</td>\n",
       "      <td>2020-07-26 23:40:42+00</td>\n",
       "      <td>2020-07-26 23:40:42+00</td>\n",
       "      <td>2020-07-27 03:03:03.154874+00</td>\n",
       "      <td>https://api.hh.ru/vacancies/38228194?host=hh.ru</td>\n",
       "      <td>Масл фектори</td>\n",
       "      <td>&lt;p&gt;&lt;strong&gt;MF Kitchen&lt;/strong&gt; — группа компан...</td>\n",
       "      <td>https://hh.ru/vacancy/38228194</td>\n",
       "      <td>1</td>\n",
       "      <td>Москва</td>\n",
       "    </tr>\n",
       "    <tr>\n",
       "      <th>1</th>\n",
       "      <td>36911636</td>\n",
       "      <td>Продавец-кассир (Москва, Богданова, 16)</td>\n",
       "      <td>False</td>\n",
       "      <td>False</td>\n",
       "      <td>33500.0</td>\n",
       "      <td>40000.0</td>\n",
       "      <td>RUR</td>\n",
       "      <td>True</td>\n",
       "      <td>2020-07-27 00:28:12+00</td>\n",
       "      <td>2020-07-27 00:28:12+00</td>\n",
       "      <td>2020-07-27 03:03:04.258759+00</td>\n",
       "      <td>https://api.hh.ru/vacancies/36911636?host=hh.ru</td>\n",
       "      <td>Пятёрочка</td>\n",
       "      <td>&lt;p&gt;&lt;strong&gt;Обязанности:&lt;/strong&gt;&lt;/p&gt;&lt;ul&gt;&lt;li&gt;Об...</td>\n",
       "      <td>https://hh.ru/vacancy/36911636</td>\n",
       "      <td>1</td>\n",
       "      <td>Москва</td>\n",
       "    </tr>\n",
       "    <tr>\n",
       "      <th>2</th>\n",
       "      <td>36909000</td>\n",
       "      <td>Продавец-кассир (Москва, Новогиреевская, 11/36)</td>\n",
       "      <td>False</td>\n",
       "      <td>False</td>\n",
       "      <td>33500.0</td>\n",
       "      <td>38000.0</td>\n",
       "      <td>RUR</td>\n",
       "      <td>True</td>\n",
       "      <td>2020-08-24 00:16:48+00</td>\n",
       "      <td>2020-08-24 00:16:48+00</td>\n",
       "      <td>2020-08-24 02:59:43.766137+00</td>\n",
       "      <td>https://api.hh.ru/vacancies/36909000?host=hh.ru</td>\n",
       "      <td>Пятёрочка</td>\n",
       "      <td>&lt;p&gt;&lt;strong&gt;Обязанности:&lt;/strong&gt;&lt;/p&gt;&lt;ul&gt;&lt;li&gt;Об...</td>\n",
       "      <td>https://hh.ru/vacancy/36909000</td>\n",
       "      <td>1</td>\n",
       "      <td>Москва</td>\n",
       "    </tr>\n",
       "    <tr>\n",
       "      <th>3</th>\n",
       "      <td>38985954</td>\n",
       "      <td>Product owner бизнес–стрима \"Аналитика и Отчет...</td>\n",
       "      <td>False</td>\n",
       "      <td>False</td>\n",
       "      <td>NaN</td>\n",
       "      <td>NaN</td>\n",
       "      <td>NaN</td>\n",
       "      <td>NaN</td>\n",
       "      <td>2020-09-08 18:29:25+00</td>\n",
       "      <td>2020-09-08 18:29:25+00</td>\n",
       "      <td>2020-09-08 19:02:47.261747+00</td>\n",
       "      <td>https://api.hh.ru/vacancies/38985954?host=hh.ru</td>\n",
       "      <td>Банк ВТБ (ПАО)</td>\n",
       "      <td>&lt;p&gt;Наша позиция предполагает участие в програм...</td>\n",
       "      <td>https://hh.ru/vacancy/38985954</td>\n",
       "      <td>1</td>\n",
       "      <td>Москва</td>\n",
       "    </tr>\n",
       "    <tr>\n",
       "      <th>4</th>\n",
       "      <td>40108800</td>\n",
       "      <td>Business Development Director (CTO)</td>\n",
       "      <td>False</td>\n",
       "      <td>False</td>\n",
       "      <td>NaN</td>\n",
       "      <td>NaN</td>\n",
       "      <td>NaN</td>\n",
       "      <td>NaN</td>\n",
       "      <td>2020-11-25 08:56:45+00</td>\n",
       "      <td>2020-11-25 08:56:45+00</td>\n",
       "      <td>2020-11-28 06:59:37.872153+00</td>\n",
       "      <td>https://api.hh.ru/vacancies/40108800?host=hh.ru</td>\n",
       "      <td>Студия Олега Чулакова</td>\n",
       "      <td>&lt;p&gt;Студия Олега Чулакова — это дизайн-студия №...</td>\n",
       "      <td>https://hh.ru/vacancy/40108800</td>\n",
       "      <td>1</td>\n",
       "      <td>Москва</td>\n",
       "    </tr>\n",
       "  </tbody>\n",
       "</table>\n",
       "</div>"
      ],
      "text/plain": [
       "         id                                               name  has_test  \\\n",
       "0  38228194                     Project R’n’D / Технолог R’n’D     False   \n",
       "1  36911636            Продавец-кассир (Москва, Богданова, 16)     False   \n",
       "2  36909000    Продавец-кассир (Москва, Новогиреевская, 11/36)     False   \n",
       "3  38985954  Product owner бизнес–стрима \"Аналитика и Отчет...     False   \n",
       "4  40108800                Business Development Director (CTO)     False   \n",
       "\n",
       "   response_letter_required  salary_from  salary_to salary_currency  \\\n",
       "0                      True          NaN        NaN             NaN   \n",
       "1                     False      33500.0    40000.0             RUR   \n",
       "2                     False      33500.0    38000.0             RUR   \n",
       "3                     False          NaN        NaN             NaN   \n",
       "4                     False          NaN        NaN             NaN   \n",
       "\n",
       "  salary_gross            published_at              created_at  \\\n",
       "0          NaN  2020-07-26 23:40:42+00  2020-07-26 23:40:42+00   \n",
       "1         True  2020-07-27 00:28:12+00  2020-07-27 00:28:12+00   \n",
       "2         True  2020-08-24 00:16:48+00  2020-08-24 00:16:48+00   \n",
       "3          NaN  2020-09-08 18:29:25+00  2020-09-08 18:29:25+00   \n",
       "4          NaN  2020-11-25 08:56:45+00  2020-11-25 08:56:45+00   \n",
       "\n",
       "                       parsed_at  \\\n",
       "0  2020-07-27 03:03:03.154874+00   \n",
       "1  2020-07-27 03:03:04.258759+00   \n",
       "2  2020-08-24 02:59:43.766137+00   \n",
       "3  2020-09-08 19:02:47.261747+00   \n",
       "4  2020-11-28 06:59:37.872153+00   \n",
       "\n",
       "                                               url          employer_name  \\\n",
       "0  https://api.hh.ru/vacancies/38228194?host=hh.ru           Масл фектори   \n",
       "1  https://api.hh.ru/vacancies/36911636?host=hh.ru              Пятёрочка   \n",
       "2  https://api.hh.ru/vacancies/36909000?host=hh.ru              Пятёрочка   \n",
       "3  https://api.hh.ru/vacancies/38985954?host=hh.ru         Банк ВТБ (ПАО)   \n",
       "4  https://api.hh.ru/vacancies/40108800?host=hh.ru  Студия Олега Чулакова   \n",
       "\n",
       "                                         description  \\\n",
       "0  <p><strong>MF Kitchen</strong> — группа компан...   \n",
       "1  <p><strong>Обязанности:</strong></p><ul><li>Об...   \n",
       "2  <p><strong>Обязанности:</strong></p><ul><li>Об...   \n",
       "3  <p>Наша позиция предполагает участие в програм...   \n",
       "4  <p>Студия Олега Чулакова — это дизайн-студия №...   \n",
       "\n",
       "                    alternate_url  area_id area_name  \n",
       "0  https://hh.ru/vacancy/38228194        1    Москва  \n",
       "1  https://hh.ru/vacancy/36911636        1    Москва  \n",
       "2  https://hh.ru/vacancy/36909000        1    Москва  \n",
       "3  https://hh.ru/vacancy/38985954        1    Москва  \n",
       "4  https://hh.ru/vacancy/40108800        1    Москва  "
      ]
     },
     "execution_count": 10,
     "metadata": {},
     "output_type": "execute_result"
    }
   ],
   "source": [
    "df = pd.read_csv('C:/Users/MSI/Desktop/Koding/Datasets/hhparser_vacancy.csv') #, delimiter='\\t')\n",
    "df.head(5)"
   ]
  },
  {
   "cell_type": "code",
   "execution_count": null,
   "metadata": {},
   "outputs": [],
   "source": []
  },
  {
   "cell_type": "code",
   "execution_count": null,
   "metadata": {},
   "outputs": [],
   "source": []
  },
  {
   "cell_type": "code",
   "execution_count": null,
   "metadata": {},
   "outputs": [],
   "source": []
  },
  {
   "cell_type": "code",
   "execution_count": null,
   "metadata": {},
   "outputs": [],
   "source": []
  },
  {
   "cell_type": "code",
   "execution_count": null,
   "metadata": {},
   "outputs": [],
   "source": []
  },
  {
   "cell_type": "code",
   "execution_count": null,
   "metadata": {},
   "outputs": [],
   "source": []
  },
  {
   "cell_type": "code",
   "execution_count": null,
   "metadata": {},
   "outputs": [],
   "source": []
  },
  {
   "cell_type": "code",
   "execution_count": null,
   "metadata": {},
   "outputs": [],
   "source": []
  },
  {
   "cell_type": "code",
   "execution_count": null,
   "metadata": {},
   "outputs": [],
   "source": []
  },
  {
   "cell_type": "code",
   "execution_count": null,
   "metadata": {},
   "outputs": [],
   "source": []
  },
  {
   "cell_type": "code",
   "execution_count": null,
   "metadata": {},
   "outputs": [],
   "source": []
  },
  {
   "cell_type": "code",
   "execution_count": null,
   "metadata": {},
   "outputs": [],
   "source": []
  },
  {
   "cell_type": "code",
   "execution_count": null,
   "metadata": {},
   "outputs": [],
   "source": []
  },
  {
   "cell_type": "code",
   "execution_count": null,
   "metadata": {},
   "outputs": [],
   "source": []
  },
  {
   "cell_type": "code",
   "execution_count": null,
   "metadata": {},
   "outputs": [],
   "source": []
  },
  {
   "cell_type": "code",
   "execution_count": null,
   "metadata": {},
   "outputs": [],
   "source": []
  },
  {
   "cell_type": "code",
   "execution_count": null,
   "metadata": {},
   "outputs": [],
   "source": []
  },
  {
   "cell_type": "code",
   "execution_count": null,
   "metadata": {},
   "outputs": [],
   "source": []
  },
  {
   "cell_type": "markdown",
   "metadata": {},
   "source": [
    "rytijtx7uykdtktdkdtuk"
   ]
  },
  {
   "cell_type": "code",
   "execution_count": null,
   "metadata": {},
   "outputs": [],
   "source": []
  },
  {
   "cell_type": "code",
   "execution_count": null,
   "metadata": {},
   "outputs": [],
   "source": []
  },
  {
   "cell_type": "code",
   "execution_count": null,
   "metadata": {},
   "outputs": [],
   "source": []
  },
  {
   "cell_type": "code",
   "execution_count": null,
   "metadata": {},
   "outputs": [],
   "source": []
  },
  {
   "cell_type": "code",
   "execution_count": null,
   "metadata": {},
   "outputs": [],
   "source": []
  },
  {
   "cell_type": "code",
   "execution_count": null,
   "metadata": {},
   "outputs": [],
   "source": []
  },
  {
   "cell_type": "code",
   "execution_count": null,
   "metadata": {},
   "outputs": [],
   "source": []
  },
  {
   "cell_type": "code",
   "execution_count": null,
   "metadata": {},
   "outputs": [],
   "source": []
  }
 ],
 "metadata": {
  "ExecuteTimeLog": [
   {
    "duration": 1632,
    "start_time": "2023-02-25T11:10:31.341Z"
   },
   {
    "duration": 5,
    "start_time": "2023-02-25T11:10:56.995Z"
   },
   {
    "duration": 579,
    "start_time": "2023-02-25T11:12:43.044Z"
   },
   {
    "duration": 130,
    "start_time": "2023-02-25T11:22:56.784Z"
   },
   {
    "duration": 26,
    "start_time": "2023-02-25T11:23:04.773Z"
   },
   {
    "duration": 2,
    "start_time": "2023-02-25T11:29:14.173Z"
   },
   {
    "duration": 247,
    "start_time": "2023-02-25T11:29:16.260Z"
   },
   {
    "duration": 20,
    "start_time": "2023-02-25T11:29:17.800Z"
   },
   {
    "duration": 16,
    "start_time": "2023-02-25T11:29:34.744Z"
   },
   {
    "duration": 70,
    "start_time": "2023-02-27T06:07:09.225Z"
   },
   {
    "duration": 1771,
    "start_time": "2023-02-27T06:07:14.465Z"
   },
   {
    "duration": 4,
    "start_time": "2023-02-27T06:07:16.238Z"
   },
   {
    "duration": 931,
    "start_time": "2023-02-27T06:07:16.249Z"
   },
   {
    "duration": 24,
    "start_time": "2023-02-27T06:07:17.183Z"
   },
   {
    "duration": 32,
    "start_time": "2023-02-27T06:07:19.171Z"
   },
   {
    "duration": 45,
    "start_time": "2023-02-27T06:10:26.568Z"
   },
   {
    "duration": 38,
    "start_time": "2023-02-27T06:10:39.271Z"
   },
   {
    "duration": 21,
    "start_time": "2023-02-27T06:11:15.677Z"
   },
   {
    "duration": 21,
    "start_time": "2023-02-27T06:11:54.373Z"
   },
   {
    "duration": 18,
    "start_time": "2023-02-27T06:12:08.937Z"
   },
   {
    "duration": 1139,
    "start_time": "2023-02-27T06:18:51.657Z"
   },
   {
    "duration": 166,
    "start_time": "2023-02-27T06:20:04.731Z"
   },
   {
    "duration": 92,
    "start_time": "2023-02-27T06:29:39.535Z"
   },
   {
    "duration": 142,
    "start_time": "2023-02-27T06:33:07.165Z"
   },
   {
    "duration": 108,
    "start_time": "2023-02-27T06:34:03.686Z"
   },
   {
    "duration": 107,
    "start_time": "2023-02-27T06:35:41.672Z"
   },
   {
    "duration": 5,
    "start_time": "2023-02-27T06:38:52.610Z"
   },
   {
    "duration": 18,
    "start_time": "2023-02-27T06:39:37.649Z"
   },
   {
    "duration": 6,
    "start_time": "2023-02-27T06:40:20.299Z"
   },
   {
    "duration": 11,
    "start_time": "2023-02-27T06:47:02.355Z"
   },
   {
    "duration": 106,
    "start_time": "2023-02-27T06:47:41.163Z"
   },
   {
    "duration": 103,
    "start_time": "2023-02-27T06:48:03.866Z"
   },
   {
    "duration": 131,
    "start_time": "2023-02-27T06:48:16.815Z"
   },
   {
    "duration": 133,
    "start_time": "2023-02-27T06:49:10.261Z"
   },
   {
    "duration": 100,
    "start_time": "2023-02-27T06:49:21.869Z"
   },
   {
    "duration": 8,
    "start_time": "2023-02-27T06:50:15.370Z"
   },
   {
    "duration": 110,
    "start_time": "2023-02-27T06:52:48.628Z"
   },
   {
    "duration": 163,
    "start_time": "2023-02-27T06:52:57.426Z"
   },
   {
    "duration": 113,
    "start_time": "2023-02-27T06:54:08.939Z"
   },
   {
    "duration": 124,
    "start_time": "2023-02-27T06:54:20.121Z"
   },
   {
    "duration": 8,
    "start_time": "2023-02-27T06:57:06.797Z"
   },
   {
    "duration": 6,
    "start_time": "2023-02-27T06:57:29.528Z"
   },
   {
    "duration": 12,
    "start_time": "2023-02-27T06:59:30.753Z"
   },
   {
    "duration": 7,
    "start_time": "2023-02-27T07:02:42.885Z"
   },
   {
    "duration": 109,
    "start_time": "2023-02-27T07:07:54.293Z"
   },
   {
    "duration": 95,
    "start_time": "2023-02-27T07:08:04.431Z"
   },
   {
    "duration": 121,
    "start_time": "2023-02-27T07:08:43.049Z"
   },
   {
    "duration": 224,
    "start_time": "2023-02-27T07:09:11.102Z"
   },
   {
    "duration": 6,
    "start_time": "2023-02-27T07:09:41.431Z"
   },
   {
    "duration": 128,
    "start_time": "2023-02-27T07:11:40.157Z"
   },
   {
    "duration": 107,
    "start_time": "2023-02-27T07:11:56.604Z"
   },
   {
    "duration": 127,
    "start_time": "2023-02-27T07:12:15.913Z"
   },
   {
    "duration": 6,
    "start_time": "2023-02-27T07:13:08.534Z"
   },
   {
    "duration": 105,
    "start_time": "2023-02-27T07:21:54.069Z"
   },
   {
    "duration": 99,
    "start_time": "2023-02-27T07:22:04.606Z"
   },
   {
    "duration": 7,
    "start_time": "2023-02-27T07:23:47.799Z"
   },
   {
    "duration": 12,
    "start_time": "2023-02-27T07:26:02.902Z"
   },
   {
    "duration": 14,
    "start_time": "2023-02-27T07:26:06.763Z"
   },
   {
    "duration": 15,
    "start_time": "2023-02-27T07:26:10.674Z"
   },
   {
    "duration": 16,
    "start_time": "2023-02-27T07:29:06.573Z"
   },
   {
    "duration": 19,
    "start_time": "2023-02-27T07:31:26.007Z"
   },
   {
    "duration": 32,
    "start_time": "2023-02-27T07:31:41.570Z"
   },
   {
    "duration": 16,
    "start_time": "2023-02-27T07:38:38.580Z"
   },
   {
    "duration": 1324,
    "start_time": "2023-02-27T07:42:27.062Z"
   },
   {
    "duration": 699,
    "start_time": "2023-02-27T07:42:46.703Z"
   },
   {
    "duration": 991,
    "start_time": "2023-02-27T07:43:58.711Z"
   },
   {
    "duration": 6,
    "start_time": "2023-02-27T07:45:22.663Z"
   },
   {
    "duration": 6,
    "start_time": "2023-02-27T07:49:16.881Z"
   },
   {
    "duration": 4,
    "start_time": "2023-02-27T07:50:11.827Z"
   },
   {
    "duration": 14,
    "start_time": "2023-02-27T07:50:34.171Z"
   },
   {
    "duration": 10,
    "start_time": "2023-02-27T07:59:59.146Z"
   },
   {
    "duration": 7,
    "start_time": "2023-02-27T08:00:04.697Z"
   },
   {
    "duration": 23,
    "start_time": "2023-02-27T08:06:50.799Z"
   },
   {
    "duration": 45,
    "start_time": "2023-02-27T08:08:08.928Z"
   },
   {
    "duration": 39,
    "start_time": "2023-02-27T08:08:25.876Z"
   },
   {
    "duration": 432,
    "start_time": "2023-02-27T08:13:38.794Z"
   },
   {
    "duration": 25,
    "start_time": "2023-02-27T08:14:04.918Z"
   },
   {
    "duration": 26,
    "start_time": "2023-02-27T08:14:07.918Z"
   },
   {
    "duration": 4,
    "start_time": "2023-02-27T08:18:11.202Z"
   },
   {
    "duration": 33,
    "start_time": "2023-02-27T08:18:16.751Z"
   },
   {
    "duration": 4,
    "start_time": "2023-02-27T08:20:35.088Z"
   },
   {
    "duration": 28,
    "start_time": "2023-02-27T08:20:35.765Z"
   },
   {
    "duration": 4,
    "start_time": "2023-02-27T08:22:23.729Z"
   },
   {
    "duration": 24,
    "start_time": "2023-02-27T08:22:24.182Z"
   },
   {
    "duration": 5,
    "start_time": "2023-02-27T08:23:03.726Z"
   },
   {
    "duration": 35,
    "start_time": "2023-02-27T08:23:04.201Z"
   },
   {
    "duration": 7402,
    "start_time": "2023-02-27T08:23:44.062Z"
   },
   {
    "duration": 3,
    "start_time": "2023-02-27T08:24:41.286Z"
   },
   {
    "duration": 7364,
    "start_time": "2023-02-27T08:24:43.312Z"
   },
   {
    "duration": 23,
    "start_time": "2023-02-27T08:24:50.678Z"
   },
   {
    "duration": 4,
    "start_time": "2023-02-27T08:27:34.559Z"
   },
   {
    "duration": 7440,
    "start_time": "2023-02-27T08:27:36.034Z"
   },
   {
    "duration": 77,
    "start_time": "2023-02-27T08:27:43.481Z"
   },
   {
    "duration": 2,
    "start_time": "2023-02-27T08:27:44.264Z"
   },
   {
    "duration": 33,
    "start_time": "2023-02-27T08:27:44.884Z"
   },
   {
    "duration": 3,
    "start_time": "2023-02-27T08:28:51.432Z"
   },
   {
    "duration": 4,
    "start_time": "2023-02-27T08:29:04.965Z"
   },
   {
    "duration": 2,
    "start_time": "2023-02-27T08:29:05.568Z"
   },
   {
    "duration": 33,
    "start_time": "2023-02-27T08:29:05.765Z"
   },
   {
    "duration": 30,
    "start_time": "2023-02-27T08:29:07.398Z"
   },
   {
    "duration": 20,
    "start_time": "2023-02-27T08:29:07.431Z"
   },
   {
    "duration": 4,
    "start_time": "2023-02-27T08:29:08.221Z"
   },
   {
    "duration": 24,
    "start_time": "2023-02-27T08:29:09.807Z"
   },
   {
    "duration": 6,
    "start_time": "2023-02-27T08:29:09.833Z"
   },
   {
    "duration": 7,
    "start_time": "2023-02-27T08:29:27.766Z"
   },
   {
    "duration": 12,
    "start_time": "2023-02-27T08:29:27.775Z"
   },
   {
    "duration": 244,
    "start_time": "2023-02-27T08:29:27.789Z"
   },
   {
    "duration": 21,
    "start_time": "2023-02-27T08:29:28.035Z"
   },
   {
    "duration": 40,
    "start_time": "2023-02-27T08:29:28.058Z"
   },
   {
    "duration": 14,
    "start_time": "2023-02-27T08:29:28.100Z"
   },
   {
    "duration": 38,
    "start_time": "2023-02-27T08:29:28.116Z"
   },
   {
    "duration": 80,
    "start_time": "2023-02-27T08:29:28.156Z"
   },
   {
    "duration": 131,
    "start_time": "2023-02-27T08:29:28.238Z"
   },
   {
    "duration": 5,
    "start_time": "2023-02-27T08:29:28.370Z"
   },
   {
    "duration": 121,
    "start_time": "2023-02-27T08:29:28.377Z"
   },
   {
    "duration": 5,
    "start_time": "2023-02-27T08:29:28.500Z"
   },
   {
    "duration": 126,
    "start_time": "2023-02-27T08:29:28.507Z"
   },
   {
    "duration": 17,
    "start_time": "2023-02-27T08:29:28.636Z"
   },
   {
    "duration": 14,
    "start_time": "2023-02-27T08:29:28.655Z"
   },
   {
    "duration": 121,
    "start_time": "2023-02-27T08:29:28.670Z"
   },
   {
    "duration": 6,
    "start_time": "2023-02-27T08:29:28.793Z"
   },
   {
    "duration": 11,
    "start_time": "2023-02-27T08:29:28.801Z"
   },
   {
    "duration": 127,
    "start_time": "2023-02-27T08:29:28.813Z"
   },
   {
    "duration": 20,
    "start_time": "2023-02-27T08:29:28.943Z"
   },
   {
    "duration": 107,
    "start_time": "2023-02-27T08:29:28.965Z"
   },
   {
    "duration": 6,
    "start_time": "2023-02-27T08:29:29.073Z"
   },
   {
    "duration": 11,
    "start_time": "2023-02-27T08:29:29.081Z"
   },
   {
    "duration": 29,
    "start_time": "2023-02-27T08:29:29.094Z"
   },
   {
    "duration": 27,
    "start_time": "2023-02-27T08:29:29.125Z"
   },
   {
    "duration": 22,
    "start_time": "2023-02-27T08:29:29.153Z"
   },
   {
    "duration": 11,
    "start_time": "2023-02-27T08:29:29.177Z"
   },
   {
    "duration": 5,
    "start_time": "2023-02-27T08:29:29.190Z"
   },
   {
    "duration": 12,
    "start_time": "2023-02-27T08:29:29.196Z"
   },
   {
    "duration": 29,
    "start_time": "2023-02-27T08:29:29.210Z"
   },
   {
    "duration": 19,
    "start_time": "2023-02-27T08:29:29.242Z"
   },
   {
    "duration": 4,
    "start_time": "2023-02-27T08:32:13.183Z"
   },
   {
    "duration": 2,
    "start_time": "2023-02-27T08:32:14.165Z"
   },
   {
    "duration": 22,
    "start_time": "2023-02-27T08:32:14.713Z"
   },
   {
    "duration": 4,
    "start_time": "2023-02-27T08:35:15.230Z"
   },
   {
    "duration": 52,
    "start_time": "2023-02-27T08:35:20.208Z"
   },
   {
    "duration": 3,
    "start_time": "2023-02-27T08:36:00.703Z"
   },
   {
    "duration": 2,
    "start_time": "2023-02-27T08:36:01.267Z"
   },
   {
    "duration": 27,
    "start_time": "2023-02-27T08:36:02.070Z"
   },
   {
    "duration": 5,
    "start_time": "2023-02-27T08:36:52.462Z"
   },
   {
    "duration": 3,
    "start_time": "2023-02-27T08:36:53.401Z"
   },
   {
    "duration": 34,
    "start_time": "2023-02-27T08:36:53.685Z"
   },
   {
    "duration": 4,
    "start_time": "2023-02-27T08:36:55.067Z"
   },
   {
    "duration": 33,
    "start_time": "2023-02-27T08:36:56.752Z"
   },
   {
    "duration": 3,
    "start_time": "2023-02-27T08:36:56.787Z"
   },
   {
    "duration": 4,
    "start_time": "2023-02-27T08:38:21.013Z"
   },
   {
    "duration": 27,
    "start_time": "2023-02-27T08:38:32.905Z"
   },
   {
    "duration": 5,
    "start_time": "2023-02-27T08:39:45.127Z"
   },
   {
    "duration": 3,
    "start_time": "2023-02-27T08:39:45.470Z"
   },
   {
    "duration": 45,
    "start_time": "2023-02-27T08:39:46.345Z"
   },
   {
    "duration": 5,
    "start_time": "2023-02-27T08:42:10.894Z"
   },
   {
    "duration": 3,
    "start_time": "2023-02-27T08:42:11.280Z"
   },
   {
    "duration": 115,
    "start_time": "2023-02-27T08:42:12.202Z"
   },
   {
    "duration": 110,
    "start_time": "2023-02-27T08:42:20.767Z"
   },
   {
    "duration": 5,
    "start_time": "2023-02-27T08:42:45.898Z"
   },
   {
    "duration": 3,
    "start_time": "2023-02-27T08:42:47.270Z"
   },
   {
    "duration": 133,
    "start_time": "2023-02-27T08:42:47.739Z"
   },
   {
    "duration": 5,
    "start_time": "2023-02-27T08:43:45.081Z"
   },
   {
    "duration": 2,
    "start_time": "2023-02-27T08:43:45.605Z"
   },
   {
    "duration": 134,
    "start_time": "2023-02-27T08:43:46.003Z"
   },
   {
    "duration": 7,
    "start_time": "2023-02-27T08:44:54.908Z"
   },
   {
    "duration": 3,
    "start_time": "2023-02-27T08:44:55.473Z"
   },
   {
    "duration": 154,
    "start_time": "2023-02-27T08:44:55.769Z"
   },
   {
    "duration": 165,
    "start_time": "2023-02-27T08:45:43.320Z"
   },
   {
    "duration": 7,
    "start_time": "2023-02-27T08:49:51.532Z"
   },
   {
    "duration": 17,
    "start_time": "2023-02-27T08:50:16.369Z"
   },
   {
    "duration": 12,
    "start_time": "2023-02-27T08:52:32.166Z"
   },
   {
    "duration": 19,
    "start_time": "2023-02-27T08:52:45.090Z"
   },
   {
    "duration": 13,
    "start_time": "2023-02-27T08:53:48.276Z"
   },
   {
    "duration": 37,
    "start_time": "2023-02-27T08:55:14.126Z"
   },
   {
    "duration": 6,
    "start_time": "2023-02-27T08:55:40.163Z"
   },
   {
    "duration": 7,
    "start_time": "2023-02-27T08:55:40.171Z"
   },
   {
    "duration": 255,
    "start_time": "2023-02-27T08:55:40.180Z"
   },
   {
    "duration": 28,
    "start_time": "2023-02-27T08:55:40.437Z"
   },
   {
    "duration": 29,
    "start_time": "2023-02-27T08:55:40.468Z"
   },
   {
    "duration": 15,
    "start_time": "2023-02-27T08:55:40.499Z"
   },
   {
    "duration": 37,
    "start_time": "2023-02-27T08:55:40.516Z"
   },
   {
    "duration": 81,
    "start_time": "2023-02-27T08:55:40.556Z"
   },
   {
    "duration": 124,
    "start_time": "2023-02-27T08:55:40.648Z"
   },
   {
    "duration": 6,
    "start_time": "2023-02-27T08:55:40.774Z"
   },
   {
    "duration": 205,
    "start_time": "2023-02-27T08:55:40.781Z"
   },
   {
    "duration": 6,
    "start_time": "2023-02-27T08:55:40.988Z"
   },
   {
    "duration": 129,
    "start_time": "2023-02-27T08:55:40.996Z"
   },
   {
    "duration": 5,
    "start_time": "2023-02-27T08:55:41.129Z"
   },
   {
    "duration": 33,
    "start_time": "2023-02-27T08:55:41.136Z"
   },
   {
    "duration": 100,
    "start_time": "2023-02-27T08:55:41.171Z"
   },
   {
    "duration": 6,
    "start_time": "2023-02-27T08:55:41.273Z"
   },
   {
    "duration": 7,
    "start_time": "2023-02-27T08:55:41.280Z"
   },
   {
    "duration": 138,
    "start_time": "2023-02-27T08:55:41.288Z"
   },
   {
    "duration": 5,
    "start_time": "2023-02-27T08:55:41.428Z"
   },
   {
    "duration": 108,
    "start_time": "2023-02-27T08:55:41.434Z"
   },
   {
    "duration": 9,
    "start_time": "2023-02-27T08:55:41.550Z"
   },
   {
    "duration": 19,
    "start_time": "2023-02-27T08:55:41.560Z"
   },
   {
    "duration": 27,
    "start_time": "2023-02-27T08:55:41.580Z"
   },
   {
    "duration": 5,
    "start_time": "2023-02-27T08:55:41.608Z"
   },
   {
    "duration": 13,
    "start_time": "2023-02-27T08:55:41.614Z"
   },
   {
    "duration": 43,
    "start_time": "2023-02-27T08:55:41.629Z"
   },
   {
    "duration": 15,
    "start_time": "2023-02-27T08:56:57.285Z"
   },
   {
    "duration": 9,
    "start_time": "2023-02-27T09:00:57.123Z"
   },
   {
    "duration": 6,
    "start_time": "2023-02-27T09:02:42.279Z"
   },
   {
    "duration": 12,
    "start_time": "2023-02-27T09:02:51.481Z"
   },
   {
    "duration": 11,
    "start_time": "2023-02-27T09:05:22.729Z"
   },
   {
    "duration": 8,
    "start_time": "2023-02-27T09:05:33.856Z"
   },
   {
    "duration": 19,
    "start_time": "2023-02-27T09:05:33.867Z"
   },
   {
    "duration": 236,
    "start_time": "2023-02-27T09:05:33.887Z"
   },
   {
    "duration": 24,
    "start_time": "2023-02-27T09:05:34.126Z"
   },
   {
    "duration": 34,
    "start_time": "2023-02-27T09:05:34.153Z"
   },
   {
    "duration": 15,
    "start_time": "2023-02-27T09:05:34.189Z"
   },
   {
    "duration": 28,
    "start_time": "2023-02-27T09:05:34.205Z"
   },
   {
    "duration": 100,
    "start_time": "2023-02-27T09:05:34.234Z"
   },
   {
    "duration": 131,
    "start_time": "2023-02-27T09:05:34.338Z"
   },
   {
    "duration": 8,
    "start_time": "2023-02-27T09:05:34.471Z"
   },
   {
    "duration": 116,
    "start_time": "2023-02-27T09:05:34.481Z"
   },
   {
    "duration": 6,
    "start_time": "2023-02-27T09:05:34.599Z"
   },
   {
    "duration": 139,
    "start_time": "2023-02-27T09:05:34.606Z"
   },
   {
    "duration": 22,
    "start_time": "2023-02-27T09:05:34.747Z"
   },
   {
    "duration": 18,
    "start_time": "2023-02-27T09:05:34.771Z"
   },
   {
    "duration": 106,
    "start_time": "2023-02-27T09:05:34.790Z"
   },
   {
    "duration": 7,
    "start_time": "2023-02-27T09:05:34.898Z"
   },
   {
    "duration": 24,
    "start_time": "2023-02-27T09:05:34.906Z"
   },
   {
    "duration": 127,
    "start_time": "2023-02-27T09:05:34.932Z"
   },
   {
    "duration": 8,
    "start_time": "2023-02-27T09:05:35.064Z"
   },
   {
    "duration": 127,
    "start_time": "2023-02-27T09:05:35.074Z"
   },
   {
    "duration": 5,
    "start_time": "2023-02-27T09:05:35.203Z"
   },
   {
    "duration": 32,
    "start_time": "2023-02-27T09:05:35.210Z"
   },
   {
    "duration": 59,
    "start_time": "2023-02-27T09:05:35.244Z"
   },
   {
    "duration": 5,
    "start_time": "2023-02-27T09:05:35.305Z"
   },
   {
    "duration": 34,
    "start_time": "2023-02-27T09:05:35.312Z"
   },
   {
    "duration": 44,
    "start_time": "2023-02-27T09:05:35.348Z"
   },
   {
    "duration": 77,
    "start_time": "2023-02-27T09:05:35.394Z"
   },
   {
    "duration": 15,
    "start_time": "2023-02-27T09:05:47.899Z"
   },
   {
    "duration": 10,
    "start_time": "2023-02-27T09:06:03.905Z"
   },
   {
    "duration": 7,
    "start_time": "2023-02-27T09:06:09.870Z"
   },
   {
    "duration": 6,
    "start_time": "2023-02-27T09:06:09.879Z"
   },
   {
    "duration": 252,
    "start_time": "2023-02-27T09:06:09.887Z"
   },
   {
    "duration": 30,
    "start_time": "2023-02-27T09:06:10.141Z"
   },
   {
    "duration": 33,
    "start_time": "2023-02-27T09:06:10.174Z"
   },
   {
    "duration": 16,
    "start_time": "2023-02-27T09:06:10.209Z"
   },
   {
    "duration": 41,
    "start_time": "2023-02-27T09:06:10.227Z"
   },
   {
    "duration": 87,
    "start_time": "2023-02-27T09:06:10.270Z"
   },
   {
    "duration": 125,
    "start_time": "2023-02-27T09:06:10.360Z"
   },
   {
    "duration": 6,
    "start_time": "2023-02-27T09:06:10.488Z"
   },
   {
    "duration": 128,
    "start_time": "2023-02-27T09:06:10.496Z"
   },
   {
    "duration": 5,
    "start_time": "2023-02-27T09:06:10.626Z"
   },
   {
    "duration": 246,
    "start_time": "2023-02-27T09:06:10.633Z"
   },
   {
    "duration": 6,
    "start_time": "2023-02-27T09:06:10.881Z"
   },
   {
    "duration": 9,
    "start_time": "2023-02-27T09:06:10.888Z"
   },
   {
    "duration": 130,
    "start_time": "2023-02-27T09:06:10.899Z"
   },
   {
    "duration": 8,
    "start_time": "2023-02-27T09:06:11.031Z"
   },
   {
    "duration": 9,
    "start_time": "2023-02-27T09:06:11.048Z"
   },
   {
    "duration": 129,
    "start_time": "2023-02-27T09:06:11.059Z"
   },
   {
    "duration": 7,
    "start_time": "2023-02-27T09:06:11.190Z"
   },
   {
    "duration": 136,
    "start_time": "2023-02-27T09:06:11.198Z"
   },
   {
    "duration": 5,
    "start_time": "2023-02-27T09:06:11.336Z"
   },
   {
    "duration": 21,
    "start_time": "2023-02-27T09:06:11.343Z"
   },
   {
    "duration": 41,
    "start_time": "2023-02-27T09:06:11.367Z"
   },
   {
    "duration": 5,
    "start_time": "2023-02-27T09:06:11.410Z"
   },
   {
    "duration": 18,
    "start_time": "2023-02-27T09:06:11.417Z"
   },
   {
    "duration": 52,
    "start_time": "2023-02-27T09:06:11.437Z"
   },
   {
    "duration": 22,
    "start_time": "2023-02-27T09:06:11.492Z"
   },
   {
    "duration": 5,
    "start_time": "2023-02-27T09:10:16.067Z"
   },
   {
    "duration": 12,
    "start_time": "2023-02-27T09:10:17.013Z"
   },
   {
    "duration": 23,
    "start_time": "2023-02-27T09:10:19.282Z"
   },
   {
    "duration": 25,
    "start_time": "2023-02-27T09:10:20.721Z"
   },
   {
    "duration": 108,
    "start_time": "2023-02-27T09:10:39.982Z"
   },
   {
    "duration": 15,
    "start_time": "2023-02-27T09:10:52.976Z"
   },
   {
    "duration": 22,
    "start_time": "2023-02-27T09:11:03.390Z"
   },
   {
    "duration": 12,
    "start_time": "2023-02-27T09:11:19.472Z"
   },
   {
    "duration": 6,
    "start_time": "2023-02-27T09:11:26.281Z"
   },
   {
    "duration": 13,
    "start_time": "2023-02-27T09:11:26.572Z"
   },
   {
    "duration": 21,
    "start_time": "2023-02-27T09:11:27.699Z"
   },
   {
    "duration": 10,
    "start_time": "2023-02-27T09:11:28.083Z"
   },
   {
    "duration": 7,
    "start_time": "2023-02-27T09:13:26.569Z"
   },
   {
    "duration": 22,
    "start_time": "2023-02-27T09:14:07.096Z"
   },
   {
    "duration": 1566,
    "start_time": "2023-02-27T09:15:41.601Z"
   },
   {
    "duration": 6,
    "start_time": "2023-02-27T09:16:17.873Z"
   },
   {
    "duration": 7,
    "start_time": "2023-02-27T09:16:17.882Z"
   },
   {
    "duration": 256,
    "start_time": "2023-02-27T09:16:17.890Z"
   },
   {
    "duration": 31,
    "start_time": "2023-02-27T09:16:18.148Z"
   },
   {
    "duration": 29,
    "start_time": "2023-02-27T09:16:18.181Z"
   },
   {
    "duration": 16,
    "start_time": "2023-02-27T09:16:18.212Z"
   },
   {
    "duration": 47,
    "start_time": "2023-02-27T09:16:18.229Z"
   },
   {
    "duration": 92,
    "start_time": "2023-02-27T09:16:18.278Z"
   },
   {
    "duration": 125,
    "start_time": "2023-02-27T09:16:18.372Z"
   },
   {
    "duration": 5,
    "start_time": "2023-02-27T09:16:18.499Z"
   },
   {
    "duration": 113,
    "start_time": "2023-02-27T09:16:18.506Z"
   },
   {
    "duration": 6,
    "start_time": "2023-02-27T09:16:18.621Z"
   },
   {
    "duration": 139,
    "start_time": "2023-02-27T09:16:18.628Z"
   },
   {
    "duration": 5,
    "start_time": "2023-02-27T09:16:18.769Z"
   },
   {
    "duration": 31,
    "start_time": "2023-02-27T09:16:18.776Z"
   },
   {
    "duration": 114,
    "start_time": "2023-02-27T09:16:18.808Z"
   },
   {
    "duration": 6,
    "start_time": "2023-02-27T09:16:18.923Z"
   },
   {
    "duration": 22,
    "start_time": "2023-02-27T09:16:18.930Z"
   },
   {
    "duration": 117,
    "start_time": "2023-02-27T09:16:18.954Z"
   },
   {
    "duration": 7,
    "start_time": "2023-02-27T09:16:19.073Z"
   },
   {
    "duration": 122,
    "start_time": "2023-02-27T09:16:19.083Z"
   },
   {
    "duration": 5,
    "start_time": "2023-02-27T09:16:19.207Z"
   },
   {
    "duration": 12,
    "start_time": "2023-02-27T09:16:19.214Z"
   },
   {
    "duration": 53,
    "start_time": "2023-02-27T09:16:19.228Z"
   },
   {
    "duration": 5,
    "start_time": "2023-02-27T09:16:19.283Z"
   },
   {
    "duration": 12,
    "start_time": "2023-02-27T09:16:19.291Z"
   },
   {
    "duration": 53,
    "start_time": "2023-02-27T09:16:19.305Z"
   },
   {
    "duration": 5,
    "start_time": "2023-02-27T09:16:19.361Z"
   },
   {
    "duration": 22,
    "start_time": "2023-02-27T09:16:19.368Z"
   },
   {
    "duration": 1484,
    "start_time": "2023-02-27T09:16:52.882Z"
   },
   {
    "duration": 10,
    "start_time": "2023-02-27T09:17:24.867Z"
   },
   {
    "duration": 5,
    "start_time": "2023-02-27T09:17:31.264Z"
   },
   {
    "duration": 49,
    "start_time": "2023-02-27T09:17:31.271Z"
   },
   {
    "duration": 290,
    "start_time": "2023-02-27T09:17:31.322Z"
   },
   {
    "duration": 18,
    "start_time": "2023-02-27T09:17:31.613Z"
   },
   {
    "duration": 60,
    "start_time": "2023-02-27T09:17:31.634Z"
   },
   {
    "duration": 17,
    "start_time": "2023-02-27T09:17:31.695Z"
   },
   {
    "duration": 34,
    "start_time": "2023-02-27T09:17:31.714Z"
   },
   {
    "duration": 89,
    "start_time": "2023-02-27T09:17:31.753Z"
   },
   {
    "duration": 132,
    "start_time": "2023-02-27T09:17:31.844Z"
   },
   {
    "duration": 6,
    "start_time": "2023-02-27T09:17:31.978Z"
   },
   {
    "duration": 151,
    "start_time": "2023-02-27T09:17:31.985Z"
   },
   {
    "duration": 27,
    "start_time": "2023-02-27T09:17:32.140Z"
   },
   {
    "duration": 152,
    "start_time": "2023-02-27T09:17:32.169Z"
   },
   {
    "duration": 6,
    "start_time": "2023-02-27T09:17:32.324Z"
   },
   {
    "duration": 23,
    "start_time": "2023-02-27T09:17:32.332Z"
   },
   {
    "duration": 106,
    "start_time": "2023-02-27T09:17:32.364Z"
   },
   {
    "duration": 6,
    "start_time": "2023-02-27T09:17:32.472Z"
   },
   {
    "duration": 13,
    "start_time": "2023-02-27T09:17:32.479Z"
   },
   {
    "duration": 124,
    "start_time": "2023-02-27T09:17:32.493Z"
   },
   {
    "duration": 85,
    "start_time": "2023-02-27T09:17:32.619Z"
   },
   {
    "duration": 202,
    "start_time": "2023-02-27T09:17:32.706Z"
   },
   {
    "duration": 5,
    "start_time": "2023-02-27T09:17:32.910Z"
   },
   {
    "duration": 31,
    "start_time": "2023-02-27T09:17:32.917Z"
   },
   {
    "duration": 53,
    "start_time": "2023-02-27T09:17:32.950Z"
   },
   {
    "duration": 6,
    "start_time": "2023-02-27T09:17:33.006Z"
   },
   {
    "duration": 15,
    "start_time": "2023-02-27T09:17:33.015Z"
   },
   {
    "duration": 23,
    "start_time": "2023-02-27T09:17:33.050Z"
   },
   {
    "duration": 7,
    "start_time": "2023-02-27T09:17:33.075Z"
   },
   {
    "duration": 12,
    "start_time": "2023-02-27T09:17:33.084Z"
   },
   {
    "duration": 13,
    "start_time": "2023-02-27T09:17:57.969Z"
   },
   {
    "duration": 19,
    "start_time": "2023-02-27T09:18:04.766Z"
   },
   {
    "duration": 10,
    "start_time": "2023-02-27T09:18:05.062Z"
   },
   {
    "duration": 13,
    "start_time": "2023-02-27T09:18:05.309Z"
   },
   {
    "duration": 12,
    "start_time": "2023-02-27T09:18:05.588Z"
   },
   {
    "duration": 14,
    "start_time": "2023-02-27T09:18:39.762Z"
   },
   {
    "duration": 5,
    "start_time": "2023-02-27T09:18:55.321Z"
   },
   {
    "duration": 6,
    "start_time": "2023-02-27T09:18:55.328Z"
   },
   {
    "duration": 262,
    "start_time": "2023-02-27T09:18:55.336Z"
   },
   {
    "duration": 18,
    "start_time": "2023-02-27T09:18:55.601Z"
   },
   {
    "duration": 41,
    "start_time": "2023-02-27T09:18:55.620Z"
   },
   {
    "duration": 13,
    "start_time": "2023-02-27T09:18:55.663Z"
   },
   {
    "duration": 24,
    "start_time": "2023-02-27T09:18:55.677Z"
   },
   {
    "duration": 97,
    "start_time": "2023-02-27T09:18:55.703Z"
   },
   {
    "duration": 113,
    "start_time": "2023-02-27T09:18:55.802Z"
   },
   {
    "duration": 5,
    "start_time": "2023-02-27T09:18:55.919Z"
   },
   {
    "duration": 113,
    "start_time": "2023-02-27T09:18:55.925Z"
   },
   {
    "duration": 19,
    "start_time": "2023-02-27T09:18:56.040Z"
   },
   {
    "duration": 109,
    "start_time": "2023-02-27T09:18:56.063Z"
   },
   {
    "duration": 5,
    "start_time": "2023-02-27T09:18:56.173Z"
   },
   {
    "duration": 12,
    "start_time": "2023-02-27T09:18:56.180Z"
   },
   {
    "duration": 105,
    "start_time": "2023-02-27T09:18:56.193Z"
   },
   {
    "duration": 7,
    "start_time": "2023-02-27T09:18:56.300Z"
   },
   {
    "duration": 21,
    "start_time": "2023-02-27T09:18:56.309Z"
   },
   {
    "duration": 133,
    "start_time": "2023-02-27T09:18:56.332Z"
   },
   {
    "duration": 11,
    "start_time": "2023-02-27T09:18:56.467Z"
   },
   {
    "duration": 117,
    "start_time": "2023-02-27T09:18:56.480Z"
   },
   {
    "duration": 6,
    "start_time": "2023-02-27T09:18:56.599Z"
   },
   {
    "duration": 20,
    "start_time": "2023-02-27T09:18:56.607Z"
   },
   {
    "duration": 53,
    "start_time": "2023-02-27T09:18:56.628Z"
   },
   {
    "duration": 6,
    "start_time": "2023-02-27T09:18:56.684Z"
   },
   {
    "duration": 10,
    "start_time": "2023-02-27T09:18:56.692Z"
   },
   {
    "duration": 19,
    "start_time": "2023-02-27T09:18:56.704Z"
   },
   {
    "duration": 10,
    "start_time": "2023-02-27T09:18:56.752Z"
   },
   {
    "duration": 18,
    "start_time": "2023-02-27T09:18:56.764Z"
   },
   {
    "duration": 16,
    "start_time": "2023-02-27T09:18:56.784Z"
   },
   {
    "duration": 12,
    "start_time": "2023-02-27T09:19:52.364Z"
   },
   {
    "duration": 7,
    "start_time": "2023-02-27T09:20:29.836Z"
   },
   {
    "duration": 5,
    "start_time": "2023-02-27T09:20:41.288Z"
   },
   {
    "duration": 28,
    "start_time": "2023-02-27T09:20:41.295Z"
   },
   {
    "duration": 277,
    "start_time": "2023-02-27T09:20:41.325Z"
   },
   {
    "duration": 17,
    "start_time": "2023-02-27T09:20:41.604Z"
   },
   {
    "duration": 39,
    "start_time": "2023-02-27T09:20:41.622Z"
   },
   {
    "duration": 14,
    "start_time": "2023-02-27T09:20:41.663Z"
   },
   {
    "duration": 28,
    "start_time": "2023-02-27T09:20:41.679Z"
   },
   {
    "duration": 94,
    "start_time": "2023-02-27T09:20:41.709Z"
   },
   {
    "duration": 131,
    "start_time": "2023-02-27T09:20:41.805Z"
   },
   {
    "duration": 18,
    "start_time": "2023-02-27T09:20:41.938Z"
   },
   {
    "duration": 103,
    "start_time": "2023-02-27T09:20:41.958Z"
   },
   {
    "duration": 6,
    "start_time": "2023-02-27T09:20:42.064Z"
   },
   {
    "duration": 108,
    "start_time": "2023-02-27T09:20:42.072Z"
   },
   {
    "duration": 6,
    "start_time": "2023-02-27T09:20:42.182Z"
   },
   {
    "duration": 9,
    "start_time": "2023-02-27T09:20:42.190Z"
   },
   {
    "duration": 109,
    "start_time": "2023-02-27T09:20:42.201Z"
   },
   {
    "duration": 6,
    "start_time": "2023-02-27T09:20:42.311Z"
   },
   {
    "duration": 9,
    "start_time": "2023-02-27T09:20:42.318Z"
   },
   {
    "duration": 123,
    "start_time": "2023-02-27T09:20:42.329Z"
   },
   {
    "duration": 9,
    "start_time": "2023-02-27T09:20:42.454Z"
   },
   {
    "duration": 99,
    "start_time": "2023-02-27T09:20:42.464Z"
   },
   {
    "duration": 6,
    "start_time": "2023-02-27T09:20:42.565Z"
   },
   {
    "duration": 12,
    "start_time": "2023-02-27T09:20:42.572Z"
   },
   {
    "duration": 29,
    "start_time": "2023-02-27T09:20:42.586Z"
   },
   {
    "duration": 4,
    "start_time": "2023-02-27T09:20:42.617Z"
   },
   {
    "duration": 11,
    "start_time": "2023-02-27T09:20:42.651Z"
   },
   {
    "duration": 15,
    "start_time": "2023-02-27T09:20:42.664Z"
   },
   {
    "duration": 15,
    "start_time": "2023-02-27T09:20:42.682Z"
   },
   {
    "duration": 6,
    "start_time": "2023-02-27T09:20:42.699Z"
   },
   {
    "duration": 11,
    "start_time": "2023-02-27T09:20:42.706Z"
   },
   {
    "duration": 33,
    "start_time": "2023-02-27T09:20:42.719Z"
   },
   {
    "duration": 19,
    "start_time": "2023-02-27T09:20:42.755Z"
   },
   {
    "duration": 17,
    "start_time": "2023-02-27T09:20:42.775Z"
   },
   {
    "duration": 105,
    "start_time": "2023-02-27T09:28:23.715Z"
   },
   {
    "duration": 95,
    "start_time": "2023-02-27T09:28:35.582Z"
   },
   {
    "duration": 25,
    "start_time": "2023-02-27T09:29:09.483Z"
   },
   {
    "duration": 6,
    "start_time": "2023-02-27T09:29:20.516Z"
   },
   {
    "duration": 17,
    "start_time": "2023-02-27T09:29:20.981Z"
   },
   {
    "duration": 20,
    "start_time": "2023-02-27T09:29:22.509Z"
   },
   {
    "duration": 16,
    "start_time": "2023-02-27T09:30:55.596Z"
   },
   {
    "duration": 6,
    "start_time": "2023-02-27T09:31:37.779Z"
   },
   {
    "duration": 16,
    "start_time": "2023-02-27T09:32:33.906Z"
   },
   {
    "duration": 30,
    "start_time": "2023-02-27T09:33:11.072Z"
   },
   {
    "duration": 15,
    "start_time": "2023-02-27T09:56:48.717Z"
   },
   {
    "duration": 15,
    "start_time": "2023-02-27T09:56:59.518Z"
   },
   {
    "duration": 22,
    "start_time": "2023-02-27T09:57:49.017Z"
   },
   {
    "duration": 5,
    "start_time": "2023-02-27T09:57:49.328Z"
   },
   {
    "duration": 25,
    "start_time": "2023-02-27T09:58:22.247Z"
   },
   {
    "duration": 16,
    "start_time": "2023-02-27T09:59:06.694Z"
   },
   {
    "duration": 15,
    "start_time": "2023-02-27T10:00:22.429Z"
   },
   {
    "duration": 24,
    "start_time": "2023-02-27T10:01:14.346Z"
   },
   {
    "duration": 14,
    "start_time": "2023-02-27T10:02:16.685Z"
   },
   {
    "duration": 18,
    "start_time": "2023-02-27T10:02:17.733Z"
   },
   {
    "duration": 7,
    "start_time": "2023-02-27T10:02:17.993Z"
   },
   {
    "duration": 17,
    "start_time": "2023-02-27T10:03:03.072Z"
   },
   {
    "duration": 14,
    "start_time": "2023-02-27T10:04:05.317Z"
   },
   {
    "duration": 8,
    "start_time": "2023-02-27T10:08:26.169Z"
   },
   {
    "duration": 6,
    "start_time": "2023-02-27T10:08:44.401Z"
   },
   {
    "duration": 6,
    "start_time": "2023-02-27T10:08:49.886Z"
   },
   {
    "duration": 22,
    "start_time": "2023-02-27T10:08:49.895Z"
   },
   {
    "duration": 262,
    "start_time": "2023-02-27T10:08:49.918Z"
   },
   {
    "duration": 22,
    "start_time": "2023-02-27T10:08:50.182Z"
   },
   {
    "duration": 31,
    "start_time": "2023-02-27T10:08:50.207Z"
   },
   {
    "duration": 31,
    "start_time": "2023-02-27T10:08:50.240Z"
   },
   {
    "duration": 28,
    "start_time": "2023-02-27T10:08:50.273Z"
   },
   {
    "duration": 132,
    "start_time": "2023-02-27T10:08:50.303Z"
   },
   {
    "duration": 155,
    "start_time": "2023-02-27T10:08:50.436Z"
   },
   {
    "duration": 7,
    "start_time": "2023-02-27T10:08:50.593Z"
   },
   {
    "duration": 122,
    "start_time": "2023-02-27T10:08:50.602Z"
   },
   {
    "duration": 6,
    "start_time": "2023-02-27T10:08:50.726Z"
   },
   {
    "duration": 242,
    "start_time": "2023-02-27T10:08:50.733Z"
   },
   {
    "duration": 7,
    "start_time": "2023-02-27T10:08:50.979Z"
   },
   {
    "duration": 12,
    "start_time": "2023-02-27T10:08:50.988Z"
   },
   {
    "duration": 128,
    "start_time": "2023-02-27T10:08:51.001Z"
   },
   {
    "duration": 6,
    "start_time": "2023-02-27T10:08:51.130Z"
   },
   {
    "duration": 32,
    "start_time": "2023-02-27T10:08:51.156Z"
   },
   {
    "duration": 113,
    "start_time": "2023-02-27T10:08:51.190Z"
   },
   {
    "duration": 5,
    "start_time": "2023-02-27T10:08:51.305Z"
   },
   {
    "duration": 115,
    "start_time": "2023-02-27T10:08:51.311Z"
   },
   {
    "duration": 7,
    "start_time": "2023-02-27T10:08:51.428Z"
   },
   {
    "duration": 29,
    "start_time": "2023-02-27T10:08:51.436Z"
   },
   {
    "duration": 31,
    "start_time": "2023-02-27T10:08:51.468Z"
   },
   {
    "duration": 5,
    "start_time": "2023-02-27T10:08:51.501Z"
   },
   {
    "duration": 11,
    "start_time": "2023-02-27T10:08:51.508Z"
   },
   {
    "duration": 44,
    "start_time": "2023-02-27T10:08:51.520Z"
   },
   {
    "duration": 24,
    "start_time": "2023-02-27T10:08:51.568Z"
   },
   {
    "duration": 28,
    "start_time": "2023-02-27T10:08:51.594Z"
   },
   {
    "duration": 17,
    "start_time": "2023-02-27T10:08:51.624Z"
   },
   {
    "duration": 25,
    "start_time": "2023-02-27T10:08:51.643Z"
   },
   {
    "duration": 22,
    "start_time": "2023-02-27T10:08:51.670Z"
   },
   {
    "duration": 28,
    "start_time": "2023-02-27T10:08:51.694Z"
   },
   {
    "duration": 27,
    "start_time": "2023-02-27T10:08:51.724Z"
   },
   {
    "duration": 31,
    "start_time": "2023-02-27T10:08:51.753Z"
   },
   {
    "duration": 14,
    "start_time": "2023-02-27T10:08:51.786Z"
   },
   {
    "duration": 34,
    "start_time": "2023-02-27T10:08:51.801Z"
   },
   {
    "duration": 26,
    "start_time": "2023-02-27T10:08:51.837Z"
   },
   {
    "duration": 41,
    "start_time": "2023-02-27T10:08:51.865Z"
   },
   {
    "duration": 8,
    "start_time": "2023-02-27T10:08:51.908Z"
   },
   {
    "duration": 15,
    "start_time": "2023-02-27T10:08:51.919Z"
   },
   {
    "duration": 22,
    "start_time": "2023-02-27T10:08:51.935Z"
   },
   {
    "duration": 13,
    "start_time": "2023-02-27T10:10:38.357Z"
   },
   {
    "duration": 17,
    "start_time": "2023-02-27T10:11:33.979Z"
   },
   {
    "duration": 15,
    "start_time": "2023-02-27T10:11:56.714Z"
   },
   {
    "duration": 8,
    "start_time": "2023-02-27T10:12:41.383Z"
   },
   {
    "duration": 6,
    "start_time": "2023-02-27T10:12:46.508Z"
   },
   {
    "duration": 13,
    "start_time": "2023-02-27T10:12:46.517Z"
   },
   {
    "duration": 272,
    "start_time": "2023-02-27T10:12:46.533Z"
   },
   {
    "duration": 19,
    "start_time": "2023-02-27T10:12:46.807Z"
   },
   {
    "duration": 51,
    "start_time": "2023-02-27T10:12:46.829Z"
   },
   {
    "duration": 17,
    "start_time": "2023-02-27T10:12:46.883Z"
   },
   {
    "duration": 33,
    "start_time": "2023-02-27T10:12:46.902Z"
   },
   {
    "duration": 99,
    "start_time": "2023-02-27T10:12:46.937Z"
   },
   {
    "duration": 142,
    "start_time": "2023-02-27T10:12:47.038Z"
   },
   {
    "duration": 7,
    "start_time": "2023-02-27T10:12:47.182Z"
   },
   {
    "duration": 116,
    "start_time": "2023-02-27T10:12:47.191Z"
   },
   {
    "duration": 6,
    "start_time": "2023-02-27T10:12:47.309Z"
   },
   {
    "duration": 154,
    "start_time": "2023-02-27T10:12:47.318Z"
   },
   {
    "duration": 6,
    "start_time": "2023-02-27T10:12:47.475Z"
   },
   {
    "duration": 9,
    "start_time": "2023-02-27T10:12:47.482Z"
   },
   {
    "duration": 116,
    "start_time": "2023-02-27T10:12:47.493Z"
   },
   {
    "duration": 6,
    "start_time": "2023-02-27T10:12:47.611Z"
   },
   {
    "duration": 7,
    "start_time": "2023-02-27T10:12:47.619Z"
   },
   {
    "duration": 139,
    "start_time": "2023-02-27T10:12:47.628Z"
   },
   {
    "duration": 6,
    "start_time": "2023-02-27T10:12:47.769Z"
   },
   {
    "duration": 123,
    "start_time": "2023-02-27T10:12:47.777Z"
   },
   {
    "duration": 6,
    "start_time": "2023-02-27T10:12:47.903Z"
   },
   {
    "duration": 29,
    "start_time": "2023-02-27T10:12:47.911Z"
   },
   {
    "duration": 43,
    "start_time": "2023-02-27T10:12:47.942Z"
   },
   {
    "duration": 4,
    "start_time": "2023-02-27T10:12:47.987Z"
   },
   {
    "duration": 15,
    "start_time": "2023-02-27T10:12:47.993Z"
   },
   {
    "duration": 8,
    "start_time": "2023-02-27T10:12:48.010Z"
   },
   {
    "duration": 23,
    "start_time": "2023-02-27T10:12:48.050Z"
   },
   {
    "duration": 7,
    "start_time": "2023-02-27T10:12:48.076Z"
   },
   {
    "duration": 13,
    "start_time": "2023-02-27T10:12:48.085Z"
   },
   {
    "duration": 21,
    "start_time": "2023-02-27T10:12:48.100Z"
   },
   {
    "duration": 0,
    "start_time": "2023-02-27T10:12:48.148Z"
   },
   {
    "duration": 0,
    "start_time": "2023-02-27T10:12:48.149Z"
   },
   {
    "duration": 0,
    "start_time": "2023-02-27T10:12:48.150Z"
   },
   {
    "duration": 0,
    "start_time": "2023-02-27T10:12:48.151Z"
   },
   {
    "duration": 1,
    "start_time": "2023-02-27T10:12:48.152Z"
   },
   {
    "duration": 0,
    "start_time": "2023-02-27T10:12:48.154Z"
   },
   {
    "duration": 0,
    "start_time": "2023-02-27T10:12:48.155Z"
   },
   {
    "duration": 0,
    "start_time": "2023-02-27T10:12:48.156Z"
   },
   {
    "duration": 0,
    "start_time": "2023-02-27T10:12:48.157Z"
   },
   {
    "duration": 0,
    "start_time": "2023-02-27T10:12:48.158Z"
   },
   {
    "duration": 0,
    "start_time": "2023-02-27T10:12:48.159Z"
   },
   {
    "duration": 0,
    "start_time": "2023-02-27T10:12:48.160Z"
   },
   {
    "duration": 0,
    "start_time": "2023-02-27T10:12:48.161Z"
   },
   {
    "duration": 16,
    "start_time": "2023-02-27T10:13:39.732Z"
   },
   {
    "duration": 16,
    "start_time": "2023-02-27T10:14:13.510Z"
   },
   {
    "duration": 5,
    "start_time": "2023-02-27T10:14:19.103Z"
   },
   {
    "duration": 9,
    "start_time": "2023-02-27T10:14:19.110Z"
   },
   {
    "duration": 244,
    "start_time": "2023-02-27T10:14:19.121Z"
   },
   {
    "duration": 24,
    "start_time": "2023-02-27T10:14:19.367Z"
   },
   {
    "duration": 38,
    "start_time": "2023-02-27T10:14:19.395Z"
   },
   {
    "duration": 32,
    "start_time": "2023-02-27T10:14:19.435Z"
   },
   {
    "duration": 24,
    "start_time": "2023-02-27T10:14:19.469Z"
   },
   {
    "duration": 97,
    "start_time": "2023-02-27T10:14:19.495Z"
   },
   {
    "duration": 134,
    "start_time": "2023-02-27T10:14:19.594Z"
   },
   {
    "duration": 5,
    "start_time": "2023-02-27T10:14:19.730Z"
   },
   {
    "duration": 132,
    "start_time": "2023-02-27T10:14:19.737Z"
   },
   {
    "duration": 6,
    "start_time": "2023-02-27T10:14:19.872Z"
   },
   {
    "duration": 132,
    "start_time": "2023-02-27T10:14:19.879Z"
   },
   {
    "duration": 5,
    "start_time": "2023-02-27T10:14:20.015Z"
   },
   {
    "duration": 13,
    "start_time": "2023-02-27T10:14:20.021Z"
   },
   {
    "duration": 133,
    "start_time": "2023-02-27T10:14:20.035Z"
   },
   {
    "duration": 9,
    "start_time": "2023-02-27T10:14:20.171Z"
   },
   {
    "duration": 8,
    "start_time": "2023-02-27T10:14:20.183Z"
   },
   {
    "duration": 140,
    "start_time": "2023-02-27T10:14:20.194Z"
   },
   {
    "duration": 21,
    "start_time": "2023-02-27T10:14:20.336Z"
   },
   {
    "duration": 228,
    "start_time": "2023-02-27T10:14:20.359Z"
   },
   {
    "duration": 5,
    "start_time": "2023-02-27T10:14:20.589Z"
   },
   {
    "duration": 11,
    "start_time": "2023-02-27T10:14:20.596Z"
   },
   {
    "duration": 65,
    "start_time": "2023-02-27T10:14:20.609Z"
   },
   {
    "duration": 4,
    "start_time": "2023-02-27T10:14:20.676Z"
   },
   {
    "duration": 16,
    "start_time": "2023-02-27T10:14:20.682Z"
   },
   {
    "duration": 13,
    "start_time": "2023-02-27T10:14:20.700Z"
   },
   {
    "duration": 48,
    "start_time": "2023-02-27T10:14:20.715Z"
   },
   {
    "duration": 11,
    "start_time": "2023-02-27T10:14:20.765Z"
   },
   {
    "duration": 12,
    "start_time": "2023-02-27T10:14:20.778Z"
   },
   {
    "duration": 24,
    "start_time": "2023-02-27T10:14:20.791Z"
   },
   {
    "duration": 18,
    "start_time": "2023-02-27T10:14:20.817Z"
   },
   {
    "duration": 32,
    "start_time": "2023-02-27T10:14:20.836Z"
   },
   {
    "duration": 6,
    "start_time": "2023-02-27T10:14:20.870Z"
   },
   {
    "duration": 21,
    "start_time": "2023-02-27T10:14:20.877Z"
   },
   {
    "duration": 19,
    "start_time": "2023-02-27T10:14:20.900Z"
   },
   {
    "duration": 39,
    "start_time": "2023-02-27T10:14:20.921Z"
   },
   {
    "duration": 17,
    "start_time": "2023-02-27T10:14:20.964Z"
   },
   {
    "duration": 22,
    "start_time": "2023-02-27T10:14:20.983Z"
   },
   {
    "duration": 18,
    "start_time": "2023-02-27T10:14:21.007Z"
   },
   {
    "duration": 22,
    "start_time": "2023-02-27T10:14:21.030Z"
   },
   {
    "duration": 14,
    "start_time": "2023-02-27T10:14:21.057Z"
   },
   {
    "duration": 16,
    "start_time": "2023-02-27T10:14:21.074Z"
   },
   {
    "duration": 15,
    "start_time": "2023-02-27T10:14:21.092Z"
   },
   {
    "duration": 15,
    "start_time": "2023-02-27T10:15:05.761Z"
   },
   {
    "duration": 5,
    "start_time": "2023-02-27T10:15:09.512Z"
   },
   {
    "duration": 6,
    "start_time": "2023-02-27T10:15:09.519Z"
   },
   {
    "duration": 261,
    "start_time": "2023-02-27T10:15:09.527Z"
   },
   {
    "duration": 20,
    "start_time": "2023-02-27T10:15:09.790Z"
   },
   {
    "duration": 70,
    "start_time": "2023-02-27T10:15:09.813Z"
   },
   {
    "duration": 18,
    "start_time": "2023-02-27T10:15:09.887Z"
   },
   {
    "duration": 56,
    "start_time": "2023-02-27T10:15:09.907Z"
   },
   {
    "duration": 102,
    "start_time": "2023-02-27T10:15:09.971Z"
   },
   {
    "duration": 129,
    "start_time": "2023-02-27T10:15:10.075Z"
   },
   {
    "duration": 6,
    "start_time": "2023-02-27T10:15:10.205Z"
   },
   {
    "duration": 129,
    "start_time": "2023-02-27T10:15:10.213Z"
   },
   {
    "duration": 21,
    "start_time": "2023-02-27T10:15:10.350Z"
   },
   {
    "duration": 122,
    "start_time": "2023-02-27T10:15:10.373Z"
   },
   {
    "duration": 5,
    "start_time": "2023-02-27T10:15:10.499Z"
   },
   {
    "duration": 8,
    "start_time": "2023-02-27T10:15:10.506Z"
   },
   {
    "duration": 151,
    "start_time": "2023-02-27T10:15:10.516Z"
   },
   {
    "duration": 10,
    "start_time": "2023-02-27T10:15:10.673Z"
   },
   {
    "duration": 25,
    "start_time": "2023-02-27T10:15:10.685Z"
   },
   {
    "duration": 161,
    "start_time": "2023-02-27T10:15:10.713Z"
   },
   {
    "duration": 5,
    "start_time": "2023-02-27T10:15:10.876Z"
   },
   {
    "duration": 134,
    "start_time": "2023-02-27T10:15:10.884Z"
   },
   {
    "duration": 6,
    "start_time": "2023-02-27T10:15:11.020Z"
   },
   {
    "duration": 29,
    "start_time": "2023-02-27T10:15:11.027Z"
   },
   {
    "duration": 66,
    "start_time": "2023-02-27T10:15:11.057Z"
   },
   {
    "duration": 5,
    "start_time": "2023-02-27T10:15:11.124Z"
   },
   {
    "duration": 26,
    "start_time": "2023-02-27T10:15:11.131Z"
   },
   {
    "duration": 18,
    "start_time": "2023-02-27T10:15:11.167Z"
   },
   {
    "duration": 37,
    "start_time": "2023-02-27T10:15:11.187Z"
   },
   {
    "duration": 12,
    "start_time": "2023-02-27T10:15:11.227Z"
   },
   {
    "duration": 64,
    "start_time": "2023-02-27T10:15:11.242Z"
   },
   {
    "duration": 39,
    "start_time": "2023-02-27T10:15:11.309Z"
   },
   {
    "duration": 45,
    "start_time": "2023-02-27T10:15:11.350Z"
   },
   {
    "duration": 50,
    "start_time": "2023-02-27T10:15:11.397Z"
   },
   {
    "duration": 40,
    "start_time": "2023-02-27T10:15:11.454Z"
   },
   {
    "duration": 29,
    "start_time": "2023-02-27T10:15:11.497Z"
   },
   {
    "duration": 32,
    "start_time": "2023-02-27T10:15:11.529Z"
   },
   {
    "duration": 31,
    "start_time": "2023-02-27T10:15:11.563Z"
   },
   {
    "duration": 21,
    "start_time": "2023-02-27T10:15:11.596Z"
   },
   {
    "duration": 41,
    "start_time": "2023-02-27T10:15:11.619Z"
   },
   {
    "duration": 33,
    "start_time": "2023-02-27T10:15:11.664Z"
   },
   {
    "duration": 30,
    "start_time": "2023-02-27T10:15:11.702Z"
   },
   {
    "duration": 17,
    "start_time": "2023-02-27T10:15:11.734Z"
   },
   {
    "duration": 67,
    "start_time": "2023-02-27T10:15:11.761Z"
   },
   {
    "duration": 52,
    "start_time": "2023-02-27T10:15:11.830Z"
   },
   {
    "duration": 14,
    "start_time": "2023-02-27T10:15:39.300Z"
   },
   {
    "duration": 7,
    "start_time": "2023-02-27T10:15:42.705Z"
   },
   {
    "duration": 7,
    "start_time": "2023-02-27T10:15:42.714Z"
   },
   {
    "duration": 268,
    "start_time": "2023-02-27T10:15:42.723Z"
   },
   {
    "duration": 19,
    "start_time": "2023-02-27T10:15:42.993Z"
   },
   {
    "duration": 43,
    "start_time": "2023-02-27T10:15:43.014Z"
   },
   {
    "duration": 18,
    "start_time": "2023-02-27T10:15:43.059Z"
   },
   {
    "duration": 38,
    "start_time": "2023-02-27T10:15:43.079Z"
   },
   {
    "duration": 89,
    "start_time": "2023-02-27T10:15:43.119Z"
   },
   {
    "duration": 133,
    "start_time": "2023-02-27T10:15:43.210Z"
   },
   {
    "duration": 9,
    "start_time": "2023-02-27T10:15:43.345Z"
   },
   {
    "duration": 160,
    "start_time": "2023-02-27T10:15:43.357Z"
   },
   {
    "duration": 10,
    "start_time": "2023-02-27T10:15:43.520Z"
   },
   {
    "duration": 178,
    "start_time": "2023-02-27T10:15:43.532Z"
   },
   {
    "duration": 7,
    "start_time": "2023-02-27T10:15:43.714Z"
   },
   {
    "duration": 12,
    "start_time": "2023-02-27T10:15:43.723Z"
   },
   {
    "duration": 170,
    "start_time": "2023-02-27T10:15:43.737Z"
   },
   {
    "duration": 8,
    "start_time": "2023-02-27T10:15:43.909Z"
   },
   {
    "duration": 14,
    "start_time": "2023-02-27T10:15:43.919Z"
   },
   {
    "duration": 183,
    "start_time": "2023-02-27T10:15:43.936Z"
   },
   {
    "duration": 5,
    "start_time": "2023-02-27T10:15:44.121Z"
   },
   {
    "duration": 141,
    "start_time": "2023-02-27T10:15:44.128Z"
   },
   {
    "duration": 6,
    "start_time": "2023-02-27T10:15:44.271Z"
   },
   {
    "duration": 14,
    "start_time": "2023-02-27T10:15:44.278Z"
   },
   {
    "duration": 28,
    "start_time": "2023-02-27T10:15:44.294Z"
   },
   {
    "duration": 30,
    "start_time": "2023-02-27T10:15:44.324Z"
   },
   {
    "duration": 18,
    "start_time": "2023-02-27T10:15:44.359Z"
   },
   {
    "duration": 15,
    "start_time": "2023-02-27T10:15:44.379Z"
   },
   {
    "duration": 19,
    "start_time": "2023-02-27T10:15:44.395Z"
   },
   {
    "duration": 11,
    "start_time": "2023-02-27T10:15:44.416Z"
   },
   {
    "duration": 19,
    "start_time": "2023-02-27T10:15:44.429Z"
   },
   {
    "duration": 36,
    "start_time": "2023-02-27T10:15:44.449Z"
   },
   {
    "duration": 17,
    "start_time": "2023-02-27T10:15:44.487Z"
   },
   {
    "duration": 16,
    "start_time": "2023-02-27T10:15:44.506Z"
   },
   {
    "duration": 7,
    "start_time": "2023-02-27T10:15:44.523Z"
   },
   {
    "duration": 33,
    "start_time": "2023-02-27T10:15:44.532Z"
   },
   {
    "duration": 19,
    "start_time": "2023-02-27T10:15:44.567Z"
   },
   {
    "duration": 22,
    "start_time": "2023-02-27T10:15:44.588Z"
   },
   {
    "duration": 10,
    "start_time": "2023-02-27T10:15:44.611Z"
   },
   {
    "duration": 45,
    "start_time": "2023-02-27T10:15:44.622Z"
   },
   {
    "duration": 26,
    "start_time": "2023-02-27T10:15:44.668Z"
   },
   {
    "duration": 23,
    "start_time": "2023-02-27T10:15:44.699Z"
   },
   {
    "duration": 21,
    "start_time": "2023-02-27T10:15:44.724Z"
   },
   {
    "duration": 54,
    "start_time": "2023-02-27T10:15:44.746Z"
   },
   {
    "duration": 59,
    "start_time": "2023-02-27T10:15:44.801Z"
   },
   {
    "duration": 3,
    "start_time": "2023-02-27T10:19:21.004Z"
   },
   {
    "duration": 13,
    "start_time": "2023-02-27T10:38:20.509Z"
   },
   {
    "duration": 6,
    "start_time": "2023-02-27T10:39:32.092Z"
   },
   {
    "duration": 24,
    "start_time": "2023-02-27T10:39:32.100Z"
   },
   {
    "duration": 215,
    "start_time": "2023-02-27T10:39:32.126Z"
   },
   {
    "duration": 18,
    "start_time": "2023-02-27T10:39:32.342Z"
   },
   {
    "duration": 43,
    "start_time": "2023-02-27T10:39:32.363Z"
   },
   {
    "duration": 15,
    "start_time": "2023-02-27T10:39:32.408Z"
   },
   {
    "duration": 26,
    "start_time": "2023-02-27T10:39:32.425Z"
   },
   {
    "duration": 74,
    "start_time": "2023-02-27T10:39:32.453Z"
   },
   {
    "duration": 132,
    "start_time": "2023-02-27T10:39:32.529Z"
   },
   {
    "duration": 5,
    "start_time": "2023-02-27T10:39:32.663Z"
   },
   {
    "duration": 109,
    "start_time": "2023-02-27T10:39:32.670Z"
   },
   {
    "duration": 5,
    "start_time": "2023-02-27T10:39:32.782Z"
   },
   {
    "duration": 237,
    "start_time": "2023-02-27T10:39:32.789Z"
   },
   {
    "duration": 6,
    "start_time": "2023-02-27T10:39:33.029Z"
   },
   {
    "duration": 13,
    "start_time": "2023-02-27T10:39:33.036Z"
   },
   {
    "duration": 115,
    "start_time": "2023-02-27T10:39:33.051Z"
   },
   {
    "duration": 5,
    "start_time": "2023-02-27T10:39:33.167Z"
   },
   {
    "duration": 7,
    "start_time": "2023-02-27T10:39:33.174Z"
   },
   {
    "duration": 134,
    "start_time": "2023-02-27T10:39:33.183Z"
   },
   {
    "duration": 6,
    "start_time": "2023-02-27T10:39:33.318Z"
   },
   {
    "duration": 140,
    "start_time": "2023-02-27T10:39:33.325Z"
   },
   {
    "duration": 6,
    "start_time": "2023-02-27T10:39:33.467Z"
   },
   {
    "duration": 20,
    "start_time": "2023-02-27T10:39:33.475Z"
   },
   {
    "duration": 59,
    "start_time": "2023-02-27T10:39:33.498Z"
   },
   {
    "duration": 6,
    "start_time": "2023-02-27T10:39:33.560Z"
   },
   {
    "duration": 15,
    "start_time": "2023-02-27T10:39:33.568Z"
   },
   {
    "duration": 8,
    "start_time": "2023-02-27T10:39:33.585Z"
   },
   {
    "duration": 13,
    "start_time": "2023-02-27T10:39:33.595Z"
   },
   {
    "duration": 0,
    "start_time": "2023-02-27T10:39:33.609Z"
   },
   {
    "duration": 0,
    "start_time": "2023-02-27T10:39:33.610Z"
   },
   {
    "duration": 0,
    "start_time": "2023-02-27T10:39:33.612Z"
   },
   {
    "duration": 0,
    "start_time": "2023-02-27T10:39:33.613Z"
   },
   {
    "duration": 0,
    "start_time": "2023-02-27T10:39:33.614Z"
   },
   {
    "duration": 0,
    "start_time": "2023-02-27T10:39:33.615Z"
   },
   {
    "duration": 0,
    "start_time": "2023-02-27T10:39:33.617Z"
   },
   {
    "duration": 0,
    "start_time": "2023-02-27T10:39:33.618Z"
   },
   {
    "duration": 0,
    "start_time": "2023-02-27T10:39:33.649Z"
   },
   {
    "duration": 0,
    "start_time": "2023-02-27T10:39:33.650Z"
   },
   {
    "duration": 1,
    "start_time": "2023-02-27T10:39:33.650Z"
   },
   {
    "duration": 0,
    "start_time": "2023-02-27T10:39:33.651Z"
   },
   {
    "duration": 0,
    "start_time": "2023-02-27T10:39:33.652Z"
   },
   {
    "duration": 0,
    "start_time": "2023-02-27T10:39:33.653Z"
   },
   {
    "duration": 0,
    "start_time": "2023-02-27T10:39:33.654Z"
   },
   {
    "duration": 0,
    "start_time": "2023-02-27T10:39:33.655Z"
   },
   {
    "duration": 0,
    "start_time": "2023-02-27T10:39:33.656Z"
   },
   {
    "duration": 0,
    "start_time": "2023-02-27T10:39:33.657Z"
   },
   {
    "duration": 9,
    "start_time": "2023-02-27T10:40:33.419Z"
   },
   {
    "duration": 9,
    "start_time": "2023-02-27T10:40:50.070Z"
   },
   {
    "duration": 10,
    "start_time": "2023-02-27T10:41:59.663Z"
   },
   {
    "duration": 3,
    "start_time": "2023-02-27T10:45:34.281Z"
   },
   {
    "duration": 81,
    "start_time": "2023-02-27T10:57:06.290Z"
   },
   {
    "duration": 8531,
    "start_time": "2023-02-27T10:57:22.518Z"
   },
   {
    "duration": 14,
    "start_time": "2023-02-27T10:58:16.370Z"
   },
   {
    "duration": 14,
    "start_time": "2023-02-27T10:59:09.695Z"
   },
   {
    "duration": 72,
    "start_time": "2023-02-27T10:59:40.686Z"
   },
   {
    "duration": 290,
    "start_time": "2023-02-27T11:00:05.707Z"
   },
   {
    "duration": 4,
    "start_time": "2023-02-27T11:00:16.566Z"
   },
   {
    "duration": 278,
    "start_time": "2023-02-27T11:00:29.868Z"
   },
   {
    "duration": 3,
    "start_time": "2023-02-27T11:00:30.547Z"
   },
   {
    "duration": 270,
    "start_time": "2023-02-27T11:00:50.882Z"
   },
   {
    "duration": 4,
    "start_time": "2023-02-27T11:00:51.262Z"
   },
   {
    "duration": 21,
    "start_time": "2023-02-27T11:02:13.956Z"
   },
   {
    "duration": 12,
    "start_time": "2023-02-27T11:03:04.762Z"
   },
   {
    "duration": 13,
    "start_time": "2023-02-27T11:07:57.573Z"
   },
   {
    "duration": 0,
    "start_time": "2023-02-27T11:08:00.362Z"
   },
   {
    "duration": 2593,
    "start_time": "2023-02-27T11:08:12.261Z"
   },
   {
    "duration": 3,
    "start_time": "2023-02-27T11:08:14.856Z"
   },
   {
    "duration": 519,
    "start_time": "2023-02-27T11:08:14.861Z"
   },
   {
    "duration": 80,
    "start_time": "2023-02-27T11:08:15.382Z"
   },
   {
    "duration": 86,
    "start_time": "2023-02-27T11:08:15.465Z"
   },
   {
    "duration": 20,
    "start_time": "2023-02-27T11:08:15.553Z"
   },
   {
    "duration": 30,
    "start_time": "2023-02-27T11:08:15.575Z"
   },
   {
    "duration": 252,
    "start_time": "2023-02-27T11:08:15.607Z"
   },
   {
    "duration": 221,
    "start_time": "2023-02-27T11:08:15.860Z"
   },
   {
    "duration": 7,
    "start_time": "2023-02-27T11:08:16.082Z"
   },
   {
    "duration": 119,
    "start_time": "2023-02-27T11:08:16.090Z"
   },
   {
    "duration": 5,
    "start_time": "2023-02-27T11:08:16.211Z"
   },
   {
    "duration": 134,
    "start_time": "2023-02-27T11:08:16.218Z"
   },
   {
    "duration": 7,
    "start_time": "2023-02-27T11:08:16.356Z"
   },
   {
    "duration": 34,
    "start_time": "2023-02-27T11:08:16.365Z"
   },
   {
    "duration": 123,
    "start_time": "2023-02-27T11:08:16.401Z"
   },
   {
    "duration": 7,
    "start_time": "2023-02-27T11:08:16.526Z"
   },
   {
    "duration": 18,
    "start_time": "2023-02-27T11:08:16.535Z"
   },
   {
    "duration": 242,
    "start_time": "2023-02-27T11:08:16.555Z"
   },
   {
    "duration": 5,
    "start_time": "2023-02-27T11:08:16.799Z"
   },
   {
    "duration": 244,
    "start_time": "2023-02-27T11:08:16.805Z"
   },
   {
    "duration": 15,
    "start_time": "2023-02-27T11:08:17.051Z"
   },
   {
    "duration": 24,
    "start_time": "2023-02-27T11:08:17.068Z"
   },
   {
    "duration": 82,
    "start_time": "2023-02-27T11:08:17.094Z"
   },
   {
    "duration": 5,
    "start_time": "2023-02-27T11:08:17.177Z"
   },
   {
    "duration": 65,
    "start_time": "2023-02-27T11:08:17.184Z"
   },
   {
    "duration": 11,
    "start_time": "2023-02-27T11:08:17.251Z"
   },
   {
    "duration": 395,
    "start_time": "2023-02-27T11:08:17.264Z"
   },
   {
    "duration": 0,
    "start_time": "2023-02-27T11:08:17.662Z"
   },
   {
    "duration": 0,
    "start_time": "2023-02-27T11:08:17.664Z"
   },
   {
    "duration": 0,
    "start_time": "2023-02-27T11:08:17.665Z"
   },
   {
    "duration": 0,
    "start_time": "2023-02-27T11:08:17.667Z"
   },
   {
    "duration": 0,
    "start_time": "2023-02-27T11:08:17.669Z"
   },
   {
    "duration": 0,
    "start_time": "2023-02-27T11:08:17.670Z"
   },
   {
    "duration": 0,
    "start_time": "2023-02-27T11:08:17.672Z"
   },
   {
    "duration": 0,
    "start_time": "2023-02-27T11:08:17.673Z"
   },
   {
    "duration": 0,
    "start_time": "2023-02-27T11:08:17.675Z"
   },
   {
    "duration": 0,
    "start_time": "2023-02-27T11:08:17.676Z"
   },
   {
    "duration": 0,
    "start_time": "2023-02-27T11:08:17.677Z"
   },
   {
    "duration": 0,
    "start_time": "2023-02-27T11:08:17.678Z"
   },
   {
    "duration": 0,
    "start_time": "2023-02-27T11:08:17.680Z"
   },
   {
    "duration": 0,
    "start_time": "2023-02-27T11:08:17.681Z"
   },
   {
    "duration": 0,
    "start_time": "2023-02-27T11:08:17.682Z"
   },
   {
    "duration": 0,
    "start_time": "2023-02-27T11:08:17.683Z"
   },
   {
    "duration": 0,
    "start_time": "2023-02-27T11:08:17.684Z"
   },
   {
    "duration": 0,
    "start_time": "2023-02-27T11:08:17.685Z"
   },
   {
    "duration": 0,
    "start_time": "2023-02-27T11:08:17.686Z"
   },
   {
    "duration": 0,
    "start_time": "2023-02-27T11:08:17.687Z"
   },
   {
    "duration": 60738,
    "start_time": "2023-02-27T11:08:35.363Z"
   },
   {
    "duration": 1343,
    "start_time": "2023-02-27T11:09:42.773Z"
   },
   {
    "duration": 1563,
    "start_time": "2023-02-27T11:09:55.698Z"
   },
   {
    "duration": 4,
    "start_time": "2023-02-27T11:12:57.170Z"
   },
   {
    "duration": 1400,
    "start_time": "2023-02-27T11:13:00.605Z"
   },
   {
    "duration": 8,
    "start_time": "2023-02-27T11:13:18.611Z"
   },
   {
    "duration": 5,
    "start_time": "2023-02-27T11:13:23.735Z"
   },
   {
    "duration": 1405,
    "start_time": "2023-02-27T11:13:56.363Z"
   },
   {
    "duration": 11,
    "start_time": "2023-02-27T11:17:57.102Z"
   },
   {
    "duration": 5,
    "start_time": "2023-02-27T11:19:48.320Z"
   },
   {
    "duration": 10,
    "start_time": "2023-02-27T11:19:48.328Z"
   },
   {
    "duration": 243,
    "start_time": "2023-02-27T11:19:48.339Z"
   },
   {
    "duration": 18,
    "start_time": "2023-02-27T11:19:48.584Z"
   },
   {
    "duration": 29,
    "start_time": "2023-02-27T11:19:48.604Z"
   },
   {
    "duration": 23,
    "start_time": "2023-02-27T11:19:48.634Z"
   },
   {
    "duration": 22,
    "start_time": "2023-02-27T11:19:48.659Z"
   },
   {
    "duration": 102,
    "start_time": "2023-02-27T11:19:48.683Z"
   },
   {
    "duration": 129,
    "start_time": "2023-02-27T11:19:48.787Z"
   },
   {
    "duration": 7,
    "start_time": "2023-02-27T11:19:48.917Z"
   },
   {
    "duration": 107,
    "start_time": "2023-02-27T11:19:48.925Z"
   },
   {
    "duration": 15,
    "start_time": "2023-02-27T11:19:49.034Z"
   },
   {
    "duration": 115,
    "start_time": "2023-02-27T11:19:49.051Z"
   },
   {
    "duration": 5,
    "start_time": "2023-02-27T11:19:49.169Z"
   },
   {
    "duration": 6,
    "start_time": "2023-02-27T11:19:49.176Z"
   },
   {
    "duration": 110,
    "start_time": "2023-02-27T11:19:49.183Z"
   },
   {
    "duration": 5,
    "start_time": "2023-02-27T11:19:49.295Z"
   },
   {
    "duration": 8,
    "start_time": "2023-02-27T11:19:49.302Z"
   },
   {
    "duration": 125,
    "start_time": "2023-02-27T11:19:49.312Z"
   },
   {
    "duration": 12,
    "start_time": "2023-02-27T11:19:49.439Z"
   },
   {
    "duration": 105,
    "start_time": "2023-02-27T11:19:49.453Z"
   },
   {
    "duration": 6,
    "start_time": "2023-02-27T11:19:49.559Z"
   },
   {
    "duration": 13,
    "start_time": "2023-02-27T11:19:49.566Z"
   },
   {
    "duration": 27,
    "start_time": "2023-02-27T11:19:49.580Z"
   },
   {
    "duration": 4,
    "start_time": "2023-02-27T11:19:49.609Z"
   },
   {
    "duration": 35,
    "start_time": "2023-02-27T11:19:49.615Z"
   },
   {
    "duration": 8,
    "start_time": "2023-02-27T11:19:49.652Z"
   },
   {
    "duration": 4,
    "start_time": "2023-02-27T11:19:49.662Z"
   },
   {
    "duration": 11,
    "start_time": "2023-02-27T11:19:49.667Z"
   },
   {
    "duration": 5,
    "start_time": "2023-02-27T11:19:49.679Z"
   },
   {
    "duration": 15,
    "start_time": "2023-02-27T11:19:49.686Z"
   },
   {
    "duration": 7,
    "start_time": "2023-02-27T11:19:49.702Z"
   },
   {
    "duration": 45,
    "start_time": "2023-02-27T11:19:49.710Z"
   },
   {
    "duration": 21,
    "start_time": "2023-02-27T11:19:49.757Z"
   },
   {
    "duration": 16,
    "start_time": "2023-02-27T11:19:49.780Z"
   },
   {
    "duration": 16,
    "start_time": "2023-02-27T11:19:49.798Z"
   },
   {
    "duration": 36,
    "start_time": "2023-02-27T11:19:49.816Z"
   },
   {
    "duration": 30,
    "start_time": "2023-02-27T11:19:49.854Z"
   },
   {
    "duration": 19,
    "start_time": "2023-02-27T11:19:49.885Z"
   },
   {
    "duration": 14,
    "start_time": "2023-02-27T11:19:49.906Z"
   },
   {
    "duration": 5,
    "start_time": "2023-02-27T11:19:49.924Z"
   },
   {
    "duration": 24,
    "start_time": "2023-02-27T11:19:49.931Z"
   },
   {
    "duration": 17,
    "start_time": "2023-02-27T11:19:49.957Z"
   },
   {
    "duration": 15,
    "start_time": "2023-02-27T11:19:49.975Z"
   },
   {
    "duration": 9,
    "start_time": "2023-02-27T11:19:49.992Z"
   },
   {
    "duration": 16,
    "start_time": "2023-02-27T11:19:50.002Z"
   },
   {
    "duration": 38,
    "start_time": "2023-02-27T11:19:50.020Z"
   },
   {
    "duration": 18,
    "start_time": "2023-02-27T11:26:50.628Z"
   },
   {
    "duration": 48,
    "start_time": "2023-02-27T11:27:18.906Z"
   },
   {
    "duration": 34,
    "start_time": "2023-02-27T11:27:53.171Z"
   },
   {
    "duration": 14,
    "start_time": "2023-02-27T11:29:21.109Z"
   },
   {
    "duration": 13,
    "start_time": "2023-02-27T11:29:53.075Z"
   },
   {
    "duration": 76,
    "start_time": "2023-02-27T11:32:58.904Z"
   },
   {
    "duration": 9,
    "start_time": "2023-02-27T11:33:06.572Z"
   },
   {
    "duration": 12,
    "start_time": "2023-02-27T11:33:22.079Z"
   },
   {
    "duration": 11,
    "start_time": "2023-02-27T11:33:43.815Z"
   },
   {
    "duration": 10,
    "start_time": "2023-02-27T11:33:56.814Z"
   },
   {
    "duration": 8,
    "start_time": "2023-02-27T11:34:09.427Z"
   },
   {
    "duration": 9,
    "start_time": "2023-02-27T11:34:24.933Z"
   },
   {
    "duration": 11,
    "start_time": "2023-02-27T11:35:41.872Z"
   },
   {
    "duration": 3,
    "start_time": "2023-02-27T11:36:07.002Z"
   },
   {
    "duration": 5,
    "start_time": "2023-02-27T11:36:10.320Z"
   },
   {
    "duration": 10,
    "start_time": "2023-02-27T11:36:30.973Z"
   },
   {
    "duration": 12,
    "start_time": "2023-02-27T11:36:37.069Z"
   },
   {
    "duration": 10,
    "start_time": "2023-02-27T11:36:51.288Z"
   },
   {
    "duration": 13,
    "start_time": "2023-02-27T11:36:54.972Z"
   },
   {
    "duration": 13,
    "start_time": "2023-02-27T11:36:58.563Z"
   },
   {
    "duration": 10,
    "start_time": "2023-02-27T11:37:06.491Z"
   },
   {
    "duration": 7,
    "start_time": "2023-02-27T11:37:12.904Z"
   },
   {
    "duration": 7,
    "start_time": "2023-02-27T11:37:25.136Z"
   },
   {
    "duration": 12,
    "start_time": "2023-02-27T11:38:14.687Z"
   },
   {
    "duration": 9,
    "start_time": "2023-02-27T11:38:21.471Z"
   },
   {
    "duration": 47,
    "start_time": "2023-02-27T11:38:44.642Z"
   },
   {
    "duration": 5,
    "start_time": "2023-02-27T11:38:52.466Z"
   },
   {
    "duration": 47,
    "start_time": "2023-02-27T11:39:14.375Z"
   },
   {
    "duration": 8,
    "start_time": "2023-02-27T11:39:46.872Z"
   },
   {
    "duration": 793,
    "start_time": "2023-02-27T11:40:08.582Z"
   },
   {
    "duration": 5,
    "start_time": "2023-02-27T11:40:10.928Z"
   },
   {
    "duration": 708,
    "start_time": "2023-02-27T11:40:53.080Z"
   },
   {
    "duration": 46,
    "start_time": "2023-02-27T11:41:09.699Z"
   },
   {
    "duration": 47,
    "start_time": "2023-02-27T11:41:30.564Z"
   },
   {
    "duration": 733,
    "start_time": "2023-02-27T11:41:39.938Z"
   },
   {
    "duration": 11,
    "start_time": "2023-02-27T11:42:28.282Z"
   },
   {
    "duration": 585,
    "start_time": "2023-02-27T11:42:42.234Z"
   },
   {
    "duration": 15,
    "start_time": "2023-02-27T11:43:06.879Z"
   },
   {
    "duration": 65,
    "start_time": "2023-02-27T11:43:24.237Z"
   },
   {
    "duration": 4,
    "start_time": "2023-02-27T11:43:25.989Z"
   },
   {
    "duration": 11,
    "start_time": "2023-02-27T11:48:08.370Z"
   },
   {
    "duration": 5,
    "start_time": "2023-02-27T11:48:30.965Z"
   },
   {
    "duration": 38,
    "start_time": "2023-02-27T11:48:30.973Z"
   },
   {
    "duration": 282,
    "start_time": "2023-02-27T11:48:31.013Z"
   },
   {
    "duration": 20,
    "start_time": "2023-02-27T11:48:31.297Z"
   },
   {
    "duration": 60,
    "start_time": "2023-02-27T11:48:31.319Z"
   },
   {
    "duration": 59,
    "start_time": "2023-02-27T11:48:31.381Z"
   },
   {
    "duration": 34,
    "start_time": "2023-02-27T11:48:31.442Z"
   },
   {
    "duration": 91,
    "start_time": "2023-02-27T11:48:31.478Z"
   },
   {
    "duration": 128,
    "start_time": "2023-02-27T11:48:31.571Z"
   },
   {
    "duration": 7,
    "start_time": "2023-02-27T11:48:31.701Z"
   },
   {
    "duration": 113,
    "start_time": "2023-02-27T11:48:31.710Z"
   },
   {
    "duration": 6,
    "start_time": "2023-02-27T11:48:31.826Z"
   },
   {
    "duration": 164,
    "start_time": "2023-02-27T11:48:31.834Z"
   },
   {
    "duration": 8,
    "start_time": "2023-02-27T11:48:32.001Z"
   },
   {
    "duration": 32,
    "start_time": "2023-02-27T11:48:32.010Z"
   },
   {
    "duration": 265,
    "start_time": "2023-02-27T11:48:32.044Z"
   },
   {
    "duration": 6,
    "start_time": "2023-02-27T11:48:32.311Z"
   },
   {
    "duration": 20,
    "start_time": "2023-02-27T11:48:32.318Z"
   },
   {
    "duration": 151,
    "start_time": "2023-02-27T11:48:32.340Z"
   },
   {
    "duration": 5,
    "start_time": "2023-02-27T11:48:32.492Z"
   },
   {
    "duration": 127,
    "start_time": "2023-02-27T11:48:32.499Z"
   },
   {
    "duration": 7,
    "start_time": "2023-02-27T11:48:32.628Z"
   },
   {
    "duration": 26,
    "start_time": "2023-02-27T11:48:32.637Z"
   },
   {
    "duration": 29,
    "start_time": "2023-02-27T11:48:32.665Z"
   },
   {
    "duration": 5,
    "start_time": "2023-02-27T11:48:32.696Z"
   },
   {
    "duration": 13,
    "start_time": "2023-02-27T11:48:32.703Z"
   },
   {
    "duration": 10,
    "start_time": "2023-02-27T11:48:32.717Z"
   },
   {
    "duration": 4,
    "start_time": "2023-02-27T11:48:32.749Z"
   },
   {
    "duration": 83,
    "start_time": "2023-02-27T11:48:32.756Z"
   },
   {
    "duration": 4,
    "start_time": "2023-02-27T11:48:32.841Z"
   },
   {
    "duration": 24,
    "start_time": "2023-02-27T11:48:32.856Z"
   },
   {
    "duration": 4,
    "start_time": "2023-02-27T11:48:32.881Z"
   },
   {
    "duration": 16,
    "start_time": "2023-02-27T11:48:32.887Z"
   },
   {
    "duration": 5,
    "start_time": "2023-02-27T11:48:32.905Z"
   },
   {
    "duration": 11,
    "start_time": "2023-02-27T11:48:32.912Z"
   },
   {
    "duration": 39,
    "start_time": "2023-02-27T11:48:32.925Z"
   },
   {
    "duration": 19,
    "start_time": "2023-02-27T11:48:32.965Z"
   },
   {
    "duration": 4,
    "start_time": "2023-02-27T11:48:32.986Z"
   },
   {
    "duration": 19,
    "start_time": "2023-02-27T11:48:32.991Z"
   },
   {
    "duration": 15,
    "start_time": "2023-02-27T11:48:33.012Z"
   },
   {
    "duration": 7,
    "start_time": "2023-02-27T11:48:33.048Z"
   },
   {
    "duration": 15,
    "start_time": "2023-02-27T11:48:33.056Z"
   },
   {
    "duration": 24,
    "start_time": "2023-02-27T11:48:33.073Z"
   },
   {
    "duration": 14,
    "start_time": "2023-02-27T11:48:33.098Z"
   },
   {
    "duration": 12,
    "start_time": "2023-02-27T11:48:33.114Z"
   },
   {
    "duration": 37,
    "start_time": "2023-02-27T11:48:33.128Z"
   },
   {
    "duration": 22,
    "start_time": "2023-02-27T11:48:33.167Z"
   },
   {
    "duration": 30,
    "start_time": "2023-02-27T11:48:33.191Z"
   },
   {
    "duration": 17,
    "start_time": "2023-02-27T11:48:33.223Z"
   },
   {
    "duration": 39,
    "start_time": "2023-02-27T11:48:33.242Z"
   },
   {
    "duration": 20,
    "start_time": "2023-02-27T11:48:33.282Z"
   },
   {
    "duration": 5,
    "start_time": "2023-02-27T11:48:46.223Z"
   },
   {
    "duration": 20,
    "start_time": "2023-02-27T11:49:37.594Z"
   },
   {
    "duration": 4,
    "start_time": "2023-02-27T11:49:39.512Z"
   },
   {
    "duration": 89,
    "start_time": "2023-02-27T11:50:39.235Z"
   },
   {
    "duration": 19,
    "start_time": "2023-02-27T11:50:54.690Z"
   },
   {
    "duration": 4,
    "start_time": "2023-02-27T11:50:59.126Z"
   },
   {
    "duration": 20,
    "start_time": "2023-02-27T11:51:41.467Z"
   },
   {
    "duration": 27,
    "start_time": "2023-02-27T11:54:02.400Z"
   },
   {
    "duration": 4,
    "start_time": "2023-02-27T11:54:05.566Z"
   },
   {
    "duration": 31,
    "start_time": "2023-02-27T11:55:07.066Z"
   },
   {
    "duration": 5,
    "start_time": "2023-02-27T11:55:07.418Z"
   },
   {
    "duration": 3,
    "start_time": "2023-02-27T11:55:41.596Z"
   },
   {
    "duration": 49,
    "start_time": "2023-02-27T11:55:42.285Z"
   },
   {
    "duration": 12,
    "start_time": "2023-02-27T11:57:14.131Z"
   },
   {
    "duration": 23,
    "start_time": "2023-02-27T11:57:33.381Z"
   },
   {
    "duration": 7,
    "start_time": "2023-02-27T11:58:01.372Z"
   },
   {
    "duration": 7,
    "start_time": "2023-02-27T11:58:42.792Z"
   },
   {
    "duration": 15,
    "start_time": "2023-02-27T11:59:01.556Z"
   },
   {
    "duration": 13,
    "start_time": "2023-02-27T11:59:11.296Z"
   },
   {
    "duration": 5,
    "start_time": "2023-02-27T11:59:18.285Z"
   },
   {
    "duration": 18,
    "start_time": "2023-02-27T12:05:10.304Z"
   },
   {
    "duration": 16,
    "start_time": "2023-02-27T12:05:56.571Z"
   },
   {
    "duration": 3,
    "start_time": "2023-02-27T12:06:02.850Z"
   },
   {
    "duration": 42,
    "start_time": "2023-02-27T12:06:03.287Z"
   },
   {
    "duration": 14,
    "start_time": "2023-02-27T12:06:03.845Z"
   },
   {
    "duration": 20,
    "start_time": "2023-02-27T12:06:10.716Z"
   },
   {
    "duration": 3,
    "start_time": "2023-02-27T12:06:11.860Z"
   },
   {
    "duration": 4,
    "start_time": "2023-02-27T12:06:12.097Z"
   },
   {
    "duration": 21,
    "start_time": "2023-02-27T12:07:09.259Z"
   },
   {
    "duration": 20,
    "start_time": "2023-02-27T12:07:41.595Z"
   },
   {
    "duration": 3,
    "start_time": "2023-02-27T12:07:42.719Z"
   },
   {
    "duration": 3,
    "start_time": "2023-02-27T12:07:43.649Z"
   },
   {
    "duration": 29,
    "start_time": "2023-02-27T12:09:05.774Z"
   },
   {
    "duration": 5,
    "start_time": "2023-02-27T12:09:06.563Z"
   },
   {
    "duration": 4,
    "start_time": "2023-02-27T12:09:06.957Z"
   },
   {
    "duration": 3,
    "start_time": "2023-02-27T12:11:16.935Z"
   },
   {
    "duration": 18,
    "start_time": "2023-02-27T12:11:17.990Z"
   },
   {
    "duration": 2,
    "start_time": "2023-02-27T12:11:18.224Z"
   },
   {
    "duration": 16,
    "start_time": "2023-02-27T13:02:05.586Z"
   },
   {
    "duration": 3,
    "start_time": "2023-02-27T13:02:06.124Z"
   },
   {
    "duration": 38,
    "start_time": "2023-02-27T13:02:06.773Z"
   },
   {
    "duration": 28,
    "start_time": "2023-02-27T13:02:07.461Z"
   },
   {
    "duration": 4,
    "start_time": "2023-02-27T13:02:08.169Z"
   },
   {
    "duration": 4,
    "start_time": "2023-02-27T13:02:08.661Z"
   },
   {
    "duration": 3,
    "start_time": "2023-02-27T13:03:43.507Z"
   },
   {
    "duration": 16,
    "start_time": "2023-02-27T13:03:44.386Z"
   },
   {
    "duration": 2,
    "start_time": "2023-02-27T13:03:44.638Z"
   },
   {
    "duration": 3,
    "start_time": "2023-02-27T13:05:18.738Z"
   },
   {
    "duration": 4,
    "start_time": "2023-02-27T13:05:44.962Z"
   },
   {
    "duration": 4,
    "start_time": "2023-02-27T13:05:50.113Z"
   },
   {
    "duration": 3,
    "start_time": "2023-02-27T13:06:54.197Z"
   },
   {
    "duration": 22,
    "start_time": "2023-02-27T13:06:54.479Z"
   },
   {
    "duration": 19,
    "start_time": "2023-02-27T13:08:14.146Z"
   },
   {
    "duration": 4,
    "start_time": "2023-02-27T13:08:14.915Z"
   },
   {
    "duration": 4,
    "start_time": "2023-02-27T13:08:15.417Z"
   },
   {
    "duration": 4,
    "start_time": "2023-02-27T13:09:37.120Z"
   },
   {
    "duration": 29,
    "start_time": "2023-02-27T13:11:31.664Z"
   },
   {
    "duration": 31,
    "start_time": "2023-02-27T13:13:14.172Z"
   },
   {
    "duration": 2,
    "start_time": "2023-02-27T13:13:49.926Z"
   },
   {
    "duration": 5,
    "start_time": "2023-02-27T13:14:07.216Z"
   },
   {
    "duration": 8,
    "start_time": "2023-02-27T13:14:12.305Z"
   },
   {
    "duration": 15,
    "start_time": "2023-02-27T13:14:20.883Z"
   },
   {
    "duration": 3,
    "start_time": "2023-02-27T13:14:21.161Z"
   },
   {
    "duration": 25,
    "start_time": "2023-02-27T13:14:21.383Z"
   },
   {
    "duration": 22,
    "start_time": "2023-02-27T13:14:21.703Z"
   },
   {
    "duration": 3,
    "start_time": "2023-02-27T13:14:22.197Z"
   },
   {
    "duration": 3,
    "start_time": "2023-02-27T13:14:22.580Z"
   },
   {
    "duration": 3,
    "start_time": "2023-02-27T13:16:21.634Z"
   },
   {
    "duration": 4,
    "start_time": "2023-02-27T13:16:42.419Z"
   },
   {
    "duration": 4,
    "start_time": "2023-02-27T13:17:00.761Z"
   },
   {
    "duration": 4,
    "start_time": "2023-02-27T13:17:12.976Z"
   },
   {
    "duration": 4,
    "start_time": "2023-02-27T13:18:03.940Z"
   },
   {
    "duration": 4,
    "start_time": "2023-02-27T13:19:00.329Z"
   },
   {
    "duration": 4,
    "start_time": "2023-02-27T13:19:21.716Z"
   },
   {
    "duration": 6,
    "start_time": "2023-02-27T13:20:32.280Z"
   },
   {
    "duration": 10,
    "start_time": "2023-02-27T13:24:46.821Z"
   },
   {
    "duration": 6,
    "start_time": "2023-02-27T13:24:48.058Z"
   },
   {
    "duration": 10,
    "start_time": "2023-02-27T13:24:48.335Z"
   },
   {
    "duration": 5,
    "start_time": "2023-02-27T13:24:52.676Z"
   },
   {
    "duration": 15,
    "start_time": "2023-02-27T13:24:52.684Z"
   },
   {
    "duration": 262,
    "start_time": "2023-02-27T13:24:52.701Z"
   },
   {
    "duration": 18,
    "start_time": "2023-02-27T13:24:52.965Z"
   },
   {
    "duration": 41,
    "start_time": "2023-02-27T13:24:52.985Z"
   },
   {
    "duration": 13,
    "start_time": "2023-02-27T13:24:53.028Z"
   },
   {
    "duration": 30,
    "start_time": "2023-02-27T13:24:53.049Z"
   },
   {
    "duration": 85,
    "start_time": "2023-02-27T13:24:53.081Z"
   },
   {
    "duration": 127,
    "start_time": "2023-02-27T13:24:53.168Z"
   },
   {
    "duration": 5,
    "start_time": "2023-02-27T13:24:53.298Z"
   },
   {
    "duration": 123,
    "start_time": "2023-02-27T13:24:53.304Z"
   },
   {
    "duration": 7,
    "start_time": "2023-02-27T13:24:53.430Z"
   },
   {
    "duration": 135,
    "start_time": "2023-02-27T13:24:53.448Z"
   },
   {
    "duration": 6,
    "start_time": "2023-02-27T13:24:53.586Z"
   },
   {
    "duration": 28,
    "start_time": "2023-02-27T13:24:53.594Z"
   },
   {
    "duration": 111,
    "start_time": "2023-02-27T13:24:53.624Z"
   },
   {
    "duration": 13,
    "start_time": "2023-02-27T13:24:53.737Z"
   },
   {
    "duration": 27,
    "start_time": "2023-02-27T13:24:53.752Z"
   },
   {
    "duration": 121,
    "start_time": "2023-02-27T13:24:53.781Z"
   },
   {
    "duration": 7,
    "start_time": "2023-02-27T13:24:53.904Z"
   },
   {
    "duration": 128,
    "start_time": "2023-02-27T13:24:53.913Z"
   },
   {
    "duration": 6,
    "start_time": "2023-02-27T13:24:54.048Z"
   },
   {
    "duration": 17,
    "start_time": "2023-02-27T13:24:54.056Z"
   },
   {
    "duration": 34,
    "start_time": "2023-02-27T13:24:54.075Z"
   },
   {
    "duration": 5,
    "start_time": "2023-02-27T13:24:54.112Z"
   },
   {
    "duration": 16,
    "start_time": "2023-02-27T13:24:54.119Z"
   },
   {
    "duration": 32,
    "start_time": "2023-02-27T13:24:54.137Z"
   },
   {
    "duration": 22,
    "start_time": "2023-02-27T13:24:54.174Z"
   },
   {
    "duration": 19,
    "start_time": "2023-02-27T13:24:54.198Z"
   },
   {
    "duration": 39,
    "start_time": "2023-02-27T13:24:54.218Z"
   },
   {
    "duration": 8,
    "start_time": "2023-02-27T13:24:54.259Z"
   },
   {
    "duration": 44,
    "start_time": "2023-02-27T13:24:54.268Z"
   },
   {
    "duration": 75,
    "start_time": "2023-02-27T13:24:54.314Z"
   },
   {
    "duration": 5,
    "start_time": "2023-02-27T13:24:54.391Z"
   },
   {
    "duration": 6,
    "start_time": "2023-02-27T13:24:54.399Z"
   },
   {
    "duration": 8,
    "start_time": "2023-02-27T13:24:54.407Z"
   },
   {
    "duration": 32,
    "start_time": "2023-02-27T13:24:54.417Z"
   },
   {
    "duration": 3,
    "start_time": "2023-02-27T13:24:54.450Z"
   },
   {
    "duration": 68,
    "start_time": "2023-02-27T13:24:54.455Z"
   },
   {
    "duration": 43,
    "start_time": "2023-02-27T13:24:54.525Z"
   },
   {
    "duration": 8,
    "start_time": "2023-02-27T13:24:54.570Z"
   },
   {
    "duration": 6,
    "start_time": "2023-02-27T13:24:54.580Z"
   },
   {
    "duration": 6,
    "start_time": "2023-02-27T13:24:54.588Z"
   },
   {
    "duration": 12,
    "start_time": "2023-02-27T13:24:54.596Z"
   },
   {
    "duration": 4,
    "start_time": "2023-02-27T13:24:54.610Z"
   },
   {
    "duration": 44,
    "start_time": "2023-02-27T13:24:54.616Z"
   },
   {
    "duration": 29,
    "start_time": "2023-02-27T13:24:54.662Z"
   },
   {
    "duration": 4,
    "start_time": "2023-02-27T13:24:54.693Z"
   },
   {
    "duration": 8,
    "start_time": "2023-02-27T13:24:54.698Z"
   },
   {
    "duration": 7,
    "start_time": "2023-02-27T13:24:54.707Z"
   },
   {
    "duration": 38,
    "start_time": "2023-02-27T13:24:54.715Z"
   },
   {
    "duration": 2,
    "start_time": "2023-02-27T13:24:54.755Z"
   },
   {
    "duration": 40,
    "start_time": "2023-02-27T13:24:54.759Z"
   },
   {
    "duration": 31,
    "start_time": "2023-02-27T13:24:54.801Z"
   },
   {
    "duration": 4,
    "start_time": "2023-02-27T13:24:54.833Z"
   },
   {
    "duration": 14,
    "start_time": "2023-02-27T13:24:54.839Z"
   },
   {
    "duration": 10,
    "start_time": "2023-02-27T13:24:54.855Z"
   },
   {
    "duration": 8,
    "start_time": "2023-02-27T13:24:54.866Z"
   },
   {
    "duration": 26,
    "start_time": "2023-02-27T13:25:22.421Z"
   },
   {
    "duration": 5,
    "start_time": "2023-02-27T13:26:42.858Z"
   },
   {
    "duration": 8,
    "start_time": "2023-02-27T13:26:43.601Z"
   },
   {
    "duration": 16,
    "start_time": "2023-02-27T13:26:46.541Z"
   },
   {
    "duration": 7,
    "start_time": "2023-02-27T13:26:50.499Z"
   },
   {
    "duration": 10,
    "start_time": "2023-02-27T13:26:50.509Z"
   },
   {
    "duration": 252,
    "start_time": "2023-02-27T13:26:50.521Z"
   },
   {
    "duration": 19,
    "start_time": "2023-02-27T13:26:50.775Z"
   },
   {
    "duration": 29,
    "start_time": "2023-02-27T13:26:50.797Z"
   },
   {
    "duration": 27,
    "start_time": "2023-02-27T13:26:50.828Z"
   },
   {
    "duration": 22,
    "start_time": "2023-02-27T13:26:50.857Z"
   },
   {
    "duration": 106,
    "start_time": "2023-02-27T13:26:50.881Z"
   },
   {
    "duration": 115,
    "start_time": "2023-02-27T13:26:50.989Z"
   },
   {
    "duration": 6,
    "start_time": "2023-02-27T13:26:51.106Z"
   },
   {
    "duration": 110,
    "start_time": "2023-02-27T13:26:51.114Z"
   },
   {
    "duration": 5,
    "start_time": "2023-02-27T13:26:51.226Z"
   },
   {
    "duration": 114,
    "start_time": "2023-02-27T13:26:51.248Z"
   },
   {
    "duration": 6,
    "start_time": "2023-02-27T13:26:51.366Z"
   },
   {
    "duration": 11,
    "start_time": "2023-02-27T13:26:51.374Z"
   },
   {
    "duration": 198,
    "start_time": "2023-02-27T13:26:51.387Z"
   },
   {
    "duration": 6,
    "start_time": "2023-02-27T13:26:51.588Z"
   },
   {
    "duration": 21,
    "start_time": "2023-02-27T13:26:51.596Z"
   },
   {
    "duration": 124,
    "start_time": "2023-02-27T13:26:51.619Z"
   },
   {
    "duration": 6,
    "start_time": "2023-02-27T13:26:51.748Z"
   },
   {
    "duration": 114,
    "start_time": "2023-02-27T13:26:51.756Z"
   },
   {
    "duration": 7,
    "start_time": "2023-02-27T13:26:51.871Z"
   },
   {
    "duration": 15,
    "start_time": "2023-02-27T13:26:51.880Z"
   },
   {
    "duration": 51,
    "start_time": "2023-02-27T13:26:51.898Z"
   },
   {
    "duration": 5,
    "start_time": "2023-02-27T13:26:51.950Z"
   },
   {
    "duration": 20,
    "start_time": "2023-02-27T13:26:51.958Z"
   },
   {
    "duration": 15,
    "start_time": "2023-02-27T13:26:51.980Z"
   },
   {
    "duration": 9,
    "start_time": "2023-02-27T13:26:51.997Z"
   },
   {
    "duration": 29,
    "start_time": "2023-02-27T13:26:52.008Z"
   },
   {
    "duration": 11,
    "start_time": "2023-02-27T13:26:52.039Z"
   },
   {
    "duration": 15,
    "start_time": "2023-02-27T13:26:52.052Z"
   },
   {
    "duration": 8,
    "start_time": "2023-02-27T13:26:52.069Z"
   },
   {
    "duration": 22,
    "start_time": "2023-02-27T13:26:52.079Z"
   },
   {
    "duration": 25,
    "start_time": "2023-02-27T13:26:52.103Z"
   },
   {
    "duration": 11,
    "start_time": "2023-02-27T13:26:52.130Z"
   },
   {
    "duration": 9,
    "start_time": "2023-02-27T13:26:52.142Z"
   },
   {
    "duration": 10,
    "start_time": "2023-02-27T13:26:52.153Z"
   },
   {
    "duration": 16,
    "start_time": "2023-02-27T13:26:52.165Z"
   },
   {
    "duration": 6,
    "start_time": "2023-02-27T13:26:52.183Z"
   },
   {
    "duration": 29,
    "start_time": "2023-02-27T13:26:52.190Z"
   },
   {
    "duration": 31,
    "start_time": "2023-02-27T13:26:52.223Z"
   },
   {
    "duration": 20,
    "start_time": "2023-02-27T13:26:52.256Z"
   },
   {
    "duration": 6,
    "start_time": "2023-02-27T13:26:52.277Z"
   },
   {
    "duration": 12,
    "start_time": "2023-02-27T13:26:52.285Z"
   },
   {
    "duration": 14,
    "start_time": "2023-02-27T13:26:52.299Z"
   },
   {
    "duration": 5,
    "start_time": "2023-02-27T13:26:52.315Z"
   },
   {
    "duration": 28,
    "start_time": "2023-02-27T13:26:52.322Z"
   },
   {
    "duration": 16,
    "start_time": "2023-02-27T13:26:52.352Z"
   },
   {
    "duration": 11,
    "start_time": "2023-02-27T13:26:52.371Z"
   },
   {
    "duration": 7,
    "start_time": "2023-02-27T13:26:52.385Z"
   },
   {
    "duration": 6,
    "start_time": "2023-02-27T13:26:52.393Z"
   },
   {
    "duration": 14,
    "start_time": "2023-02-27T13:26:52.401Z"
   },
   {
    "duration": 4,
    "start_time": "2023-02-27T13:26:52.417Z"
   },
   {
    "duration": 18,
    "start_time": "2023-02-27T13:26:52.448Z"
   },
   {
    "duration": 18,
    "start_time": "2023-02-27T13:26:52.468Z"
   },
   {
    "duration": 11,
    "start_time": "2023-02-27T13:26:52.488Z"
   },
   {
    "duration": 6,
    "start_time": "2023-02-27T13:26:52.502Z"
   },
   {
    "duration": 12,
    "start_time": "2023-02-27T13:26:52.510Z"
   },
   {
    "duration": 26,
    "start_time": "2023-02-27T13:26:52.524Z"
   },
   {
    "duration": 4,
    "start_time": "2023-02-27T13:27:39.737Z"
   },
   {
    "duration": 5,
    "start_time": "2023-02-27T13:28:21.630Z"
   },
   {
    "duration": 4,
    "start_time": "2023-02-27T13:33:25.833Z"
   },
   {
    "duration": 4,
    "start_time": "2023-02-27T13:33:59.685Z"
   },
   {
    "duration": 2328,
    "start_time": "2023-02-28T05:51:02.279Z"
   },
   {
    "duration": 7,
    "start_time": "2023-02-28T05:51:04.613Z"
   },
   {
    "duration": 1503,
    "start_time": "2023-02-28T05:51:04.625Z"
   },
   {
    "duration": 32,
    "start_time": "2023-02-28T05:51:06.130Z"
   },
   {
    "duration": 81,
    "start_time": "2023-02-28T05:51:06.165Z"
   },
   {
    "duration": 59,
    "start_time": "2023-02-28T05:51:06.248Z"
   },
   {
    "duration": 46,
    "start_time": "2023-02-28T05:51:06.316Z"
   },
   {
    "duration": 112,
    "start_time": "2023-02-28T05:51:06.367Z"
   },
   {
    "duration": 159,
    "start_time": "2023-02-28T05:51:06.483Z"
   },
   {
    "duration": 9,
    "start_time": "2023-02-28T05:51:06.651Z"
   },
   {
    "duration": 208,
    "start_time": "2023-02-28T05:51:06.661Z"
   },
   {
    "duration": 7,
    "start_time": "2023-02-28T05:51:06.871Z"
   },
   {
    "duration": 220,
    "start_time": "2023-02-28T05:51:06.880Z"
   },
   {
    "duration": 8,
    "start_time": "2023-02-28T05:51:07.112Z"
   },
   {
    "duration": 11,
    "start_time": "2023-02-28T05:51:07.121Z"
   },
   {
    "duration": 209,
    "start_time": "2023-02-28T05:51:07.134Z"
   },
   {
    "duration": 8,
    "start_time": "2023-02-28T05:51:07.352Z"
   },
   {
    "duration": 66,
    "start_time": "2023-02-28T05:51:07.362Z"
   },
   {
    "duration": 176,
    "start_time": "2023-02-28T05:51:07.429Z"
   },
   {
    "duration": 6,
    "start_time": "2023-02-28T05:51:07.607Z"
   },
   {
    "duration": 129,
    "start_time": "2023-02-28T05:51:07.615Z"
   },
   {
    "duration": 9,
    "start_time": "2023-02-28T05:51:07.746Z"
   },
   {
    "duration": 63,
    "start_time": "2023-02-28T05:51:07.757Z"
   },
   {
    "duration": 36,
    "start_time": "2023-02-28T05:51:07.821Z"
   },
   {
    "duration": 8,
    "start_time": "2023-02-28T05:51:07.861Z"
   },
   {
    "duration": 50,
    "start_time": "2023-02-28T05:51:07.873Z"
   },
   {
    "duration": 13,
    "start_time": "2023-02-28T05:51:07.927Z"
   },
   {
    "duration": 20,
    "start_time": "2023-02-28T05:51:07.942Z"
   },
   {
    "duration": 54,
    "start_time": "2023-02-28T05:51:07.964Z"
   },
   {
    "duration": 14,
    "start_time": "2023-02-28T05:51:08.020Z"
   },
   {
    "duration": 11,
    "start_time": "2023-02-28T05:51:08.036Z"
   },
   {
    "duration": 51,
    "start_time": "2023-02-28T05:51:08.049Z"
   },
   {
    "duration": 34,
    "start_time": "2023-02-28T05:51:08.102Z"
   },
   {
    "duration": 25,
    "start_time": "2023-02-28T05:51:08.138Z"
   },
   {
    "duration": 57,
    "start_time": "2023-02-28T05:51:08.167Z"
   },
   {
    "duration": 11,
    "start_time": "2023-02-28T05:51:08.226Z"
   },
   {
    "duration": 10,
    "start_time": "2023-02-28T05:51:08.239Z"
   },
   {
    "duration": 76,
    "start_time": "2023-02-28T05:51:08.251Z"
   },
   {
    "duration": 4,
    "start_time": "2023-02-28T05:51:08.329Z"
   },
   {
    "duration": 49,
    "start_time": "2023-02-28T05:51:08.334Z"
   },
   {
    "duration": 52,
    "start_time": "2023-02-28T05:51:08.388Z"
   },
   {
    "duration": 70,
    "start_time": "2023-02-28T05:51:08.441Z"
   },
   {
    "duration": 6,
    "start_time": "2023-02-28T05:51:08.513Z"
   },
   {
    "duration": 8,
    "start_time": "2023-02-28T05:51:08.521Z"
   },
   {
    "duration": 17,
    "start_time": "2023-02-28T05:51:08.531Z"
   },
   {
    "duration": 63,
    "start_time": "2023-02-28T05:51:08.556Z"
   },
   {
    "duration": 17,
    "start_time": "2023-02-28T05:51:08.620Z"
   },
   {
    "duration": 74,
    "start_time": "2023-02-28T05:51:08.638Z"
   },
   {
    "duration": 6,
    "start_time": "2023-02-28T05:51:08.714Z"
   },
   {
    "duration": 8,
    "start_time": "2023-02-28T05:51:08.722Z"
   },
   {
    "duration": 7,
    "start_time": "2023-02-28T05:51:08.732Z"
   },
   {
    "duration": 78,
    "start_time": "2023-02-28T05:51:08.741Z"
   },
   {
    "duration": 5,
    "start_time": "2023-02-28T05:51:08.821Z"
   },
   {
    "duration": 23,
    "start_time": "2023-02-28T05:51:08.828Z"
   },
   {
    "duration": 71,
    "start_time": "2023-02-28T05:51:08.856Z"
   },
   {
    "duration": 15,
    "start_time": "2023-02-28T05:51:08.929Z"
   },
   {
    "duration": 57,
    "start_time": "2023-02-28T05:51:08.945Z"
   },
   {
    "duration": 14,
    "start_time": "2023-02-28T05:51:09.004Z"
   },
   {
    "duration": 7,
    "start_time": "2023-02-28T05:51:09.019Z"
   },
   {
    "duration": 43,
    "start_time": "2023-02-28T06:46:32.992Z"
   },
   {
    "duration": 21,
    "start_time": "2023-02-28T06:46:40.207Z"
   },
   {
    "duration": 24,
    "start_time": "2023-02-28T06:49:38.546Z"
   },
   {
    "duration": 17,
    "start_time": "2023-02-28T06:52:16.816Z"
   },
   {
    "duration": 8,
    "start_time": "2023-02-28T06:52:17.100Z"
   },
   {
    "duration": 12,
    "start_time": "2023-02-28T06:53:24.223Z"
   },
   {
    "duration": 19,
    "start_time": "2023-02-28T06:53:52.580Z"
   },
   {
    "duration": 304,
    "start_time": "2023-02-28T06:56:32.163Z"
   },
   {
    "duration": 51,
    "start_time": "2023-02-28T06:56:50.764Z"
   },
   {
    "duration": 205,
    "start_time": "2023-02-28T06:57:11.336Z"
   },
   {
    "duration": 182,
    "start_time": "2023-02-28T06:57:20.966Z"
   },
   {
    "duration": 146,
    "start_time": "2023-02-28T06:59:16.793Z"
   },
   {
    "duration": 274,
    "start_time": "2023-02-28T07:01:53.501Z"
   },
   {
    "duration": 23,
    "start_time": "2023-02-28T07:02:48.764Z"
   },
   {
    "duration": 3,
    "start_time": "2023-02-28T07:05:55.544Z"
   },
   {
    "duration": 11,
    "start_time": "2023-02-28T07:06:02.375Z"
   },
   {
    "duration": 3,
    "start_time": "2023-02-28T07:06:18.240Z"
   },
   {
    "duration": 4132,
    "start_time": "2023-02-28T07:07:32.881Z"
   },
   {
    "duration": 1439,
    "start_time": "2023-02-28T07:08:11.762Z"
   },
   {
    "duration": 326,
    "start_time": "2023-02-28T07:09:12.973Z"
   },
   {
    "duration": 150,
    "start_time": "2023-02-28T07:10:06.429Z"
   },
   {
    "duration": 127,
    "start_time": "2023-02-28T07:10:08.380Z"
   },
   {
    "duration": 15,
    "start_time": "2023-02-28T07:10:08.616Z"
   },
   {
    "duration": 13,
    "start_time": "2023-02-28T07:10:09.018Z"
   },
   {
    "duration": 3683,
    "start_time": "2023-02-28T07:10:09.229Z"
   },
   {
    "duration": 1085,
    "start_time": "2023-02-28T07:10:12.922Z"
   },
   {
    "duration": 39,
    "start_time": "2023-02-28T07:10:14.019Z"
   },
   {
    "duration": 51,
    "start_time": "2023-02-28T07:10:38.740Z"
   },
   {
    "duration": 111,
    "start_time": "2023-02-28T07:10:53.717Z"
   },
   {
    "duration": 16,
    "start_time": "2023-02-28T07:12:43.022Z"
   },
   {
    "duration": 60,
    "start_time": "2023-02-28T07:12:56.196Z"
   },
   {
    "duration": 131,
    "start_time": "2023-02-28T07:14:44.048Z"
   },
   {
    "duration": 39,
    "start_time": "2023-02-28T07:14:55.983Z"
   },
   {
    "duration": 10,
    "start_time": "2023-02-28T07:15:28.027Z"
   },
   {
    "duration": 84,
    "start_time": "2023-02-28T07:15:28.040Z"
   },
   {
    "duration": 919,
    "start_time": "2023-02-28T07:15:28.132Z"
   },
   {
    "duration": 78,
    "start_time": "2023-02-28T07:15:29.053Z"
   },
   {
    "duration": 84,
    "start_time": "2023-02-28T07:15:29.142Z"
   },
   {
    "duration": 41,
    "start_time": "2023-02-28T07:15:29.230Z"
   },
   {
    "duration": 65,
    "start_time": "2023-02-28T07:15:29.279Z"
   },
   {
    "duration": 117,
    "start_time": "2023-02-28T07:15:29.345Z"
   },
   {
    "duration": 223,
    "start_time": "2023-02-28T07:15:29.464Z"
   },
   {
    "duration": 17,
    "start_time": "2023-02-28T07:15:29.694Z"
   },
   {
    "duration": 223,
    "start_time": "2023-02-28T07:15:29.715Z"
   },
   {
    "duration": 13,
    "start_time": "2023-02-28T07:15:29.943Z"
   },
   {
    "duration": 315,
    "start_time": "2023-02-28T07:15:29.963Z"
   },
   {
    "duration": 11,
    "start_time": "2023-02-28T07:15:30.283Z"
   },
   {
    "duration": 96,
    "start_time": "2023-02-28T07:15:30.299Z"
   },
   {
    "duration": 296,
    "start_time": "2023-02-28T07:15:30.408Z"
   },
   {
    "duration": 14,
    "start_time": "2023-02-28T07:15:30.713Z"
   },
   {
    "duration": 90,
    "start_time": "2023-02-28T07:15:30.733Z"
   },
   {
    "duration": 258,
    "start_time": "2023-02-28T07:15:30.829Z"
   },
   {
    "duration": 13,
    "start_time": "2023-02-28T07:15:31.093Z"
   },
   {
    "duration": 234,
    "start_time": "2023-02-28T07:15:31.109Z"
   },
   {
    "duration": 21,
    "start_time": "2023-02-28T07:15:31.346Z"
   },
   {
    "duration": 119,
    "start_time": "2023-02-28T07:15:31.370Z"
   },
   {
    "duration": 159,
    "start_time": "2023-02-28T07:15:31.491Z"
   },
   {
    "duration": 33,
    "start_time": "2023-02-28T07:15:31.653Z"
   },
   {
    "duration": 91,
    "start_time": "2023-02-28T07:15:31.694Z"
   },
   {
    "duration": 105,
    "start_time": "2023-02-28T07:15:31.789Z"
   },
   {
    "duration": 52,
    "start_time": "2023-02-28T07:15:31.900Z"
   },
   {
    "duration": 75,
    "start_time": "2023-02-28T07:15:31.961Z"
   },
   {
    "duration": 153,
    "start_time": "2023-02-28T07:15:32.038Z"
   },
   {
    "duration": 81,
    "start_time": "2023-02-28T07:15:32.193Z"
   },
   {
    "duration": 81,
    "start_time": "2023-02-28T07:15:32.276Z"
   },
   {
    "duration": 79,
    "start_time": "2023-02-28T07:15:32.362Z"
   },
   {
    "duration": 75,
    "start_time": "2023-02-28T07:15:32.448Z"
   },
   {
    "duration": 70,
    "start_time": "2023-02-28T07:15:32.529Z"
   },
   {
    "duration": 29,
    "start_time": "2023-02-28T07:15:32.610Z"
   },
   {
    "duration": 99,
    "start_time": "2023-02-28T07:15:32.641Z"
   },
   {
    "duration": 93,
    "start_time": "2023-02-28T07:15:32.743Z"
   },
   {
    "duration": 63,
    "start_time": "2023-02-28T07:15:32.841Z"
   },
   {
    "duration": 132,
    "start_time": "2023-02-28T07:15:32.907Z"
   },
   {
    "duration": 56,
    "start_time": "2023-02-28T07:15:33.042Z"
   },
   {
    "duration": 243,
    "start_time": "2023-02-28T07:15:33.100Z"
   },
   {
    "duration": 65,
    "start_time": "2023-02-28T07:15:33.345Z"
   },
   {
    "duration": 42,
    "start_time": "2023-02-28T07:15:33.421Z"
   },
   {
    "duration": 108,
    "start_time": "2023-02-28T07:15:33.465Z"
   },
   {
    "duration": 23,
    "start_time": "2023-02-28T07:15:33.576Z"
   },
   {
    "duration": 112,
    "start_time": "2023-02-28T07:15:33.602Z"
   },
   {
    "duration": 113,
    "start_time": "2023-02-28T07:15:33.716Z"
   },
   {
    "duration": 32,
    "start_time": "2023-02-28T07:15:33.835Z"
   },
   {
    "duration": 44,
    "start_time": "2023-02-28T07:15:33.871Z"
   },
   {
    "duration": 26,
    "start_time": "2023-02-28T07:15:33.917Z"
   },
   {
    "duration": 60,
    "start_time": "2023-02-28T07:15:33.951Z"
   },
   {
    "duration": 120,
    "start_time": "2023-02-28T07:15:34.015Z"
   },
   {
    "duration": 53,
    "start_time": "2023-02-28T07:15:34.137Z"
   },
   {
    "duration": 79,
    "start_time": "2023-02-28T07:15:34.192Z"
   },
   {
    "duration": 154,
    "start_time": "2023-02-28T07:15:34.273Z"
   },
   {
    "duration": 11,
    "start_time": "2023-02-28T07:15:34.429Z"
   },
   {
    "duration": 16,
    "start_time": "2023-02-28T07:15:34.442Z"
   },
   {
    "duration": 86,
    "start_time": "2023-02-28T07:15:34.459Z"
   },
   {
    "duration": 114,
    "start_time": "2023-02-28T07:15:34.547Z"
   },
   {
    "duration": 77,
    "start_time": "2023-02-28T07:15:34.667Z"
   },
   {
    "duration": 78,
    "start_time": "2023-02-28T07:15:34.750Z"
   },
   {
    "duration": 74,
    "start_time": "2023-02-28T07:15:34.834Z"
   },
   {
    "duration": 51,
    "start_time": "2023-02-28T07:15:34.910Z"
   },
   {
    "duration": 77,
    "start_time": "2023-02-28T07:15:34.963Z"
   },
   {
    "duration": 113,
    "start_time": "2023-02-28T07:15:35.042Z"
   },
   {
    "duration": 204,
    "start_time": "2023-02-28T07:15:35.157Z"
   },
   {
    "duration": 120,
    "start_time": "2023-02-28T07:15:35.363Z"
   },
   {
    "duration": 112,
    "start_time": "2023-02-28T07:15:35.484Z"
   },
   {
    "duration": 78,
    "start_time": "2023-02-28T07:15:35.601Z"
   },
   {
    "duration": 97,
    "start_time": "2023-02-28T07:15:35.688Z"
   },
   {
    "duration": 90,
    "start_time": "2023-02-28T07:15:35.788Z"
   },
   {
    "duration": 59,
    "start_time": "2023-02-28T07:15:35.881Z"
   },
   {
    "duration": 68,
    "start_time": "2023-02-28T07:15:35.942Z"
   },
   {
    "duration": 3385,
    "start_time": "2023-02-28T07:15:36.015Z"
   },
   {
    "duration": 1150,
    "start_time": "2023-02-28T07:15:39.405Z"
   },
   {
    "duration": 88,
    "start_time": "2023-02-28T07:15:40.561Z"
   },
   {
    "duration": 114,
    "start_time": "2023-02-28T07:15:40.654Z"
   },
   {
    "duration": 126,
    "start_time": "2023-02-28T07:17:14.260Z"
   },
   {
    "duration": 78,
    "start_time": "2023-02-28T07:17:14.612Z"
   },
   {
    "duration": 123,
    "start_time": "2023-02-28T07:17:23.211Z"
   },
   {
    "duration": 222,
    "start_time": "2023-02-28T07:17:23.836Z"
   },
   {
    "duration": 28,
    "start_time": "2023-02-28T07:17:24.640Z"
   },
   {
    "duration": 106,
    "start_time": "2023-02-28T07:20:19.974Z"
   },
   {
    "duration": 87,
    "start_time": "2023-02-28T07:20:20.305Z"
   },
   {
    "duration": 65,
    "start_time": "2023-02-28T07:20:21.208Z"
   },
   {
    "duration": 15,
    "start_time": "2023-02-28T07:20:22.007Z"
   },
   {
    "duration": 24,
    "start_time": "2023-02-28T07:20:22.375Z"
   },
   {
    "duration": 21,
    "start_time": "2023-02-28T07:22:45.938Z"
   },
   {
    "duration": 4,
    "start_time": "2023-02-28T07:24:22.341Z"
   },
   {
    "duration": 3,
    "start_time": "2023-02-28T07:24:22.837Z"
   },
   {
    "duration": 90,
    "start_time": "2023-02-28T07:24:42.026Z"
   },
   {
    "duration": 1860,
    "start_time": "2023-02-28T07:26:06.180Z"
   },
   {
    "duration": 982,
    "start_time": "2023-02-28T07:26:55.908Z"
   },
   {
    "duration": 996,
    "start_time": "2023-02-28T07:28:04.335Z"
   },
   {
    "duration": 1191,
    "start_time": "2023-02-28T07:28:38.096Z"
   },
   {
    "duration": 103,
    "start_time": "2023-02-28T07:31:41.881Z"
   },
   {
    "duration": 28,
    "start_time": "2023-02-28T07:31:42.535Z"
   },
   {
    "duration": 45,
    "start_time": "2023-02-28T07:31:43.109Z"
   },
   {
    "duration": 17,
    "start_time": "2023-02-28T07:38:18.027Z"
   },
   {
    "duration": 16,
    "start_time": "2023-02-28T07:44:42.108Z"
   },
   {
    "duration": 14,
    "start_time": "2023-02-28T07:44:46.182Z"
   },
   {
    "duration": 20,
    "start_time": "2023-02-28T07:44:46.666Z"
   },
   {
    "duration": 9,
    "start_time": "2023-02-28T07:44:54.177Z"
   },
   {
    "duration": 10,
    "start_time": "2023-02-28T07:51:55.032Z"
   },
   {
    "duration": 55,
    "start_time": "2023-02-28T07:56:42.333Z"
   },
   {
    "duration": 42,
    "start_time": "2023-02-28T07:56:55.982Z"
   },
   {
    "duration": 21,
    "start_time": "2023-02-28T07:57:30.478Z"
   },
   {
    "duration": 28,
    "start_time": "2023-02-28T07:57:40.792Z"
   },
   {
    "duration": 14,
    "start_time": "2023-02-28T07:57:48.974Z"
   },
   {
    "duration": 4,
    "start_time": "2023-02-28T07:58:51.132Z"
   },
   {
    "duration": 13,
    "start_time": "2023-02-28T07:59:08.699Z"
   },
   {
    "duration": 11,
    "start_time": "2023-02-28T07:59:18.572Z"
   },
   {
    "duration": 3,
    "start_time": "2023-02-28T08:00:09.440Z"
   },
   {
    "duration": 5,
    "start_time": "2023-02-28T08:00:09.782Z"
   },
   {
    "duration": 4,
    "start_time": "2023-02-28T08:00:32.817Z"
   },
   {
    "duration": 5,
    "start_time": "2023-02-28T08:00:45.537Z"
   },
   {
    "duration": 4,
    "start_time": "2023-02-28T08:01:42.925Z"
   },
   {
    "duration": 10,
    "start_time": "2023-02-28T08:02:00.677Z"
   },
   {
    "duration": 5,
    "start_time": "2023-02-28T08:02:02.893Z"
   },
   {
    "duration": 5,
    "start_time": "2023-02-28T08:02:03.606Z"
   },
   {
    "duration": 5,
    "start_time": "2023-02-28T08:02:04.016Z"
   },
   {
    "duration": 4,
    "start_time": "2023-02-28T08:02:04.407Z"
   },
   {
    "duration": 5,
    "start_time": "2023-02-28T08:02:04.839Z"
   },
   {
    "duration": 14,
    "start_time": "2023-02-28T08:02:13.777Z"
   },
   {
    "duration": 34,
    "start_time": "2023-02-28T08:02:13.799Z"
   },
   {
    "duration": 1301,
    "start_time": "2023-02-28T08:02:13.834Z"
   },
   {
    "duration": 33,
    "start_time": "2023-02-28T08:02:15.137Z"
   },
   {
    "duration": 62,
    "start_time": "2023-02-28T08:02:15.174Z"
   },
   {
    "duration": 32,
    "start_time": "2023-02-28T08:02:15.238Z"
   },
   {
    "duration": 64,
    "start_time": "2023-02-28T08:02:15.273Z"
   },
   {
    "duration": 111,
    "start_time": "2023-02-28T08:02:15.339Z"
   },
   {
    "duration": 134,
    "start_time": "2023-02-28T08:02:15.459Z"
   },
   {
    "duration": 9,
    "start_time": "2023-02-28T08:02:15.595Z"
   },
   {
    "duration": 168,
    "start_time": "2023-02-28T08:02:15.606Z"
   },
   {
    "duration": 22,
    "start_time": "2023-02-28T08:02:15.780Z"
   },
   {
    "duration": 131,
    "start_time": "2023-02-28T08:02:15.810Z"
   },
   {
    "duration": 23,
    "start_time": "2023-02-28T08:02:15.945Z"
   },
   {
    "duration": 48,
    "start_time": "2023-02-28T08:02:15.970Z"
   },
   {
    "duration": 125,
    "start_time": "2023-02-28T08:02:16.020Z"
   },
   {
    "duration": 16,
    "start_time": "2023-02-28T08:02:16.147Z"
   },
   {
    "duration": 59,
    "start_time": "2023-02-28T08:02:16.166Z"
   },
   {
    "duration": 176,
    "start_time": "2023-02-28T08:02:16.227Z"
   },
   {
    "duration": 6,
    "start_time": "2023-02-28T08:02:16.404Z"
   },
   {
    "duration": 204,
    "start_time": "2023-02-28T08:02:16.411Z"
   },
   {
    "duration": 9,
    "start_time": "2023-02-28T08:02:16.621Z"
   },
   {
    "duration": 46,
    "start_time": "2023-02-28T08:02:16.632Z"
   },
   {
    "duration": 90,
    "start_time": "2023-02-28T08:02:16.696Z"
   },
   {
    "duration": 26,
    "start_time": "2023-02-28T08:02:16.796Z"
   },
   {
    "duration": 33,
    "start_time": "2023-02-28T08:02:16.824Z"
   },
   {
    "duration": 74,
    "start_time": "2023-02-28T08:02:16.858Z"
   },
   {
    "duration": 26,
    "start_time": "2023-02-28T08:02:16.935Z"
   },
   {
    "duration": 73,
    "start_time": "2023-02-28T08:02:16.965Z"
   },
   {
    "duration": 183,
    "start_time": "2023-02-28T08:02:17.041Z"
   },
   {
    "duration": 7,
    "start_time": "2023-02-28T08:02:17.226Z"
   },
   {
    "duration": 75,
    "start_time": "2023-02-28T08:02:17.235Z"
   },
   {
    "duration": 28,
    "start_time": "2023-02-28T08:02:17.312Z"
   },
   {
    "duration": 77,
    "start_time": "2023-02-28T08:02:17.342Z"
   },
   {
    "duration": 13,
    "start_time": "2023-02-28T08:02:17.421Z"
   },
   {
    "duration": 12,
    "start_time": "2023-02-28T08:02:17.435Z"
   },
   {
    "duration": 63,
    "start_time": "2023-02-28T08:02:17.449Z"
   },
   {
    "duration": 16,
    "start_time": "2023-02-28T08:02:17.515Z"
   },
   {
    "duration": 14,
    "start_time": "2023-02-28T08:02:17.533Z"
   },
   {
    "duration": 77,
    "start_time": "2023-02-28T08:02:17.558Z"
   },
   {
    "duration": 71,
    "start_time": "2023-02-28T08:02:17.640Z"
   },
   {
    "duration": 10,
    "start_time": "2023-02-28T08:02:17.712Z"
   },
   {
    "duration": 9,
    "start_time": "2023-02-28T08:02:17.724Z"
   },
   {
    "duration": 10,
    "start_time": "2023-02-28T08:02:17.734Z"
   },
   {
    "duration": 81,
    "start_time": "2023-02-28T08:02:17.746Z"
   },
   {
    "duration": 6,
    "start_time": "2023-02-28T08:02:17.829Z"
   },
   {
    "duration": 46,
    "start_time": "2023-02-28T08:02:17.837Z"
   },
   {
    "duration": 37,
    "start_time": "2023-02-28T08:02:17.894Z"
   },
   {
    "duration": 11,
    "start_time": "2023-02-28T08:02:17.933Z"
   },
   {
    "duration": 63,
    "start_time": "2023-02-28T08:02:17.946Z"
   },
   {
    "duration": 11,
    "start_time": "2023-02-28T08:02:18.010Z"
   },
   {
    "duration": 14,
    "start_time": "2023-02-28T08:02:18.023Z"
   },
   {
    "duration": 8,
    "start_time": "2023-02-28T08:02:18.039Z"
   },
   {
    "duration": 84,
    "start_time": "2023-02-28T08:02:18.049Z"
   },
   {
    "duration": 43,
    "start_time": "2023-02-28T08:02:18.135Z"
   },
   {
    "duration": 60,
    "start_time": "2023-02-28T08:02:18.182Z"
   },
   {
    "duration": 63,
    "start_time": "2023-02-28T08:02:18.244Z"
   },
   {
    "duration": 17,
    "start_time": "2023-02-28T08:02:18.309Z"
   },
   {
    "duration": 15,
    "start_time": "2023-02-28T08:02:18.328Z"
   },
   {
    "duration": 81,
    "start_time": "2023-02-28T08:02:18.345Z"
   },
   {
    "duration": 14,
    "start_time": "2023-02-28T08:02:18.428Z"
   },
   {
    "duration": 48,
    "start_time": "2023-02-28T08:02:18.444Z"
   },
   {
    "duration": 63,
    "start_time": "2023-02-28T08:02:18.493Z"
   },
   {
    "duration": 53,
    "start_time": "2023-02-28T08:02:18.562Z"
   },
   {
    "duration": 16,
    "start_time": "2023-02-28T08:02:18.618Z"
   },
   {
    "duration": 23,
    "start_time": "2023-02-28T08:02:18.636Z"
   },
   {
    "duration": 184,
    "start_time": "2023-02-28T08:02:18.660Z"
   },
   {
    "duration": 86,
    "start_time": "2023-02-28T08:02:18.846Z"
   },
   {
    "duration": 63,
    "start_time": "2023-02-28T08:02:18.935Z"
   },
   {
    "duration": 41,
    "start_time": "2023-02-28T08:02:18.999Z"
   },
   {
    "duration": 61,
    "start_time": "2023-02-28T08:02:19.041Z"
   },
   {
    "duration": 69,
    "start_time": "2023-02-28T08:02:19.110Z"
   },
   {
    "duration": 5,
    "start_time": "2023-02-28T08:02:19.181Z"
   },
   {
    "duration": 32,
    "start_time": "2023-02-28T08:02:19.188Z"
   },
   {
    "duration": 7,
    "start_time": "2023-02-28T08:02:19.221Z"
   },
   {
    "duration": 6,
    "start_time": "2023-02-28T08:02:19.229Z"
   },
   {
    "duration": 6,
    "start_time": "2023-02-28T08:02:19.238Z"
   },
   {
    "duration": 61,
    "start_time": "2023-02-28T08:02:19.246Z"
   },
   {
    "duration": 11,
    "start_time": "2023-02-28T08:02:19.310Z"
   },
   {
    "duration": 11,
    "start_time": "2023-02-28T08:02:19.323Z"
   },
   {
    "duration": 8,
    "start_time": "2023-02-28T08:02:19.335Z"
   },
   {
    "duration": 66,
    "start_time": "2023-02-28T08:02:19.345Z"
   },
   {
    "duration": 21,
    "start_time": "2023-02-28T08:02:19.416Z"
   },
   {
    "duration": 86,
    "start_time": "2023-02-28T08:02:19.438Z"
   },
   {
    "duration": 64,
    "start_time": "2023-02-28T08:02:19.526Z"
   },
   {
    "duration": 29,
    "start_time": "2023-02-28T08:02:19.600Z"
   },
   {
    "duration": 2731,
    "start_time": "2023-02-28T08:02:19.631Z"
   },
   {
    "duration": 748,
    "start_time": "2023-02-28T08:02:22.368Z"
   },
   {
    "duration": 92,
    "start_time": "2023-02-28T08:02:23.118Z"
   },
   {
    "duration": 1624,
    "start_time": "2023-02-28T08:02:23.215Z"
   },
   {
    "duration": 895,
    "start_time": "2023-02-28T08:02:24.841Z"
   },
   {
    "duration": 677,
    "start_time": "2023-02-28T08:02:25.738Z"
   },
   {
    "duration": 1103,
    "start_time": "2023-02-28T08:02:26.421Z"
   },
   {
    "duration": 61,
    "start_time": "2023-02-28T08:02:27.526Z"
   },
   {
    "duration": 48,
    "start_time": "2023-02-28T08:02:27.588Z"
   },
   {
    "duration": 32,
    "start_time": "2023-02-28T08:02:27.638Z"
   },
   {
    "duration": 6,
    "start_time": "2023-02-28T08:05:26.861Z"
   },
   {
    "duration": 60,
    "start_time": "2023-02-28T08:05:26.873Z"
   },
   {
    "duration": 349,
    "start_time": "2023-02-28T08:05:26.935Z"
   },
   {
    "duration": 50,
    "start_time": "2023-02-28T08:05:27.288Z"
   },
   {
    "duration": 48,
    "start_time": "2023-02-28T08:05:27.342Z"
   },
   {
    "duration": 50,
    "start_time": "2023-02-28T08:05:27.392Z"
   },
   {
    "duration": 58,
    "start_time": "2023-02-28T08:05:27.445Z"
   },
   {
    "duration": 125,
    "start_time": "2023-02-28T08:05:27.505Z"
   },
   {
    "duration": 133,
    "start_time": "2023-02-28T08:05:27.632Z"
   },
   {
    "duration": 23,
    "start_time": "2023-02-28T08:05:27.770Z"
   },
   {
    "duration": 151,
    "start_time": "2023-02-28T08:05:27.802Z"
   },
   {
    "duration": 6,
    "start_time": "2023-02-28T08:05:27.963Z"
   },
   {
    "duration": 203,
    "start_time": "2023-02-28T08:05:27.971Z"
   },
   {
    "duration": 8,
    "start_time": "2023-02-28T08:05:28.177Z"
   },
   {
    "duration": 25,
    "start_time": "2023-02-28T08:05:28.192Z"
   },
   {
    "duration": 137,
    "start_time": "2023-02-28T08:05:28.220Z"
   },
   {
    "duration": 6,
    "start_time": "2023-02-28T08:05:28.358Z"
   },
   {
    "duration": 53,
    "start_time": "2023-02-28T08:05:28.366Z"
   },
   {
    "duration": 161,
    "start_time": "2023-02-28T08:05:28.421Z"
   },
   {
    "duration": 8,
    "start_time": "2023-02-28T08:05:28.587Z"
   },
   {
    "duration": 190,
    "start_time": "2023-02-28T08:05:28.597Z"
   },
   {
    "duration": 7,
    "start_time": "2023-02-28T08:05:28.789Z"
   },
   {
    "duration": 53,
    "start_time": "2023-02-28T08:05:28.798Z"
   },
   {
    "duration": 88,
    "start_time": "2023-02-28T08:05:28.857Z"
   },
   {
    "duration": 8,
    "start_time": "2023-02-28T08:05:28.947Z"
   },
   {
    "duration": 64,
    "start_time": "2023-02-28T08:05:28.962Z"
   },
   {
    "duration": 14,
    "start_time": "2023-02-28T08:05:29.028Z"
   },
   {
    "duration": 73,
    "start_time": "2023-02-28T08:05:29.044Z"
   },
   {
    "duration": 16,
    "start_time": "2023-02-28T08:05:29.119Z"
   },
   {
    "duration": 33,
    "start_time": "2023-02-28T08:05:29.138Z"
   },
   {
    "duration": 42,
    "start_time": "2023-02-28T08:05:29.180Z"
   },
   {
    "duration": 123,
    "start_time": "2023-02-28T08:05:29.224Z"
   },
   {
    "duration": 122,
    "start_time": "2023-02-28T08:05:29.351Z"
   },
   {
    "duration": 162,
    "start_time": "2023-02-28T08:05:29.480Z"
   },
   {
    "duration": 79,
    "start_time": "2023-02-28T08:05:29.644Z"
   },
   {
    "duration": 5,
    "start_time": "2023-02-28T08:05:29.726Z"
   },
   {
    "duration": 9,
    "start_time": "2023-02-28T08:05:29.733Z"
   },
   {
    "duration": 23,
    "start_time": "2023-02-28T08:05:29.743Z"
   },
   {
    "duration": 70,
    "start_time": "2023-02-28T08:05:29.770Z"
   },
   {
    "duration": 101,
    "start_time": "2023-02-28T08:05:29.842Z"
   },
   {
    "duration": 135,
    "start_time": "2023-02-28T08:05:29.949Z"
   },
   {
    "duration": 30,
    "start_time": "2023-02-28T08:05:30.095Z"
   },
   {
    "duration": 78,
    "start_time": "2023-02-28T08:05:30.127Z"
   },
   {
    "duration": 21,
    "start_time": "2023-02-28T08:05:30.209Z"
   },
   {
    "duration": 41,
    "start_time": "2023-02-28T08:05:30.231Z"
   },
   {
    "duration": 67,
    "start_time": "2023-02-28T08:05:30.274Z"
   },
   {
    "duration": 156,
    "start_time": "2023-02-28T08:05:30.345Z"
   },
   {
    "duration": 152,
    "start_time": "2023-02-28T08:05:30.512Z"
   },
   {
    "duration": 157,
    "start_time": "2023-02-28T08:05:30.668Z"
   },
   {
    "duration": 98,
    "start_time": "2023-02-28T08:05:30.826Z"
   },
   {
    "duration": 73,
    "start_time": "2023-02-28T08:05:30.926Z"
   },
   {
    "duration": 59,
    "start_time": "2023-02-28T08:05:31.001Z"
   },
   {
    "duration": 65,
    "start_time": "2023-02-28T08:05:31.066Z"
   },
   {
    "duration": 112,
    "start_time": "2023-02-28T08:05:31.133Z"
   },
   {
    "duration": 133,
    "start_time": "2023-02-28T08:05:31.248Z"
   },
   {
    "duration": 61,
    "start_time": "2023-02-28T08:05:31.389Z"
   },
   {
    "duration": 93,
    "start_time": "2023-02-28T08:05:31.451Z"
   },
   {
    "duration": 106,
    "start_time": "2023-02-28T08:05:31.546Z"
   },
   {
    "duration": 179,
    "start_time": "2023-02-28T08:05:31.654Z"
   },
   {
    "duration": 111,
    "start_time": "2023-02-28T08:05:31.835Z"
   },
   {
    "duration": 85,
    "start_time": "2023-02-28T08:05:31.948Z"
   },
   {
    "duration": 46,
    "start_time": "2023-02-28T08:05:32.034Z"
   },
   {
    "duration": 49,
    "start_time": "2023-02-28T08:05:32.086Z"
   },
   {
    "duration": 96,
    "start_time": "2023-02-28T08:05:32.137Z"
   },
   {
    "duration": 12,
    "start_time": "2023-02-28T08:05:32.235Z"
   },
   {
    "duration": 60,
    "start_time": "2023-02-28T08:05:32.264Z"
   },
   {
    "duration": 110,
    "start_time": "2023-02-28T08:05:32.327Z"
   },
   {
    "duration": 83,
    "start_time": "2023-02-28T08:05:32.439Z"
   },
   {
    "duration": 49,
    "start_time": "2023-02-28T08:05:32.524Z"
   },
   {
    "duration": 37,
    "start_time": "2023-02-28T08:05:32.582Z"
   },
   {
    "duration": 36,
    "start_time": "2023-02-28T08:05:32.623Z"
   },
   {
    "duration": 56,
    "start_time": "2023-02-28T08:05:32.664Z"
   },
   {
    "duration": 13,
    "start_time": "2023-02-28T08:05:32.722Z"
   },
   {
    "duration": 64,
    "start_time": "2023-02-28T08:05:32.737Z"
   },
   {
    "duration": 25,
    "start_time": "2023-02-28T08:05:32.803Z"
   },
   {
    "duration": 8,
    "start_time": "2023-02-28T08:05:32.829Z"
   },
   {
    "duration": 7,
    "start_time": "2023-02-28T08:05:32.839Z"
   },
   {
    "duration": 67,
    "start_time": "2023-02-28T08:05:32.848Z"
   },
   {
    "duration": 8,
    "start_time": "2023-02-28T08:05:32.917Z"
   },
   {
    "duration": 18,
    "start_time": "2023-02-28T08:05:32.927Z"
   },
   {
    "duration": 69,
    "start_time": "2023-02-28T08:05:32.947Z"
   },
   {
    "duration": 70,
    "start_time": "2023-02-28T08:05:33.017Z"
   },
   {
    "duration": 86,
    "start_time": "2023-02-28T08:05:33.088Z"
   },
   {
    "duration": 7,
    "start_time": "2023-02-28T08:05:33.176Z"
   },
   {
    "duration": 3025,
    "start_time": "2023-02-28T08:05:33.184Z"
   },
   {
    "duration": 882,
    "start_time": "2023-02-28T08:05:36.216Z"
   },
   {
    "duration": 112,
    "start_time": "2023-02-28T08:05:37.104Z"
   },
   {
    "duration": 1829,
    "start_time": "2023-02-28T08:05:37.221Z"
   },
   {
    "duration": 961,
    "start_time": "2023-02-28T08:05:39.060Z"
   },
   {
    "duration": 748,
    "start_time": "2023-02-28T08:05:40.028Z"
   },
   {
    "duration": 1359,
    "start_time": "2023-02-28T08:05:40.786Z"
   },
   {
    "duration": 95,
    "start_time": "2023-02-28T08:05:42.147Z"
   },
   {
    "duration": 148,
    "start_time": "2023-02-28T08:05:42.244Z"
   },
   {
    "duration": 140,
    "start_time": "2023-02-28T08:05:42.394Z"
   },
   {
    "duration": 21,
    "start_time": "2023-02-28T08:06:26.343Z"
   },
   {
    "duration": 51,
    "start_time": "2023-02-28T08:06:26.686Z"
   },
   {
    "duration": 20,
    "start_time": "2023-02-28T08:06:43.996Z"
   },
   {
    "duration": 32,
    "start_time": "2023-02-28T08:06:57.276Z"
   },
   {
    "duration": 15,
    "start_time": "2023-02-28T08:08:26.512Z"
   },
   {
    "duration": 7,
    "start_time": "2023-02-28T08:08:31.199Z"
   },
   {
    "duration": 63,
    "start_time": "2023-02-28T08:08:31.781Z"
   },
   {
    "duration": 4,
    "start_time": "2023-02-28T08:08:32.105Z"
   },
   {
    "duration": 3085,
    "start_time": "2023-02-28T08:08:32.908Z"
   },
   {
    "duration": 6,
    "start_time": "2023-02-28T08:09:09.605Z"
   },
   {
    "duration": 13,
    "start_time": "2023-02-28T08:09:09.613Z"
   },
   {
    "duration": 299,
    "start_time": "2023-02-28T08:09:09.629Z"
   },
   {
    "duration": 31,
    "start_time": "2023-02-28T08:09:09.930Z"
   },
   {
    "duration": 60,
    "start_time": "2023-02-28T08:09:09.966Z"
   },
   {
    "duration": 18,
    "start_time": "2023-02-28T08:09:10.029Z"
   },
   {
    "duration": 48,
    "start_time": "2023-02-28T08:09:10.049Z"
   },
   {
    "duration": 121,
    "start_time": "2023-02-28T08:09:10.101Z"
   },
   {
    "duration": 142,
    "start_time": "2023-02-28T08:09:10.224Z"
   },
   {
    "duration": 5,
    "start_time": "2023-02-28T08:09:10.370Z"
   },
   {
    "duration": 161,
    "start_time": "2023-02-28T08:09:10.377Z"
   },
   {
    "duration": 33,
    "start_time": "2023-02-28T08:09:10.540Z"
   },
   {
    "duration": 166,
    "start_time": "2023-02-28T08:09:10.576Z"
   },
   {
    "duration": 17,
    "start_time": "2023-02-28T08:09:10.745Z"
   },
   {
    "duration": 52,
    "start_time": "2023-02-28T08:09:10.770Z"
   },
   {
    "duration": 137,
    "start_time": "2023-02-28T08:09:10.824Z"
   },
   {
    "duration": 16,
    "start_time": "2023-02-28T08:09:10.966Z"
   },
   {
    "duration": 43,
    "start_time": "2023-02-28T08:09:10.983Z"
   },
   {
    "duration": 198,
    "start_time": "2023-02-28T08:09:11.028Z"
   },
   {
    "duration": 5,
    "start_time": "2023-02-28T08:09:11.228Z"
   },
   {
    "duration": 237,
    "start_time": "2023-02-28T08:09:11.235Z"
   },
   {
    "duration": 9,
    "start_time": "2023-02-28T08:09:11.473Z"
   },
   {
    "duration": 41,
    "start_time": "2023-02-28T08:09:11.487Z"
   },
   {
    "duration": 51,
    "start_time": "2023-02-28T08:09:11.530Z"
   },
   {
    "duration": 7,
    "start_time": "2023-02-28T08:09:11.583Z"
   },
   {
    "duration": 31,
    "start_time": "2023-02-28T08:09:11.592Z"
   },
   {
    "duration": 13,
    "start_time": "2023-02-28T08:09:11.625Z"
   },
   {
    "duration": 13,
    "start_time": "2023-02-28T08:09:11.640Z"
   },
   {
    "duration": 11,
    "start_time": "2023-02-28T08:09:11.655Z"
   },
   {
    "duration": 55,
    "start_time": "2023-02-28T08:09:11.670Z"
   },
   {
    "duration": 8,
    "start_time": "2023-02-28T08:09:11.727Z"
   },
   {
    "duration": 7,
    "start_time": "2023-02-28T08:09:11.736Z"
   },
   {
    "duration": 76,
    "start_time": "2023-02-28T08:09:11.744Z"
   },
   {
    "duration": 21,
    "start_time": "2023-02-28T08:09:11.823Z"
   },
   {
    "duration": 58,
    "start_time": "2023-02-28T08:09:11.846Z"
   },
   {
    "duration": 13,
    "start_time": "2023-02-28T08:09:11.909Z"
   },
   {
    "duration": 6,
    "start_time": "2023-02-28T08:09:11.923Z"
   },
   {
    "duration": 25,
    "start_time": "2023-02-28T08:09:11.931Z"
   },
   {
    "duration": 40,
    "start_time": "2023-02-28T08:09:11.964Z"
   },
   {
    "duration": 31,
    "start_time": "2023-02-28T08:09:12.008Z"
   },
   {
    "duration": 92,
    "start_time": "2023-02-28T08:09:12.045Z"
   },
   {
    "duration": 37,
    "start_time": "2023-02-28T08:09:12.139Z"
   },
   {
    "duration": 42,
    "start_time": "2023-02-28T08:09:12.178Z"
   },
   {
    "duration": 10,
    "start_time": "2023-02-28T08:09:12.221Z"
   },
   {
    "duration": 14,
    "start_time": "2023-02-28T08:09:12.233Z"
   },
   {
    "duration": 60,
    "start_time": "2023-02-28T08:09:12.251Z"
   },
   {
    "duration": 19,
    "start_time": "2023-02-28T08:09:12.313Z"
   },
   {
    "duration": 30,
    "start_time": "2023-02-28T08:09:12.334Z"
   },
   {
    "duration": 55,
    "start_time": "2023-02-28T08:09:12.366Z"
   },
   {
    "duration": 15,
    "start_time": "2023-02-28T08:09:12.424Z"
   },
   {
    "duration": 23,
    "start_time": "2023-02-28T08:09:12.441Z"
   },
   {
    "duration": 57,
    "start_time": "2023-02-28T08:09:12.466Z"
   },
   {
    "duration": 10,
    "start_time": "2023-02-28T08:09:12.525Z"
   },
   {
    "duration": 46,
    "start_time": "2023-02-28T08:09:12.537Z"
   },
   {
    "duration": 45,
    "start_time": "2023-02-28T08:09:12.585Z"
   },
   {
    "duration": 28,
    "start_time": "2023-02-28T08:09:12.632Z"
   },
   {
    "duration": 45,
    "start_time": "2023-02-28T08:09:12.662Z"
   },
   {
    "duration": 9,
    "start_time": "2023-02-28T08:09:12.709Z"
   },
   {
    "duration": 7,
    "start_time": "2023-02-28T08:09:12.719Z"
   },
   {
    "duration": 26,
    "start_time": "2023-02-28T08:09:12.728Z"
   },
   {
    "duration": 61,
    "start_time": "2023-02-28T08:09:12.758Z"
   },
   {
    "duration": 7,
    "start_time": "2023-02-28T08:09:12.821Z"
   },
   {
    "duration": 40,
    "start_time": "2023-02-28T08:09:12.829Z"
   },
   {
    "duration": 34,
    "start_time": "2023-02-28T08:09:12.875Z"
   },
   {
    "duration": 15,
    "start_time": "2023-02-28T08:09:12.911Z"
   },
   {
    "duration": 10,
    "start_time": "2023-02-28T08:09:12.927Z"
   },
   {
    "duration": 129,
    "start_time": "2023-02-28T08:09:12.938Z"
   },
   {
    "duration": 86,
    "start_time": "2023-02-28T08:09:13.070Z"
   },
   {
    "duration": 72,
    "start_time": "2023-02-28T08:09:13.158Z"
   },
   {
    "duration": 16,
    "start_time": "2023-02-28T08:09:13.232Z"
   },
   {
    "duration": 81,
    "start_time": "2023-02-28T08:09:13.258Z"
   },
   {
    "duration": 78,
    "start_time": "2023-02-28T08:09:13.341Z"
   },
   {
    "duration": 14,
    "start_time": "2023-02-28T08:09:13.421Z"
   },
   {
    "duration": 81,
    "start_time": "2023-02-28T08:09:13.437Z"
   },
   {
    "duration": 15,
    "start_time": "2023-02-28T08:09:13.522Z"
   },
   {
    "duration": 7,
    "start_time": "2023-02-28T08:09:13.539Z"
   },
   {
    "duration": 63,
    "start_time": "2023-02-28T08:09:13.548Z"
   },
   {
    "duration": 13,
    "start_time": "2023-02-28T08:09:13.613Z"
   },
   {
    "duration": 7,
    "start_time": "2023-02-28T08:09:13.628Z"
   },
   {
    "duration": 11,
    "start_time": "2023-02-28T08:09:13.636Z"
   },
   {
    "duration": 60,
    "start_time": "2023-02-28T08:09:13.648Z"
   },
   {
    "duration": 47,
    "start_time": "2023-02-28T08:09:13.710Z"
   },
   {
    "duration": 28,
    "start_time": "2023-02-28T08:09:13.758Z"
   },
   {
    "duration": 61,
    "start_time": "2023-02-28T08:09:13.789Z"
   },
   {
    "duration": 81,
    "start_time": "2023-02-28T08:09:13.855Z"
   },
   {
    "duration": 6,
    "start_time": "2023-02-28T08:09:13.938Z"
   },
   {
    "duration": 89,
    "start_time": "2023-02-28T08:09:13.945Z"
   },
   {
    "duration": 4,
    "start_time": "2023-02-28T08:09:14.036Z"
   },
   {
    "duration": 2959,
    "start_time": "2023-02-28T08:09:14.042Z"
   },
   {
    "duration": 913,
    "start_time": "2023-02-28T08:09:17.003Z"
   },
   {
    "duration": 1763,
    "start_time": "2023-02-28T08:09:17.918Z"
   },
   {
    "duration": 927,
    "start_time": "2023-02-28T08:09:19.683Z"
   },
   {
    "duration": 759,
    "start_time": "2023-02-28T08:09:20.612Z"
   },
   {
    "duration": 1236,
    "start_time": "2023-02-28T08:09:21.373Z"
   },
   {
    "duration": 56,
    "start_time": "2023-02-28T08:09:22.619Z"
   },
   {
    "duration": 61,
    "start_time": "2023-02-28T08:09:22.681Z"
   },
   {
    "duration": 89,
    "start_time": "2023-02-28T08:09:22.745Z"
   },
   {
    "duration": 6,
    "start_time": "2023-02-28T08:15:05.419Z"
   },
   {
    "duration": 46,
    "start_time": "2023-03-01T11:27:21.081Z"
   },
   {
    "duration": 1653,
    "start_time": "2023-03-01T11:29:23.944Z"
   },
   {
    "duration": 3,
    "start_time": "2023-03-01T11:29:25.599Z"
   },
   {
    "duration": 563,
    "start_time": "2023-03-01T11:29:25.604Z"
   },
   {
    "duration": 25,
    "start_time": "2023-03-01T11:29:26.169Z"
   },
   {
    "duration": 28,
    "start_time": "2023-03-01T11:29:26.195Z"
   },
   {
    "duration": 13,
    "start_time": "2023-03-01T11:29:26.225Z"
   },
   {
    "duration": 20,
    "start_time": "2023-03-01T11:29:26.241Z"
   },
   {
    "duration": 111,
    "start_time": "2023-03-01T11:29:26.264Z"
   },
   {
    "duration": 119,
    "start_time": "2023-03-01T11:29:26.377Z"
   },
   {
    "duration": 6,
    "start_time": "2023-03-01T11:29:26.506Z"
   },
   {
    "duration": 113,
    "start_time": "2023-03-01T11:29:26.514Z"
   },
   {
    "duration": 6,
    "start_time": "2023-03-01T11:29:26.628Z"
   },
   {
    "duration": 123,
    "start_time": "2023-03-01T11:29:26.636Z"
   },
   {
    "duration": 5,
    "start_time": "2023-03-01T11:29:26.760Z"
   },
   {
    "duration": 40,
    "start_time": "2023-03-01T11:29:26.767Z"
   },
   {
    "duration": 179,
    "start_time": "2023-03-01T11:29:26.809Z"
   },
   {
    "duration": 5,
    "start_time": "2023-03-01T11:29:26.989Z"
   },
   {
    "duration": 5,
    "start_time": "2023-03-01T11:29:27.006Z"
   },
   {
    "duration": 125,
    "start_time": "2023-03-01T11:29:27.012Z"
   },
   {
    "duration": 5,
    "start_time": "2023-03-01T11:29:27.138Z"
   },
   {
    "duration": 101,
    "start_time": "2023-03-01T11:29:27.145Z"
   },
   {
    "duration": 6,
    "start_time": "2023-03-01T11:29:27.247Z"
   },
   {
    "duration": 73,
    "start_time": "2023-03-01T11:29:27.254Z"
   },
   {
    "duration": 23,
    "start_time": "2023-03-01T11:29:27.329Z"
   },
   {
    "duration": 5,
    "start_time": "2023-03-01T11:29:27.354Z"
   },
   {
    "duration": 9,
    "start_time": "2023-03-01T11:29:27.361Z"
   },
   {
    "duration": 13,
    "start_time": "2023-03-01T11:29:27.372Z"
   },
   {
    "duration": 21,
    "start_time": "2023-03-01T11:29:27.390Z"
   },
   {
    "duration": 10,
    "start_time": "2023-03-01T11:29:27.413Z"
   },
   {
    "duration": 12,
    "start_time": "2023-03-01T11:29:27.425Z"
   },
   {
    "duration": 9,
    "start_time": "2023-03-01T11:29:27.438Z"
   },
   {
    "duration": 5,
    "start_time": "2023-03-01T11:29:27.449Z"
   },
   {
    "duration": 19,
    "start_time": "2023-03-01T11:29:27.456Z"
   },
   {
    "duration": 51,
    "start_time": "2023-03-01T11:29:27.477Z"
   },
   {
    "duration": 10,
    "start_time": "2023-03-01T11:29:27.529Z"
   },
   {
    "duration": 9,
    "start_time": "2023-03-01T11:29:27.541Z"
   },
   {
    "duration": 5,
    "start_time": "2023-03-01T11:29:27.552Z"
   },
   {
    "duration": 13,
    "start_time": "2023-03-01T11:29:27.559Z"
   },
   {
    "duration": 18,
    "start_time": "2023-03-01T11:29:27.573Z"
   },
   {
    "duration": 42,
    "start_time": "2023-03-01T11:29:27.593Z"
   },
   {
    "duration": 23,
    "start_time": "2023-03-01T11:29:27.637Z"
   },
   {
    "duration": 9,
    "start_time": "2023-03-01T11:29:27.662Z"
   },
   {
    "duration": 6,
    "start_time": "2023-03-01T11:29:27.673Z"
   },
   {
    "duration": 30,
    "start_time": "2023-03-01T11:29:27.680Z"
   },
   {
    "duration": 11,
    "start_time": "2023-03-01T11:29:27.711Z"
   },
   {
    "duration": 26,
    "start_time": "2023-03-01T11:29:27.724Z"
   },
   {
    "duration": 19,
    "start_time": "2023-03-01T11:29:27.751Z"
   },
   {
    "duration": 25,
    "start_time": "2023-03-01T11:29:27.772Z"
   },
   {
    "duration": 13,
    "start_time": "2023-03-01T11:29:27.799Z"
   },
   {
    "duration": 10,
    "start_time": "2023-03-01T11:29:27.814Z"
   },
   {
    "duration": 11,
    "start_time": "2023-03-01T11:29:27.825Z"
   },
   {
    "duration": 18,
    "start_time": "2023-03-01T11:29:27.838Z"
   },
   {
    "duration": 18,
    "start_time": "2023-03-01T11:29:27.858Z"
   },
   {
    "duration": 28,
    "start_time": "2023-03-01T11:29:27.878Z"
   },
   {
    "duration": 23,
    "start_time": "2023-03-01T11:29:27.908Z"
   },
   {
    "duration": 11,
    "start_time": "2023-03-01T11:29:27.932Z"
   },
   {
    "duration": 9,
    "start_time": "2023-03-01T11:29:27.945Z"
   },
   {
    "duration": 7,
    "start_time": "2023-03-01T11:29:27.955Z"
   },
   {
    "duration": 11,
    "start_time": "2023-03-01T11:29:27.963Z"
   },
   {
    "duration": 29,
    "start_time": "2023-03-01T11:29:27.976Z"
   },
   {
    "duration": 47,
    "start_time": "2023-03-01T11:29:28.007Z"
   },
   {
    "duration": 18,
    "start_time": "2023-03-01T11:29:28.056Z"
   },
   {
    "duration": 38,
    "start_time": "2023-03-01T11:29:28.076Z"
   },
   {
    "duration": 17,
    "start_time": "2023-03-01T11:29:28.116Z"
   },
   {
    "duration": 5,
    "start_time": "2023-03-01T11:29:28.135Z"
   },
   {
    "duration": 14,
    "start_time": "2023-03-01T11:29:28.142Z"
   },
   {
    "duration": 109,
    "start_time": "2023-03-01T11:29:28.158Z"
   },
   {
    "duration": 63,
    "start_time": "2023-03-01T11:29:28.269Z"
   },
   {
    "duration": 43,
    "start_time": "2023-03-01T11:29:28.334Z"
   },
   {
    "duration": 30,
    "start_time": "2023-03-01T11:29:28.379Z"
   },
   {
    "duration": 19,
    "start_time": "2023-03-01T11:29:28.411Z"
   },
   {
    "duration": 8,
    "start_time": "2023-03-01T11:29:28.432Z"
   },
   {
    "duration": 6,
    "start_time": "2023-03-01T11:29:28.442Z"
   },
   {
    "duration": 5,
    "start_time": "2023-03-01T11:29:28.449Z"
   },
   {
    "duration": 9,
    "start_time": "2023-03-01T11:29:28.456Z"
   },
   {
    "duration": 6,
    "start_time": "2023-03-01T11:29:28.466Z"
   },
   {
    "duration": 11,
    "start_time": "2023-03-01T11:29:28.475Z"
   },
   {
    "duration": 16,
    "start_time": "2023-03-01T11:29:28.488Z"
   },
   {
    "duration": 5,
    "start_time": "2023-03-01T11:29:28.506Z"
   },
   {
    "duration": 6,
    "start_time": "2023-03-01T11:29:28.512Z"
   },
   {
    "duration": 11,
    "start_time": "2023-03-01T11:29:28.520Z"
   },
   {
    "duration": 40,
    "start_time": "2023-03-01T11:29:28.537Z"
   },
   {
    "duration": 76,
    "start_time": "2023-03-01T11:29:28.579Z"
   },
   {
    "duration": 17,
    "start_time": "2023-03-01T11:29:28.657Z"
   },
   {
    "duration": 31,
    "start_time": "2023-03-01T11:29:28.675Z"
   },
   {
    "duration": 7,
    "start_time": "2023-03-01T11:29:28.708Z"
   },
   {
    "duration": 123,
    "start_time": "2023-03-01T11:29:28.717Z"
   },
   {
    "duration": 3,
    "start_time": "2023-03-01T11:29:28.842Z"
   },
   {
    "duration": 3115,
    "start_time": "2023-03-01T11:29:28.847Z"
   },
   {
    "duration": 768,
    "start_time": "2023-03-01T11:29:31.964Z"
   },
   {
    "duration": 1462,
    "start_time": "2023-03-01T11:29:32.734Z"
   },
   {
    "duration": 872,
    "start_time": "2023-03-01T11:29:34.199Z"
   },
   {
    "duration": 595,
    "start_time": "2023-03-01T11:29:35.072Z"
   },
   {
    "duration": 1063,
    "start_time": "2023-03-01T11:29:35.668Z"
   },
   {
    "duration": 80,
    "start_time": "2023-03-01T11:29:36.733Z"
   },
   {
    "duration": 17,
    "start_time": "2023-03-01T11:29:36.815Z"
   },
   {
    "duration": 71,
    "start_time": "2023-03-01T11:29:36.834Z"
   },
   {
    "duration": 188,
    "start_time": "2023-03-01T11:29:36.907Z"
   },
   {
    "duration": 0,
    "start_time": "2023-03-01T11:29:37.096Z"
   },
   {
    "duration": 0,
    "start_time": "2023-03-01T11:29:37.098Z"
   },
   {
    "duration": 37,
    "start_time": "2023-03-01T11:30:59.888Z"
   },
   {
    "duration": 6,
    "start_time": "2023-03-01T11:32:49.335Z"
   },
   {
    "duration": 2,
    "start_time": "2023-03-01T11:36:06.266Z"
   },
   {
    "duration": 695,
    "start_time": "2023-03-01T11:37:29.700Z"
   },
   {
    "duration": 16,
    "start_time": "2023-03-01T11:38:09.301Z"
   },
   {
    "duration": 4,
    "start_time": "2023-03-01T11:38:54.020Z"
   },
   {
    "duration": 58,
    "start_time": "2023-03-01T11:38:55.578Z"
   },
   {
    "duration": 4,
    "start_time": "2023-03-01T11:38:55.779Z"
   },
   {
    "duration": 190,
    "start_time": "2023-03-01T11:38:56.232Z"
   },
   {
    "duration": 717,
    "start_time": "2023-03-01T11:38:57.618Z"
   },
   {
    "duration": 9,
    "start_time": "2023-03-01T11:39:54.834Z"
   },
   {
    "duration": 3,
    "start_time": "2023-03-01T11:40:04.399Z"
   },
   {
    "duration": 3,
    "start_time": "2023-03-01T11:40:06.657Z"
   },
   {
    "duration": 9,
    "start_time": "2023-03-01T11:41:27.336Z"
   },
   {
    "duration": 5,
    "start_time": "2023-03-01T11:41:33.186Z"
   },
   {
    "duration": 8,
    "start_time": "2023-03-01T11:41:33.194Z"
   },
   {
    "duration": 408,
    "start_time": "2023-03-01T11:41:33.204Z"
   },
   {
    "duration": 20,
    "start_time": "2023-03-01T11:41:33.614Z"
   },
   {
    "duration": 30,
    "start_time": "2023-03-01T11:41:33.637Z"
   },
   {
    "duration": 14,
    "start_time": "2023-03-01T11:41:33.669Z"
   },
   {
    "duration": 38,
    "start_time": "2023-03-01T11:41:33.685Z"
   },
   {
    "duration": 103,
    "start_time": "2023-03-01T11:41:33.725Z"
   },
   {
    "duration": 129,
    "start_time": "2023-03-01T11:41:33.830Z"
   },
   {
    "duration": 8,
    "start_time": "2023-03-01T11:41:33.960Z"
   },
   {
    "duration": 142,
    "start_time": "2023-03-01T11:41:33.970Z"
   },
   {
    "duration": 7,
    "start_time": "2023-03-01T11:41:34.114Z"
   },
   {
    "duration": 170,
    "start_time": "2023-03-01T11:41:34.123Z"
   },
   {
    "duration": 8,
    "start_time": "2023-03-01T11:41:34.305Z"
   },
   {
    "duration": 19,
    "start_time": "2023-03-01T11:41:34.315Z"
   },
   {
    "duration": 110,
    "start_time": "2023-03-01T11:41:34.336Z"
   },
   {
    "duration": 6,
    "start_time": "2023-03-01T11:41:34.448Z"
   },
   {
    "duration": 19,
    "start_time": "2023-03-01T11:41:34.456Z"
   },
   {
    "duration": 211,
    "start_time": "2023-03-01T11:41:34.477Z"
   },
   {
    "duration": 15,
    "start_time": "2023-03-01T11:41:34.690Z"
   },
   {
    "duration": 108,
    "start_time": "2023-03-01T11:41:34.707Z"
   },
   {
    "duration": 7,
    "start_time": "2023-03-01T11:41:34.817Z"
   },
   {
    "duration": 14,
    "start_time": "2023-03-01T11:41:34.826Z"
   },
   {
    "duration": 25,
    "start_time": "2023-03-01T11:41:34.842Z"
   },
   {
    "duration": 5,
    "start_time": "2023-03-01T11:41:34.869Z"
   },
   {
    "duration": 40,
    "start_time": "2023-03-01T11:41:34.876Z"
   },
   {
    "duration": 17,
    "start_time": "2023-03-01T11:41:34.918Z"
   },
   {
    "duration": 24,
    "start_time": "2023-03-01T11:41:34.937Z"
   },
   {
    "duration": 17,
    "start_time": "2023-03-01T11:41:34.963Z"
   },
   {
    "duration": 19,
    "start_time": "2023-03-01T11:41:34.982Z"
   },
   {
    "duration": 12,
    "start_time": "2023-03-01T11:41:35.003Z"
   },
   {
    "duration": 10,
    "start_time": "2023-03-01T11:41:35.017Z"
   },
   {
    "duration": 34,
    "start_time": "2023-03-01T11:41:35.029Z"
   },
   {
    "duration": 30,
    "start_time": "2023-03-01T11:41:35.065Z"
   },
   {
    "duration": 8,
    "start_time": "2023-03-01T11:41:35.097Z"
   },
   {
    "duration": 33,
    "start_time": "2023-03-01T11:41:35.107Z"
   },
   {
    "duration": 25,
    "start_time": "2023-03-01T11:41:35.142Z"
   },
   {
    "duration": 16,
    "start_time": "2023-03-01T11:41:35.169Z"
   },
   {
    "duration": 6,
    "start_time": "2023-03-01T11:41:35.187Z"
   },
   {
    "duration": 29,
    "start_time": "2023-03-01T11:41:35.195Z"
   },
   {
    "duration": 23,
    "start_time": "2023-03-01T11:41:35.229Z"
   },
   {
    "duration": 24,
    "start_time": "2023-03-01T11:41:35.254Z"
   },
   {
    "duration": 20,
    "start_time": "2023-03-01T11:41:35.280Z"
   },
   {
    "duration": 10,
    "start_time": "2023-03-01T11:41:35.302Z"
   },
   {
    "duration": 15,
    "start_time": "2023-03-01T11:41:35.313Z"
   },
   {
    "duration": 7,
    "start_time": "2023-03-01T11:41:35.329Z"
   },
   {
    "duration": 17,
    "start_time": "2023-03-01T11:41:35.338Z"
   },
   {
    "duration": 22,
    "start_time": "2023-03-01T11:41:35.357Z"
   },
   {
    "duration": 25,
    "start_time": "2023-03-01T11:41:35.380Z"
   },
   {
    "duration": 12,
    "start_time": "2023-03-01T11:41:35.407Z"
   },
   {
    "duration": 11,
    "start_time": "2023-03-01T11:41:35.421Z"
   },
   {
    "duration": 18,
    "start_time": "2023-03-01T11:41:35.434Z"
   },
   {
    "duration": 9,
    "start_time": "2023-03-01T11:41:35.453Z"
   },
   {
    "duration": 18,
    "start_time": "2023-03-01T11:41:35.464Z"
   },
   {
    "duration": 21,
    "start_time": "2023-03-01T11:41:35.484Z"
   },
   {
    "duration": 21,
    "start_time": "2023-03-01T11:41:35.507Z"
   },
   {
    "duration": 13,
    "start_time": "2023-03-01T11:41:35.530Z"
   },
   {
    "duration": 11,
    "start_time": "2023-03-01T11:41:35.545Z"
   },
   {
    "duration": 18,
    "start_time": "2023-03-01T11:41:35.558Z"
   },
   {
    "duration": 36,
    "start_time": "2023-03-01T11:41:35.578Z"
   },
   {
    "duration": 14,
    "start_time": "2023-03-01T11:41:35.615Z"
   },
   {
    "duration": 20,
    "start_time": "2023-03-01T11:41:35.631Z"
   },
   {
    "duration": 38,
    "start_time": "2023-03-01T11:41:35.653Z"
   },
   {
    "duration": 19,
    "start_time": "2023-03-01T11:41:35.692Z"
   },
   {
    "duration": 6,
    "start_time": "2023-03-01T11:41:35.713Z"
   },
   {
    "duration": 37,
    "start_time": "2023-03-01T11:41:35.721Z"
   },
   {
    "duration": 87,
    "start_time": "2023-03-01T11:41:35.760Z"
   },
   {
    "duration": 70,
    "start_time": "2023-03-01T11:41:35.849Z"
   },
   {
    "duration": 41,
    "start_time": "2023-03-01T11:41:35.920Z"
   },
   {
    "duration": 19,
    "start_time": "2023-03-01T11:41:35.963Z"
   },
   {
    "duration": 56,
    "start_time": "2023-03-01T11:41:35.984Z"
   },
   {
    "duration": 17,
    "start_time": "2023-03-01T11:41:36.042Z"
   },
   {
    "duration": 11,
    "start_time": "2023-03-01T11:41:36.060Z"
   },
   {
    "duration": 8,
    "start_time": "2023-03-01T11:41:36.073Z"
   },
   {
    "duration": 8,
    "start_time": "2023-03-01T11:41:36.083Z"
   },
   {
    "duration": 8,
    "start_time": "2023-03-01T11:41:36.092Z"
   },
   {
    "duration": 7,
    "start_time": "2023-03-01T11:41:36.102Z"
   },
   {
    "duration": 9,
    "start_time": "2023-03-01T11:41:36.110Z"
   },
   {
    "duration": 13,
    "start_time": "2023-03-01T11:41:36.120Z"
   },
   {
    "duration": 14,
    "start_time": "2023-03-01T11:41:36.135Z"
   },
   {
    "duration": 25,
    "start_time": "2023-03-01T11:41:36.151Z"
   },
   {
    "duration": 47,
    "start_time": "2023-03-01T11:41:36.178Z"
   },
   {
    "duration": 27,
    "start_time": "2023-03-01T11:41:36.227Z"
   },
   {
    "duration": 22,
    "start_time": "2023-03-01T11:41:36.256Z"
   },
   {
    "duration": 35,
    "start_time": "2023-03-01T11:41:36.280Z"
   },
   {
    "duration": 9,
    "start_time": "2023-03-01T11:41:36.317Z"
   },
   {
    "duration": 14,
    "start_time": "2023-03-01T11:41:36.328Z"
   },
   {
    "duration": 18,
    "start_time": "2023-03-01T11:41:36.343Z"
   },
   {
    "duration": 9,
    "start_time": "2023-03-01T11:41:36.363Z"
   },
   {
    "duration": 82,
    "start_time": "2023-03-01T11:41:36.374Z"
   },
   {
    "duration": 4,
    "start_time": "2023-03-01T11:41:36.458Z"
   },
   {
    "duration": 134,
    "start_time": "2023-03-01T11:41:36.463Z"
   },
   {
    "duration": 15,
    "start_time": "2023-03-01T11:41:36.599Z"
   },
   {
    "duration": 0,
    "start_time": "2023-03-01T11:41:36.615Z"
   },
   {
    "duration": 0,
    "start_time": "2023-03-01T11:41:36.617Z"
   },
   {
    "duration": 0,
    "start_time": "2023-03-01T11:41:36.619Z"
   },
   {
    "duration": 0,
    "start_time": "2023-03-01T11:41:36.620Z"
   },
   {
    "duration": 0,
    "start_time": "2023-03-01T11:41:36.621Z"
   },
   {
    "duration": 0,
    "start_time": "2023-03-01T11:41:36.622Z"
   },
   {
    "duration": 0,
    "start_time": "2023-03-01T11:41:36.623Z"
   },
   {
    "duration": 0,
    "start_time": "2023-03-01T11:41:36.624Z"
   },
   {
    "duration": 0,
    "start_time": "2023-03-01T11:41:36.625Z"
   },
   {
    "duration": 4,
    "start_time": "2023-03-01T11:41:51.383Z"
   },
   {
    "duration": 4,
    "start_time": "2023-03-01T11:42:38.740Z"
   },
   {
    "duration": 6,
    "start_time": "2023-03-01T11:42:39.267Z"
   },
   {
    "duration": 48,
    "start_time": "2023-03-01T11:42:45.565Z"
   },
   {
    "duration": 5,
    "start_time": "2023-03-01T11:42:45.926Z"
   },
   {
    "duration": 31,
    "start_time": "2023-03-01T11:42:47.032Z"
   },
   {
    "duration": 2874,
    "start_time": "2023-03-01T11:42:48.112Z"
   },
   {
    "duration": 618,
    "start_time": "2023-03-01T11:43:16.537Z"
   },
   {
    "duration": 1473,
    "start_time": "2023-03-01T11:43:42.987Z"
   },
   {
    "duration": 556,
    "start_time": "2023-03-01T11:43:45.864Z"
   },
   {
    "duration": 531,
    "start_time": "2023-03-01T11:43:46.422Z"
   },
   {
    "duration": 618,
    "start_time": "2023-03-01T11:43:47.266Z"
   },
   {
    "duration": 9062,
    "start_time": "2023-03-01T11:44:09.938Z"
   },
   {
    "duration": 11,
    "start_time": "2023-03-01T11:50:49.567Z"
   },
   {
    "duration": 46,
    "start_time": "2023-03-01T11:58:13.327Z"
   },
   {
    "duration": 3217,
    "start_time": "2023-03-01T11:59:54.341Z"
   },
   {
    "duration": 3154,
    "start_time": "2023-03-01T12:00:05.659Z"
   },
   {
    "duration": 5,
    "start_time": "2023-03-01T12:00:21.995Z"
   },
   {
    "duration": 20,
    "start_time": "2023-03-01T12:00:22.003Z"
   },
   {
    "duration": 464,
    "start_time": "2023-03-01T12:00:22.025Z"
   },
   {
    "duration": 18,
    "start_time": "2023-03-01T12:00:22.491Z"
   },
   {
    "duration": 40,
    "start_time": "2023-03-01T12:00:22.511Z"
   },
   {
    "duration": 18,
    "start_time": "2023-03-01T12:00:22.553Z"
   },
   {
    "duration": 26,
    "start_time": "2023-03-01T12:00:22.572Z"
   },
   {
    "duration": 78,
    "start_time": "2023-03-01T12:00:22.600Z"
   },
   {
    "duration": 120,
    "start_time": "2023-03-01T12:00:22.680Z"
   },
   {
    "duration": 6,
    "start_time": "2023-03-01T12:00:22.806Z"
   },
   {
    "duration": 116,
    "start_time": "2023-03-01T12:00:22.813Z"
   },
   {
    "duration": 6,
    "start_time": "2023-03-01T12:00:22.931Z"
   },
   {
    "duration": 117,
    "start_time": "2023-03-01T12:00:22.939Z"
   },
   {
    "duration": 6,
    "start_time": "2023-03-01T12:00:23.058Z"
   },
   {
    "duration": 19,
    "start_time": "2023-03-01T12:00:23.065Z"
   },
   {
    "duration": 100,
    "start_time": "2023-03-01T12:00:23.085Z"
   },
   {
    "duration": 6,
    "start_time": "2023-03-01T12:00:23.187Z"
   },
   {
    "duration": 6,
    "start_time": "2023-03-01T12:00:23.205Z"
   },
   {
    "duration": 201,
    "start_time": "2023-03-01T12:00:23.212Z"
   },
   {
    "duration": 5,
    "start_time": "2023-03-01T12:00:23.415Z"
   },
   {
    "duration": 111,
    "start_time": "2023-03-01T12:00:23.422Z"
   },
   {
    "duration": 5,
    "start_time": "2023-03-01T12:00:23.535Z"
   },
   {
    "duration": 12,
    "start_time": "2023-03-01T12:00:23.541Z"
   },
   {
    "duration": 25,
    "start_time": "2023-03-01T12:00:23.555Z"
   },
   {
    "duration": 25,
    "start_time": "2023-03-01T12:00:23.582Z"
   },
   {
    "duration": 8,
    "start_time": "2023-03-01T12:00:23.609Z"
   },
   {
    "duration": 12,
    "start_time": "2023-03-01T12:00:23.619Z"
   },
   {
    "duration": 8,
    "start_time": "2023-03-01T12:00:23.635Z"
   },
   {
    "duration": 9,
    "start_time": "2023-03-01T12:00:23.645Z"
   },
   {
    "duration": 12,
    "start_time": "2023-03-01T12:00:23.656Z"
   },
   {
    "duration": 35,
    "start_time": "2023-03-01T12:00:23.671Z"
   },
   {
    "duration": 5,
    "start_time": "2023-03-01T12:00:23.708Z"
   },
   {
    "duration": 19,
    "start_time": "2023-03-01T12:00:23.715Z"
   },
   {
    "duration": 24,
    "start_time": "2023-03-01T12:00:23.736Z"
   },
   {
    "duration": 17,
    "start_time": "2023-03-01T12:00:23.762Z"
   },
   {
    "duration": 8,
    "start_time": "2023-03-01T12:00:23.781Z"
   },
   {
    "duration": 15,
    "start_time": "2023-03-01T12:00:23.791Z"
   },
   {
    "duration": 15,
    "start_time": "2023-03-01T12:00:23.808Z"
   },
   {
    "duration": 10,
    "start_time": "2023-03-01T12:00:23.825Z"
   },
   {
    "duration": 28,
    "start_time": "2023-03-01T12:00:23.836Z"
   },
   {
    "duration": 42,
    "start_time": "2023-03-01T12:00:23.866Z"
   },
   {
    "duration": 14,
    "start_time": "2023-03-01T12:00:23.912Z"
   },
   {
    "duration": 36,
    "start_time": "2023-03-01T12:00:23.929Z"
   },
   {
    "duration": 53,
    "start_time": "2023-03-01T12:00:23.968Z"
   },
   {
    "duration": 19,
    "start_time": "2023-03-01T12:00:24.023Z"
   },
   {
    "duration": 5,
    "start_time": "2023-03-01T12:00:24.045Z"
   },
   {
    "duration": 24,
    "start_time": "2023-03-01T12:00:24.053Z"
   },
   {
    "duration": 42,
    "start_time": "2023-03-01T12:00:24.079Z"
   },
   {
    "duration": 38,
    "start_time": "2023-03-01T12:00:24.124Z"
   },
   {
    "duration": 21,
    "start_time": "2023-03-01T12:00:24.163Z"
   },
   {
    "duration": 5,
    "start_time": "2023-03-01T12:00:24.186Z"
   },
   {
    "duration": 22,
    "start_time": "2023-03-01T12:00:24.193Z"
   },
   {
    "duration": 45,
    "start_time": "2023-03-01T12:00:24.216Z"
   },
   {
    "duration": 26,
    "start_time": "2023-03-01T12:00:24.263Z"
   },
   {
    "duration": 28,
    "start_time": "2023-03-01T12:00:24.291Z"
   },
   {
    "duration": 29,
    "start_time": "2023-03-01T12:00:24.321Z"
   },
   {
    "duration": 20,
    "start_time": "2023-03-01T12:00:24.352Z"
   },
   {
    "duration": 22,
    "start_time": "2023-03-01T12:00:24.374Z"
   },
   {
    "duration": 18,
    "start_time": "2023-03-01T12:00:24.397Z"
   },
   {
    "duration": 18,
    "start_time": "2023-03-01T12:00:24.417Z"
   },
   {
    "duration": 24,
    "start_time": "2023-03-01T12:00:24.436Z"
   },
   {
    "duration": 10,
    "start_time": "2023-03-01T12:00:24.462Z"
   },
   {
    "duration": 30,
    "start_time": "2023-03-01T12:00:24.474Z"
   },
   {
    "duration": 22,
    "start_time": "2023-03-01T12:00:24.506Z"
   },
   {
    "duration": 19,
    "start_time": "2023-03-01T12:00:24.530Z"
   },
   {
    "duration": 5,
    "start_time": "2023-03-01T12:00:24.551Z"
   },
   {
    "duration": 91,
    "start_time": "2023-03-01T12:00:24.558Z"
   },
   {
    "duration": 61,
    "start_time": "2023-03-01T12:00:24.650Z"
   },
   {
    "duration": 41,
    "start_time": "2023-03-01T12:00:24.712Z"
   },
   {
    "duration": 15,
    "start_time": "2023-03-01T12:00:24.755Z"
   },
   {
    "duration": 38,
    "start_time": "2023-03-01T12:00:24.772Z"
   },
   {
    "duration": 10,
    "start_time": "2023-03-01T12:00:24.812Z"
   },
   {
    "duration": 14,
    "start_time": "2023-03-01T12:00:24.824Z"
   },
   {
    "duration": 12,
    "start_time": "2023-03-01T12:00:24.840Z"
   },
   {
    "duration": 12,
    "start_time": "2023-03-01T12:00:24.854Z"
   },
   {
    "duration": 14,
    "start_time": "2023-03-01T12:00:24.867Z"
   },
   {
    "duration": 9,
    "start_time": "2023-03-01T12:00:24.882Z"
   },
   {
    "duration": 12,
    "start_time": "2023-03-01T12:00:24.893Z"
   },
   {
    "duration": 11,
    "start_time": "2023-03-01T12:00:24.907Z"
   },
   {
    "duration": 21,
    "start_time": "2023-03-01T12:00:24.920Z"
   },
   {
    "duration": 29,
    "start_time": "2023-03-01T12:00:24.943Z"
   },
   {
    "duration": 47,
    "start_time": "2023-03-01T12:00:24.977Z"
   },
   {
    "duration": 30,
    "start_time": "2023-03-01T12:00:25.025Z"
   },
   {
    "duration": 15,
    "start_time": "2023-03-01T12:00:25.057Z"
   },
   {
    "duration": 37,
    "start_time": "2023-03-01T12:00:25.074Z"
   },
   {
    "duration": 3,
    "start_time": "2023-03-01T12:00:25.113Z"
   },
   {
    "duration": 16,
    "start_time": "2023-03-01T12:00:25.118Z"
   },
   {
    "duration": 15,
    "start_time": "2023-03-01T12:00:25.136Z"
   },
   {
    "duration": 9,
    "start_time": "2023-03-01T12:00:25.153Z"
   },
   {
    "duration": 64,
    "start_time": "2023-03-01T12:00:25.164Z"
   },
   {
    "duration": 3,
    "start_time": "2023-03-01T12:00:25.230Z"
   },
   {
    "duration": 68,
    "start_time": "2023-03-01T12:00:25.235Z"
   },
   {
    "duration": 4822,
    "start_time": "2023-03-01T12:00:25.305Z"
   },
   {
    "duration": 586,
    "start_time": "2023-03-01T12:00:30.129Z"
   },
   {
    "duration": 1372,
    "start_time": "2023-03-01T12:00:30.717Z"
   },
   {
    "duration": 649,
    "start_time": "2023-03-01T12:00:32.091Z"
   },
   {
    "duration": 597,
    "start_time": "2023-03-01T12:00:32.742Z"
   },
   {
    "duration": 782,
    "start_time": "2023-03-01T12:00:33.342Z"
   },
   {
    "duration": 6,
    "start_time": "2023-03-01T12:00:34.126Z"
   },
   {
    "duration": 10811,
    "start_time": "2023-03-01T12:00:34.133Z"
   },
   {
    "duration": 3376,
    "start_time": "2023-03-01T12:00:44.946Z"
   },
   {
    "duration": 10,
    "start_time": "2023-03-01T12:00:48.323Z"
   },
   {
    "duration": 0,
    "start_time": "2023-03-01T12:00:48.335Z"
   },
   {
    "duration": 48,
    "start_time": "2023-03-01T12:02:19.940Z"
   },
   {
    "duration": 5,
    "start_time": "2023-03-01T12:02:44.763Z"
   },
   {
    "duration": 13,
    "start_time": "2023-03-01T12:02:44.770Z"
   },
   {
    "duration": 526,
    "start_time": "2023-03-01T12:02:44.785Z"
   },
   {
    "duration": 17,
    "start_time": "2023-03-01T12:02:45.313Z"
   },
   {
    "duration": 27,
    "start_time": "2023-03-01T12:02:45.332Z"
   },
   {
    "duration": 13,
    "start_time": "2023-03-01T12:02:45.361Z"
   },
   {
    "duration": 34,
    "start_time": "2023-03-01T12:02:45.376Z"
   },
   {
    "duration": 77,
    "start_time": "2023-03-01T12:02:45.412Z"
   },
   {
    "duration": 120,
    "start_time": "2023-03-01T12:02:45.491Z"
   },
   {
    "duration": 6,
    "start_time": "2023-03-01T12:02:45.614Z"
   },
   {
    "duration": 113,
    "start_time": "2023-03-01T12:02:45.622Z"
   },
   {
    "duration": 6,
    "start_time": "2023-03-01T12:02:45.736Z"
   },
   {
    "duration": 122,
    "start_time": "2023-03-01T12:02:45.744Z"
   },
   {
    "duration": 5,
    "start_time": "2023-03-01T12:02:45.867Z"
   },
   {
    "duration": 9,
    "start_time": "2023-03-01T12:02:45.874Z"
   },
   {
    "duration": 123,
    "start_time": "2023-03-01T12:02:45.884Z"
   },
   {
    "duration": 7,
    "start_time": "2023-03-01T12:02:46.009Z"
   },
   {
    "duration": 18,
    "start_time": "2023-03-01T12:02:46.018Z"
   },
   {
    "duration": 122,
    "start_time": "2023-03-01T12:02:46.038Z"
   },
   {
    "duration": 7,
    "start_time": "2023-03-01T12:02:46.162Z"
   },
   {
    "duration": 205,
    "start_time": "2023-03-01T12:02:46.171Z"
   },
   {
    "duration": 5,
    "start_time": "2023-03-01T12:02:46.378Z"
   },
   {
    "duration": 12,
    "start_time": "2023-03-01T12:02:46.404Z"
   },
   {
    "duration": 30,
    "start_time": "2023-03-01T12:02:46.418Z"
   },
   {
    "duration": 5,
    "start_time": "2023-03-01T12:02:46.449Z"
   },
   {
    "duration": 12,
    "start_time": "2023-03-01T12:02:46.456Z"
   },
   {
    "duration": 37,
    "start_time": "2023-03-01T12:02:46.470Z"
   },
   {
    "duration": 6,
    "start_time": "2023-03-01T12:02:46.513Z"
   },
   {
    "duration": 15,
    "start_time": "2023-03-01T12:02:46.521Z"
   },
   {
    "duration": 15,
    "start_time": "2023-03-01T12:02:46.538Z"
   },
   {
    "duration": 9,
    "start_time": "2023-03-01T12:02:46.555Z"
   },
   {
    "duration": 5,
    "start_time": "2023-03-01T12:02:46.566Z"
   },
   {
    "duration": 49,
    "start_time": "2023-03-01T12:02:46.572Z"
   },
   {
    "duration": 36,
    "start_time": "2023-03-01T12:02:46.623Z"
   },
   {
    "duration": 41,
    "start_time": "2023-03-01T12:02:46.661Z"
   },
   {
    "duration": 24,
    "start_time": "2023-03-01T12:02:46.704Z"
   },
   {
    "duration": 25,
    "start_time": "2023-03-01T12:02:46.730Z"
   },
   {
    "duration": 20,
    "start_time": "2023-03-01T12:02:46.757Z"
   },
   {
    "duration": 16,
    "start_time": "2023-03-01T12:02:46.780Z"
   },
   {
    "duration": 30,
    "start_time": "2023-03-01T12:02:46.798Z"
   },
   {
    "duration": 25,
    "start_time": "2023-03-01T12:02:46.830Z"
   },
   {
    "duration": 24,
    "start_time": "2023-03-01T12:02:46.856Z"
   },
   {
    "duration": 21,
    "start_time": "2023-03-01T12:02:46.882Z"
   },
   {
    "duration": 16,
    "start_time": "2023-03-01T12:02:46.905Z"
   },
   {
    "duration": 22,
    "start_time": "2023-03-01T12:02:46.923Z"
   },
   {
    "duration": 21,
    "start_time": "2023-03-01T12:02:46.947Z"
   },
   {
    "duration": 40,
    "start_time": "2023-03-01T12:02:46.970Z"
   },
   {
    "duration": 31,
    "start_time": "2023-03-01T12:02:47.012Z"
   },
   {
    "duration": 28,
    "start_time": "2023-03-01T12:02:47.045Z"
   },
   {
    "duration": 16,
    "start_time": "2023-03-01T12:02:47.075Z"
   },
   {
    "duration": 25,
    "start_time": "2023-03-01T12:02:47.094Z"
   },
   {
    "duration": 22,
    "start_time": "2023-03-01T12:02:47.122Z"
   },
   {
    "duration": 8,
    "start_time": "2023-03-01T12:02:47.146Z"
   },
   {
    "duration": 20,
    "start_time": "2023-03-01T12:02:47.156Z"
   },
   {
    "duration": 17,
    "start_time": "2023-03-01T12:02:47.179Z"
   },
   {
    "duration": 12,
    "start_time": "2023-03-01T12:02:47.198Z"
   },
   {
    "duration": 8,
    "start_time": "2023-03-01T12:02:47.212Z"
   },
   {
    "duration": 8,
    "start_time": "2023-03-01T12:02:47.222Z"
   },
   {
    "duration": 8,
    "start_time": "2023-03-01T12:02:47.232Z"
   },
   {
    "duration": 20,
    "start_time": "2023-03-01T12:02:47.242Z"
   },
   {
    "duration": 15,
    "start_time": "2023-03-01T12:02:47.264Z"
   },
   {
    "duration": 6,
    "start_time": "2023-03-01T12:02:47.281Z"
   },
   {
    "duration": 26,
    "start_time": "2023-03-01T12:02:47.289Z"
   },
   {
    "duration": 18,
    "start_time": "2023-03-01T12:02:47.317Z"
   },
   {
    "duration": 5,
    "start_time": "2023-03-01T12:02:47.337Z"
   },
   {
    "duration": 7,
    "start_time": "2023-03-01T12:02:47.344Z"
   },
   {
    "duration": 86,
    "start_time": "2023-03-01T12:02:47.352Z"
   },
   {
    "duration": 165,
    "start_time": "2023-03-01T12:02:47.440Z"
   },
   {
    "duration": 42,
    "start_time": "2023-03-01T12:02:47.607Z"
   },
   {
    "duration": 15,
    "start_time": "2023-03-01T12:02:47.705Z"
   },
   {
    "duration": 19,
    "start_time": "2023-03-01T12:02:47.722Z"
   },
   {
    "duration": 4,
    "start_time": "2023-03-01T12:02:47.743Z"
   },
   {
    "duration": 5,
    "start_time": "2023-03-01T12:02:47.749Z"
   },
   {
    "duration": 19,
    "start_time": "2023-03-01T12:02:47.755Z"
   },
   {
    "duration": 28,
    "start_time": "2023-03-01T12:02:47.777Z"
   },
   {
    "duration": 18,
    "start_time": "2023-03-01T12:02:47.807Z"
   },
   {
    "duration": 9,
    "start_time": "2023-03-01T12:02:47.827Z"
   },
   {
    "duration": 12,
    "start_time": "2023-03-01T12:02:47.838Z"
   },
   {
    "duration": 54,
    "start_time": "2023-03-01T12:02:47.852Z"
   },
   {
    "duration": 7,
    "start_time": "2023-03-01T12:02:47.908Z"
   },
   {
    "duration": 9,
    "start_time": "2023-03-01T12:02:47.917Z"
   },
   {
    "duration": 98,
    "start_time": "2023-03-01T12:02:47.931Z"
   },
   {
    "duration": 28,
    "start_time": "2023-03-01T12:02:48.031Z"
   },
   {
    "duration": 16,
    "start_time": "2023-03-01T12:02:48.061Z"
   },
   {
    "duration": 16,
    "start_time": "2023-03-01T12:02:48.104Z"
   },
   {
    "duration": 7,
    "start_time": "2023-03-01T12:02:48.122Z"
   },
   {
    "duration": 14,
    "start_time": "2023-03-01T12:02:48.131Z"
   },
   {
    "duration": 23,
    "start_time": "2023-03-01T12:02:48.147Z"
   },
   {
    "duration": 11,
    "start_time": "2023-03-01T12:02:48.172Z"
   },
   {
    "duration": 62,
    "start_time": "2023-03-01T12:02:48.185Z"
   },
   {
    "duration": 3,
    "start_time": "2023-03-01T12:02:48.248Z"
   },
   {
    "duration": 51,
    "start_time": "2023-03-01T12:02:48.253Z"
   },
   {
    "duration": 2136,
    "start_time": "2023-03-01T12:02:48.306Z"
   },
   {
    "duration": 560,
    "start_time": "2023-03-01T12:02:50.444Z"
   },
   {
    "duration": 1276,
    "start_time": "2023-03-01T12:02:51.007Z"
   },
   {
    "duration": 663,
    "start_time": "2023-03-01T12:02:52.285Z"
   },
   {
    "duration": 538,
    "start_time": "2023-03-01T12:02:52.950Z"
   },
   {
    "duration": 745,
    "start_time": "2023-03-01T12:02:53.490Z"
   },
   {
    "duration": 7,
    "start_time": "2023-03-01T12:02:54.237Z"
   },
   {
    "duration": 8913,
    "start_time": "2023-03-01T12:02:54.247Z"
   },
   {
    "duration": 3308,
    "start_time": "2023-03-01T12:03:03.163Z"
   },
   {
    "duration": 11,
    "start_time": "2023-03-01T12:03:06.472Z"
   },
   {
    "duration": 0,
    "start_time": "2023-03-01T12:03:06.484Z"
   },
   {
    "duration": 3042,
    "start_time": "2023-03-01T12:03:36.128Z"
   },
   {
    "duration": 3082,
    "start_time": "2023-03-01T12:04:48.743Z"
   },
   {
    "duration": 7,
    "start_time": "2023-03-01T12:04:56.688Z"
   },
   {
    "duration": 16,
    "start_time": "2023-03-01T12:04:56.697Z"
   },
   {
    "duration": 251,
    "start_time": "2023-03-01T12:04:56.714Z"
   },
   {
    "duration": 17,
    "start_time": "2023-03-01T12:04:56.967Z"
   },
   {
    "duration": 33,
    "start_time": "2023-03-01T12:04:56.986Z"
   },
   {
    "duration": 21,
    "start_time": "2023-03-01T12:04:57.021Z"
   },
   {
    "duration": 29,
    "start_time": "2023-03-01T12:04:57.044Z"
   },
   {
    "duration": 97,
    "start_time": "2023-03-01T12:04:57.075Z"
   },
   {
    "duration": 130,
    "start_time": "2023-03-01T12:04:57.174Z"
   },
   {
    "duration": 6,
    "start_time": "2023-03-01T12:04:57.306Z"
   },
   {
    "duration": 115,
    "start_time": "2023-03-01T12:04:57.313Z"
   },
   {
    "duration": 8,
    "start_time": "2023-03-01T12:04:57.429Z"
   },
   {
    "duration": 157,
    "start_time": "2023-03-01T12:04:57.439Z"
   },
   {
    "duration": 6,
    "start_time": "2023-03-01T12:04:57.607Z"
   },
   {
    "duration": 8,
    "start_time": "2023-03-01T12:04:57.614Z"
   },
   {
    "duration": 129,
    "start_time": "2023-03-01T12:04:57.623Z"
   },
   {
    "duration": 6,
    "start_time": "2023-03-01T12:04:57.754Z"
   },
   {
    "duration": 11,
    "start_time": "2023-03-01T12:04:57.762Z"
   },
   {
    "duration": 119,
    "start_time": "2023-03-01T12:04:57.775Z"
   },
   {
    "duration": 5,
    "start_time": "2023-03-01T12:04:57.905Z"
   },
   {
    "duration": 124,
    "start_time": "2023-03-01T12:04:57.913Z"
   },
   {
    "duration": 6,
    "start_time": "2023-03-01T12:04:58.039Z"
   },
   {
    "duration": 13,
    "start_time": "2023-03-01T12:04:58.047Z"
   },
   {
    "duration": 63,
    "start_time": "2023-03-01T12:04:58.062Z"
   },
   {
    "duration": 6,
    "start_time": "2023-03-01T12:04:58.126Z"
   },
   {
    "duration": 9,
    "start_time": "2023-03-01T12:04:58.134Z"
   },
   {
    "duration": 18,
    "start_time": "2023-03-01T12:04:58.145Z"
   },
   {
    "duration": 15,
    "start_time": "2023-03-01T12:04:58.165Z"
   },
   {
    "duration": 27,
    "start_time": "2023-03-01T12:04:58.182Z"
   },
   {
    "duration": 14,
    "start_time": "2023-03-01T12:04:58.211Z"
   },
   {
    "duration": 8,
    "start_time": "2023-03-01T12:04:58.227Z"
   },
   {
    "duration": 100,
    "start_time": "2023-03-01T12:04:58.238Z"
   },
   {
    "duration": 32,
    "start_time": "2023-03-01T12:04:58.340Z"
   },
   {
    "duration": 33,
    "start_time": "2023-03-01T12:04:58.374Z"
   },
   {
    "duration": 15,
    "start_time": "2023-03-01T12:04:58.409Z"
   },
   {
    "duration": 13,
    "start_time": "2023-03-01T12:04:58.426Z"
   },
   {
    "duration": 14,
    "start_time": "2023-03-01T12:04:58.441Z"
   },
   {
    "duration": 18,
    "start_time": "2023-03-01T12:04:58.457Z"
   },
   {
    "duration": 5,
    "start_time": "2023-03-01T12:04:58.477Z"
   },
   {
    "duration": 41,
    "start_time": "2023-03-01T12:04:58.484Z"
   },
   {
    "duration": 25,
    "start_time": "2023-03-01T12:04:58.532Z"
   },
   {
    "duration": 11,
    "start_time": "2023-03-01T12:04:58.558Z"
   },
   {
    "duration": 12,
    "start_time": "2023-03-01T12:04:58.571Z"
   },
   {
    "duration": 32,
    "start_time": "2023-03-01T12:04:58.585Z"
   },
   {
    "duration": 21,
    "start_time": "2023-03-01T12:04:58.619Z"
   },
   {
    "duration": 6,
    "start_time": "2023-03-01T12:04:58.642Z"
   },
   {
    "duration": 21,
    "start_time": "2023-03-01T12:04:58.650Z"
   },
   {
    "duration": 25,
    "start_time": "2023-03-01T12:04:58.673Z"
   },
   {
    "duration": 17,
    "start_time": "2023-03-01T12:04:58.700Z"
   },
   {
    "duration": 8,
    "start_time": "2023-03-01T12:04:58.719Z"
   },
   {
    "duration": 9,
    "start_time": "2023-03-01T12:04:58.729Z"
   },
   {
    "duration": 14,
    "start_time": "2023-03-01T12:04:58.740Z"
   },
   {
    "duration": 26,
    "start_time": "2023-03-01T12:04:58.756Z"
   },
   {
    "duration": 25,
    "start_time": "2023-03-01T12:04:58.784Z"
   },
   {
    "duration": 21,
    "start_time": "2023-03-01T12:04:58.812Z"
   },
   {
    "duration": 19,
    "start_time": "2023-03-01T12:04:58.836Z"
   },
   {
    "duration": 8,
    "start_time": "2023-03-01T12:04:58.857Z"
   },
   {
    "duration": 12,
    "start_time": "2023-03-01T12:04:58.867Z"
   },
   {
    "duration": 5,
    "start_time": "2023-03-01T12:04:58.882Z"
   },
   {
    "duration": 30,
    "start_time": "2023-03-01T12:04:58.889Z"
   },
   {
    "duration": 12,
    "start_time": "2023-03-01T12:04:58.921Z"
   },
   {
    "duration": 18,
    "start_time": "2023-03-01T12:04:58.935Z"
   },
   {
    "duration": 29,
    "start_time": "2023-03-01T12:04:58.956Z"
   },
   {
    "duration": 30,
    "start_time": "2023-03-01T12:04:58.987Z"
   },
   {
    "duration": 10,
    "start_time": "2023-03-01T12:04:59.019Z"
   },
   {
    "duration": 20,
    "start_time": "2023-03-01T12:04:59.031Z"
   },
   {
    "duration": 88,
    "start_time": "2023-03-01T12:04:59.053Z"
   },
   {
    "duration": 73,
    "start_time": "2023-03-01T12:04:59.143Z"
   },
   {
    "duration": 42,
    "start_time": "2023-03-01T12:04:59.218Z"
   },
   {
    "duration": 16,
    "start_time": "2023-03-01T12:04:59.263Z"
   },
   {
    "duration": 37,
    "start_time": "2023-03-01T12:04:59.282Z"
   },
   {
    "duration": 10,
    "start_time": "2023-03-01T12:04:59.321Z"
   },
   {
    "duration": 15,
    "start_time": "2023-03-01T12:04:59.333Z"
   },
   {
    "duration": 11,
    "start_time": "2023-03-01T12:04:59.351Z"
   },
   {
    "duration": 16,
    "start_time": "2023-03-01T12:04:59.365Z"
   },
   {
    "duration": 16,
    "start_time": "2023-03-01T12:04:59.383Z"
   },
   {
    "duration": 13,
    "start_time": "2023-03-01T12:04:59.402Z"
   },
   {
    "duration": 31,
    "start_time": "2023-03-01T12:04:59.418Z"
   },
   {
    "duration": 11,
    "start_time": "2023-03-01T12:04:59.452Z"
   },
   {
    "duration": 11,
    "start_time": "2023-03-01T12:04:59.465Z"
   },
   {
    "duration": 19,
    "start_time": "2023-03-01T12:04:59.478Z"
   },
   {
    "duration": 50,
    "start_time": "2023-03-01T12:04:59.499Z"
   },
   {
    "duration": 31,
    "start_time": "2023-03-01T12:04:59.551Z"
   },
   {
    "duration": 31,
    "start_time": "2023-03-01T12:04:59.583Z"
   },
   {
    "duration": 32,
    "start_time": "2023-03-01T12:04:59.617Z"
   },
   {
    "duration": 15,
    "start_time": "2023-03-01T12:04:59.651Z"
   },
   {
    "duration": 15,
    "start_time": "2023-03-01T12:04:59.669Z"
   },
   {
    "duration": 5,
    "start_time": "2023-03-01T12:04:59.686Z"
   },
   {
    "duration": 14,
    "start_time": "2023-03-01T12:04:59.692Z"
   },
   {
    "duration": 88,
    "start_time": "2023-03-01T12:04:59.708Z"
   },
   {
    "duration": 3,
    "start_time": "2023-03-01T12:04:59.798Z"
   },
   {
    "duration": 58,
    "start_time": "2023-03-01T12:04:59.803Z"
   },
   {
    "duration": 1960,
    "start_time": "2023-03-01T12:04:59.863Z"
   },
   {
    "duration": 563,
    "start_time": "2023-03-01T12:05:01.825Z"
   },
   {
    "duration": 1472,
    "start_time": "2023-03-01T12:05:02.390Z"
   },
   {
    "duration": 761,
    "start_time": "2023-03-01T12:05:03.864Z"
   },
   {
    "duration": 605,
    "start_time": "2023-03-01T12:05:04.627Z"
   },
   {
    "duration": 835,
    "start_time": "2023-03-01T12:05:05.234Z"
   },
   {
    "duration": 6,
    "start_time": "2023-03-01T12:05:06.070Z"
   },
   {
    "duration": 9639,
    "start_time": "2023-03-01T12:05:06.078Z"
   },
   {
    "duration": 3358,
    "start_time": "2023-03-01T12:05:15.718Z"
   },
   {
    "duration": 12,
    "start_time": "2023-03-01T12:05:19.078Z"
   },
   {
    "duration": 0,
    "start_time": "2023-03-01T12:05:19.092Z"
   },
   {
    "duration": 3299,
    "start_time": "2023-03-01T12:06:06.891Z"
   },
   {
    "duration": 7276,
    "start_time": "2023-03-01T12:06:32.059Z"
   },
   {
    "duration": 7491,
    "start_time": "2023-03-01T12:06:58.501Z"
   },
   {
    "duration": 16195,
    "start_time": "2023-03-01T12:07:11.050Z"
   },
   {
    "duration": 3569,
    "start_time": "2023-03-01T12:07:58.007Z"
   },
   {
    "duration": 4,
    "start_time": "2023-03-01T12:08:01.578Z"
   },
   {
    "duration": 333,
    "start_time": "2023-03-01T12:08:01.583Z"
   },
   {
    "duration": 21,
    "start_time": "2023-03-01T12:08:01.918Z"
   },
   {
    "duration": 36,
    "start_time": "2023-03-01T12:08:01.941Z"
   },
   {
    "duration": 29,
    "start_time": "2023-03-01T12:08:01.979Z"
   },
   {
    "duration": 19,
    "start_time": "2023-03-01T12:08:02.010Z"
   },
   {
    "duration": 99,
    "start_time": "2023-03-01T12:08:02.031Z"
   },
   {
    "duration": 127,
    "start_time": "2023-03-01T12:08:02.131Z"
   },
   {
    "duration": 8,
    "start_time": "2023-03-01T12:08:02.260Z"
   },
   {
    "duration": 129,
    "start_time": "2023-03-01T12:08:02.270Z"
   },
   {
    "duration": 5,
    "start_time": "2023-03-01T12:08:02.405Z"
   },
   {
    "duration": 120,
    "start_time": "2023-03-01T12:08:02.412Z"
   },
   {
    "duration": 6,
    "start_time": "2023-03-01T12:08:02.535Z"
   },
   {
    "duration": 46,
    "start_time": "2023-03-01T12:08:02.542Z"
   },
   {
    "duration": 129,
    "start_time": "2023-03-01T12:08:02.590Z"
   },
   {
    "duration": 5,
    "start_time": "2023-03-01T12:08:02.721Z"
   },
   {
    "duration": 10,
    "start_time": "2023-03-01T12:08:02.728Z"
   },
   {
    "duration": 217,
    "start_time": "2023-03-01T12:08:02.740Z"
   },
   {
    "duration": 6,
    "start_time": "2023-03-01T12:08:02.959Z"
   },
   {
    "duration": 111,
    "start_time": "2023-03-01T12:08:02.966Z"
   },
   {
    "duration": 6,
    "start_time": "2023-03-01T12:08:03.079Z"
   },
   {
    "duration": 15,
    "start_time": "2023-03-01T12:08:03.104Z"
   },
   {
    "duration": 26,
    "start_time": "2023-03-01T12:08:03.121Z"
   },
   {
    "duration": 5,
    "start_time": "2023-03-01T12:08:03.148Z"
   },
   {
    "duration": 21,
    "start_time": "2023-03-01T12:08:03.155Z"
   },
   {
    "duration": 28,
    "start_time": "2023-03-01T12:08:03.178Z"
   },
   {
    "duration": 8,
    "start_time": "2023-03-01T12:08:03.208Z"
   },
   {
    "duration": 17,
    "start_time": "2023-03-01T12:08:03.218Z"
   },
   {
    "duration": 16,
    "start_time": "2023-03-01T12:08:03.237Z"
   },
   {
    "duration": 18,
    "start_time": "2023-03-01T12:08:03.255Z"
   },
   {
    "duration": 8,
    "start_time": "2023-03-01T12:08:03.274Z"
   },
   {
    "duration": 21,
    "start_time": "2023-03-01T12:08:03.284Z"
   },
   {
    "duration": 21,
    "start_time": "2023-03-01T12:08:03.307Z"
   },
   {
    "duration": 14,
    "start_time": "2023-03-01T12:08:03.330Z"
   },
   {
    "duration": 11,
    "start_time": "2023-03-01T12:08:03.345Z"
   },
   {
    "duration": 13,
    "start_time": "2023-03-01T12:08:03.358Z"
   },
   {
    "duration": 21,
    "start_time": "2023-03-01T12:08:03.373Z"
   },
   {
    "duration": 12,
    "start_time": "2023-03-01T12:08:03.396Z"
   },
   {
    "duration": 32,
    "start_time": "2023-03-01T12:08:03.410Z"
   },
   {
    "duration": 30,
    "start_time": "2023-03-01T12:08:03.448Z"
   },
   {
    "duration": 12,
    "start_time": "2023-03-01T12:08:03.480Z"
   },
   {
    "duration": 11,
    "start_time": "2023-03-01T12:08:03.494Z"
   },
   {
    "duration": 8,
    "start_time": "2023-03-01T12:08:03.507Z"
   },
   {
    "duration": 17,
    "start_time": "2023-03-01T12:08:03.517Z"
   },
   {
    "duration": 7,
    "start_time": "2023-03-01T12:08:03.536Z"
   },
   {
    "duration": 22,
    "start_time": "2023-03-01T12:08:03.545Z"
   },
   {
    "duration": 25,
    "start_time": "2023-03-01T12:08:03.569Z"
   },
   {
    "duration": 12,
    "start_time": "2023-03-01T12:08:03.596Z"
   },
   {
    "duration": 9,
    "start_time": "2023-03-01T12:08:03.610Z"
   },
   {
    "duration": 10,
    "start_time": "2023-03-01T12:08:03.621Z"
   },
   {
    "duration": 20,
    "start_time": "2023-03-01T12:08:03.634Z"
   },
   {
    "duration": 24,
    "start_time": "2023-03-01T12:08:03.656Z"
   },
   {
    "duration": 21,
    "start_time": "2023-03-01T12:08:03.682Z"
   },
   {
    "duration": 22,
    "start_time": "2023-03-01T12:08:03.705Z"
   },
   {
    "duration": 14,
    "start_time": "2023-03-01T12:08:03.729Z"
   },
   {
    "duration": 9,
    "start_time": "2023-03-01T12:08:03.745Z"
   },
   {
    "duration": 13,
    "start_time": "2023-03-01T12:08:03.756Z"
   },
   {
    "duration": 6,
    "start_time": "2023-03-01T12:08:03.771Z"
   },
   {
    "duration": 35,
    "start_time": "2023-03-01T12:08:03.780Z"
   },
   {
    "duration": 14,
    "start_time": "2023-03-01T12:08:03.818Z"
   },
   {
    "duration": 12,
    "start_time": "2023-03-01T12:08:03.834Z"
   },
   {
    "duration": 29,
    "start_time": "2023-03-01T12:08:03.848Z"
   },
   {
    "duration": 44,
    "start_time": "2023-03-01T12:08:03.879Z"
   },
   {
    "duration": 7,
    "start_time": "2023-03-01T12:08:03.925Z"
   },
   {
    "duration": 27,
    "start_time": "2023-03-01T12:08:03.935Z"
   },
   {
    "duration": 118,
    "start_time": "2023-03-01T12:08:03.964Z"
   },
   {
    "duration": 84,
    "start_time": "2023-03-01T12:08:04.084Z"
   },
   {
    "duration": 61,
    "start_time": "2023-03-01T12:08:04.170Z"
   },
   {
    "duration": 16,
    "start_time": "2023-03-01T12:08:04.233Z"
   },
   {
    "duration": 17,
    "start_time": "2023-03-01T12:08:04.251Z"
   },
   {
    "duration": 5,
    "start_time": "2023-03-01T12:08:04.269Z"
   },
   {
    "duration": 5,
    "start_time": "2023-03-01T12:08:04.276Z"
   },
   {
    "duration": 3,
    "start_time": "2023-03-01T12:08:04.305Z"
   },
   {
    "duration": 10,
    "start_time": "2023-03-01T12:08:04.310Z"
   },
   {
    "duration": 9,
    "start_time": "2023-03-01T12:08:04.322Z"
   },
   {
    "duration": 6,
    "start_time": "2023-03-01T12:08:04.333Z"
   },
   {
    "duration": 7,
    "start_time": "2023-03-01T12:08:04.341Z"
   },
   {
    "duration": 10,
    "start_time": "2023-03-01T12:08:04.350Z"
   },
   {
    "duration": 38,
    "start_time": "2023-03-01T12:08:04.362Z"
   },
   {
    "duration": 13,
    "start_time": "2023-03-01T12:08:04.403Z"
   },
   {
    "duration": 47,
    "start_time": "2023-03-01T12:08:04.417Z"
   },
   {
    "duration": 28,
    "start_time": "2023-03-01T12:08:04.466Z"
   },
   {
    "duration": 16,
    "start_time": "2023-03-01T12:08:04.496Z"
   },
   {
    "duration": 28,
    "start_time": "2023-03-01T12:08:04.514Z"
   },
   {
    "duration": 6,
    "start_time": "2023-03-01T12:08:04.543Z"
   },
   {
    "duration": 10,
    "start_time": "2023-03-01T12:08:04.551Z"
   },
   {
    "duration": 5,
    "start_time": "2023-03-01T12:08:04.563Z"
   },
   {
    "duration": 10,
    "start_time": "2023-03-01T12:08:04.569Z"
   },
   {
    "duration": 86,
    "start_time": "2023-03-01T12:08:04.580Z"
   },
   {
    "duration": 2,
    "start_time": "2023-03-01T12:08:04.669Z"
   },
   {
    "duration": 85,
    "start_time": "2023-03-01T12:08:04.673Z"
   },
   {
    "duration": 2082,
    "start_time": "2023-03-01T12:08:04.760Z"
   },
   {
    "duration": 663,
    "start_time": "2023-03-01T12:08:06.844Z"
   },
   {
    "duration": 1365,
    "start_time": "2023-03-01T12:08:07.509Z"
   },
   {
    "duration": 657,
    "start_time": "2023-03-01T12:08:08.876Z"
   },
   {
    "duration": 119,
    "start_time": "2023-03-01T12:08:09.535Z"
   },
   {
    "duration": 0,
    "start_time": "2023-03-01T12:08:09.656Z"
   },
   {
    "duration": 0,
    "start_time": "2023-03-01T12:08:09.657Z"
   },
   {
    "duration": 0,
    "start_time": "2023-03-01T12:08:09.658Z"
   },
   {
    "duration": 0,
    "start_time": "2023-03-01T12:08:09.659Z"
   },
   {
    "duration": 0,
    "start_time": "2023-03-01T12:08:09.660Z"
   },
   {
    "duration": 0,
    "start_time": "2023-03-01T12:08:09.662Z"
   },
   {
    "duration": 798,
    "start_time": "2023-03-01T12:09:12.896Z"
   },
   {
    "duration": 754,
    "start_time": "2023-03-01T12:09:14.545Z"
   },
   {
    "duration": 927,
    "start_time": "2023-03-01T12:09:15.926Z"
   },
   {
    "duration": 1526,
    "start_time": "2023-03-01T12:09:35.337Z"
   },
   {
    "duration": 4,
    "start_time": "2023-03-01T12:09:36.865Z"
   },
   {
    "duration": 301,
    "start_time": "2023-03-01T12:09:36.871Z"
   },
   {
    "duration": 40,
    "start_time": "2023-03-01T12:09:37.174Z"
   },
   {
    "duration": 26,
    "start_time": "2023-03-01T12:09:37.216Z"
   },
   {
    "duration": 14,
    "start_time": "2023-03-01T12:09:37.244Z"
   },
   {
    "duration": 45,
    "start_time": "2023-03-01T12:09:37.260Z"
   },
   {
    "duration": 85,
    "start_time": "2023-03-01T12:09:37.307Z"
   },
   {
    "duration": 143,
    "start_time": "2023-03-01T12:09:37.394Z"
   },
   {
    "duration": 9,
    "start_time": "2023-03-01T12:09:37.539Z"
   },
   {
    "duration": 120,
    "start_time": "2023-03-01T12:09:37.550Z"
   },
   {
    "duration": 5,
    "start_time": "2023-03-01T12:09:37.672Z"
   },
   {
    "duration": 136,
    "start_time": "2023-03-01T12:09:37.679Z"
   },
   {
    "duration": 6,
    "start_time": "2023-03-01T12:09:37.819Z"
   },
   {
    "duration": 11,
    "start_time": "2023-03-01T12:09:37.827Z"
   },
   {
    "duration": 126,
    "start_time": "2023-03-01T12:09:37.840Z"
   },
   {
    "duration": 7,
    "start_time": "2023-03-01T12:09:37.967Z"
   },
   {
    "duration": 19,
    "start_time": "2023-03-01T12:09:37.976Z"
   },
   {
    "duration": 201,
    "start_time": "2023-03-01T12:09:37.997Z"
   },
   {
    "duration": 6,
    "start_time": "2023-03-01T12:09:38.205Z"
   },
   {
    "duration": 120,
    "start_time": "2023-03-01T12:09:38.213Z"
   },
   {
    "duration": 6,
    "start_time": "2023-03-01T12:09:38.335Z"
   },
   {
    "duration": 22,
    "start_time": "2023-03-01T12:09:38.343Z"
   },
   {
    "duration": 40,
    "start_time": "2023-03-01T12:09:38.367Z"
   },
   {
    "duration": 6,
    "start_time": "2023-03-01T12:09:38.409Z"
   },
   {
    "duration": 12,
    "start_time": "2023-03-01T12:09:38.417Z"
   },
   {
    "duration": 12,
    "start_time": "2023-03-01T12:09:38.431Z"
   },
   {
    "duration": 8,
    "start_time": "2023-03-01T12:09:38.445Z"
   },
   {
    "duration": 15,
    "start_time": "2023-03-01T12:09:38.455Z"
   },
   {
    "duration": 37,
    "start_time": "2023-03-01T12:09:38.472Z"
   },
   {
    "duration": 7,
    "start_time": "2023-03-01T12:09:38.511Z"
   },
   {
    "duration": 7,
    "start_time": "2023-03-01T12:09:38.520Z"
   },
   {
    "duration": 26,
    "start_time": "2023-03-01T12:09:38.529Z"
   },
   {
    "duration": 53,
    "start_time": "2023-03-01T12:09:38.557Z"
   },
   {
    "duration": 5,
    "start_time": "2023-03-01T12:09:38.613Z"
   },
   {
    "duration": 11,
    "start_time": "2023-03-01T12:09:38.620Z"
   },
   {
    "duration": 34,
    "start_time": "2023-03-01T12:09:38.633Z"
   },
   {
    "duration": 19,
    "start_time": "2023-03-01T12:09:38.669Z"
   },
   {
    "duration": 21,
    "start_time": "2023-03-01T12:09:38.690Z"
   },
   {
    "duration": 42,
    "start_time": "2023-03-01T12:09:38.713Z"
   },
   {
    "duration": 29,
    "start_time": "2023-03-01T12:09:38.761Z"
   },
   {
    "duration": 13,
    "start_time": "2023-03-01T12:09:38.792Z"
   },
   {
    "duration": 15,
    "start_time": "2023-03-01T12:09:38.807Z"
   },
   {
    "duration": 10,
    "start_time": "2023-03-01T12:09:38.826Z"
   },
   {
    "duration": 19,
    "start_time": "2023-03-01T12:09:38.838Z"
   },
   {
    "duration": 13,
    "start_time": "2023-03-01T12:09:38.859Z"
   },
   {
    "duration": 23,
    "start_time": "2023-03-01T12:09:38.875Z"
   },
   {
    "duration": 32,
    "start_time": "2023-03-01T12:09:38.900Z"
   },
   {
    "duration": 19,
    "start_time": "2023-03-01T12:09:38.934Z"
   },
   {
    "duration": 12,
    "start_time": "2023-03-01T12:09:38.955Z"
   },
   {
    "duration": 11,
    "start_time": "2023-03-01T12:09:38.969Z"
   },
   {
    "duration": 23,
    "start_time": "2023-03-01T12:09:38.983Z"
   },
   {
    "duration": 5,
    "start_time": "2023-03-01T12:09:39.008Z"
   },
   {
    "duration": 27,
    "start_time": "2023-03-01T12:09:39.015Z"
   },
   {
    "duration": 22,
    "start_time": "2023-03-01T12:09:39.045Z"
   },
   {
    "duration": 15,
    "start_time": "2023-03-01T12:09:39.069Z"
   },
   {
    "duration": 14,
    "start_time": "2023-03-01T12:09:39.087Z"
   },
   {
    "duration": 13,
    "start_time": "2023-03-01T12:09:39.105Z"
   },
   {
    "duration": 14,
    "start_time": "2023-03-01T12:09:39.120Z"
   },
   {
    "duration": 26,
    "start_time": "2023-03-01T12:09:39.136Z"
   },
   {
    "duration": 18,
    "start_time": "2023-03-01T12:09:39.164Z"
   },
   {
    "duration": 14,
    "start_time": "2023-03-01T12:09:39.184Z"
   },
   {
    "duration": 50,
    "start_time": "2023-03-01T12:09:39.200Z"
   },
   {
    "duration": 22,
    "start_time": "2023-03-01T12:09:39.252Z"
   },
   {
    "duration": 16,
    "start_time": "2023-03-01T12:09:39.275Z"
   },
   {
    "duration": 18,
    "start_time": "2023-03-01T12:09:39.293Z"
   },
   {
    "duration": 99,
    "start_time": "2023-03-01T12:09:39.313Z"
   },
   {
    "duration": 57,
    "start_time": "2023-03-01T12:09:39.414Z"
   },
   {
    "duration": 62,
    "start_time": "2023-03-01T12:09:39.472Z"
   },
   {
    "duration": 16,
    "start_time": "2023-03-01T12:09:39.536Z"
   },
   {
    "duration": 23,
    "start_time": "2023-03-01T12:09:39.555Z"
   },
   {
    "duration": 10,
    "start_time": "2023-03-01T12:09:39.580Z"
   },
   {
    "duration": 8,
    "start_time": "2023-03-01T12:09:39.605Z"
   },
   {
    "duration": 16,
    "start_time": "2023-03-01T12:09:39.615Z"
   },
   {
    "duration": 6,
    "start_time": "2023-03-01T12:09:39.633Z"
   },
   {
    "duration": 16,
    "start_time": "2023-03-01T12:09:39.641Z"
   },
   {
    "duration": 14,
    "start_time": "2023-03-01T12:09:39.659Z"
   },
   {
    "duration": 10,
    "start_time": "2023-03-01T12:09:39.675Z"
   },
   {
    "duration": 13,
    "start_time": "2023-03-01T12:09:39.687Z"
   },
   {
    "duration": 8,
    "start_time": "2023-03-01T12:09:39.701Z"
   },
   {
    "duration": 7,
    "start_time": "2023-03-01T12:09:39.711Z"
   },
   {
    "duration": 49,
    "start_time": "2023-03-01T12:09:39.719Z"
   },
   {
    "duration": 43,
    "start_time": "2023-03-01T12:09:39.769Z"
   },
   {
    "duration": 18,
    "start_time": "2023-03-01T12:09:39.814Z"
   },
   {
    "duration": 29,
    "start_time": "2023-03-01T12:09:39.834Z"
   },
   {
    "duration": 10,
    "start_time": "2023-03-01T12:09:39.864Z"
   },
   {
    "duration": 40,
    "start_time": "2023-03-01T12:09:39.879Z"
   },
   {
    "duration": 14,
    "start_time": "2023-03-01T12:09:39.921Z"
   },
   {
    "duration": 21,
    "start_time": "2023-03-01T12:09:39.937Z"
   },
   {
    "duration": 83,
    "start_time": "2023-03-01T12:09:39.960Z"
   },
   {
    "duration": 3,
    "start_time": "2023-03-01T12:09:40.044Z"
   },
   {
    "duration": 78,
    "start_time": "2023-03-01T12:09:40.049Z"
   },
   {
    "duration": 1978,
    "start_time": "2023-03-01T12:09:40.129Z"
   },
   {
    "duration": 555,
    "start_time": "2023-03-01T12:09:42.108Z"
   },
   {
    "duration": 1193,
    "start_time": "2023-03-01T12:09:42.665Z"
   },
   {
    "duration": 860,
    "start_time": "2023-03-01T12:09:43.860Z"
   },
   {
    "duration": 664,
    "start_time": "2023-03-01T12:09:44.722Z"
   },
   {
    "duration": 930,
    "start_time": "2023-03-01T12:09:45.388Z"
   },
   {
    "duration": 6,
    "start_time": "2023-03-01T12:09:46.320Z"
   },
   {
    "duration": 9018,
    "start_time": "2023-03-01T12:09:46.328Z"
   },
   {
    "duration": 118,
    "start_time": "2023-03-01T12:09:55.348Z"
   },
   {
    "duration": 0,
    "start_time": "2023-03-01T12:09:55.468Z"
   },
   {
    "duration": 0,
    "start_time": "2023-03-01T12:09:55.470Z"
   },
   {
    "duration": 15890,
    "start_time": "2023-03-01T12:10:12.964Z"
   },
   {
    "duration": 4,
    "start_time": "2023-03-01T12:11:27.358Z"
   },
   {
    "duration": 548083,
    "start_time": "2023-03-01T12:17:55.722Z"
   },
   {
    "duration": 1456,
    "start_time": "2023-03-01T12:32:15.745Z"
   },
   {
    "duration": 3,
    "start_time": "2023-03-01T12:32:17.204Z"
   },
   {
    "duration": 275,
    "start_time": "2023-03-01T12:32:17.208Z"
   },
   {
    "duration": 30,
    "start_time": "2023-03-01T12:32:17.485Z"
   },
   {
    "duration": 25,
    "start_time": "2023-03-01T12:32:17.517Z"
   },
   {
    "duration": 13,
    "start_time": "2023-03-01T12:32:17.544Z"
   },
   {
    "duration": 47,
    "start_time": "2023-03-01T12:32:17.560Z"
   },
   {
    "duration": 82,
    "start_time": "2023-03-01T12:32:17.609Z"
   },
   {
    "duration": 137,
    "start_time": "2023-03-01T12:32:17.693Z"
   },
   {
    "duration": 7,
    "start_time": "2023-03-01T12:32:17.832Z"
   },
   {
    "duration": 114,
    "start_time": "2023-03-01T12:32:17.841Z"
   },
   {
    "duration": 7,
    "start_time": "2023-03-01T12:32:17.957Z"
   },
   {
    "duration": 151,
    "start_time": "2023-03-01T12:32:17.966Z"
   },
   {
    "duration": 6,
    "start_time": "2023-03-01T12:32:18.119Z"
   },
   {
    "duration": 12,
    "start_time": "2023-03-01T12:32:18.127Z"
   },
   {
    "duration": 104,
    "start_time": "2023-03-01T12:32:18.141Z"
   },
   {
    "duration": 5,
    "start_time": "2023-03-01T12:32:18.247Z"
   },
   {
    "duration": 20,
    "start_time": "2023-03-01T12:32:18.253Z"
   },
   {
    "duration": 217,
    "start_time": "2023-03-01T12:32:18.276Z"
   },
   {
    "duration": 13,
    "start_time": "2023-03-01T12:32:18.496Z"
   },
   {
    "duration": 117,
    "start_time": "2023-03-01T12:32:18.512Z"
   },
   {
    "duration": 6,
    "start_time": "2023-03-01T12:32:18.631Z"
   },
   {
    "duration": 32,
    "start_time": "2023-03-01T12:32:18.639Z"
   },
   {
    "duration": 33,
    "start_time": "2023-03-01T12:32:18.673Z"
   },
   {
    "duration": 6,
    "start_time": "2023-03-01T12:32:18.708Z"
   },
   {
    "duration": 15,
    "start_time": "2023-03-01T12:32:18.717Z"
   },
   {
    "duration": 19,
    "start_time": "2023-03-01T12:32:18.734Z"
   },
   {
    "duration": 19,
    "start_time": "2023-03-01T12:32:18.759Z"
   },
   {
    "duration": 29,
    "start_time": "2023-03-01T12:32:18.781Z"
   },
   {
    "duration": 15,
    "start_time": "2023-03-01T12:32:18.812Z"
   },
   {
    "duration": 14,
    "start_time": "2023-03-01T12:32:18.828Z"
   },
   {
    "duration": 13,
    "start_time": "2023-03-01T12:32:18.844Z"
   },
   {
    "duration": 21,
    "start_time": "2023-03-01T12:32:18.859Z"
   },
   {
    "duration": 40,
    "start_time": "2023-03-01T12:32:18.882Z"
   },
   {
    "duration": 20,
    "start_time": "2023-03-01T12:32:18.924Z"
   },
   {
    "duration": 9,
    "start_time": "2023-03-01T12:32:18.947Z"
   },
   {
    "duration": 5,
    "start_time": "2023-03-01T12:32:18.958Z"
   },
   {
    "duration": 18,
    "start_time": "2023-03-01T12:32:18.965Z"
   },
   {
    "duration": 4,
    "start_time": "2023-03-01T12:32:18.985Z"
   },
   {
    "duration": 32,
    "start_time": "2023-03-01T12:32:18.990Z"
   },
   {
    "duration": 24,
    "start_time": "2023-03-01T12:32:19.024Z"
   },
   {
    "duration": 24,
    "start_time": "2023-03-01T12:32:19.050Z"
   },
   {
    "duration": 8,
    "start_time": "2023-03-01T12:32:19.076Z"
   },
   {
    "duration": 6,
    "start_time": "2023-03-01T12:32:19.085Z"
   },
   {
    "duration": 20,
    "start_time": "2023-03-01T12:32:19.093Z"
   },
   {
    "duration": 9,
    "start_time": "2023-03-01T12:32:19.115Z"
   },
   {
    "duration": 24,
    "start_time": "2023-03-01T12:32:19.126Z"
   },
   {
    "duration": 23,
    "start_time": "2023-03-01T12:32:19.152Z"
   },
   {
    "duration": 10,
    "start_time": "2023-03-01T12:32:19.177Z"
   },
   {
    "duration": 11,
    "start_time": "2023-03-01T12:32:19.189Z"
   },
   {
    "duration": 7,
    "start_time": "2023-03-01T12:32:19.205Z"
   },
   {
    "duration": 23,
    "start_time": "2023-03-01T12:32:19.214Z"
   },
   {
    "duration": 24,
    "start_time": "2023-03-01T12:32:19.238Z"
   },
   {
    "duration": 20,
    "start_time": "2023-03-01T12:32:19.265Z"
   },
   {
    "duration": 19,
    "start_time": "2023-03-01T12:32:19.287Z"
   },
   {
    "duration": 32,
    "start_time": "2023-03-01T12:32:19.308Z"
   },
   {
    "duration": 24,
    "start_time": "2023-03-01T12:32:19.342Z"
   },
   {
    "duration": 12,
    "start_time": "2023-03-01T12:32:19.367Z"
   },
   {
    "duration": 35,
    "start_time": "2023-03-01T12:32:19.381Z"
   },
   {
    "duration": 30,
    "start_time": "2023-03-01T12:32:19.418Z"
   },
   {
    "duration": 44,
    "start_time": "2023-03-01T12:32:19.449Z"
   },
   {
    "duration": 33,
    "start_time": "2023-03-01T12:32:19.496Z"
   },
   {
    "duration": 53,
    "start_time": "2023-03-01T12:32:19.531Z"
   },
   {
    "duration": 29,
    "start_time": "2023-03-01T12:32:19.586Z"
   },
   {
    "duration": 8,
    "start_time": "2023-03-01T12:32:19.617Z"
   },
   {
    "duration": 18,
    "start_time": "2023-03-01T12:32:19.627Z"
   },
   {
    "duration": 101,
    "start_time": "2023-03-01T12:32:19.647Z"
   },
   {
    "duration": 73,
    "start_time": "2023-03-01T12:32:19.750Z"
   },
   {
    "duration": 47,
    "start_time": "2023-03-01T12:32:19.824Z"
   },
   {
    "duration": 36,
    "start_time": "2023-03-01T12:32:19.873Z"
   },
   {
    "duration": 40,
    "start_time": "2023-03-01T12:32:19.911Z"
   },
   {
    "duration": 11,
    "start_time": "2023-03-01T12:32:19.953Z"
   },
   {
    "duration": 7,
    "start_time": "2023-03-01T12:32:19.966Z"
   },
   {
    "duration": 14,
    "start_time": "2023-03-01T12:32:19.975Z"
   },
   {
    "duration": 39,
    "start_time": "2023-03-01T12:32:19.991Z"
   },
   {
    "duration": 35,
    "start_time": "2023-03-01T12:32:20.032Z"
   },
   {
    "duration": 10,
    "start_time": "2023-03-01T12:32:20.070Z"
   },
   {
    "duration": 7,
    "start_time": "2023-03-01T12:32:20.083Z"
   },
   {
    "duration": 20,
    "start_time": "2023-03-01T12:32:20.092Z"
   },
   {
    "duration": 13,
    "start_time": "2023-03-01T12:32:20.114Z"
   },
   {
    "duration": 17,
    "start_time": "2023-03-01T12:32:20.129Z"
   },
   {
    "duration": 51,
    "start_time": "2023-03-01T12:32:20.152Z"
   },
   {
    "duration": 30,
    "start_time": "2023-03-01T12:32:20.204Z"
   },
   {
    "duration": 15,
    "start_time": "2023-03-01T12:32:20.236Z"
   },
   {
    "duration": 20,
    "start_time": "2023-03-01T12:32:20.253Z"
   },
   {
    "duration": 14,
    "start_time": "2023-03-01T12:32:20.275Z"
   },
   {
    "duration": 19,
    "start_time": "2023-03-01T12:32:20.292Z"
   },
   {
    "duration": 8,
    "start_time": "2023-03-01T12:32:20.313Z"
   },
   {
    "duration": 7,
    "start_time": "2023-03-01T12:32:20.323Z"
   },
   {
    "duration": 88,
    "start_time": "2023-03-01T12:32:20.333Z"
   },
   {
    "duration": 3,
    "start_time": "2023-03-01T12:32:20.423Z"
   },
   {
    "duration": 99,
    "start_time": "2023-03-01T12:32:20.428Z"
   },
   {
    "duration": 2075,
    "start_time": "2023-03-01T12:32:20.529Z"
   },
   {
    "duration": 652,
    "start_time": "2023-03-01T12:32:22.607Z"
   },
   {
    "duration": 1353,
    "start_time": "2023-03-01T12:32:23.261Z"
   },
   {
    "duration": 759,
    "start_time": "2023-03-01T12:32:24.617Z"
   },
   {
    "duration": 650,
    "start_time": "2023-03-01T12:32:25.379Z"
   },
   {
    "duration": 892,
    "start_time": "2023-03-01T12:32:26.031Z"
   },
   {
    "duration": 5,
    "start_time": "2023-03-01T12:32:26.925Z"
   },
   {
    "duration": 9265,
    "start_time": "2023-03-01T12:32:26.932Z"
   },
   {
    "duration": 16319,
    "start_time": "2023-03-01T12:32:36.199Z"
   },
   {
    "duration": 143956,
    "start_time": "2023-03-01T12:32:52.520Z"
   },
   {
    "duration": 364673,
    "start_time": "2023-03-01T12:35:16.477Z"
   },
   {
    "duration": 4,
    "start_time": "2023-03-01T12:41:21.152Z"
   },
   {
    "duration": 1633,
    "start_time": "2023-03-01T12:44:50.461Z"
   },
   {
    "duration": 7,
    "start_time": "2023-03-01T12:44:52.097Z"
   },
   {
    "duration": 354,
    "start_time": "2023-03-01T12:44:52.106Z"
   },
   {
    "duration": 27,
    "start_time": "2023-03-01T12:44:52.463Z"
   },
   {
    "duration": 35,
    "start_time": "2023-03-01T12:44:52.504Z"
   },
   {
    "duration": 25,
    "start_time": "2023-03-01T12:44:52.542Z"
   },
   {
    "duration": 54,
    "start_time": "2023-03-01T12:44:52.570Z"
   },
   {
    "duration": 119,
    "start_time": "2023-03-01T12:44:52.626Z"
   },
   {
    "duration": 139,
    "start_time": "2023-03-01T12:44:52.747Z"
   },
   {
    "duration": 18,
    "start_time": "2023-03-01T12:44:52.888Z"
   },
   {
    "duration": 124,
    "start_time": "2023-03-01T12:44:52.909Z"
   },
   {
    "duration": 9,
    "start_time": "2023-03-01T12:44:53.035Z"
   },
   {
    "duration": 139,
    "start_time": "2023-03-01T12:44:53.047Z"
   },
   {
    "duration": 16,
    "start_time": "2023-03-01T12:44:53.191Z"
   },
   {
    "duration": 24,
    "start_time": "2023-03-01T12:44:53.209Z"
   },
   {
    "duration": 114,
    "start_time": "2023-03-01T12:44:53.235Z"
   },
   {
    "duration": 6,
    "start_time": "2023-03-01T12:44:53.351Z"
   },
   {
    "duration": 26,
    "start_time": "2023-03-01T12:44:53.359Z"
   },
   {
    "duration": 219,
    "start_time": "2023-03-01T12:44:53.388Z"
   },
   {
    "duration": 6,
    "start_time": "2023-03-01T12:44:53.609Z"
   },
   {
    "duration": 127,
    "start_time": "2023-03-01T12:44:53.617Z"
   },
   {
    "duration": 6,
    "start_time": "2023-03-01T12:44:53.746Z"
   },
   {
    "duration": 22,
    "start_time": "2023-03-01T12:44:53.753Z"
   },
   {
    "duration": 42,
    "start_time": "2023-03-01T12:44:53.777Z"
   },
   {
    "duration": 6,
    "start_time": "2023-03-01T12:44:53.821Z"
   },
   {
    "duration": 14,
    "start_time": "2023-03-01T12:44:53.829Z"
   },
   {
    "duration": 13,
    "start_time": "2023-03-01T12:44:53.846Z"
   },
   {
    "duration": 16,
    "start_time": "2023-03-01T12:44:53.861Z"
   },
   {
    "duration": 30,
    "start_time": "2023-03-01T12:44:53.879Z"
   },
   {
    "duration": 27,
    "start_time": "2023-03-01T12:44:53.911Z"
   },
   {
    "duration": 20,
    "start_time": "2023-03-01T12:44:53.941Z"
   },
   {
    "duration": 10,
    "start_time": "2023-03-01T12:44:53.963Z"
   },
   {
    "duration": 80,
    "start_time": "2023-03-01T12:44:53.975Z"
   },
   {
    "duration": 30,
    "start_time": "2023-03-01T12:44:54.058Z"
   },
   {
    "duration": 41,
    "start_time": "2023-03-01T12:44:54.091Z"
   },
   {
    "duration": 15,
    "start_time": "2023-03-01T12:44:54.135Z"
   },
   {
    "duration": 21,
    "start_time": "2023-03-01T12:44:54.152Z"
   },
   {
    "duration": 29,
    "start_time": "2023-03-01T12:44:54.175Z"
   },
   {
    "duration": 20,
    "start_time": "2023-03-01T12:44:54.207Z"
   },
   {
    "duration": 56,
    "start_time": "2023-03-01T12:44:54.229Z"
   },
   {
    "duration": 28,
    "start_time": "2023-03-01T12:44:54.292Z"
   },
   {
    "duration": 20,
    "start_time": "2023-03-01T12:44:54.322Z"
   },
   {
    "duration": 17,
    "start_time": "2023-03-01T12:44:54.344Z"
   },
   {
    "duration": 8,
    "start_time": "2023-03-01T12:44:54.363Z"
   },
   {
    "duration": 23,
    "start_time": "2023-03-01T12:44:54.373Z"
   },
   {
    "duration": 6,
    "start_time": "2023-03-01T12:44:54.398Z"
   },
   {
    "duration": 29,
    "start_time": "2023-03-01T12:44:54.406Z"
   },
   {
    "duration": 17,
    "start_time": "2023-03-01T12:44:54.438Z"
   },
   {
    "duration": 12,
    "start_time": "2023-03-01T12:44:54.458Z"
   },
   {
    "duration": 28,
    "start_time": "2023-03-01T12:44:54.472Z"
   },
   {
    "duration": 13,
    "start_time": "2023-03-01T12:44:54.502Z"
   },
   {
    "duration": 17,
    "start_time": "2023-03-01T12:44:54.517Z"
   },
   {
    "duration": 9,
    "start_time": "2023-03-01T12:44:54.536Z"
   },
   {
    "duration": 21,
    "start_time": "2023-03-01T12:44:54.547Z"
   },
   {
    "duration": 34,
    "start_time": "2023-03-01T12:44:54.571Z"
   },
   {
    "duration": 24,
    "start_time": "2023-03-01T12:44:54.607Z"
   },
   {
    "duration": 12,
    "start_time": "2023-03-01T12:44:54.633Z"
   },
   {
    "duration": 16,
    "start_time": "2023-03-01T12:44:54.650Z"
   },
   {
    "duration": 11,
    "start_time": "2023-03-01T12:44:54.668Z"
   },
   {
    "duration": 29,
    "start_time": "2023-03-01T12:44:54.681Z"
   },
   {
    "duration": 20,
    "start_time": "2023-03-01T12:44:54.712Z"
   },
   {
    "duration": 14,
    "start_time": "2023-03-01T12:44:54.735Z"
   },
   {
    "duration": 56,
    "start_time": "2023-03-01T12:44:54.751Z"
   },
   {
    "duration": 21,
    "start_time": "2023-03-01T12:44:54.809Z"
   },
   {
    "duration": 7,
    "start_time": "2023-03-01T12:44:54.831Z"
   },
   {
    "duration": 9,
    "start_time": "2023-03-01T12:44:54.840Z"
   },
   {
    "duration": 134,
    "start_time": "2023-03-01T12:44:54.850Z"
   },
   {
    "duration": 80,
    "start_time": "2023-03-01T12:44:54.986Z"
   },
   {
    "duration": 75,
    "start_time": "2023-03-01T12:44:55.068Z"
   },
   {
    "duration": 22,
    "start_time": "2023-03-01T12:44:55.145Z"
   },
   {
    "duration": 35,
    "start_time": "2023-03-01T12:44:55.170Z"
   },
   {
    "duration": 3,
    "start_time": "2023-03-01T12:44:55.207Z"
   },
   {
    "duration": 12,
    "start_time": "2023-03-01T12:44:55.212Z"
   },
   {
    "duration": 16,
    "start_time": "2023-03-01T12:44:55.226Z"
   },
   {
    "duration": 6,
    "start_time": "2023-03-01T12:44:55.244Z"
   },
   {
    "duration": 7,
    "start_time": "2023-03-01T12:44:55.252Z"
   },
   {
    "duration": 21,
    "start_time": "2023-03-01T12:44:55.261Z"
   },
   {
    "duration": 14,
    "start_time": "2023-03-01T12:44:55.284Z"
   },
   {
    "duration": 8,
    "start_time": "2023-03-01T12:44:55.300Z"
   },
   {
    "duration": 8,
    "start_time": "2023-03-01T12:44:55.309Z"
   },
   {
    "duration": 8,
    "start_time": "2023-03-01T12:44:55.319Z"
   },
   {
    "duration": 49,
    "start_time": "2023-03-01T12:44:55.329Z"
   },
   {
    "duration": 44,
    "start_time": "2023-03-01T12:44:55.380Z"
   },
   {
    "duration": 18,
    "start_time": "2023-03-01T12:44:55.426Z"
   },
   {
    "duration": 35,
    "start_time": "2023-03-01T12:44:55.445Z"
   },
   {
    "duration": 8,
    "start_time": "2023-03-01T12:44:55.482Z"
   },
   {
    "duration": 14,
    "start_time": "2023-03-01T12:44:55.492Z"
   },
   {
    "duration": 8,
    "start_time": "2023-03-01T12:44:55.508Z"
   },
   {
    "duration": 8,
    "start_time": "2023-03-01T12:44:55.517Z"
   },
   {
    "duration": 97,
    "start_time": "2023-03-01T12:44:55.526Z"
   },
   {
    "duration": 5,
    "start_time": "2023-03-01T12:44:55.626Z"
   },
   {
    "duration": 92,
    "start_time": "2023-03-01T12:44:55.632Z"
   },
   {
    "duration": 2051,
    "start_time": "2023-03-01T12:44:55.727Z"
   },
   {
    "duration": 671,
    "start_time": "2023-03-01T12:44:57.780Z"
   },
   {
    "duration": 1325,
    "start_time": "2023-03-01T12:44:58.453Z"
   },
   {
    "duration": 848,
    "start_time": "2023-03-01T12:44:59.781Z"
   },
   {
    "duration": 638,
    "start_time": "2023-03-01T12:45:00.633Z"
   },
   {
    "duration": 956,
    "start_time": "2023-03-01T12:45:01.274Z"
   },
   {
    "duration": 10033,
    "start_time": "2023-03-01T12:45:02.232Z"
   },
   {
    "duration": 8123,
    "start_time": "2023-03-01T12:45:12.267Z"
   },
   {
    "duration": 141453,
    "start_time": "2023-03-01T12:45:20.392Z"
   },
   {
    "duration": 167466,
    "start_time": "2023-03-01T12:47:41.847Z"
   },
   {
    "duration": 161047,
    "start_time": "2023-03-01T12:50:29.315Z"
   },
   {
    "duration": 1518,
    "start_time": "2023-03-02T07:21:09.579Z"
   },
   {
    "duration": 3,
    "start_time": "2023-03-02T07:21:11.099Z"
   },
   {
    "duration": 464,
    "start_time": "2023-03-02T07:21:11.103Z"
   },
   {
    "duration": 22,
    "start_time": "2023-03-02T07:21:11.568Z"
   },
   {
    "duration": 26,
    "start_time": "2023-03-02T07:21:11.592Z"
   },
   {
    "duration": 13,
    "start_time": "2023-03-02T07:21:11.619Z"
   },
   {
    "duration": 20,
    "start_time": "2023-03-02T07:21:11.649Z"
   },
   {
    "duration": 90,
    "start_time": "2023-03-02T07:21:11.670Z"
   },
   {
    "duration": 129,
    "start_time": "2023-03-02T07:21:11.762Z"
   },
   {
    "duration": 6,
    "start_time": "2023-03-02T07:21:11.893Z"
   },
   {
    "duration": 98,
    "start_time": "2023-03-02T07:21:11.901Z"
   },
   {
    "duration": 5,
    "start_time": "2023-03-02T07:21:12.001Z"
   },
   {
    "duration": 112,
    "start_time": "2023-03-02T07:21:12.007Z"
   },
   {
    "duration": 5,
    "start_time": "2023-03-02T07:21:12.122Z"
   },
   {
    "duration": 22,
    "start_time": "2023-03-02T07:21:12.128Z"
   },
   {
    "duration": 198,
    "start_time": "2023-03-02T07:21:12.152Z"
   },
   {
    "duration": 6,
    "start_time": "2023-03-02T07:21:12.353Z"
   },
   {
    "duration": 10,
    "start_time": "2023-03-02T07:21:12.360Z"
   },
   {
    "duration": 119,
    "start_time": "2023-03-02T07:21:12.372Z"
   },
   {
    "duration": 5,
    "start_time": "2023-03-02T07:21:12.493Z"
   },
   {
    "duration": 94,
    "start_time": "2023-03-02T07:21:12.499Z"
   },
   {
    "duration": 5,
    "start_time": "2023-03-02T07:21:12.595Z"
   },
   {
    "duration": 18,
    "start_time": "2023-03-02T07:21:12.601Z"
   },
   {
    "duration": 38,
    "start_time": "2023-03-02T07:21:12.621Z"
   },
   {
    "duration": 5,
    "start_time": "2023-03-02T07:21:12.660Z"
   },
   {
    "duration": 9,
    "start_time": "2023-03-02T07:21:12.666Z"
   },
   {
    "duration": 13,
    "start_time": "2023-03-02T07:21:12.676Z"
   },
   {
    "duration": 45,
    "start_time": "2023-03-02T07:21:12.690Z"
   },
   {
    "duration": 8,
    "start_time": "2023-03-02T07:21:12.737Z"
   },
   {
    "duration": 16,
    "start_time": "2023-03-02T07:21:12.746Z"
   },
   {
    "duration": 8,
    "start_time": "2023-03-02T07:21:12.764Z"
   },
   {
    "duration": 5,
    "start_time": "2023-03-02T07:21:12.773Z"
   },
   {
    "duration": 19,
    "start_time": "2023-03-02T07:21:12.779Z"
   },
   {
    "duration": 17,
    "start_time": "2023-03-02T07:21:12.800Z"
   },
   {
    "duration": 11,
    "start_time": "2023-03-02T07:21:12.819Z"
   },
   {
    "duration": 18,
    "start_time": "2023-03-02T07:21:12.831Z"
   },
   {
    "duration": 7,
    "start_time": "2023-03-02T07:21:12.851Z"
   },
   {
    "duration": 17,
    "start_time": "2023-03-02T07:21:12.859Z"
   },
   {
    "duration": 7,
    "start_time": "2023-03-02T07:21:12.878Z"
   },
   {
    "duration": 25,
    "start_time": "2023-03-02T07:21:12.887Z"
   },
   {
    "duration": 31,
    "start_time": "2023-03-02T07:21:12.917Z"
   },
   {
    "duration": 3,
    "start_time": "2023-03-02T07:21:12.950Z"
   },
   {
    "duration": 6,
    "start_time": "2023-03-02T07:21:12.955Z"
   },
   {
    "duration": 6,
    "start_time": "2023-03-02T07:21:12.962Z"
   },
   {
    "duration": 12,
    "start_time": "2023-03-02T07:21:12.969Z"
   },
   {
    "duration": 6,
    "start_time": "2023-03-02T07:21:12.983Z"
   },
   {
    "duration": 15,
    "start_time": "2023-03-02T07:21:12.991Z"
   },
   {
    "duration": 15,
    "start_time": "2023-03-02T07:21:13.007Z"
   },
   {
    "duration": 26,
    "start_time": "2023-03-02T07:21:13.023Z"
   },
   {
    "duration": 6,
    "start_time": "2023-03-02T07:21:13.050Z"
   },
   {
    "duration": 6,
    "start_time": "2023-03-02T07:21:13.057Z"
   },
   {
    "duration": 14,
    "start_time": "2023-03-02T07:21:13.064Z"
   },
   {
    "duration": 6,
    "start_time": "2023-03-02T07:21:13.079Z"
   },
   {
    "duration": 18,
    "start_time": "2023-03-02T07:21:13.086Z"
   },
   {
    "duration": 16,
    "start_time": "2023-03-02T07:21:13.106Z"
   },
   {
    "duration": 27,
    "start_time": "2023-03-02T07:21:13.124Z"
   },
   {
    "duration": 7,
    "start_time": "2023-03-02T07:21:13.153Z"
   },
   {
    "duration": 6,
    "start_time": "2023-03-02T07:21:13.161Z"
   },
   {
    "duration": 8,
    "start_time": "2023-03-02T07:21:13.168Z"
   },
   {
    "duration": 23,
    "start_time": "2023-03-02T07:21:13.178Z"
   },
   {
    "duration": 19,
    "start_time": "2023-03-02T07:21:13.203Z"
   },
   {
    "duration": 25,
    "start_time": "2023-03-02T07:21:13.224Z"
   },
   {
    "duration": 47,
    "start_time": "2023-03-02T07:21:13.251Z"
   },
   {
    "duration": 17,
    "start_time": "2023-03-02T07:21:13.300Z"
   },
   {
    "duration": 5,
    "start_time": "2023-03-02T07:21:13.319Z"
   },
   {
    "duration": 24,
    "start_time": "2023-03-02T07:21:13.325Z"
   },
   {
    "duration": 97,
    "start_time": "2023-03-02T07:21:13.351Z"
   },
   {
    "duration": 49,
    "start_time": "2023-03-02T07:21:13.450Z"
   },
   {
    "duration": 56,
    "start_time": "2023-03-02T07:21:13.501Z"
   },
   {
    "duration": 13,
    "start_time": "2023-03-02T07:21:13.559Z"
   },
   {
    "duration": 19,
    "start_time": "2023-03-02T07:21:13.573Z"
   },
   {
    "duration": 4,
    "start_time": "2023-03-02T07:21:13.594Z"
   },
   {
    "duration": 6,
    "start_time": "2023-03-02T07:21:13.599Z"
   },
   {
    "duration": 6,
    "start_time": "2023-03-02T07:21:13.607Z"
   },
   {
    "duration": 9,
    "start_time": "2023-03-02T07:21:13.614Z"
   },
   {
    "duration": 16,
    "start_time": "2023-03-02T07:21:13.625Z"
   },
   {
    "duration": 46,
    "start_time": "2023-03-02T07:21:13.643Z"
   },
   {
    "duration": 9,
    "start_time": "2023-03-02T07:21:13.690Z"
   },
   {
    "duration": 10,
    "start_time": "2023-03-02T07:21:13.701Z"
   },
   {
    "duration": 17,
    "start_time": "2023-03-02T07:21:13.712Z"
   },
   {
    "duration": 9,
    "start_time": "2023-03-02T07:21:13.730Z"
   },
   {
    "duration": 42,
    "start_time": "2023-03-02T07:21:13.741Z"
   },
   {
    "duration": 20,
    "start_time": "2023-03-02T07:21:13.784Z"
   },
   {
    "duration": 15,
    "start_time": "2023-03-02T07:21:13.806Z"
   },
   {
    "duration": 36,
    "start_time": "2023-03-02T07:21:13.823Z"
   },
   {
    "duration": 5,
    "start_time": "2023-03-02T07:21:13.860Z"
   },
   {
    "duration": 9,
    "start_time": "2023-03-02T07:21:13.867Z"
   },
   {
    "duration": 7,
    "start_time": "2023-03-02T07:21:13.877Z"
   },
   {
    "duration": 6,
    "start_time": "2023-03-02T07:21:13.886Z"
   },
   {
    "duration": 79,
    "start_time": "2023-03-02T07:21:13.893Z"
   },
   {
    "duration": 2,
    "start_time": "2023-03-02T07:21:13.974Z"
   },
   {
    "duration": 78,
    "start_time": "2023-03-02T07:21:13.978Z"
   },
   {
    "duration": 1978,
    "start_time": "2023-03-02T07:21:14.058Z"
   },
   {
    "duration": 615,
    "start_time": "2023-03-02T07:21:16.038Z"
   },
   {
    "duration": 1252,
    "start_time": "2023-03-02T07:21:16.655Z"
   },
   {
    "duration": 649,
    "start_time": "2023-03-02T07:21:17.909Z"
   },
   {
    "duration": 519,
    "start_time": "2023-03-02T07:21:18.560Z"
   },
   {
    "duration": 724,
    "start_time": "2023-03-02T07:21:19.080Z"
   },
   {
    "duration": 8626,
    "start_time": "2023-03-02T07:21:19.805Z"
   },
   {
    "duration": 7172,
    "start_time": "2023-03-02T07:21:28.433Z"
   },
   {
    "duration": 131327,
    "start_time": "2023-03-02T07:21:35.606Z"
   },
   {
    "duration": 153852,
    "start_time": "2023-03-02T07:23:46.935Z"
   },
   {
    "duration": 1414,
    "start_time": "2023-03-02T07:36:55.335Z"
   },
   {
    "duration": 2,
    "start_time": "2023-03-02T07:36:56.751Z"
   },
   {
    "duration": 239,
    "start_time": "2023-03-02T07:36:56.754Z"
   },
   {
    "duration": 20,
    "start_time": "2023-03-02T07:36:56.994Z"
   },
   {
    "duration": 34,
    "start_time": "2023-03-02T07:36:57.016Z"
   },
   {
    "duration": 11,
    "start_time": "2023-03-02T07:36:57.052Z"
   },
   {
    "duration": 18,
    "start_time": "2023-03-02T07:36:57.064Z"
   },
   {
    "duration": 90,
    "start_time": "2023-03-02T07:36:57.083Z"
   },
   {
    "duration": 107,
    "start_time": "2023-03-02T07:36:57.174Z"
   },
   {
    "duration": 6,
    "start_time": "2023-03-02T07:36:57.282Z"
   },
   {
    "duration": 98,
    "start_time": "2023-03-02T07:36:57.289Z"
   },
   {
    "duration": 5,
    "start_time": "2023-03-02T07:36:57.388Z"
   },
   {
    "duration": 108,
    "start_time": "2023-03-02T07:36:57.394Z"
   },
   {
    "duration": 5,
    "start_time": "2023-03-02T07:36:57.504Z"
   },
   {
    "duration": 8,
    "start_time": "2023-03-02T07:36:57.511Z"
   },
   {
    "duration": 97,
    "start_time": "2023-03-02T07:36:57.521Z"
   },
   {
    "duration": 5,
    "start_time": "2023-03-02T07:36:57.620Z"
   },
   {
    "duration": 25,
    "start_time": "2023-03-02T07:36:57.627Z"
   },
   {
    "duration": 187,
    "start_time": "2023-03-02T07:36:57.653Z"
   },
   {
    "duration": 5,
    "start_time": "2023-03-02T07:36:57.848Z"
   },
   {
    "duration": 99,
    "start_time": "2023-03-02T07:36:57.855Z"
   },
   {
    "duration": 5,
    "start_time": "2023-03-02T07:36:57.955Z"
   },
   {
    "duration": 15,
    "start_time": "2023-03-02T07:36:57.962Z"
   },
   {
    "duration": 21,
    "start_time": "2023-03-02T07:36:57.979Z"
   },
   {
    "duration": 4,
    "start_time": "2023-03-02T07:36:58.002Z"
   },
   {
    "duration": 7,
    "start_time": "2023-03-02T07:36:58.008Z"
   },
   {
    "duration": 36,
    "start_time": "2023-03-02T07:36:58.017Z"
   },
   {
    "duration": 15,
    "start_time": "2023-03-02T07:36:58.055Z"
   },
   {
    "duration": 9,
    "start_time": "2023-03-02T07:36:58.071Z"
   },
   {
    "duration": 19,
    "start_time": "2023-03-02T07:36:58.082Z"
   },
   {
    "duration": 9,
    "start_time": "2023-03-02T07:36:58.102Z"
   },
   {
    "duration": 6,
    "start_time": "2023-03-02T07:36:58.112Z"
   },
   {
    "duration": 20,
    "start_time": "2023-03-02T07:36:58.119Z"
   },
   {
    "duration": 17,
    "start_time": "2023-03-02T07:36:58.147Z"
   },
   {
    "duration": 10,
    "start_time": "2023-03-02T07:36:58.165Z"
   },
   {
    "duration": 5,
    "start_time": "2023-03-02T07:36:58.176Z"
   },
   {
    "duration": 12,
    "start_time": "2023-03-02T07:36:58.182Z"
   },
   {
    "duration": 11,
    "start_time": "2023-03-02T07:36:58.195Z"
   },
   {
    "duration": 8,
    "start_time": "2023-03-02T07:36:58.207Z"
   },
   {
    "duration": 26,
    "start_time": "2023-03-02T07:36:58.216Z"
   },
   {
    "duration": 19,
    "start_time": "2023-03-02T07:36:58.249Z"
   },
   {
    "duration": 27,
    "start_time": "2023-03-02T07:36:58.270Z"
   },
   {
    "duration": 19,
    "start_time": "2023-03-02T07:36:58.299Z"
   },
   {
    "duration": 17,
    "start_time": "2023-03-02T07:36:58.319Z"
   },
   {
    "duration": 26,
    "start_time": "2023-03-02T07:36:58.338Z"
   },
   {
    "duration": 9,
    "start_time": "2023-03-02T07:36:58.366Z"
   },
   {
    "duration": 17,
    "start_time": "2023-03-02T07:36:58.377Z"
   },
   {
    "duration": 25,
    "start_time": "2023-03-02T07:36:58.395Z"
   },
   {
    "duration": 40,
    "start_time": "2023-03-02T07:36:58.422Z"
   },
   {
    "duration": 9,
    "start_time": "2023-03-02T07:36:58.463Z"
   },
   {
    "duration": 8,
    "start_time": "2023-03-02T07:36:58.473Z"
   },
   {
    "duration": 13,
    "start_time": "2023-03-02T07:36:58.482Z"
   },
   {
    "duration": 10,
    "start_time": "2023-03-02T07:36:58.496Z"
   },
   {
    "duration": 25,
    "start_time": "2023-03-02T07:36:58.507Z"
   },
   {
    "duration": 29,
    "start_time": "2023-03-02T07:36:58.534Z"
   },
   {
    "duration": 26,
    "start_time": "2023-03-02T07:36:58.564Z"
   },
   {
    "duration": 7,
    "start_time": "2023-03-02T07:36:58.592Z"
   },
   {
    "duration": 8,
    "start_time": "2023-03-02T07:36:58.600Z"
   },
   {
    "duration": 15,
    "start_time": "2023-03-02T07:36:58.609Z"
   },
   {
    "duration": 19,
    "start_time": "2023-03-02T07:36:58.625Z"
   },
   {
    "duration": 18,
    "start_time": "2023-03-02T07:36:58.645Z"
   },
   {
    "duration": 10,
    "start_time": "2023-03-02T07:36:58.665Z"
   },
   {
    "duration": 28,
    "start_time": "2023-03-02T07:36:58.677Z"
   },
   {
    "duration": 16,
    "start_time": "2023-03-02T07:36:58.707Z"
   },
   {
    "duration": 6,
    "start_time": "2023-03-02T07:36:58.725Z"
   },
   {
    "duration": 17,
    "start_time": "2023-03-02T07:36:58.732Z"
   },
   {
    "duration": 101,
    "start_time": "2023-03-02T07:36:58.750Z"
   },
   {
    "duration": 54,
    "start_time": "2023-03-02T07:36:58.853Z"
   },
   {
    "duration": 65,
    "start_time": "2023-03-02T07:36:58.909Z"
   },
   {
    "duration": 14,
    "start_time": "2023-03-02T07:36:58.976Z"
   },
   {
    "duration": 33,
    "start_time": "2023-03-02T07:36:58.992Z"
   },
   {
    "duration": 8,
    "start_time": "2023-03-02T07:36:59.027Z"
   },
   {
    "duration": 12,
    "start_time": "2023-03-02T07:36:59.036Z"
   },
   {
    "duration": 11,
    "start_time": "2023-03-02T07:36:59.049Z"
   },
   {
    "duration": 5,
    "start_time": "2023-03-02T07:36:59.061Z"
   },
   {
    "duration": 6,
    "start_time": "2023-03-02T07:36:59.068Z"
   },
   {
    "duration": 5,
    "start_time": "2023-03-02T07:36:59.075Z"
   },
   {
    "duration": 12,
    "start_time": "2023-03-02T07:36:59.082Z"
   },
   {
    "duration": 6,
    "start_time": "2023-03-02T07:36:59.095Z"
   },
   {
    "duration": 9,
    "start_time": "2023-03-02T07:36:59.102Z"
   },
   {
    "duration": 9,
    "start_time": "2023-03-02T07:36:59.112Z"
   },
   {
    "duration": 52,
    "start_time": "2023-03-02T07:36:59.123Z"
   },
   {
    "duration": 24,
    "start_time": "2023-03-02T07:36:59.177Z"
   },
   {
    "duration": 13,
    "start_time": "2023-03-02T07:36:59.203Z"
   },
   {
    "duration": 32,
    "start_time": "2023-03-02T07:36:59.218Z"
   },
   {
    "duration": 5,
    "start_time": "2023-03-02T07:36:59.252Z"
   },
   {
    "duration": 10,
    "start_time": "2023-03-02T07:36:59.259Z"
   },
   {
    "duration": 15,
    "start_time": "2023-03-02T07:36:59.271Z"
   },
   {
    "duration": 13,
    "start_time": "2023-03-02T07:36:59.287Z"
   },
   {
    "duration": 85,
    "start_time": "2023-03-02T07:36:59.302Z"
   },
   {
    "duration": 3,
    "start_time": "2023-03-02T07:36:59.389Z"
   },
   {
    "duration": 74,
    "start_time": "2023-03-02T07:36:59.394Z"
   },
   {
    "duration": 1952,
    "start_time": "2023-03-02T07:36:59.469Z"
   },
   {
    "duration": 557,
    "start_time": "2023-03-02T07:37:01.423Z"
   },
   {
    "duration": 1120,
    "start_time": "2023-03-02T07:37:01.982Z"
   },
   {
    "duration": 694,
    "start_time": "2023-03-02T07:37:03.104Z"
   },
   {
    "duration": 534,
    "start_time": "2023-03-02T07:37:03.800Z"
   },
   {
    "duration": 744,
    "start_time": "2023-03-02T07:37:04.336Z"
   },
   {
    "duration": 8371,
    "start_time": "2023-03-02T07:37:05.081Z"
   },
   {
    "duration": 6797,
    "start_time": "2023-03-02T07:37:13.455Z"
   },
   {
    "duration": 139063,
    "start_time": "2023-03-02T07:37:20.254Z"
   },
   {
    "duration": 157478,
    "start_time": "2023-03-02T07:39:39.318Z"
   },
   {
    "duration": 1496,
    "start_time": "2023-03-02T08:07:00.897Z"
   },
   {
    "duration": 3,
    "start_time": "2023-03-02T08:07:02.395Z"
   },
   {
    "duration": 244,
    "start_time": "2023-03-02T08:07:02.400Z"
   },
   {
    "duration": 21,
    "start_time": "2023-03-02T08:07:02.646Z"
   },
   {
    "duration": 28,
    "start_time": "2023-03-02T08:07:02.669Z"
   },
   {
    "duration": 12,
    "start_time": "2023-03-02T08:07:02.698Z"
   },
   {
    "duration": 50,
    "start_time": "2023-03-02T08:07:02.712Z"
   },
   {
    "duration": 103,
    "start_time": "2023-03-02T08:07:02.764Z"
   },
   {
    "duration": 170,
    "start_time": "2023-03-02T08:07:02.869Z"
   },
   {
    "duration": 12,
    "start_time": "2023-03-02T08:07:03.041Z"
   },
   {
    "duration": 134,
    "start_time": "2023-03-02T08:07:03.054Z"
   },
   {
    "duration": 8,
    "start_time": "2023-03-02T08:07:03.190Z"
   },
   {
    "duration": 149,
    "start_time": "2023-03-02T08:07:03.201Z"
   },
   {
    "duration": 6,
    "start_time": "2023-03-02T08:07:03.353Z"
   },
   {
    "duration": 16,
    "start_time": "2023-03-02T08:07:03.361Z"
   },
   {
    "duration": 118,
    "start_time": "2023-03-02T08:07:03.379Z"
   },
   {
    "duration": 7,
    "start_time": "2023-03-02T08:07:03.499Z"
   },
   {
    "duration": 27,
    "start_time": "2023-03-02T08:07:03.509Z"
   },
   {
    "duration": 230,
    "start_time": "2023-03-02T08:07:03.538Z"
   },
   {
    "duration": 6,
    "start_time": "2023-03-02T08:07:03.771Z"
   },
   {
    "duration": 147,
    "start_time": "2023-03-02T08:07:03.779Z"
   },
   {
    "duration": 7,
    "start_time": "2023-03-02T08:07:03.928Z"
   },
   {
    "duration": 21,
    "start_time": "2023-03-02T08:07:03.949Z"
   },
   {
    "duration": 37,
    "start_time": "2023-03-02T08:07:03.973Z"
   },
   {
    "duration": 7,
    "start_time": "2023-03-02T08:07:04.012Z"
   },
   {
    "duration": 27,
    "start_time": "2023-03-02T08:07:04.021Z"
   },
   {
    "duration": 15,
    "start_time": "2023-03-02T08:07:04.050Z"
   },
   {
    "duration": 9,
    "start_time": "2023-03-02T08:07:04.067Z"
   },
   {
    "duration": 9,
    "start_time": "2023-03-02T08:07:04.078Z"
   },
   {
    "duration": 18,
    "start_time": "2023-03-02T08:07:04.089Z"
   },
   {
    "duration": 7,
    "start_time": "2023-03-02T08:07:04.110Z"
   },
   {
    "duration": 30,
    "start_time": "2023-03-02T08:07:04.119Z"
   },
   {
    "duration": 23,
    "start_time": "2023-03-02T08:07:04.151Z"
   },
   {
    "duration": 20,
    "start_time": "2023-03-02T08:07:04.176Z"
   },
   {
    "duration": 9,
    "start_time": "2023-03-02T08:07:04.198Z"
   },
   {
    "duration": 7,
    "start_time": "2023-03-02T08:07:04.209Z"
   },
   {
    "duration": 6,
    "start_time": "2023-03-02T08:07:04.218Z"
   },
   {
    "duration": 31,
    "start_time": "2023-03-02T08:07:04.226Z"
   },
   {
    "duration": 8,
    "start_time": "2023-03-02T08:07:04.258Z"
   },
   {
    "duration": 27,
    "start_time": "2023-03-02T08:07:04.268Z"
   },
   {
    "duration": 21,
    "start_time": "2023-03-02T08:07:04.300Z"
   },
   {
    "duration": 28,
    "start_time": "2023-03-02T08:07:04.323Z"
   },
   {
    "duration": 7,
    "start_time": "2023-03-02T08:07:04.353Z"
   },
   {
    "duration": 6,
    "start_time": "2023-03-02T08:07:04.362Z"
   },
   {
    "duration": 17,
    "start_time": "2023-03-02T08:07:04.370Z"
   },
   {
    "duration": 6,
    "start_time": "2023-03-02T08:07:04.390Z"
   },
   {
    "duration": 23,
    "start_time": "2023-03-02T08:07:04.398Z"
   },
   {
    "duration": 46,
    "start_time": "2023-03-02T08:07:04.424Z"
   },
   {
    "duration": 12,
    "start_time": "2023-03-02T08:07:04.472Z"
   },
   {
    "duration": 11,
    "start_time": "2023-03-02T08:07:04.486Z"
   },
   {
    "duration": 12,
    "start_time": "2023-03-02T08:07:04.498Z"
   },
   {
    "duration": 19,
    "start_time": "2023-03-02T08:07:04.512Z"
   },
   {
    "duration": 4,
    "start_time": "2023-03-02T08:07:04.533Z"
   },
   {
    "duration": 16,
    "start_time": "2023-03-02T08:07:04.549Z"
   },
   {
    "duration": 19,
    "start_time": "2023-03-02T08:07:04.567Z"
   },
   {
    "duration": 10,
    "start_time": "2023-03-02T08:07:04.588Z"
   },
   {
    "duration": 6,
    "start_time": "2023-03-02T08:07:04.600Z"
   },
   {
    "duration": 6,
    "start_time": "2023-03-02T08:07:04.608Z"
   },
   {
    "duration": 7,
    "start_time": "2023-03-02T08:07:04.616Z"
   },
   {
    "duration": 16,
    "start_time": "2023-03-02T08:07:04.649Z"
   },
   {
    "duration": 17,
    "start_time": "2023-03-02T08:07:04.666Z"
   },
   {
    "duration": 14,
    "start_time": "2023-03-02T08:07:04.685Z"
   },
   {
    "duration": 32,
    "start_time": "2023-03-02T08:07:04.701Z"
   },
   {
    "duration": 36,
    "start_time": "2023-03-02T08:07:04.735Z"
   },
   {
    "duration": 5,
    "start_time": "2023-03-02T08:07:04.773Z"
   },
   {
    "duration": 12,
    "start_time": "2023-03-02T08:07:04.780Z"
   },
   {
    "duration": 133,
    "start_time": "2023-03-02T08:07:04.794Z"
   },
   {
    "duration": 77,
    "start_time": "2023-03-02T08:07:04.929Z"
   },
   {
    "duration": 75,
    "start_time": "2023-03-02T08:07:05.008Z"
   },
   {
    "duration": 17,
    "start_time": "2023-03-02T08:07:05.084Z"
   },
   {
    "duration": 20,
    "start_time": "2023-03-02T08:07:05.103Z"
   },
   {
    "duration": 24,
    "start_time": "2023-03-02T08:07:05.125Z"
   },
   {
    "duration": 6,
    "start_time": "2023-03-02T08:07:05.151Z"
   },
   {
    "duration": 8,
    "start_time": "2023-03-02T08:07:05.159Z"
   },
   {
    "duration": 9,
    "start_time": "2023-03-02T08:07:05.169Z"
   },
   {
    "duration": 7,
    "start_time": "2023-03-02T08:07:05.180Z"
   },
   {
    "duration": 10,
    "start_time": "2023-03-02T08:07:05.189Z"
   },
   {
    "duration": 7,
    "start_time": "2023-03-02T08:07:05.201Z"
   },
   {
    "duration": 7,
    "start_time": "2023-03-02T08:07:05.210Z"
   },
   {
    "duration": 10,
    "start_time": "2023-03-02T08:07:05.219Z"
   },
   {
    "duration": 4,
    "start_time": "2023-03-02T08:07:05.249Z"
   },
   {
    "duration": 42,
    "start_time": "2023-03-02T08:07:05.255Z"
   },
   {
    "duration": 27,
    "start_time": "2023-03-02T08:07:05.300Z"
   },
   {
    "duration": 37,
    "start_time": "2023-03-02T08:07:05.329Z"
   },
   {
    "duration": 28,
    "start_time": "2023-03-02T08:07:05.368Z"
   },
   {
    "duration": 22,
    "start_time": "2023-03-02T08:07:05.398Z"
   },
   {
    "duration": 11,
    "start_time": "2023-03-02T08:07:05.422Z"
   },
   {
    "duration": 5,
    "start_time": "2023-03-02T08:07:05.435Z"
   },
   {
    "duration": 4,
    "start_time": "2023-03-02T08:07:05.449Z"
   },
   {
    "duration": 79,
    "start_time": "2023-03-02T08:07:05.455Z"
   },
   {
    "duration": 3,
    "start_time": "2023-03-02T08:07:05.535Z"
   },
   {
    "duration": 70,
    "start_time": "2023-03-02T08:07:05.549Z"
   },
   {
    "duration": 1887,
    "start_time": "2023-03-02T08:07:05.621Z"
   },
   {
    "duration": 563,
    "start_time": "2023-03-02T08:07:07.510Z"
   },
   {
    "duration": 1093,
    "start_time": "2023-03-02T08:07:08.074Z"
   },
   {
    "duration": 698,
    "start_time": "2023-03-02T08:07:09.169Z"
   },
   {
    "duration": 588,
    "start_time": "2023-03-02T08:07:09.869Z"
   },
   {
    "duration": 805,
    "start_time": "2023-03-02T08:07:10.460Z"
   },
   {
    "duration": 9376,
    "start_time": "2023-03-02T08:07:11.268Z"
   },
   {
    "duration": 7318,
    "start_time": "2023-03-02T08:07:20.646Z"
   },
   {
    "duration": 140494,
    "start_time": "2023-03-02T08:07:27.966Z"
   },
   {
    "duration": 200340,
    "start_time": "2023-03-02T08:09:48.462Z"
   },
   {
    "duration": 164,
    "start_time": "2023-03-02T08:13:08.805Z"
   },
   {
    "duration": 0,
    "start_time": "2023-03-02T08:13:08.971Z"
   },
   {
    "duration": 13081,
    "start_time": "2023-03-02T08:13:45.926Z"
   },
   {
    "duration": 17539,
    "start_time": "2023-03-02T08:14:38.825Z"
   },
   {
    "duration": 17,
    "start_time": "2023-03-02T08:17:00.356Z"
   },
   {
    "duration": 12948,
    "start_time": "2023-03-02T08:17:47.303Z"
   },
   {
    "duration": 11629,
    "start_time": "2023-03-02T08:18:18.347Z"
   },
   {
    "duration": 24837,
    "start_time": "2023-03-02T08:18:53.612Z"
   },
   {
    "duration": 25675,
    "start_time": "2023-03-02T08:19:43.781Z"
   },
   {
    "duration": 1781,
    "start_time": "2023-03-02T08:28:11.484Z"
   },
   {
    "duration": 3,
    "start_time": "2023-03-02T08:28:13.269Z"
   },
   {
    "duration": 323,
    "start_time": "2023-03-02T08:28:13.274Z"
   },
   {
    "duration": 24,
    "start_time": "2023-03-02T08:28:13.599Z"
   },
   {
    "duration": 45,
    "start_time": "2023-03-02T08:28:13.627Z"
   },
   {
    "duration": 14,
    "start_time": "2023-03-02T08:28:13.674Z"
   },
   {
    "duration": 23,
    "start_time": "2023-03-02T08:28:13.690Z"
   },
   {
    "duration": 157,
    "start_time": "2023-03-02T08:28:13.715Z"
   },
   {
    "duration": 132,
    "start_time": "2023-03-02T08:28:13.876Z"
   },
   {
    "duration": 8,
    "start_time": "2023-03-02T08:28:14.010Z"
   },
   {
    "duration": 135,
    "start_time": "2023-03-02T08:28:14.019Z"
   },
   {
    "duration": 12,
    "start_time": "2023-03-02T08:28:14.155Z"
   },
   {
    "duration": 130,
    "start_time": "2023-03-02T08:28:14.169Z"
   },
   {
    "duration": 6,
    "start_time": "2023-03-02T08:28:14.302Z"
   },
   {
    "duration": 7,
    "start_time": "2023-03-02T08:28:14.310Z"
   },
   {
    "duration": 160,
    "start_time": "2023-03-02T08:28:14.319Z"
   },
   {
    "duration": 7,
    "start_time": "2023-03-02T08:28:14.481Z"
   },
   {
    "duration": 13,
    "start_time": "2023-03-02T08:28:14.490Z"
   },
   {
    "duration": 236,
    "start_time": "2023-03-02T08:28:14.506Z"
   },
   {
    "duration": 16,
    "start_time": "2023-03-02T08:28:14.744Z"
   },
   {
    "duration": 115,
    "start_time": "2023-03-02T08:28:14.763Z"
   },
   {
    "duration": 7,
    "start_time": "2023-03-02T08:28:14.880Z"
   },
   {
    "duration": 24,
    "start_time": "2023-03-02T08:28:14.889Z"
   },
   {
    "duration": 51,
    "start_time": "2023-03-02T08:28:14.915Z"
   },
   {
    "duration": 7,
    "start_time": "2023-03-02T08:28:14.967Z"
   },
   {
    "duration": 9,
    "start_time": "2023-03-02T08:28:14.976Z"
   },
   {
    "duration": 17,
    "start_time": "2023-03-02T08:28:14.987Z"
   },
   {
    "duration": 22,
    "start_time": "2023-03-02T08:28:15.007Z"
   },
   {
    "duration": 21,
    "start_time": "2023-03-02T08:28:15.031Z"
   },
   {
    "duration": 42,
    "start_time": "2023-03-02T08:28:15.055Z"
   },
   {
    "duration": 8,
    "start_time": "2023-03-02T08:28:15.099Z"
   },
   {
    "duration": 5,
    "start_time": "2023-03-02T08:28:15.108Z"
   },
   {
    "duration": 33,
    "start_time": "2023-03-02T08:28:15.115Z"
   },
   {
    "duration": 39,
    "start_time": "2023-03-02T08:28:15.158Z"
   },
   {
    "duration": 11,
    "start_time": "2023-03-02T08:28:15.200Z"
   },
   {
    "duration": 10,
    "start_time": "2023-03-02T08:28:15.213Z"
   },
   {
    "duration": 10,
    "start_time": "2023-03-02T08:28:15.226Z"
   },
   {
    "duration": 23,
    "start_time": "2023-03-02T08:28:15.238Z"
   },
   {
    "duration": 20,
    "start_time": "2023-03-02T08:28:15.263Z"
   },
   {
    "duration": 51,
    "start_time": "2023-03-02T08:28:15.285Z"
   },
   {
    "duration": 36,
    "start_time": "2023-03-02T08:28:15.342Z"
   },
   {
    "duration": 5,
    "start_time": "2023-03-02T08:28:15.380Z"
   },
   {
    "duration": 6,
    "start_time": "2023-03-02T08:28:15.387Z"
   },
   {
    "duration": 14,
    "start_time": "2023-03-02T08:28:15.394Z"
   },
   {
    "duration": 20,
    "start_time": "2023-03-02T08:28:15.410Z"
   },
   {
    "duration": 14,
    "start_time": "2023-03-02T08:28:15.432Z"
   },
   {
    "duration": 53,
    "start_time": "2023-03-02T08:28:15.451Z"
   },
   {
    "duration": 35,
    "start_time": "2023-03-02T08:28:15.506Z"
   },
   {
    "duration": 39,
    "start_time": "2023-03-02T08:28:15.543Z"
   },
   {
    "duration": 20,
    "start_time": "2023-03-02T08:28:15.584Z"
   },
   {
    "duration": 18,
    "start_time": "2023-03-02T08:28:15.606Z"
   },
   {
    "duration": 29,
    "start_time": "2023-03-02T08:28:15.627Z"
   },
   {
    "duration": 26,
    "start_time": "2023-03-02T08:28:15.658Z"
   },
   {
    "duration": 30,
    "start_time": "2023-03-02T08:28:15.686Z"
   },
   {
    "duration": 27,
    "start_time": "2023-03-02T08:28:15.719Z"
   },
   {
    "duration": 38,
    "start_time": "2023-03-02T08:28:15.754Z"
   },
   {
    "duration": 73,
    "start_time": "2023-03-02T08:28:15.794Z"
   },
   {
    "duration": 63,
    "start_time": "2023-03-02T08:28:15.877Z"
   },
   {
    "duration": 151,
    "start_time": "2023-03-02T08:28:15.943Z"
   },
   {
    "duration": 45,
    "start_time": "2023-03-02T08:28:16.097Z"
   },
   {
    "duration": 74,
    "start_time": "2023-03-02T08:28:16.145Z"
   },
   {
    "duration": 30,
    "start_time": "2023-03-02T08:28:16.222Z"
   },
   {
    "duration": 75,
    "start_time": "2023-03-02T08:28:16.254Z"
   },
   {
    "duration": 24,
    "start_time": "2023-03-02T08:28:16.331Z"
   },
   {
    "duration": 27,
    "start_time": "2023-03-02T08:28:16.357Z"
   },
   {
    "duration": 16,
    "start_time": "2023-03-02T08:28:16.387Z"
   },
   {
    "duration": 108,
    "start_time": "2023-03-02T08:28:16.405Z"
   },
   {
    "duration": 76,
    "start_time": "2023-03-02T08:28:16.515Z"
   },
   {
    "duration": 59,
    "start_time": "2023-03-02T08:28:16.593Z"
   },
   {
    "duration": 26,
    "start_time": "2023-03-02T08:28:16.654Z"
   },
   {
    "duration": 25,
    "start_time": "2023-03-02T08:28:16.683Z"
   },
   {
    "duration": 22,
    "start_time": "2023-03-02T08:28:16.710Z"
   },
   {
    "duration": 34,
    "start_time": "2023-03-02T08:28:16.734Z"
   },
   {
    "duration": 27,
    "start_time": "2023-03-02T08:28:16.771Z"
   },
   {
    "duration": 40,
    "start_time": "2023-03-02T08:28:16.799Z"
   },
   {
    "duration": 27,
    "start_time": "2023-03-02T08:28:16.841Z"
   },
   {
    "duration": 26,
    "start_time": "2023-03-02T08:28:16.869Z"
   },
   {
    "duration": 32,
    "start_time": "2023-03-02T08:28:16.897Z"
   },
   {
    "duration": 40,
    "start_time": "2023-03-02T08:28:16.932Z"
   },
   {
    "duration": 8,
    "start_time": "2023-03-02T08:28:16.974Z"
   },
   {
    "duration": 19,
    "start_time": "2023-03-02T08:28:16.984Z"
   },
   {
    "duration": 62,
    "start_time": "2023-03-02T08:28:17.005Z"
   },
   {
    "duration": 25,
    "start_time": "2023-03-02T08:28:17.069Z"
   },
   {
    "duration": 16,
    "start_time": "2023-03-02T08:28:17.096Z"
   },
   {
    "duration": 39,
    "start_time": "2023-03-02T08:28:17.114Z"
   },
   {
    "duration": 41,
    "start_time": "2023-03-02T08:28:17.155Z"
   },
   {
    "duration": 11,
    "start_time": "2023-03-02T08:28:17.198Z"
   },
   {
    "duration": 21,
    "start_time": "2023-03-02T08:28:17.211Z"
   },
   {
    "duration": 62,
    "start_time": "2023-03-02T08:28:17.235Z"
   },
   {
    "duration": 122,
    "start_time": "2023-03-02T08:28:17.299Z"
   },
   {
    "duration": 2,
    "start_time": "2023-03-02T08:28:17.424Z"
   },
   {
    "duration": 90,
    "start_time": "2023-03-02T08:28:17.428Z"
   },
   {
    "duration": 2121,
    "start_time": "2023-03-02T08:28:17.521Z"
   },
   {
    "duration": 644,
    "start_time": "2023-03-02T08:28:19.644Z"
   },
   {
    "duration": 1305,
    "start_time": "2023-03-02T08:28:20.291Z"
   },
   {
    "duration": 814,
    "start_time": "2023-03-02T08:28:21.599Z"
   },
   {
    "duration": 592,
    "start_time": "2023-03-02T08:28:22.415Z"
   },
   {
    "duration": 944,
    "start_time": "2023-03-02T08:28:23.009Z"
   },
   {
    "duration": 10640,
    "start_time": "2023-03-02T08:28:23.961Z"
   },
   {
    "duration": 9290,
    "start_time": "2023-03-02T08:28:34.603Z"
   },
   {
    "duration": 166372,
    "start_time": "2023-03-02T08:28:43.895Z"
   },
   {
    "duration": 192491,
    "start_time": "2023-03-02T08:31:30.273Z"
   },
   {
    "duration": 28038,
    "start_time": "2023-03-02T08:34:42.768Z"
   },
   {
    "duration": 1483,
    "start_time": "2023-03-02T08:42:35.987Z"
   },
   {
    "duration": 4,
    "start_time": "2023-03-02T08:42:37.472Z"
   },
   {
    "duration": 269,
    "start_time": "2023-03-02T08:42:37.478Z"
   },
   {
    "duration": 27,
    "start_time": "2023-03-02T08:42:37.755Z"
   },
   {
    "duration": 27,
    "start_time": "2023-03-02T08:42:37.784Z"
   },
   {
    "duration": 15,
    "start_time": "2023-03-02T08:42:37.813Z"
   },
   {
    "duration": 49,
    "start_time": "2023-03-02T08:42:37.830Z"
   },
   {
    "duration": 111,
    "start_time": "2023-03-02T08:42:37.881Z"
   },
   {
    "duration": 130,
    "start_time": "2023-03-02T08:42:37.994Z"
   },
   {
    "duration": 8,
    "start_time": "2023-03-02T08:42:38.126Z"
   },
   {
    "duration": 145,
    "start_time": "2023-03-02T08:42:38.136Z"
   },
   {
    "duration": 5,
    "start_time": "2023-03-02T08:42:38.283Z"
   },
   {
    "duration": 119,
    "start_time": "2023-03-02T08:42:38.290Z"
   },
   {
    "duration": 6,
    "start_time": "2023-03-02T08:42:38.412Z"
   },
   {
    "duration": 10,
    "start_time": "2023-03-02T08:42:38.420Z"
   },
   {
    "duration": 135,
    "start_time": "2023-03-02T08:42:38.432Z"
   },
   {
    "duration": 16,
    "start_time": "2023-03-02T08:42:38.568Z"
   },
   {
    "duration": 6,
    "start_time": "2023-03-02T08:42:38.587Z"
   },
   {
    "duration": 208,
    "start_time": "2023-03-02T08:42:38.595Z"
   },
   {
    "duration": 6,
    "start_time": "2023-03-02T08:42:38.804Z"
   },
   {
    "duration": 147,
    "start_time": "2023-03-02T08:42:38.813Z"
   },
   {
    "duration": 7,
    "start_time": "2023-03-02T08:42:38.968Z"
   },
   {
    "duration": 17,
    "start_time": "2023-03-02T08:42:38.977Z"
   },
   {
    "duration": 24,
    "start_time": "2023-03-02T08:42:38.997Z"
   },
   {
    "duration": 28,
    "start_time": "2023-03-02T08:42:39.023Z"
   },
   {
    "duration": 8,
    "start_time": "2023-03-02T08:42:39.053Z"
   },
   {
    "duration": 18,
    "start_time": "2023-03-02T08:42:39.062Z"
   },
   {
    "duration": 8,
    "start_time": "2023-03-02T08:42:39.082Z"
   },
   {
    "duration": 25,
    "start_time": "2023-03-02T08:42:39.092Z"
   },
   {
    "duration": 20,
    "start_time": "2023-03-02T08:42:39.119Z"
   },
   {
    "duration": 17,
    "start_time": "2023-03-02T08:42:39.140Z"
   },
   {
    "duration": 29,
    "start_time": "2023-03-02T08:42:39.165Z"
   },
   {
    "duration": 30,
    "start_time": "2023-03-02T08:42:39.197Z"
   },
   {
    "duration": 33,
    "start_time": "2023-03-02T08:42:39.229Z"
   },
   {
    "duration": 21,
    "start_time": "2023-03-02T08:42:39.265Z"
   },
   {
    "duration": 18,
    "start_time": "2023-03-02T08:42:39.289Z"
   },
   {
    "duration": 8,
    "start_time": "2023-03-02T08:42:39.309Z"
   },
   {
    "duration": 20,
    "start_time": "2023-03-02T08:42:39.320Z"
   },
   {
    "duration": 42,
    "start_time": "2023-03-02T08:42:39.342Z"
   },
   {
    "duration": 39,
    "start_time": "2023-03-02T08:42:39.387Z"
   },
   {
    "duration": 28,
    "start_time": "2023-03-02T08:42:39.432Z"
   },
   {
    "duration": 24,
    "start_time": "2023-03-02T08:42:39.462Z"
   },
   {
    "duration": 8,
    "start_time": "2023-03-02T08:42:39.488Z"
   },
   {
    "duration": 6,
    "start_time": "2023-03-02T08:42:39.497Z"
   },
   {
    "duration": 14,
    "start_time": "2023-03-02T08:42:39.504Z"
   },
   {
    "duration": 9,
    "start_time": "2023-03-02T08:42:39.520Z"
   },
   {
    "duration": 23,
    "start_time": "2023-03-02T08:42:39.531Z"
   },
   {
    "duration": 22,
    "start_time": "2023-03-02T08:42:39.559Z"
   },
   {
    "duration": 8,
    "start_time": "2023-03-02T08:42:39.583Z"
   },
   {
    "duration": 6,
    "start_time": "2023-03-02T08:42:39.593Z"
   },
   {
    "duration": 16,
    "start_time": "2023-03-02T08:42:39.600Z"
   },
   {
    "duration": 14,
    "start_time": "2023-03-02T08:42:39.618Z"
   },
   {
    "duration": 34,
    "start_time": "2023-03-02T08:42:39.634Z"
   },
   {
    "duration": 25,
    "start_time": "2023-03-02T08:42:39.670Z"
   },
   {
    "duration": 19,
    "start_time": "2023-03-02T08:42:39.697Z"
   },
   {
    "duration": 17,
    "start_time": "2023-03-02T08:42:39.718Z"
   },
   {
    "duration": 9,
    "start_time": "2023-03-02T08:42:39.737Z"
   },
   {
    "duration": 37,
    "start_time": "2023-03-02T08:42:39.748Z"
   },
   {
    "duration": 17,
    "start_time": "2023-03-02T08:42:39.787Z"
   },
   {
    "duration": 20,
    "start_time": "2023-03-02T08:42:39.806Z"
   },
   {
    "duration": 62,
    "start_time": "2023-03-02T08:42:39.829Z"
   },
   {
    "duration": 18,
    "start_time": "2023-03-02T08:42:39.893Z"
   },
   {
    "duration": 54,
    "start_time": "2023-03-02T08:42:39.912Z"
   },
   {
    "duration": 27,
    "start_time": "2023-03-02T08:42:39.970Z"
   },
   {
    "duration": 7,
    "start_time": "2023-03-02T08:42:39.999Z"
   },
   {
    "duration": 34,
    "start_time": "2023-03-02T08:42:40.008Z"
   },
   {
    "duration": 125,
    "start_time": "2023-03-02T08:42:40.044Z"
   },
   {
    "duration": 56,
    "start_time": "2023-03-02T08:42:40.171Z"
   },
   {
    "duration": 67,
    "start_time": "2023-03-02T08:42:40.228Z"
   },
   {
    "duration": 14,
    "start_time": "2023-03-02T08:42:40.297Z"
   },
   {
    "duration": 40,
    "start_time": "2023-03-02T08:42:40.313Z"
   },
   {
    "duration": 13,
    "start_time": "2023-03-02T08:42:40.357Z"
   },
   {
    "duration": 7,
    "start_time": "2023-03-02T08:42:40.373Z"
   },
   {
    "duration": 8,
    "start_time": "2023-03-02T08:42:40.382Z"
   },
   {
    "duration": 6,
    "start_time": "2023-03-02T08:42:40.392Z"
   },
   {
    "duration": 8,
    "start_time": "2023-03-02T08:42:40.400Z"
   },
   {
    "duration": 9,
    "start_time": "2023-03-02T08:42:40.409Z"
   },
   {
    "duration": 7,
    "start_time": "2023-03-02T08:42:40.420Z"
   },
   {
    "duration": 6,
    "start_time": "2023-03-02T08:42:40.429Z"
   },
   {
    "duration": 15,
    "start_time": "2023-03-02T08:42:40.437Z"
   },
   {
    "duration": 10,
    "start_time": "2023-03-02T08:42:40.460Z"
   },
   {
    "duration": 44,
    "start_time": "2023-03-02T08:42:40.472Z"
   },
   {
    "duration": 43,
    "start_time": "2023-03-02T08:42:40.518Z"
   },
   {
    "duration": 24,
    "start_time": "2023-03-02T08:42:40.563Z"
   },
   {
    "duration": 26,
    "start_time": "2023-03-02T08:42:40.589Z"
   },
   {
    "duration": 9,
    "start_time": "2023-03-02T08:42:40.618Z"
   },
   {
    "duration": 22,
    "start_time": "2023-03-02T08:42:40.629Z"
   },
   {
    "duration": 35,
    "start_time": "2023-03-02T08:42:40.653Z"
   },
   {
    "duration": 16,
    "start_time": "2023-03-02T08:42:40.691Z"
   },
   {
    "duration": 90,
    "start_time": "2023-03-02T08:42:40.709Z"
   },
   {
    "duration": 4,
    "start_time": "2023-03-02T08:42:40.801Z"
   },
   {
    "duration": 99,
    "start_time": "2023-03-02T08:42:40.806Z"
   },
   {
    "duration": 2158,
    "start_time": "2023-03-02T08:42:40.907Z"
   },
   {
    "duration": 623,
    "start_time": "2023-03-02T08:42:43.068Z"
   },
   {
    "duration": 1307,
    "start_time": "2023-03-02T08:42:43.693Z"
   },
   {
    "duration": 720,
    "start_time": "2023-03-02T08:42:45.002Z"
   },
   {
    "duration": 677,
    "start_time": "2023-03-02T08:42:45.724Z"
   },
   {
    "duration": 835,
    "start_time": "2023-03-02T08:42:46.403Z"
   },
   {
    "duration": 13213,
    "start_time": "2023-03-02T08:42:47.240Z"
   },
   {
    "duration": 0,
    "start_time": "2023-03-02T08:43:00.457Z"
   },
   {
    "duration": 12011,
    "start_time": "2023-03-02T08:43:21.646Z"
   },
   {
    "duration": 16338,
    "start_time": "2023-03-02T08:43:51.941Z"
   },
   {
    "duration": 1885,
    "start_time": "2023-03-02T08:47:57.980Z"
   },
   {
    "duration": 7,
    "start_time": "2023-03-02T08:47:59.873Z"
   },
   {
    "duration": 432,
    "start_time": "2023-03-02T08:47:59.888Z"
   },
   {
    "duration": 44,
    "start_time": "2023-03-02T08:48:00.323Z"
   },
   {
    "duration": 69,
    "start_time": "2023-03-02T08:48:00.370Z"
   },
   {
    "duration": 33,
    "start_time": "2023-03-02T08:48:00.441Z"
   },
   {
    "duration": 55,
    "start_time": "2023-03-02T08:48:00.478Z"
   },
   {
    "duration": 128,
    "start_time": "2023-03-02T08:48:00.536Z"
   },
   {
    "duration": 182,
    "start_time": "2023-03-02T08:48:00.666Z"
   },
   {
    "duration": 23,
    "start_time": "2023-03-02T08:48:00.851Z"
   },
   {
    "duration": 206,
    "start_time": "2023-03-02T08:48:00.877Z"
   },
   {
    "duration": 8,
    "start_time": "2023-03-02T08:48:01.085Z"
   },
   {
    "duration": 209,
    "start_time": "2023-03-02T08:48:01.096Z"
   },
   {
    "duration": 7,
    "start_time": "2023-03-02T08:48:01.309Z"
   },
   {
    "duration": 84,
    "start_time": "2023-03-02T08:48:01.319Z"
   },
   {
    "duration": 205,
    "start_time": "2023-03-02T08:48:01.406Z"
   },
   {
    "duration": 9,
    "start_time": "2023-03-02T08:48:01.614Z"
   },
   {
    "duration": 114,
    "start_time": "2023-03-02T08:48:01.625Z"
   },
   {
    "duration": 372,
    "start_time": "2023-03-02T08:48:01.741Z"
   },
   {
    "duration": 9,
    "start_time": "2023-03-02T08:48:02.115Z"
   },
   {
    "duration": 214,
    "start_time": "2023-03-02T08:48:02.126Z"
   },
   {
    "duration": 11,
    "start_time": "2023-03-02T08:48:02.343Z"
   },
   {
    "duration": 62,
    "start_time": "2023-03-02T08:48:02.357Z"
   },
   {
    "duration": 46,
    "start_time": "2023-03-02T08:48:02.422Z"
   },
   {
    "duration": 13,
    "start_time": "2023-03-02T08:48:02.470Z"
   },
   {
    "duration": 15,
    "start_time": "2023-03-02T08:48:02.486Z"
   },
   {
    "duration": 20,
    "start_time": "2023-03-02T08:48:02.504Z"
   },
   {
    "duration": 63,
    "start_time": "2023-03-02T08:48:02.527Z"
   },
   {
    "duration": 14,
    "start_time": "2023-03-02T08:48:02.593Z"
   },
   {
    "duration": 24,
    "start_time": "2023-03-02T08:48:02.610Z"
   },
   {
    "duration": 22,
    "start_time": "2023-03-02T08:48:02.636Z"
   },
   {
    "duration": 27,
    "start_time": "2023-03-02T08:48:02.661Z"
   },
   {
    "duration": 44,
    "start_time": "2023-03-02T08:48:02.691Z"
   },
   {
    "duration": 64,
    "start_time": "2023-03-02T08:48:02.738Z"
   },
   {
    "duration": 25,
    "start_time": "2023-03-02T08:48:02.804Z"
   },
   {
    "duration": 21,
    "start_time": "2023-03-02T08:48:02.832Z"
   },
   {
    "duration": 49,
    "start_time": "2023-03-02T08:48:02.855Z"
   },
   {
    "duration": 30,
    "start_time": "2023-03-02T08:48:02.906Z"
   },
   {
    "duration": 13,
    "start_time": "2023-03-02T08:48:02.940Z"
   },
   {
    "duration": 68,
    "start_time": "2023-03-02T08:48:02.957Z"
   },
   {
    "duration": 79,
    "start_time": "2023-03-02T08:48:03.033Z"
   },
   {
    "duration": 25,
    "start_time": "2023-03-02T08:48:03.115Z"
   },
   {
    "duration": 39,
    "start_time": "2023-03-02T08:48:03.143Z"
   },
   {
    "duration": 34,
    "start_time": "2023-03-02T08:48:03.186Z"
   },
   {
    "duration": 40,
    "start_time": "2023-03-02T08:48:03.222Z"
   },
   {
    "duration": 37,
    "start_time": "2023-03-02T08:48:03.269Z"
   },
   {
    "duration": 107,
    "start_time": "2023-03-02T08:48:03.308Z"
   },
   {
    "duration": 39,
    "start_time": "2023-03-02T08:48:03.417Z"
   },
   {
    "duration": 39,
    "start_time": "2023-03-02T08:48:03.458Z"
   },
   {
    "duration": 11,
    "start_time": "2023-03-02T08:48:03.500Z"
   },
   {
    "duration": 14,
    "start_time": "2023-03-02T08:48:03.513Z"
   },
   {
    "duration": 27,
    "start_time": "2023-03-02T08:48:03.530Z"
   },
   {
    "duration": 20,
    "start_time": "2023-03-02T08:48:03.567Z"
   },
   {
    "duration": 35,
    "start_time": "2023-03-02T08:48:03.590Z"
   },
   {
    "duration": 33,
    "start_time": "2023-03-02T08:48:03.629Z"
   },
   {
    "duration": 56,
    "start_time": "2023-03-02T08:48:03.678Z"
   },
   {
    "duration": 8,
    "start_time": "2023-03-02T08:48:03.737Z"
   },
   {
    "duration": 17,
    "start_time": "2023-03-02T08:48:03.751Z"
   },
   {
    "duration": 32,
    "start_time": "2023-03-02T08:48:03.770Z"
   },
   {
    "duration": 37,
    "start_time": "2023-03-02T08:48:03.804Z"
   },
   {
    "duration": 62,
    "start_time": "2023-03-02T08:48:03.843Z"
   },
   {
    "duration": 15,
    "start_time": "2023-03-02T08:48:03.912Z"
   },
   {
    "duration": 52,
    "start_time": "2023-03-02T08:48:03.930Z"
   },
   {
    "duration": 34,
    "start_time": "2023-03-02T08:48:03.984Z"
   },
   {
    "duration": 14,
    "start_time": "2023-03-02T08:48:04.020Z"
   },
   {
    "duration": 24,
    "start_time": "2023-03-02T08:48:04.037Z"
   },
   {
    "duration": 138,
    "start_time": "2023-03-02T08:48:04.073Z"
   },
   {
    "duration": 92,
    "start_time": "2023-03-02T08:48:04.214Z"
   },
   {
    "duration": 69,
    "start_time": "2023-03-02T08:48:04.311Z"
   },
   {
    "duration": 20,
    "start_time": "2023-03-02T08:48:04.387Z"
   },
   {
    "duration": 27,
    "start_time": "2023-03-02T08:48:04.409Z"
   },
   {
    "duration": 11,
    "start_time": "2023-03-02T08:48:04.439Z"
   },
   {
    "duration": 39,
    "start_time": "2023-03-02T08:48:04.454Z"
   },
   {
    "duration": 11,
    "start_time": "2023-03-02T08:48:04.496Z"
   },
   {
    "duration": 11,
    "start_time": "2023-03-02T08:48:04.510Z"
   },
   {
    "duration": 24,
    "start_time": "2023-03-02T08:48:04.524Z"
   },
   {
    "duration": 32,
    "start_time": "2023-03-02T08:48:04.552Z"
   },
   {
    "duration": 8,
    "start_time": "2023-03-02T08:48:04.587Z"
   },
   {
    "duration": 9,
    "start_time": "2023-03-02T08:48:04.597Z"
   },
   {
    "duration": 16,
    "start_time": "2023-03-02T08:48:04.609Z"
   },
   {
    "duration": 9,
    "start_time": "2023-03-02T08:48:04.628Z"
   },
   {
    "duration": 78,
    "start_time": "2023-03-02T08:48:04.639Z"
   },
   {
    "duration": 32,
    "start_time": "2023-03-02T08:48:04.719Z"
   },
   {
    "duration": 22,
    "start_time": "2023-03-02T08:48:04.753Z"
   },
   {
    "duration": 44,
    "start_time": "2023-03-02T08:48:04.777Z"
   },
   {
    "duration": 16,
    "start_time": "2023-03-02T08:48:04.823Z"
   },
   {
    "duration": 40,
    "start_time": "2023-03-02T08:48:04.842Z"
   },
   {
    "duration": 12,
    "start_time": "2023-03-02T08:48:04.885Z"
   },
   {
    "duration": 14,
    "start_time": "2023-03-02T08:48:04.900Z"
   },
   {
    "duration": 113,
    "start_time": "2023-03-02T08:48:04.916Z"
   },
   {
    "duration": 4,
    "start_time": "2023-03-02T08:48:05.031Z"
   },
   {
    "duration": 135,
    "start_time": "2023-03-02T08:48:05.037Z"
   },
   {
    "duration": 2280,
    "start_time": "2023-03-02T08:48:05.173Z"
   },
   {
    "duration": 624,
    "start_time": "2023-03-02T08:48:07.458Z"
   },
   {
    "duration": 1640,
    "start_time": "2023-03-02T08:48:08.083Z"
   },
   {
    "duration": 1073,
    "start_time": "2023-03-02T08:48:09.726Z"
   },
   {
    "duration": 890,
    "start_time": "2023-03-02T08:48:10.802Z"
   },
   {
    "duration": 936,
    "start_time": "2023-03-02T08:48:11.695Z"
   },
   {
    "duration": 160257,
    "start_time": "2023-03-02T08:48:12.633Z"
   },
   {
    "duration": 49955,
    "start_time": "2023-03-02T08:51:20.125Z"
   },
   {
    "duration": 2026,
    "start_time": "2023-03-02T08:59:48.502Z"
   },
   {
    "duration": 3,
    "start_time": "2023-03-02T08:59:50.534Z"
   },
   {
    "duration": 540,
    "start_time": "2023-03-02T08:59:50.539Z"
   },
   {
    "duration": 43,
    "start_time": "2023-03-02T08:59:51.086Z"
   },
   {
    "duration": 114,
    "start_time": "2023-03-02T08:59:51.133Z"
   },
   {
    "duration": 41,
    "start_time": "2023-03-02T08:59:51.259Z"
   },
   {
    "duration": 56,
    "start_time": "2023-03-02T08:59:51.310Z"
   },
   {
    "duration": 143,
    "start_time": "2023-03-02T08:59:51.377Z"
   },
   {
    "duration": 157,
    "start_time": "2023-03-02T08:59:51.522Z"
   },
   {
    "duration": 18,
    "start_time": "2023-03-02T08:59:51.682Z"
   },
   {
    "duration": 189,
    "start_time": "2023-03-02T08:59:51.708Z"
   },
   {
    "duration": 6,
    "start_time": "2023-03-02T08:59:51.901Z"
   },
   {
    "duration": 234,
    "start_time": "2023-03-02T08:59:51.909Z"
   },
   {
    "duration": 13,
    "start_time": "2023-03-02T08:59:52.151Z"
   },
   {
    "duration": 162,
    "start_time": "2023-03-02T08:59:52.166Z"
   },
   {
    "duration": 147,
    "start_time": "2023-03-02T08:59:52.330Z"
   },
   {
    "duration": 6,
    "start_time": "2023-03-02T08:59:52.480Z"
   },
   {
    "duration": 63,
    "start_time": "2023-03-02T08:59:52.488Z"
   },
   {
    "duration": 328,
    "start_time": "2023-03-02T08:59:52.554Z"
   },
   {
    "duration": 8,
    "start_time": "2023-03-02T08:59:52.888Z"
   },
   {
    "duration": 244,
    "start_time": "2023-03-02T08:59:52.899Z"
   },
   {
    "duration": 13,
    "start_time": "2023-03-02T08:59:53.145Z"
   },
   {
    "duration": 79,
    "start_time": "2023-03-02T08:59:53.160Z"
   },
   {
    "duration": 93,
    "start_time": "2023-03-02T08:59:53.242Z"
   },
   {
    "duration": 50,
    "start_time": "2023-03-02T08:59:53.337Z"
   },
   {
    "duration": 101,
    "start_time": "2023-03-02T08:59:53.389Z"
   },
   {
    "duration": 43,
    "start_time": "2023-03-02T08:59:53.496Z"
   },
   {
    "duration": 72,
    "start_time": "2023-03-02T08:59:53.541Z"
   },
   {
    "duration": 20,
    "start_time": "2023-03-02T08:59:53.615Z"
   },
   {
    "duration": 76,
    "start_time": "2023-03-02T08:59:53.637Z"
   },
   {
    "duration": 11,
    "start_time": "2023-03-02T08:59:53.715Z"
   },
   {
    "duration": 16,
    "start_time": "2023-03-02T08:59:53.728Z"
   },
   {
    "duration": 89,
    "start_time": "2023-03-02T08:59:53.746Z"
   },
   {
    "duration": 78,
    "start_time": "2023-03-02T08:59:53.838Z"
   },
   {
    "duration": 8,
    "start_time": "2023-03-02T08:59:53.918Z"
   },
   {
    "duration": 98,
    "start_time": "2023-03-02T08:59:53.928Z"
   },
   {
    "duration": 150,
    "start_time": "2023-03-02T08:59:54.028Z"
   },
   {
    "duration": 54,
    "start_time": "2023-03-02T08:59:54.180Z"
   },
   {
    "duration": 88,
    "start_time": "2023-03-02T08:59:54.237Z"
   },
   {
    "duration": 62,
    "start_time": "2023-03-02T08:59:54.327Z"
   },
   {
    "duration": 67,
    "start_time": "2023-03-02T08:59:54.403Z"
   },
   {
    "duration": 64,
    "start_time": "2023-03-02T08:59:54.476Z"
   },
   {
    "duration": 33,
    "start_time": "2023-03-02T08:59:54.542Z"
   },
   {
    "duration": 57,
    "start_time": "2023-03-02T08:59:54.578Z"
   },
   {
    "duration": 82,
    "start_time": "2023-03-02T08:59:54.642Z"
   },
   {
    "duration": 14,
    "start_time": "2023-03-02T08:59:54.726Z"
   },
   {
    "duration": 37,
    "start_time": "2023-03-02T08:59:54.742Z"
   },
   {
    "duration": 56,
    "start_time": "2023-03-02T08:59:54.781Z"
   },
   {
    "duration": 69,
    "start_time": "2023-03-02T08:59:54.839Z"
   },
   {
    "duration": 9,
    "start_time": "2023-03-02T08:59:54.910Z"
   },
   {
    "duration": 15,
    "start_time": "2023-03-02T08:59:54.921Z"
   },
   {
    "duration": 28,
    "start_time": "2023-03-02T08:59:54.938Z"
   },
   {
    "duration": 61,
    "start_time": "2023-03-02T08:59:54.968Z"
   },
   {
    "duration": 100,
    "start_time": "2023-03-02T08:59:55.031Z"
   },
   {
    "duration": 100,
    "start_time": "2023-03-02T08:59:55.133Z"
   },
   {
    "duration": 93,
    "start_time": "2023-03-02T08:59:55.235Z"
   },
   {
    "duration": 48,
    "start_time": "2023-03-02T08:59:55.332Z"
   },
   {
    "duration": 43,
    "start_time": "2023-03-02T08:59:55.382Z"
   },
   {
    "duration": 14,
    "start_time": "2023-03-02T08:59:55.428Z"
   },
   {
    "duration": 106,
    "start_time": "2023-03-02T08:59:55.444Z"
   },
   {
    "duration": 72,
    "start_time": "2023-03-02T08:59:55.552Z"
   },
   {
    "duration": 27,
    "start_time": "2023-03-02T08:59:55.627Z"
   },
   {
    "duration": 90,
    "start_time": "2023-03-02T08:59:55.672Z"
   },
   {
    "duration": 32,
    "start_time": "2023-03-02T08:59:55.764Z"
   },
   {
    "duration": 47,
    "start_time": "2023-03-02T08:59:55.798Z"
   },
   {
    "duration": 175,
    "start_time": "2023-03-02T08:59:55.847Z"
   },
   {
    "duration": 166,
    "start_time": "2023-03-02T08:59:56.024Z"
   },
   {
    "duration": 113,
    "start_time": "2023-03-02T08:59:56.193Z"
   },
   {
    "duration": 76,
    "start_time": "2023-03-02T08:59:56.308Z"
   },
   {
    "duration": 63,
    "start_time": "2023-03-02T08:59:56.387Z"
   },
   {
    "duration": 111,
    "start_time": "2023-03-02T08:59:56.451Z"
   },
   {
    "duration": 13,
    "start_time": "2023-03-02T08:59:56.564Z"
   },
   {
    "duration": 22,
    "start_time": "2023-03-02T08:59:56.579Z"
   },
   {
    "duration": 32,
    "start_time": "2023-03-02T08:59:56.602Z"
   },
   {
    "duration": 63,
    "start_time": "2023-03-02T08:59:56.635Z"
   },
   {
    "duration": 39,
    "start_time": "2023-03-02T08:59:56.700Z"
   },
   {
    "duration": 24,
    "start_time": "2023-03-02T08:59:56.743Z"
   },
   {
    "duration": 50,
    "start_time": "2023-03-02T08:59:56.768Z"
   },
   {
    "duration": 21,
    "start_time": "2023-03-02T08:59:56.821Z"
   },
   {
    "duration": 68,
    "start_time": "2023-03-02T08:59:56.844Z"
   },
   {
    "duration": 103,
    "start_time": "2023-03-02T08:59:56.914Z"
   },
   {
    "duration": 57,
    "start_time": "2023-03-02T08:59:57.019Z"
   },
   {
    "duration": 38,
    "start_time": "2023-03-02T08:59:57.078Z"
   },
   {
    "duration": 17,
    "start_time": "2023-03-02T08:59:57.118Z"
   },
   {
    "duration": 35,
    "start_time": "2023-03-02T08:59:57.137Z"
   },
   {
    "duration": 26,
    "start_time": "2023-03-02T08:59:57.173Z"
   },
   {
    "duration": 14,
    "start_time": "2023-03-02T08:59:57.201Z"
   },
   {
    "duration": 5,
    "start_time": "2023-03-02T08:59:57.217Z"
   },
   {
    "duration": 10,
    "start_time": "2023-03-02T08:59:57.224Z"
   },
   {
    "duration": 121,
    "start_time": "2023-03-02T08:59:57.235Z"
   },
   {
    "duration": 4,
    "start_time": "2023-03-02T08:59:57.358Z"
   },
   {
    "duration": 127,
    "start_time": "2023-03-02T08:59:57.365Z"
   },
   {
    "duration": 2375,
    "start_time": "2023-03-02T08:59:57.498Z"
   },
   {
    "duration": 907,
    "start_time": "2023-03-02T08:59:59.875Z"
   },
   {
    "duration": 1695,
    "start_time": "2023-03-02T09:00:00.785Z"
   },
   {
    "duration": 882,
    "start_time": "2023-03-02T09:00:02.481Z"
   },
   {
    "duration": 774,
    "start_time": "2023-03-02T09:00:03.366Z"
   },
   {
    "duration": 990,
    "start_time": "2023-03-02T09:00:04.151Z"
   },
   {
    "duration": 14131,
    "start_time": "2023-03-02T09:00:05.153Z"
   },
   {
    "duration": 2172468,
    "start_time": "2023-03-02T09:00:19.293Z"
   },
   {
    "duration": 1702,
    "start_time": "2023-03-02T09:43:35.326Z"
   },
   {
    "duration": 3,
    "start_time": "2023-03-02T09:43:37.030Z"
   },
   {
    "duration": 346,
    "start_time": "2023-03-02T09:43:37.034Z"
   },
   {
    "duration": 22,
    "start_time": "2023-03-02T09:43:37.382Z"
   },
   {
    "duration": 23,
    "start_time": "2023-03-02T09:43:37.406Z"
   },
   {
    "duration": 37,
    "start_time": "2023-03-02T09:43:37.431Z"
   },
   {
    "duration": 39,
    "start_time": "2023-03-02T09:43:37.470Z"
   },
   {
    "duration": 88,
    "start_time": "2023-03-02T09:43:37.511Z"
   },
   {
    "duration": 120,
    "start_time": "2023-03-02T09:43:37.601Z"
   },
   {
    "duration": 7,
    "start_time": "2023-03-02T09:43:37.722Z"
   },
   {
    "duration": 125,
    "start_time": "2023-03-02T09:43:37.731Z"
   },
   {
    "duration": 13,
    "start_time": "2023-03-02T09:43:37.865Z"
   },
   {
    "duration": 134,
    "start_time": "2023-03-02T09:43:37.881Z"
   },
   {
    "duration": 5,
    "start_time": "2023-03-02T09:43:38.018Z"
   },
   {
    "duration": 8,
    "start_time": "2023-03-02T09:43:38.025Z"
   },
   {
    "duration": 139,
    "start_time": "2023-03-02T09:43:38.035Z"
   },
   {
    "duration": 7,
    "start_time": "2023-03-02T09:43:38.184Z"
   },
   {
    "duration": 16,
    "start_time": "2023-03-02T09:43:38.193Z"
   },
   {
    "duration": 236,
    "start_time": "2023-03-02T09:43:38.211Z"
   },
   {
    "duration": 26,
    "start_time": "2023-03-02T09:43:38.454Z"
   },
   {
    "duration": 108,
    "start_time": "2023-03-02T09:43:38.484Z"
   },
   {
    "duration": 7,
    "start_time": "2023-03-02T09:43:38.594Z"
   },
   {
    "duration": 19,
    "start_time": "2023-03-02T09:43:38.602Z"
   },
   {
    "duration": 61,
    "start_time": "2023-03-02T09:43:38.623Z"
   },
   {
    "duration": 7,
    "start_time": "2023-03-02T09:43:38.686Z"
   },
   {
    "duration": 15,
    "start_time": "2023-03-02T09:43:38.696Z"
   },
   {
    "duration": 13,
    "start_time": "2023-03-02T09:43:38.713Z"
   },
   {
    "duration": 45,
    "start_time": "2023-03-02T09:43:38.727Z"
   },
   {
    "duration": 18,
    "start_time": "2023-03-02T09:43:38.774Z"
   },
   {
    "duration": 19,
    "start_time": "2023-03-02T09:43:38.794Z"
   },
   {
    "duration": 10,
    "start_time": "2023-03-02T09:43:38.814Z"
   },
   {
    "duration": 5,
    "start_time": "2023-03-02T09:43:38.826Z"
   },
   {
    "duration": 44,
    "start_time": "2023-03-02T09:43:38.832Z"
   },
   {
    "duration": 21,
    "start_time": "2023-03-02T09:43:38.885Z"
   },
   {
    "duration": 11,
    "start_time": "2023-03-02T09:43:38.908Z"
   },
   {
    "duration": 9,
    "start_time": "2023-03-02T09:43:38.921Z"
   },
   {
    "duration": 7,
    "start_time": "2023-03-02T09:43:38.932Z"
   },
   {
    "duration": 20,
    "start_time": "2023-03-02T09:43:38.941Z"
   },
   {
    "duration": 30,
    "start_time": "2023-03-02T09:43:38.962Z"
   },
   {
    "duration": 31,
    "start_time": "2023-03-02T09:43:38.994Z"
   },
   {
    "duration": 27,
    "start_time": "2023-03-02T09:43:39.031Z"
   },
   {
    "duration": 37,
    "start_time": "2023-03-02T09:43:39.060Z"
   },
   {
    "duration": 12,
    "start_time": "2023-03-02T09:43:39.099Z"
   },
   {
    "duration": 9,
    "start_time": "2023-03-02T09:43:39.113Z"
   },
   {
    "duration": 14,
    "start_time": "2023-03-02T09:43:39.123Z"
   },
   {
    "duration": 6,
    "start_time": "2023-03-02T09:43:39.139Z"
   },
   {
    "duration": 42,
    "start_time": "2023-03-02T09:43:39.147Z"
   },
   {
    "duration": 23,
    "start_time": "2023-03-02T09:43:39.192Z"
   },
   {
    "duration": 12,
    "start_time": "2023-03-02T09:43:39.217Z"
   },
   {
    "duration": 8,
    "start_time": "2023-03-02T09:43:39.230Z"
   },
   {
    "duration": 43,
    "start_time": "2023-03-02T09:43:39.240Z"
   },
   {
    "duration": 24,
    "start_time": "2023-03-02T09:43:39.284Z"
   },
   {
    "duration": 10,
    "start_time": "2023-03-02T09:43:39.310Z"
   },
   {
    "duration": 36,
    "start_time": "2023-03-02T09:43:39.322Z"
   },
   {
    "duration": 54,
    "start_time": "2023-03-02T09:43:39.362Z"
   },
   {
    "duration": 11,
    "start_time": "2023-03-02T09:43:39.419Z"
   },
   {
    "duration": 4,
    "start_time": "2023-03-02T09:43:39.432Z"
   },
   {
    "duration": 15,
    "start_time": "2023-03-02T09:43:39.438Z"
   },
   {
    "duration": 32,
    "start_time": "2023-03-02T09:43:39.459Z"
   },
   {
    "duration": 24,
    "start_time": "2023-03-02T09:43:39.493Z"
   },
   {
    "duration": 16,
    "start_time": "2023-03-02T09:43:39.519Z"
   },
   {
    "duration": 18,
    "start_time": "2023-03-02T09:43:39.536Z"
   },
   {
    "duration": 38,
    "start_time": "2023-03-02T09:43:39.555Z"
   },
   {
    "duration": 25,
    "start_time": "2023-03-02T09:43:39.595Z"
   },
   {
    "duration": 7,
    "start_time": "2023-03-02T09:43:39.622Z"
   },
   {
    "duration": 14,
    "start_time": "2023-03-02T09:43:39.654Z"
   },
   {
    "duration": 139,
    "start_time": "2023-03-02T09:43:39.670Z"
   },
   {
    "duration": 87,
    "start_time": "2023-03-02T09:43:39.811Z"
   },
   {
    "duration": 63,
    "start_time": "2023-03-02T09:43:39.900Z"
   },
   {
    "duration": 33,
    "start_time": "2023-03-02T09:43:39.965Z"
   },
   {
    "duration": 30,
    "start_time": "2023-03-02T09:43:40.001Z"
   },
   {
    "duration": 14,
    "start_time": "2023-03-02T09:43:40.033Z"
   },
   {
    "duration": 35,
    "start_time": "2023-03-02T09:43:40.055Z"
   },
   {
    "duration": 9,
    "start_time": "2023-03-02T09:43:40.093Z"
   },
   {
    "duration": 6,
    "start_time": "2023-03-02T09:43:40.104Z"
   },
   {
    "duration": 7,
    "start_time": "2023-03-02T09:43:40.112Z"
   },
   {
    "duration": 8,
    "start_time": "2023-03-02T09:43:40.121Z"
   },
   {
    "duration": 6,
    "start_time": "2023-03-02T09:43:40.131Z"
   },
   {
    "duration": 5,
    "start_time": "2023-03-02T09:43:40.139Z"
   },
   {
    "duration": 13,
    "start_time": "2023-03-02T09:43:40.145Z"
   },
   {
    "duration": 41,
    "start_time": "2023-03-02T09:43:40.159Z"
   },
   {
    "duration": 56,
    "start_time": "2023-03-02T09:43:40.202Z"
   },
   {
    "duration": 29,
    "start_time": "2023-03-02T09:43:40.259Z"
   },
   {
    "duration": 14,
    "start_time": "2023-03-02T09:43:40.291Z"
   },
   {
    "duration": 17,
    "start_time": "2023-03-02T09:43:40.307Z"
   },
   {
    "duration": 13,
    "start_time": "2023-03-02T09:43:40.325Z"
   },
   {
    "duration": 49,
    "start_time": "2023-03-02T09:43:40.340Z"
   },
   {
    "duration": 8,
    "start_time": "2023-03-02T09:43:40.390Z"
   },
   {
    "duration": 7,
    "start_time": "2023-03-02T09:43:40.399Z"
   },
   {
    "duration": 93,
    "start_time": "2023-03-02T09:43:40.408Z"
   },
   {
    "duration": 2,
    "start_time": "2023-03-02T09:43:40.503Z"
   },
   {
    "duration": 82,
    "start_time": "2023-03-02T09:43:40.507Z"
   },
   {
    "duration": 2067,
    "start_time": "2023-03-02T09:43:40.591Z"
   },
   {
    "duration": 618,
    "start_time": "2023-03-02T09:43:42.663Z"
   },
   {
    "duration": 1340,
    "start_time": "2023-03-02T09:43:43.283Z"
   },
   {
    "duration": 819,
    "start_time": "2023-03-02T09:43:44.625Z"
   },
   {
    "duration": 996,
    "start_time": "2023-03-02T09:43:45.454Z"
   },
   {
    "duration": 1680,
    "start_time": "2023-03-02T09:43:49.896Z"
   },
   {
    "duration": 4,
    "start_time": "2023-03-02T09:43:51.582Z"
   },
   {
    "duration": 261,
    "start_time": "2023-03-02T09:43:51.588Z"
   },
   {
    "duration": 27,
    "start_time": "2023-03-02T09:43:51.856Z"
   },
   {
    "duration": 28,
    "start_time": "2023-03-02T09:43:51.886Z"
   },
   {
    "duration": 11,
    "start_time": "2023-03-02T09:43:51.915Z"
   },
   {
    "duration": 31,
    "start_time": "2023-03-02T09:43:51.928Z"
   },
   {
    "duration": 74,
    "start_time": "2023-03-02T09:43:51.960Z"
   },
   {
    "duration": 125,
    "start_time": "2023-03-02T09:43:52.035Z"
   },
   {
    "duration": 19,
    "start_time": "2023-03-02T09:43:52.162Z"
   },
   {
    "duration": 109,
    "start_time": "2023-03-02T09:43:52.183Z"
   },
   {
    "duration": 6,
    "start_time": "2023-03-02T09:43:52.295Z"
   },
   {
    "duration": 130,
    "start_time": "2023-03-02T09:43:52.303Z"
   },
   {
    "duration": 14,
    "start_time": "2023-03-02T09:43:52.437Z"
   },
   {
    "duration": 35,
    "start_time": "2023-03-02T09:43:52.454Z"
   },
   {
    "duration": 99,
    "start_time": "2023-03-02T09:43:52.490Z"
   },
   {
    "duration": 5,
    "start_time": "2023-03-02T09:43:52.591Z"
   },
   {
    "duration": 14,
    "start_time": "2023-03-02T09:43:52.598Z"
   },
   {
    "duration": 215,
    "start_time": "2023-03-02T09:43:52.614Z"
   },
   {
    "duration": 6,
    "start_time": "2023-03-02T09:43:52.830Z"
   },
   {
    "duration": 113,
    "start_time": "2023-03-02T09:43:52.849Z"
   },
   {
    "duration": 12,
    "start_time": "2023-03-02T09:43:52.967Z"
   },
   {
    "duration": 26,
    "start_time": "2023-03-02T09:43:52.982Z"
   },
   {
    "duration": 29,
    "start_time": "2023-03-02T09:43:53.010Z"
   },
   {
    "duration": 6,
    "start_time": "2023-03-02T09:43:53.041Z"
   },
   {
    "duration": 42,
    "start_time": "2023-03-02T09:43:53.051Z"
   },
   {
    "duration": 15,
    "start_time": "2023-03-02T09:43:53.096Z"
   },
   {
    "duration": 12,
    "start_time": "2023-03-02T09:43:53.114Z"
   },
   {
    "duration": 36,
    "start_time": "2023-03-02T09:43:53.128Z"
   },
   {
    "duration": 39,
    "start_time": "2023-03-02T09:43:53.166Z"
   },
   {
    "duration": 17,
    "start_time": "2023-03-02T09:43:53.207Z"
   },
   {
    "duration": 9,
    "start_time": "2023-03-02T09:43:53.226Z"
   },
   {
    "duration": 46,
    "start_time": "2023-03-02T09:43:53.237Z"
   },
   {
    "duration": 43,
    "start_time": "2023-03-02T09:43:53.285Z"
   },
   {
    "duration": 16,
    "start_time": "2023-03-02T09:43:53.331Z"
   },
   {
    "duration": 72,
    "start_time": "2023-03-02T09:43:53.355Z"
   },
   {
    "duration": 12,
    "start_time": "2023-03-02T09:43:53.429Z"
   },
   {
    "duration": 54,
    "start_time": "2023-03-02T09:43:53.443Z"
   },
   {
    "duration": 6,
    "start_time": "2023-03-02T09:43:53.499Z"
   },
   {
    "duration": 27,
    "start_time": "2023-03-02T09:43:53.507Z"
   },
   {
    "duration": 39,
    "start_time": "2023-03-02T09:43:53.539Z"
   },
   {
    "duration": 21,
    "start_time": "2023-03-02T09:43:53.582Z"
   },
   {
    "duration": 7,
    "start_time": "2023-03-02T09:43:53.605Z"
   },
   {
    "duration": 9,
    "start_time": "2023-03-02T09:43:53.614Z"
   },
   {
    "duration": 14,
    "start_time": "2023-03-02T09:43:53.626Z"
   },
   {
    "duration": 33,
    "start_time": "2023-03-02T09:43:53.642Z"
   },
   {
    "duration": 29,
    "start_time": "2023-03-02T09:43:53.677Z"
   },
   {
    "duration": 20,
    "start_time": "2023-03-02T09:43:53.708Z"
   },
   {
    "duration": 10,
    "start_time": "2023-03-02T09:43:53.729Z"
   },
   {
    "duration": 13,
    "start_time": "2023-03-02T09:43:53.741Z"
   },
   {
    "duration": 4,
    "start_time": "2023-03-02T09:43:53.755Z"
   },
   {
    "duration": 39,
    "start_time": "2023-03-02T09:43:53.761Z"
   },
   {
    "duration": 7,
    "start_time": "2023-03-02T09:43:53.802Z"
   },
   {
    "duration": 27,
    "start_time": "2023-03-02T09:43:53.811Z"
   },
   {
    "duration": 34,
    "start_time": "2023-03-02T09:43:53.840Z"
   },
   {
    "duration": 32,
    "start_time": "2023-03-02T09:43:53.876Z"
   },
   {
    "duration": 10,
    "start_time": "2023-03-02T09:43:53.910Z"
   },
   {
    "duration": 14,
    "start_time": "2023-03-02T09:43:53.922Z"
   },
   {
    "duration": 6,
    "start_time": "2023-03-02T09:43:53.938Z"
   },
   {
    "duration": 50,
    "start_time": "2023-03-02T09:43:53.945Z"
   },
   {
    "duration": 14,
    "start_time": "2023-03-02T09:43:53.996Z"
   },
   {
    "duration": 11,
    "start_time": "2023-03-02T09:43:54.012Z"
   },
   {
    "duration": 31,
    "start_time": "2023-03-02T09:43:54.025Z"
   },
   {
    "duration": 23,
    "start_time": "2023-03-02T09:43:54.066Z"
   },
   {
    "duration": 11,
    "start_time": "2023-03-02T09:43:54.092Z"
   },
   {
    "duration": 6,
    "start_time": "2023-03-02T09:43:54.105Z"
   },
   {
    "duration": 122,
    "start_time": "2023-03-02T09:43:54.113Z"
   },
   {
    "duration": 90,
    "start_time": "2023-03-02T09:43:54.237Z"
   },
   {
    "duration": 48,
    "start_time": "2023-03-02T09:43:54.329Z"
   },
   {
    "duration": 16,
    "start_time": "2023-03-02T09:43:54.379Z"
   },
   {
    "duration": 12,
    "start_time": "2023-03-02T09:43:54.397Z"
   },
   {
    "duration": 12,
    "start_time": "2023-03-02T09:43:54.410Z"
   },
   {
    "duration": 8,
    "start_time": "2023-03-02T09:43:54.424Z"
   },
   {
    "duration": 22,
    "start_time": "2023-03-02T09:43:54.434Z"
   },
   {
    "duration": 29,
    "start_time": "2023-03-02T09:43:54.457Z"
   },
   {
    "duration": 10,
    "start_time": "2023-03-02T09:43:54.487Z"
   },
   {
    "duration": 6,
    "start_time": "2023-03-02T09:43:54.498Z"
   },
   {
    "duration": 10,
    "start_time": "2023-03-02T09:43:54.505Z"
   },
   {
    "duration": 10,
    "start_time": "2023-03-02T09:43:54.516Z"
   },
   {
    "duration": 15,
    "start_time": "2023-03-02T09:43:54.527Z"
   },
   {
    "duration": 14,
    "start_time": "2023-03-02T09:43:54.544Z"
   },
   {
    "duration": 65,
    "start_time": "2023-03-02T09:43:54.559Z"
   },
   {
    "duration": 25,
    "start_time": "2023-03-02T09:43:54.626Z"
   },
   {
    "duration": 45,
    "start_time": "2023-03-02T09:43:54.656Z"
   },
   {
    "duration": 14,
    "start_time": "2023-03-02T09:43:54.703Z"
   },
   {
    "duration": 6,
    "start_time": "2023-03-02T09:43:54.719Z"
   },
   {
    "duration": 5,
    "start_time": "2023-03-02T09:43:54.727Z"
   },
   {
    "duration": 6,
    "start_time": "2023-03-02T09:43:54.734Z"
   },
   {
    "duration": 12,
    "start_time": "2023-03-02T09:43:54.742Z"
   },
   {
    "duration": 123,
    "start_time": "2023-03-02T09:43:54.755Z"
   },
   {
    "duration": 8,
    "start_time": "2023-03-02T09:43:54.879Z"
   },
   {
    "duration": 83,
    "start_time": "2023-03-02T09:43:54.889Z"
   },
   {
    "duration": 2079,
    "start_time": "2023-03-02T09:43:54.976Z"
   },
   {
    "duration": 578,
    "start_time": "2023-03-02T09:43:57.065Z"
   },
   {
    "duration": 1183,
    "start_time": "2023-03-02T09:43:57.649Z"
   },
   {
    "duration": 754,
    "start_time": "2023-03-02T09:43:58.834Z"
   },
   {
    "duration": 613,
    "start_time": "2023-03-02T09:43:59.591Z"
   },
   {
    "duration": 980,
    "start_time": "2023-03-02T09:44:00.206Z"
   },
   {
    "duration": 10005,
    "start_time": "2023-03-02T09:44:01.189Z"
   },
   {
    "duration": 8211,
    "start_time": "2023-03-02T09:44:11.197Z"
   },
   {
    "duration": 154184,
    "start_time": "2023-03-02T09:44:19.410Z"
   },
   {
    "duration": 185176,
    "start_time": "2023-03-02T09:46:53.596Z"
   },
   {
    "duration": 13831,
    "start_time": "2023-03-02T09:49:58.785Z"
   },
   {
    "duration": 2110444,
    "start_time": "2023-03-02T09:50:12.619Z"
   },
   {
    "duration": 119,
    "start_time": "2023-03-02T11:48:49.350Z"
   },
   {
    "duration": 11,
    "start_time": "2023-03-02T11:49:50.680Z"
   },
   {
    "duration": 7544,
    "start_time": "2023-03-02T11:50:13.739Z"
   },
   {
    "duration": 20,
    "start_time": "2023-03-02T11:50:50.946Z"
   },
   {
    "duration": 14,
    "start_time": "2023-03-02T11:51:36.282Z"
   },
   {
    "duration": 25,
    "start_time": "2023-03-02T11:51:55.709Z"
   },
   {
    "duration": 36,
    "start_time": "2023-03-02T11:51:57.170Z"
   },
   {
    "duration": 14,
    "start_time": "2023-03-02T11:53:05.314Z"
   },
   {
    "duration": 33,
    "start_time": "2023-03-02T11:53:05.700Z"
   },
   {
    "duration": 1393,
    "start_time": "2023-03-02T11:53:31.120Z"
   },
   {
    "duration": 45,
    "start_time": "2023-03-02T11:53:32.515Z"
   },
   {
    "duration": 24,
    "start_time": "2023-03-02T11:53:54.291Z"
   },
   {
    "duration": 34,
    "start_time": "2023-03-02T11:53:54.602Z"
   },
   {
    "duration": 10,
    "start_time": "2023-03-02T11:57:10.673Z"
   },
   {
    "duration": 12,
    "start_time": "2023-03-02T11:57:23.541Z"
   },
   {
    "duration": 26,
    "start_time": "2023-03-02T11:57:41.700Z"
   },
   {
    "duration": 9,
    "start_time": "2023-03-02T11:57:56.312Z"
   },
   {
    "duration": 4,
    "start_time": "2023-03-02T11:58:37.389Z"
   },
   {
    "duration": 3,
    "start_time": "2023-03-02T11:59:17.400Z"
   },
   {
    "duration": 15,
    "start_time": "2023-03-02T12:01:16.398Z"
   },
   {
    "duration": 66,
    "start_time": "2023-03-02T12:12:45.447Z"
   },
   {
    "duration": 61,
    "start_time": "2023-03-02T12:17:01.183Z"
   },
   {
    "duration": 61,
    "start_time": "2023-03-02T12:24:22.882Z"
   },
   {
    "duration": 64,
    "start_time": "2023-03-02T12:25:22.376Z"
   },
   {
    "duration": 58,
    "start_time": "2023-03-02T12:26:39.577Z"
   },
   {
    "duration": 3,
    "start_time": "2023-03-02T12:27:54.875Z"
   },
   {
    "duration": 66,
    "start_time": "2023-03-02T12:28:04.253Z"
   },
   {
    "duration": 16,
    "start_time": "2023-03-02T12:28:23.841Z"
   },
   {
    "duration": 4,
    "start_time": "2023-03-02T12:29:00.439Z"
   },
   {
    "duration": 78,
    "start_time": "2023-03-02T12:29:05.831Z"
   },
   {
    "duration": 81,
    "start_time": "2023-03-02T12:29:18.779Z"
   },
   {
    "duration": 51,
    "start_time": "2023-03-02T12:30:40.470Z"
   },
   {
    "duration": 6,
    "start_time": "2023-03-02T12:32:09.714Z"
   },
   {
    "duration": 17,
    "start_time": "2023-03-02T12:32:15.543Z"
   },
   {
    "duration": 18,
    "start_time": "2023-03-02T12:32:57.046Z"
   },
   {
    "duration": 6,
    "start_time": "2023-03-02T12:33:00.811Z"
   },
   {
    "duration": 13,
    "start_time": "2023-03-02T12:33:24.023Z"
   },
   {
    "duration": 63,
    "start_time": "2023-03-02T12:41:09.153Z"
   },
   {
    "duration": 60,
    "start_time": "2023-03-02T12:59:32.823Z"
   },
   {
    "duration": 49,
    "start_time": "2023-03-02T13:02:12.594Z"
   },
   {
    "duration": 57,
    "start_time": "2023-03-02T13:06:54.674Z"
   },
   {
    "duration": 44,
    "start_time": "2023-03-02T13:12:44.119Z"
   },
   {
    "duration": 14,
    "start_time": "2023-03-02T13:15:17.782Z"
   },
   {
    "duration": 86,
    "start_time": "2023-03-02T13:17:15.040Z"
   },
   {
    "duration": 448,
    "start_time": "2023-03-02T13:26:01.816Z"
   },
   {
    "duration": 6,
    "start_time": "2023-03-02T13:27:03.789Z"
   },
   {
    "duration": 36,
    "start_time": "2023-03-02T13:28:04.394Z"
   },
   {
    "duration": 22,
    "start_time": "2023-03-02T13:28:51.716Z"
   },
   {
    "duration": 53,
    "start_time": "2023-03-02T13:29:07.779Z"
   },
   {
    "duration": 32,
    "start_time": "2023-03-02T13:32:29.471Z"
   },
   {
    "duration": 34,
    "start_time": "2023-03-02T13:32:41.044Z"
   },
   {
    "duration": 1434,
    "start_time": "2023-03-02T13:33:36.701Z"
   },
   {
    "duration": 4,
    "start_time": "2023-03-02T13:33:38.137Z"
   },
   {
    "duration": 266,
    "start_time": "2023-03-02T13:33:38.149Z"
   },
   {
    "duration": 21,
    "start_time": "2023-03-02T13:33:38.418Z"
   },
   {
    "duration": 39,
    "start_time": "2023-03-02T13:33:38.440Z"
   },
   {
    "duration": 12,
    "start_time": "2023-03-02T13:33:38.481Z"
   },
   {
    "duration": 52,
    "start_time": "2023-03-02T13:33:38.495Z"
   },
   {
    "duration": 109,
    "start_time": "2023-03-02T13:33:38.549Z"
   },
   {
    "duration": 134,
    "start_time": "2023-03-02T13:33:38.659Z"
   },
   {
    "duration": 8,
    "start_time": "2023-03-02T13:33:38.795Z"
   },
   {
    "duration": 118,
    "start_time": "2023-03-02T13:33:38.805Z"
   },
   {
    "duration": 5,
    "start_time": "2023-03-02T13:33:38.925Z"
   },
   {
    "duration": 136,
    "start_time": "2023-03-02T13:33:38.933Z"
   },
   {
    "duration": 7,
    "start_time": "2023-03-02T13:33:39.071Z"
   },
   {
    "duration": 12,
    "start_time": "2023-03-02T13:33:39.079Z"
   },
   {
    "duration": 157,
    "start_time": "2023-03-02T13:33:39.093Z"
   },
   {
    "duration": 6,
    "start_time": "2023-03-02T13:33:39.252Z"
   },
   {
    "duration": 11,
    "start_time": "2023-03-02T13:33:39.260Z"
   },
   {
    "duration": 222,
    "start_time": "2023-03-02T13:33:39.273Z"
   },
   {
    "duration": 7,
    "start_time": "2023-03-02T13:33:39.497Z"
   },
   {
    "duration": 123,
    "start_time": "2023-03-02T13:33:39.506Z"
   },
   {
    "duration": 19,
    "start_time": "2023-03-02T13:33:39.632Z"
   },
   {
    "duration": 25,
    "start_time": "2023-03-02T13:33:39.653Z"
   },
   {
    "duration": 33,
    "start_time": "2023-03-02T13:33:39.680Z"
   },
   {
    "duration": 6,
    "start_time": "2023-03-02T13:33:39.715Z"
   },
   {
    "duration": 17,
    "start_time": "2023-03-02T13:33:39.723Z"
   },
   {
    "duration": 2986,
    "start_time": "2023-03-02T13:33:39.741Z"
   },
   {
    "duration": 23,
    "start_time": "2023-03-02T13:33:42.728Z"
   },
   {
    "duration": 26,
    "start_time": "2023-03-02T13:33:42.754Z"
   },
   {
    "duration": 19,
    "start_time": "2023-03-02T13:33:42.782Z"
   },
   {
    "duration": 6,
    "start_time": "2023-03-02T13:33:42.849Z"
   },
   {
    "duration": 6,
    "start_time": "2023-03-02T13:33:42.856Z"
   },
   {
    "duration": 92,
    "start_time": "2023-03-02T13:33:42.865Z"
   },
   {
    "duration": 30,
    "start_time": "2023-03-02T13:33:42.959Z"
   },
   {
    "duration": 59,
    "start_time": "2023-03-02T13:33:42.991Z"
   },
   {
    "duration": 16,
    "start_time": "2023-03-02T13:33:43.053Z"
   },
   {
    "duration": 6,
    "start_time": "2023-03-02T13:33:43.072Z"
   },
   {
    "duration": 17,
    "start_time": "2023-03-02T13:33:43.080Z"
   },
   {
    "duration": 52,
    "start_time": "2023-03-02T13:33:43.098Z"
   },
   {
    "duration": 25,
    "start_time": "2023-03-02T13:33:43.158Z"
   },
   {
    "duration": 34,
    "start_time": "2023-03-02T13:33:43.184Z"
   },
   {
    "duration": 29,
    "start_time": "2023-03-02T13:33:43.220Z"
   },
   {
    "duration": 10,
    "start_time": "2023-03-02T13:33:43.251Z"
   },
   {
    "duration": 135,
    "start_time": "2023-03-02T13:33:43.263Z"
   },
   {
    "duration": 30,
    "start_time": "2023-03-02T13:33:43.399Z"
   },
   {
    "duration": 19,
    "start_time": "2023-03-02T13:33:43.431Z"
   },
   {
    "duration": 31,
    "start_time": "2023-03-02T13:33:43.452Z"
   },
   {
    "duration": 25,
    "start_time": "2023-03-02T13:33:43.485Z"
   },
   {
    "duration": 8,
    "start_time": "2023-03-02T13:33:43.511Z"
   },
   {
    "duration": 6,
    "start_time": "2023-03-02T13:33:43.521Z"
   },
   {
    "duration": 15,
    "start_time": "2023-03-02T13:33:43.529Z"
   },
   {
    "duration": 19,
    "start_time": "2023-03-02T13:33:43.546Z"
   },
   {
    "duration": 6,
    "start_time": "2023-03-02T13:33:43.567Z"
   },
   {
    "duration": 24,
    "start_time": "2023-03-02T13:33:43.575Z"
   },
   {
    "duration": 24,
    "start_time": "2023-03-02T13:33:43.601Z"
   },
   {
    "duration": 18,
    "start_time": "2023-03-02T13:33:43.628Z"
   },
   {
    "duration": 6,
    "start_time": "2023-03-02T13:33:43.648Z"
   },
   {
    "duration": 8,
    "start_time": "2023-03-02T13:33:43.656Z"
   },
   {
    "duration": 7,
    "start_time": "2023-03-02T13:33:43.666Z"
   },
   {
    "duration": 28,
    "start_time": "2023-03-02T13:33:43.674Z"
   },
   {
    "duration": 11,
    "start_time": "2023-03-02T13:33:43.705Z"
   },
   {
    "duration": 11,
    "start_time": "2023-03-02T13:33:43.718Z"
   },
   {
    "duration": 41,
    "start_time": "2023-03-02T13:33:43.731Z"
   },
   {
    "duration": 16,
    "start_time": "2023-03-02T13:33:43.774Z"
   },
   {
    "duration": 15,
    "start_time": "2023-03-02T13:33:43.792Z"
   },
   {
    "duration": 7,
    "start_time": "2023-03-02T13:33:43.808Z"
   },
   {
    "duration": 133,
    "start_time": "2023-03-02T13:33:43.816Z"
   },
   {
    "duration": 53,
    "start_time": "2023-03-02T13:33:43.951Z"
   },
   {
    "duration": 66,
    "start_time": "2023-03-02T13:33:44.006Z"
   },
   {
    "duration": 14,
    "start_time": "2023-03-02T13:33:44.074Z"
   },
   {
    "duration": 19,
    "start_time": "2023-03-02T13:33:44.089Z"
   },
   {
    "duration": 7,
    "start_time": "2023-03-02T13:33:44.109Z"
   },
   {
    "duration": 9,
    "start_time": "2023-03-02T13:33:44.118Z"
   },
   {
    "duration": 20,
    "start_time": "2023-03-02T13:33:44.128Z"
   },
   {
    "duration": 5,
    "start_time": "2023-03-02T13:33:44.150Z"
   },
   {
    "duration": 9,
    "start_time": "2023-03-02T13:33:44.156Z"
   },
   {
    "duration": 6,
    "start_time": "2023-03-02T13:33:44.167Z"
   },
   {
    "duration": 8,
    "start_time": "2023-03-02T13:33:44.174Z"
   },
   {
    "duration": 6,
    "start_time": "2023-03-02T13:33:44.183Z"
   },
   {
    "duration": 7,
    "start_time": "2023-03-02T13:33:44.190Z"
   },
   {
    "duration": 6,
    "start_time": "2023-03-02T13:33:44.198Z"
   },
   {
    "duration": 69,
    "start_time": "2023-03-02T13:33:44.206Z"
   },
   {
    "duration": 24,
    "start_time": "2023-03-02T13:33:44.276Z"
   },
   {
    "duration": 16,
    "start_time": "2023-03-02T13:33:44.302Z"
   },
   {
    "duration": 40,
    "start_time": "2023-03-02T13:33:44.320Z"
   },
   {
    "duration": 11,
    "start_time": "2023-03-02T13:33:44.362Z"
   },
   {
    "duration": 8,
    "start_time": "2023-03-02T13:33:44.375Z"
   },
   {
    "duration": 6,
    "start_time": "2023-03-02T13:33:44.385Z"
   },
   {
    "duration": 18,
    "start_time": "2023-03-02T13:33:44.393Z"
   },
   {
    "duration": 85,
    "start_time": "2023-03-02T13:33:44.413Z"
   },
   {
    "duration": 3,
    "start_time": "2023-03-02T13:33:44.499Z"
   },
   {
    "duration": 84,
    "start_time": "2023-03-02T13:33:44.504Z"
   },
   {
    "duration": 2090,
    "start_time": "2023-03-02T13:33:44.590Z"
   },
   {
    "duration": 576,
    "start_time": "2023-03-02T13:33:46.681Z"
   },
   {
    "duration": 1190,
    "start_time": "2023-03-02T13:33:47.258Z"
   },
   {
    "duration": 698,
    "start_time": "2023-03-02T13:33:48.450Z"
   },
   {
    "duration": 550,
    "start_time": "2023-03-02T13:33:49.150Z"
   },
   {
    "duration": 800,
    "start_time": "2023-03-02T13:33:49.702Z"
   },
   {
    "duration": 118,
    "start_time": "2023-03-02T13:33:50.503Z"
   },
   {
    "duration": 0,
    "start_time": "2023-03-02T13:33:50.623Z"
   },
   {
    "duration": 0,
    "start_time": "2023-03-02T13:33:50.625Z"
   },
   {
    "duration": 0,
    "start_time": "2023-03-02T13:33:50.626Z"
   },
   {
    "duration": 0,
    "start_time": "2023-03-02T13:33:50.628Z"
   },
   {
    "duration": 0,
    "start_time": "2023-03-02T13:33:50.629Z"
   },
   {
    "duration": 0,
    "start_time": "2023-03-02T13:33:50.630Z"
   },
   {
    "duration": 0,
    "start_time": "2023-03-02T13:33:50.631Z"
   },
   {
    "duration": 0,
    "start_time": "2023-03-02T13:33:50.647Z"
   },
   {
    "duration": 0,
    "start_time": "2023-03-02T13:33:50.650Z"
   },
   {
    "duration": 0,
    "start_time": "2023-03-02T13:33:50.651Z"
   },
   {
    "duration": 0,
    "start_time": "2023-03-02T13:33:50.652Z"
   },
   {
    "duration": 0,
    "start_time": "2023-03-02T13:33:50.653Z"
   },
   {
    "duration": 0,
    "start_time": "2023-03-02T13:33:50.654Z"
   },
   {
    "duration": 0,
    "start_time": "2023-03-02T13:33:50.656Z"
   },
   {
    "duration": 0,
    "start_time": "2023-03-02T13:33:50.657Z"
   },
   {
    "duration": 0,
    "start_time": "2023-03-02T13:33:50.658Z"
   },
   {
    "duration": 4,
    "start_time": "2023-03-02T13:34:33.361Z"
   },
   {
    "duration": 12,
    "start_time": "2023-03-02T13:34:33.533Z"
   },
   {
    "duration": 3,
    "start_time": "2023-03-02T13:34:33.693Z"
   },
   {
    "duration": 18,
    "start_time": "2023-03-02T13:34:33.956Z"
   },
   {
    "duration": 58,
    "start_time": "2023-03-02T13:34:34.416Z"
   },
   {
    "duration": 58,
    "start_time": "2023-03-02T13:34:34.960Z"
   },
   {
    "duration": 7,
    "start_time": "2023-03-02T13:34:35.453Z"
   },
   {
    "duration": 14,
    "start_time": "2023-03-02T13:34:35.733Z"
   },
   {
    "duration": 59,
    "start_time": "2023-03-02T13:34:36.560Z"
   },
   {
    "duration": 60,
    "start_time": "2023-03-02T13:34:37.388Z"
   },
   {
    "duration": 46,
    "start_time": "2023-03-02T13:34:38.081Z"
   },
   {
    "duration": 55,
    "start_time": "2023-03-02T13:34:38.976Z"
   },
   {
    "duration": 42,
    "start_time": "2023-03-02T13:34:40.281Z"
   },
   {
    "duration": 31,
    "start_time": "2023-03-02T13:34:42.118Z"
   },
   {
    "duration": 37,
    "start_time": "2023-03-02T13:35:01.545Z"
   },
   {
    "duration": 6,
    "start_time": "2023-03-02T13:35:05.903Z"
   },
   {
    "duration": 17,
    "start_time": "2023-03-02T13:35:05.915Z"
   },
   {
    "duration": 246,
    "start_time": "2023-03-02T13:35:05.934Z"
   },
   {
    "duration": 18,
    "start_time": "2023-03-02T13:35:06.182Z"
   },
   {
    "duration": 24,
    "start_time": "2023-03-02T13:35:06.203Z"
   },
   {
    "duration": 13,
    "start_time": "2023-03-02T13:35:06.249Z"
   },
   {
    "duration": 25,
    "start_time": "2023-03-02T13:35:06.264Z"
   },
   {
    "duration": 93,
    "start_time": "2023-03-02T13:35:06.290Z"
   },
   {
    "duration": 115,
    "start_time": "2023-03-02T13:35:06.384Z"
   },
   {
    "duration": 6,
    "start_time": "2023-03-02T13:35:06.502Z"
   },
   {
    "duration": 141,
    "start_time": "2023-03-02T13:35:06.510Z"
   },
   {
    "duration": 6,
    "start_time": "2023-03-02T13:35:06.653Z"
   },
   {
    "duration": 132,
    "start_time": "2023-03-02T13:35:06.661Z"
   },
   {
    "duration": 6,
    "start_time": "2023-03-02T13:35:06.795Z"
   },
   {
    "duration": 8,
    "start_time": "2023-03-02T13:35:06.803Z"
   },
   {
    "duration": 122,
    "start_time": "2023-03-02T13:35:06.813Z"
   },
   {
    "duration": 15,
    "start_time": "2023-03-02T13:35:06.937Z"
   },
   {
    "duration": 10,
    "start_time": "2023-03-02T13:35:06.954Z"
   },
   {
    "duration": 214,
    "start_time": "2023-03-02T13:35:06.966Z"
   },
   {
    "duration": 5,
    "start_time": "2023-03-02T13:35:07.182Z"
   },
   {
    "duration": 101,
    "start_time": "2023-03-02T13:35:07.189Z"
   },
   {
    "duration": 5,
    "start_time": "2023-03-02T13:35:07.291Z"
   },
   {
    "duration": 20,
    "start_time": "2023-03-02T13:35:07.297Z"
   },
   {
    "duration": 25,
    "start_time": "2023-03-02T13:35:07.319Z"
   },
   {
    "duration": 4,
    "start_time": "2023-03-02T13:35:07.351Z"
   },
   {
    "duration": 21,
    "start_time": "2023-03-02T13:35:07.357Z"
   },
   {
    "duration": 3090,
    "start_time": "2023-03-02T13:35:07.379Z"
   },
   {
    "duration": 7,
    "start_time": "2023-03-02T13:35:10.472Z"
   },
   {
    "duration": 10,
    "start_time": "2023-03-02T13:35:10.481Z"
   },
   {
    "duration": 55,
    "start_time": "2023-03-02T13:35:10.493Z"
   },
   {
    "duration": 7,
    "start_time": "2023-03-02T13:35:10.550Z"
   },
   {
    "duration": 12,
    "start_time": "2023-03-02T13:35:10.559Z"
   },
   {
    "duration": 22,
    "start_time": "2023-03-02T13:35:10.572Z"
   },
   {
    "duration": 79,
    "start_time": "2023-03-02T13:35:10.596Z"
   },
   {
    "duration": 9,
    "start_time": "2023-03-02T13:35:10.677Z"
   },
   {
    "duration": 8,
    "start_time": "2023-03-02T13:35:10.689Z"
   },
   {
    "duration": 5,
    "start_time": "2023-03-02T13:35:10.750Z"
   },
   {
    "duration": 35,
    "start_time": "2023-03-02T13:35:10.757Z"
   },
   {
    "duration": 8,
    "start_time": "2023-03-02T13:35:10.794Z"
   },
   {
    "duration": 63,
    "start_time": "2023-03-02T13:35:10.804Z"
   },
   {
    "duration": 33,
    "start_time": "2023-03-02T13:35:10.869Z"
   },
   {
    "duration": 26,
    "start_time": "2023-03-02T13:35:10.903Z"
   },
   {
    "duration": 20,
    "start_time": "2023-03-02T13:35:10.930Z"
   },
   {
    "duration": 25,
    "start_time": "2023-03-02T13:35:10.952Z"
   },
   {
    "duration": 31,
    "start_time": "2023-03-02T13:35:10.979Z"
   },
   {
    "duration": 14,
    "start_time": "2023-03-02T13:35:11.012Z"
   },
   {
    "duration": 25,
    "start_time": "2023-03-02T13:35:11.027Z"
   },
   {
    "duration": 19,
    "start_time": "2023-03-02T13:35:11.054Z"
   },
   {
    "duration": 24,
    "start_time": "2023-03-02T13:35:11.075Z"
   },
   {
    "duration": 11,
    "start_time": "2023-03-02T13:35:11.101Z"
   },
   {
    "duration": 10,
    "start_time": "2023-03-02T13:35:11.113Z"
   },
   {
    "duration": 14,
    "start_time": "2023-03-02T13:35:11.124Z"
   },
   {
    "duration": 10,
    "start_time": "2023-03-02T13:35:11.140Z"
   },
   {
    "duration": 25,
    "start_time": "2023-03-02T13:35:11.152Z"
   },
   {
    "duration": 19,
    "start_time": "2023-03-02T13:35:11.179Z"
   },
   {
    "duration": 28,
    "start_time": "2023-03-02T13:35:11.199Z"
   },
   {
    "duration": 10,
    "start_time": "2023-03-02T13:35:11.230Z"
   },
   {
    "duration": 9,
    "start_time": "2023-03-02T13:35:11.242Z"
   },
   {
    "duration": 7,
    "start_time": "2023-03-02T13:35:11.253Z"
   },
   {
    "duration": 30,
    "start_time": "2023-03-02T13:35:11.262Z"
   },
   {
    "duration": 15,
    "start_time": "2023-03-02T13:35:11.294Z"
   },
   {
    "duration": 7,
    "start_time": "2023-03-02T13:35:11.311Z"
   },
   {
    "duration": 28,
    "start_time": "2023-03-02T13:35:11.320Z"
   },
   {
    "duration": 20,
    "start_time": "2023-03-02T13:35:11.350Z"
   },
   {
    "duration": 7,
    "start_time": "2023-03-02T13:35:11.372Z"
   },
   {
    "duration": 7,
    "start_time": "2023-03-02T13:35:11.380Z"
   },
   {
    "duration": 128,
    "start_time": "2023-03-02T13:35:11.389Z"
   },
   {
    "duration": 54,
    "start_time": "2023-03-02T13:35:11.518Z"
   },
   {
    "duration": 43,
    "start_time": "2023-03-02T13:35:11.574Z"
   },
   {
    "duration": 30,
    "start_time": "2023-03-02T13:35:11.623Z"
   },
   {
    "duration": 14,
    "start_time": "2023-03-02T13:35:11.655Z"
   },
   {
    "duration": 5,
    "start_time": "2023-03-02T13:35:11.671Z"
   },
   {
    "duration": 7,
    "start_time": "2023-03-02T13:35:11.678Z"
   },
   {
    "duration": 8,
    "start_time": "2023-03-02T13:35:11.687Z"
   },
   {
    "duration": 8,
    "start_time": "2023-03-02T13:35:11.696Z"
   },
   {
    "duration": 7,
    "start_time": "2023-03-02T13:35:11.706Z"
   },
   {
    "duration": 6,
    "start_time": "2023-03-02T13:35:11.714Z"
   },
   {
    "duration": 28,
    "start_time": "2023-03-02T13:35:11.722Z"
   },
   {
    "duration": 15,
    "start_time": "2023-03-02T13:35:11.751Z"
   },
   {
    "duration": 11,
    "start_time": "2023-03-02T13:35:11.767Z"
   },
   {
    "duration": 11,
    "start_time": "2023-03-02T13:35:11.780Z"
   },
   {
    "duration": 49,
    "start_time": "2023-03-02T13:35:11.793Z"
   },
   {
    "duration": 30,
    "start_time": "2023-03-02T13:35:11.844Z"
   },
   {
    "duration": 16,
    "start_time": "2023-03-02T13:35:11.875Z"
   },
   {
    "duration": 22,
    "start_time": "2023-03-02T13:35:11.894Z"
   },
   {
    "duration": 8,
    "start_time": "2023-03-02T13:35:11.918Z"
   },
   {
    "duration": 5,
    "start_time": "2023-03-02T13:35:11.949Z"
   },
   {
    "duration": 5,
    "start_time": "2023-03-02T13:35:11.956Z"
   },
   {
    "duration": 9,
    "start_time": "2023-03-02T13:35:11.963Z"
   },
   {
    "duration": 91,
    "start_time": "2023-03-02T13:35:11.974Z"
   },
   {
    "duration": 3,
    "start_time": "2023-03-02T13:35:12.067Z"
   },
   {
    "duration": 79,
    "start_time": "2023-03-02T13:35:12.071Z"
   },
   {
    "duration": 1930,
    "start_time": "2023-03-02T13:35:12.151Z"
   },
   {
    "duration": 513,
    "start_time": "2023-03-02T13:35:14.083Z"
   },
   {
    "duration": 1107,
    "start_time": "2023-03-02T13:35:14.598Z"
   },
   {
    "duration": 746,
    "start_time": "2023-03-02T13:35:15.707Z"
   },
   {
    "duration": 550,
    "start_time": "2023-03-02T13:35:16.455Z"
   },
   {
    "duration": 803,
    "start_time": "2023-03-02T13:35:17.007Z"
   },
   {
    "duration": 4,
    "start_time": "2023-03-02T13:35:17.812Z"
   },
   {
    "duration": 21,
    "start_time": "2023-03-02T13:35:17.818Z"
   },
   {
    "duration": 4,
    "start_time": "2023-03-02T13:35:17.847Z"
   },
   {
    "duration": 23,
    "start_time": "2023-03-02T13:35:17.852Z"
   },
   {
    "duration": 63,
    "start_time": "2023-03-02T13:35:17.876Z"
   },
   {
    "duration": 56,
    "start_time": "2023-03-02T13:35:17.940Z"
   },
   {
    "duration": 5,
    "start_time": "2023-03-02T13:35:17.998Z"
   },
   {
    "duration": 17,
    "start_time": "2023-03-02T13:35:18.005Z"
   },
   {
    "duration": 85,
    "start_time": "2023-03-02T13:35:18.023Z"
   },
   {
    "duration": 69,
    "start_time": "2023-03-02T13:35:18.110Z"
   },
   {
    "duration": 45,
    "start_time": "2023-03-02T13:35:18.180Z"
   },
   {
    "duration": 71,
    "start_time": "2023-03-02T13:35:18.226Z"
   },
   {
    "duration": 58,
    "start_time": "2023-03-02T13:35:18.299Z"
   },
   {
    "duration": 31,
    "start_time": "2023-03-02T13:35:18.359Z"
   },
   {
    "duration": 22,
    "start_time": "2023-03-02T13:35:18.392Z"
   },
   {
    "duration": 9,
    "start_time": "2023-03-02T13:35:51.257Z"
   },
   {
    "duration": 14,
    "start_time": "2023-03-02T13:37:34.804Z"
   },
   {
    "duration": 17,
    "start_time": "2023-03-02T13:37:51.250Z"
   },
   {
    "duration": 1472,
    "start_time": "2023-03-02T13:38:20.570Z"
   },
   {
    "duration": 7,
    "start_time": "2023-03-02T13:38:22.044Z"
   },
   {
    "duration": 236,
    "start_time": "2023-03-02T13:38:22.052Z"
   },
   {
    "duration": 20,
    "start_time": "2023-03-02T13:38:22.290Z"
   },
   {
    "duration": 43,
    "start_time": "2023-03-02T13:38:22.313Z"
   },
   {
    "duration": 16,
    "start_time": "2023-03-02T13:38:22.358Z"
   },
   {
    "duration": 18,
    "start_time": "2023-03-02T13:38:22.376Z"
   },
   {
    "duration": 104,
    "start_time": "2023-03-02T13:38:22.396Z"
   },
   {
    "duration": 121,
    "start_time": "2023-03-02T13:38:22.501Z"
   },
   {
    "duration": 7,
    "start_time": "2023-03-02T13:38:22.623Z"
   },
   {
    "duration": 141,
    "start_time": "2023-03-02T13:38:22.632Z"
   },
   {
    "duration": 6,
    "start_time": "2023-03-02T13:38:22.774Z"
   },
   {
    "duration": 122,
    "start_time": "2023-03-02T13:38:22.781Z"
   },
   {
    "duration": 7,
    "start_time": "2023-03-02T13:38:22.906Z"
   },
   {
    "duration": 11,
    "start_time": "2023-03-02T13:38:22.915Z"
   },
   {
    "duration": 144,
    "start_time": "2023-03-02T13:38:22.928Z"
   },
   {
    "duration": 5,
    "start_time": "2023-03-02T13:38:23.074Z"
   },
   {
    "duration": 14,
    "start_time": "2023-03-02T13:38:23.082Z"
   },
   {
    "duration": 277,
    "start_time": "2023-03-02T13:38:23.098Z"
   },
   {
    "duration": 7,
    "start_time": "2023-03-02T13:38:23.378Z"
   },
   {
    "duration": 114,
    "start_time": "2023-03-02T13:38:23.387Z"
   },
   {
    "duration": 7,
    "start_time": "2023-03-02T13:38:23.502Z"
   },
   {
    "duration": 24,
    "start_time": "2023-03-02T13:38:23.511Z"
   },
   {
    "duration": 31,
    "start_time": "2023-03-02T13:38:23.537Z"
   },
   {
    "duration": 6,
    "start_time": "2023-03-02T13:38:23.570Z"
   },
   {
    "duration": 13,
    "start_time": "2023-03-02T13:38:23.578Z"
   },
   {
    "duration": 3262,
    "start_time": "2023-03-02T13:38:23.593Z"
   },
   {
    "duration": 7,
    "start_time": "2023-03-02T13:38:26.857Z"
   },
   {
    "duration": 22,
    "start_time": "2023-03-02T13:38:26.867Z"
   },
   {
    "duration": 65,
    "start_time": "2023-03-02T13:38:26.891Z"
   },
   {
    "duration": 8,
    "start_time": "2023-03-02T13:38:26.958Z"
   },
   {
    "duration": 8,
    "start_time": "2023-03-02T13:38:26.967Z"
   },
   {
    "duration": 21,
    "start_time": "2023-03-02T13:38:26.977Z"
   },
   {
    "duration": 61,
    "start_time": "2023-03-02T13:38:27.000Z"
   },
   {
    "duration": 9,
    "start_time": "2023-03-02T13:38:27.063Z"
   },
   {
    "duration": 5,
    "start_time": "2023-03-02T13:38:27.075Z"
   },
   {
    "duration": 8,
    "start_time": "2023-03-02T13:38:27.082Z"
   },
   {
    "duration": 62,
    "start_time": "2023-03-02T13:38:27.092Z"
   },
   {
    "duration": 5,
    "start_time": "2023-03-02T13:38:27.155Z"
   },
   {
    "duration": 28,
    "start_time": "2023-03-02T13:38:27.162Z"
   },
   {
    "duration": 56,
    "start_time": "2023-03-02T13:38:27.197Z"
   },
   {
    "duration": 13,
    "start_time": "2023-03-02T13:38:27.255Z"
   },
   {
    "duration": 8,
    "start_time": "2023-03-02T13:38:27.269Z"
   },
   {
    "duration": 9,
    "start_time": "2023-03-02T13:38:27.279Z"
   },
   {
    "duration": 19,
    "start_time": "2023-03-02T13:38:27.290Z"
   },
   {
    "duration": 4,
    "start_time": "2023-03-02T13:38:27.312Z"
   },
   {
    "duration": 35,
    "start_time": "2023-03-02T13:38:27.317Z"
   },
   {
    "duration": 23,
    "start_time": "2023-03-02T13:38:27.354Z"
   },
   {
    "duration": 10,
    "start_time": "2023-03-02T13:38:27.378Z"
   },
   {
    "duration": 6,
    "start_time": "2023-03-02T13:38:27.389Z"
   },
   {
    "duration": 8,
    "start_time": "2023-03-02T13:38:27.397Z"
   },
   {
    "duration": 13,
    "start_time": "2023-03-02T13:38:27.407Z"
   },
   {
    "duration": 6,
    "start_time": "2023-03-02T13:38:27.422Z"
   },
   {
    "duration": 33,
    "start_time": "2023-03-02T13:38:27.429Z"
   },
   {
    "duration": 28,
    "start_time": "2023-03-02T13:38:27.464Z"
   },
   {
    "duration": 13,
    "start_time": "2023-03-02T13:38:27.494Z"
   },
   {
    "duration": 6,
    "start_time": "2023-03-02T13:38:27.509Z"
   },
   {
    "duration": 17,
    "start_time": "2023-03-02T13:38:27.518Z"
   },
   {
    "duration": 3,
    "start_time": "2023-03-02T13:38:27.551Z"
   },
   {
    "duration": 26,
    "start_time": "2023-03-02T13:38:27.556Z"
   },
   {
    "duration": 17,
    "start_time": "2023-03-02T13:38:27.584Z"
   },
   {
    "duration": 19,
    "start_time": "2023-03-02T13:38:27.603Z"
   },
   {
    "duration": 34,
    "start_time": "2023-03-02T13:38:27.624Z"
   },
   {
    "duration": 17,
    "start_time": "2023-03-02T13:38:27.660Z"
   },
   {
    "duration": 6,
    "start_time": "2023-03-02T13:38:27.679Z"
   },
   {
    "duration": 13,
    "start_time": "2023-03-02T13:38:27.686Z"
   },
   {
    "duration": 122,
    "start_time": "2023-03-02T13:38:27.701Z"
   },
   {
    "duration": 105,
    "start_time": "2023-03-02T13:38:27.825Z"
   },
   {
    "duration": 62,
    "start_time": "2023-03-02T13:38:27.933Z"
   },
   {
    "duration": 16,
    "start_time": "2023-03-02T13:38:27.997Z"
   },
   {
    "duration": 38,
    "start_time": "2023-03-02T13:38:28.015Z"
   },
   {
    "duration": 18,
    "start_time": "2023-03-02T13:38:28.055Z"
   },
   {
    "duration": 11,
    "start_time": "2023-03-02T13:38:28.075Z"
   },
   {
    "duration": 14,
    "start_time": "2023-03-02T13:38:28.088Z"
   },
   {
    "duration": 17,
    "start_time": "2023-03-02T13:38:28.104Z"
   },
   {
    "duration": 11,
    "start_time": "2023-03-02T13:38:28.123Z"
   },
   {
    "duration": 7,
    "start_time": "2023-03-02T13:38:28.136Z"
   },
   {
    "duration": 16,
    "start_time": "2023-03-02T13:38:28.144Z"
   },
   {
    "duration": 11,
    "start_time": "2023-03-02T13:38:28.162Z"
   },
   {
    "duration": 11,
    "start_time": "2023-03-02T13:38:28.175Z"
   },
   {
    "duration": 14,
    "start_time": "2023-03-02T13:38:28.189Z"
   },
   {
    "duration": 53,
    "start_time": "2023-03-02T13:38:28.205Z"
   },
   {
    "duration": 30,
    "start_time": "2023-03-02T13:38:28.260Z"
   },
   {
    "duration": 15,
    "start_time": "2023-03-02T13:38:28.292Z"
   },
   {
    "duration": 40,
    "start_time": "2023-03-02T13:38:28.309Z"
   },
   {
    "duration": 8,
    "start_time": "2023-03-02T13:38:28.351Z"
   },
   {
    "duration": 12,
    "start_time": "2023-03-02T13:38:28.360Z"
   },
   {
    "duration": 8,
    "start_time": "2023-03-02T13:38:28.374Z"
   },
   {
    "duration": 12,
    "start_time": "2023-03-02T13:38:28.384Z"
   },
   {
    "duration": 85,
    "start_time": "2023-03-02T13:38:28.398Z"
   },
   {
    "duration": 3,
    "start_time": "2023-03-02T13:38:28.485Z"
   },
   {
    "duration": 85,
    "start_time": "2023-03-02T13:38:28.489Z"
   },
   {
    "duration": 2017,
    "start_time": "2023-03-02T13:38:28.577Z"
   },
   {
    "duration": 564,
    "start_time": "2023-03-02T13:38:30.597Z"
   },
   {
    "duration": 1187,
    "start_time": "2023-03-02T13:38:31.163Z"
   },
   {
    "duration": 720,
    "start_time": "2023-03-02T13:38:32.352Z"
   },
   {
    "duration": 611,
    "start_time": "2023-03-02T13:38:33.073Z"
   },
   {
    "duration": 860,
    "start_time": "2023-03-02T13:38:33.685Z"
   },
   {
    "duration": 4,
    "start_time": "2023-03-02T13:38:34.548Z"
   },
   {
    "duration": 15,
    "start_time": "2023-03-02T13:38:34.554Z"
   },
   {
    "duration": 5,
    "start_time": "2023-03-02T13:38:34.571Z"
   },
   {
    "duration": 20,
    "start_time": "2023-03-02T13:38:34.578Z"
   },
   {
    "duration": 91,
    "start_time": "2023-03-02T13:38:34.600Z"
   },
   {
    "duration": 68,
    "start_time": "2023-03-02T13:38:34.693Z"
   },
   {
    "duration": 6,
    "start_time": "2023-03-02T13:38:34.763Z"
   },
   {
    "duration": 26,
    "start_time": "2023-03-02T13:38:34.771Z"
   },
   {
    "duration": 86,
    "start_time": "2023-03-02T13:38:34.799Z"
   },
   {
    "duration": 72,
    "start_time": "2023-03-02T13:38:34.887Z"
   },
   {
    "duration": 43,
    "start_time": "2023-03-02T13:38:34.961Z"
   },
   {
    "duration": 85,
    "start_time": "2023-03-02T13:38:35.006Z"
   },
   {
    "duration": 46,
    "start_time": "2023-03-02T13:38:35.092Z"
   },
   {
    "duration": 22,
    "start_time": "2023-03-02T13:38:35.147Z"
   },
   {
    "duration": 15,
    "start_time": "2023-03-02T13:38:35.171Z"
   },
   {
    "duration": 12,
    "start_time": "2023-03-02T13:38:35.188Z"
   },
   {
    "duration": 20342,
    "start_time": "2023-03-02T13:39:29.728Z"
   },
   {
    "duration": 1525,
    "start_time": "2023-03-02T13:40:16.788Z"
   },
   {
    "duration": 3,
    "start_time": "2023-03-02T13:40:18.315Z"
   },
   {
    "duration": 265,
    "start_time": "2023-03-02T13:40:18.320Z"
   },
   {
    "duration": 22,
    "start_time": "2023-03-02T13:40:18.587Z"
   },
   {
    "duration": 41,
    "start_time": "2023-03-02T13:40:18.610Z"
   },
   {
    "duration": 13,
    "start_time": "2023-03-02T13:40:18.654Z"
   },
   {
    "duration": 32,
    "start_time": "2023-03-02T13:40:18.669Z"
   },
   {
    "duration": 99,
    "start_time": "2023-03-02T13:40:18.703Z"
   },
   {
    "duration": 121,
    "start_time": "2023-03-02T13:40:18.804Z"
   },
   {
    "duration": 22,
    "start_time": "2023-03-02T13:40:18.928Z"
   },
   {
    "duration": 107,
    "start_time": "2023-03-02T13:40:18.951Z"
   },
   {
    "duration": 6,
    "start_time": "2023-03-02T13:40:19.060Z"
   },
   {
    "duration": 139,
    "start_time": "2023-03-02T13:40:19.067Z"
   },
   {
    "duration": 6,
    "start_time": "2023-03-02T13:40:19.208Z"
   },
   {
    "duration": 12,
    "start_time": "2023-03-02T13:40:19.216Z"
   },
   {
    "duration": 127,
    "start_time": "2023-03-02T13:40:19.230Z"
   },
   {
    "duration": 5,
    "start_time": "2023-03-02T13:40:19.359Z"
   },
   {
    "duration": 12,
    "start_time": "2023-03-02T13:40:19.365Z"
   },
   {
    "duration": 213,
    "start_time": "2023-03-02T13:40:19.379Z"
   },
   {
    "duration": 5,
    "start_time": "2023-03-02T13:40:19.595Z"
   },
   {
    "duration": 113,
    "start_time": "2023-03-02T13:40:19.601Z"
   },
   {
    "duration": 7,
    "start_time": "2023-03-02T13:40:19.716Z"
   },
   {
    "duration": 33,
    "start_time": "2023-03-02T13:40:19.725Z"
   },
   {
    "duration": 46,
    "start_time": "2023-03-02T13:40:19.760Z"
   },
   {
    "duration": 6,
    "start_time": "2023-03-02T13:40:19.808Z"
   },
   {
    "duration": 25,
    "start_time": "2023-03-02T13:40:19.816Z"
   },
   {
    "duration": 4029,
    "start_time": "2023-03-02T13:40:19.844Z"
   },
   {
    "duration": 9,
    "start_time": "2023-03-02T13:40:23.878Z"
   },
   {
    "duration": 21,
    "start_time": "2023-03-02T13:40:23.889Z"
   },
   {
    "duration": 45,
    "start_time": "2023-03-02T13:40:23.912Z"
   },
   {
    "duration": 13,
    "start_time": "2023-03-02T13:40:23.959Z"
   },
   {
    "duration": 5,
    "start_time": "2023-03-02T13:40:23.974Z"
   },
   {
    "duration": 87,
    "start_time": "2023-03-02T13:40:23.981Z"
   },
   {
    "duration": 38,
    "start_time": "2023-03-02T13:40:24.070Z"
   },
   {
    "duration": 10,
    "start_time": "2023-03-02T13:40:24.149Z"
   },
   {
    "duration": 8,
    "start_time": "2023-03-02T13:40:24.162Z"
   },
   {
    "duration": 9,
    "start_time": "2023-03-02T13:40:24.172Z"
   },
   {
    "duration": 68,
    "start_time": "2023-03-02T13:40:24.183Z"
   },
   {
    "duration": 5,
    "start_time": "2023-03-02T13:40:24.253Z"
   },
   {
    "duration": 90,
    "start_time": "2023-03-02T13:40:24.259Z"
   },
   {
    "duration": 23,
    "start_time": "2023-03-02T13:40:24.350Z"
   },
   {
    "duration": 11,
    "start_time": "2023-03-02T13:40:24.374Z"
   },
   {
    "duration": 11,
    "start_time": "2023-03-02T13:40:24.387Z"
   },
   {
    "duration": 9,
    "start_time": "2023-03-02T13:40:24.400Z"
   },
   {
    "duration": 16,
    "start_time": "2023-03-02T13:40:24.411Z"
   },
   {
    "duration": 17,
    "start_time": "2023-03-02T13:40:24.430Z"
   },
   {
    "duration": 18,
    "start_time": "2023-03-02T13:40:24.449Z"
   },
   {
    "duration": 29,
    "start_time": "2023-03-02T13:40:24.470Z"
   },
   {
    "duration": 15,
    "start_time": "2023-03-02T13:40:24.501Z"
   },
   {
    "duration": 23,
    "start_time": "2023-03-02T13:40:24.519Z"
   },
   {
    "duration": 14,
    "start_time": "2023-03-02T13:40:24.545Z"
   },
   {
    "duration": 27,
    "start_time": "2023-03-02T13:40:24.561Z"
   },
   {
    "duration": 6,
    "start_time": "2023-03-02T13:40:24.590Z"
   },
   {
    "duration": 31,
    "start_time": "2023-03-02T13:40:24.598Z"
   },
   {
    "duration": 21,
    "start_time": "2023-03-02T13:40:24.631Z"
   },
   {
    "duration": 11,
    "start_time": "2023-03-02T13:40:24.654Z"
   },
   {
    "duration": 140,
    "start_time": "2023-03-02T13:40:24.667Z"
   },
   {
    "duration": 11,
    "start_time": "2023-03-02T13:40:24.809Z"
   },
   {
    "duration": 9,
    "start_time": "2023-03-02T13:40:24.822Z"
   },
   {
    "duration": 21,
    "start_time": "2023-03-02T13:40:24.833Z"
   },
   {
    "duration": 14,
    "start_time": "2023-03-02T13:40:24.856Z"
   },
   {
    "duration": 13,
    "start_time": "2023-03-02T13:40:24.872Z"
   },
   {
    "duration": 32,
    "start_time": "2023-03-02T13:40:24.887Z"
   },
   {
    "duration": 19,
    "start_time": "2023-03-02T13:40:24.921Z"
   },
   {
    "duration": 12,
    "start_time": "2023-03-02T13:40:24.942Z"
   },
   {
    "duration": 6,
    "start_time": "2023-03-02T13:40:24.956Z"
   },
   {
    "duration": 110,
    "start_time": "2023-03-02T13:40:24.963Z"
   },
   {
    "duration": 68,
    "start_time": "2023-03-02T13:40:25.075Z"
   },
   {
    "duration": 129,
    "start_time": "2023-03-02T13:40:25.146Z"
   },
   {
    "duration": 23,
    "start_time": "2023-03-02T13:40:25.277Z"
   },
   {
    "duration": 54,
    "start_time": "2023-03-02T13:40:25.302Z"
   },
   {
    "duration": 21,
    "start_time": "2023-03-02T13:40:25.358Z"
   },
   {
    "duration": 22,
    "start_time": "2023-03-02T13:40:25.382Z"
   },
   {
    "duration": 42,
    "start_time": "2023-03-02T13:40:25.407Z"
   },
   {
    "duration": 3,
    "start_time": "2023-03-02T13:40:25.451Z"
   },
   {
    "duration": 12,
    "start_time": "2023-03-02T13:40:25.456Z"
   },
   {
    "duration": 13,
    "start_time": "2023-03-02T13:40:25.470Z"
   },
   {
    "duration": 14,
    "start_time": "2023-03-02T13:40:25.485Z"
   },
   {
    "duration": 48,
    "start_time": "2023-03-02T13:40:25.502Z"
   },
   {
    "duration": 11,
    "start_time": "2023-03-02T13:40:25.552Z"
   },
   {
    "duration": 8,
    "start_time": "2023-03-02T13:40:25.565Z"
   },
   {
    "duration": 37,
    "start_time": "2023-03-02T13:40:25.579Z"
   },
   {
    "duration": 56,
    "start_time": "2023-03-02T13:40:25.618Z"
   },
   {
    "duration": 17,
    "start_time": "2023-03-02T13:40:25.676Z"
   },
   {
    "duration": 19,
    "start_time": "2023-03-02T13:40:25.695Z"
   },
   {
    "duration": 9,
    "start_time": "2023-03-02T13:40:25.717Z"
   },
   {
    "duration": 32,
    "start_time": "2023-03-02T13:40:25.728Z"
   },
   {
    "duration": 7,
    "start_time": "2023-03-02T13:40:25.762Z"
   },
   {
    "duration": 17,
    "start_time": "2023-03-02T13:40:25.771Z"
   },
   {
    "duration": 114,
    "start_time": "2023-03-02T13:40:25.790Z"
   },
   {
    "duration": 4,
    "start_time": "2023-03-02T13:40:25.907Z"
   },
   {
    "duration": 92,
    "start_time": "2023-03-02T13:40:25.913Z"
   },
   {
    "duration": 1906,
    "start_time": "2023-03-02T13:40:26.007Z"
   },
   {
    "duration": 559,
    "start_time": "2023-03-02T13:40:27.914Z"
   },
   {
    "duration": 1157,
    "start_time": "2023-03-02T13:40:28.477Z"
   },
   {
    "duration": 733,
    "start_time": "2023-03-02T13:40:29.636Z"
   },
   {
    "duration": 589,
    "start_time": "2023-03-02T13:40:30.370Z"
   },
   {
    "duration": 865,
    "start_time": "2023-03-02T13:40:30.961Z"
   },
   {
    "duration": 5,
    "start_time": "2023-03-02T13:40:31.828Z"
   },
   {
    "duration": 63,
    "start_time": "2023-03-02T13:40:31.849Z"
   },
   {
    "duration": 82,
    "start_time": "2023-03-02T13:40:31.914Z"
   },
   {
    "duration": 79,
    "start_time": "2023-03-02T13:40:31.999Z"
   },
   {
    "duration": 126,
    "start_time": "2023-03-02T13:40:32.080Z"
   },
   {
    "duration": 70,
    "start_time": "2023-03-02T13:40:32.209Z"
   },
   {
    "duration": 7,
    "start_time": "2023-03-02T13:40:32.281Z"
   },
   {
    "duration": 16,
    "start_time": "2023-03-02T13:40:32.290Z"
   },
   {
    "duration": 82,
    "start_time": "2023-03-02T13:40:32.308Z"
   },
   {
    "duration": 69,
    "start_time": "2023-03-02T13:40:32.392Z"
   },
   {
    "duration": 43,
    "start_time": "2023-03-02T13:40:32.462Z"
   },
   {
    "duration": 76,
    "start_time": "2023-03-02T13:40:32.507Z"
   },
   {
    "duration": 43,
    "start_time": "2023-03-02T13:40:32.585Z"
   },
   {
    "duration": 40,
    "start_time": "2023-03-02T13:40:32.630Z"
   },
   {
    "duration": 20,
    "start_time": "2023-03-02T13:40:32.672Z"
   },
   {
    "duration": 11,
    "start_time": "2023-03-02T13:40:32.694Z"
   },
   {
    "duration": 30,
    "start_time": "2023-03-02T13:40:32.707Z"
   },
   {
    "duration": 23,
    "start_time": "2023-03-02T13:41:35.219Z"
   },
   {
    "duration": 20,
    "start_time": "2023-03-02T13:42:01.300Z"
   },
   {
    "duration": 28,
    "start_time": "2023-03-02T13:42:35.557Z"
   },
   {
    "duration": 12,
    "start_time": "2023-03-02T13:42:42.319Z"
   },
   {
    "duration": 19,
    "start_time": "2023-03-02T13:42:42.924Z"
   },
   {
    "duration": 15,
    "start_time": "2023-03-02T13:42:48.612Z"
   },
   {
    "duration": 16,
    "start_time": "2023-03-02T13:42:54.266Z"
   },
   {
    "duration": 38,
    "start_time": "2023-03-02T13:43:40.751Z"
   },
   {
    "duration": 177,
    "start_time": "2023-03-02T13:53:05.190Z"
   },
   {
    "duration": 6,
    "start_time": "2023-03-02T14:15:59.611Z"
   },
   {
    "duration": 10,
    "start_time": "2023-03-02T14:16:29.934Z"
   },
   {
    "duration": 104,
    "start_time": "2023-03-02T14:18:10.169Z"
   },
   {
    "duration": 17,
    "start_time": "2023-03-02T14:18:23.903Z"
   },
   {
    "duration": 155,
    "start_time": "2023-03-02T14:18:53.501Z"
   },
   {
    "duration": 15,
    "start_time": "2023-03-02T14:19:55.209Z"
   },
   {
    "duration": 14,
    "start_time": "2023-03-02T14:21:23.192Z"
   },
   {
    "duration": 11,
    "start_time": "2023-03-02T14:27:30.134Z"
   },
   {
    "duration": 65,
    "start_time": "2023-03-02T14:28:30.505Z"
   },
   {
    "duration": 168,
    "start_time": "2023-03-02T14:29:16.386Z"
   },
   {
    "duration": 6,
    "start_time": "2023-03-02T14:29:20.284Z"
   },
   {
    "duration": 19,
    "start_time": "2023-03-02T14:29:42.974Z"
   },
   {
    "duration": 50,
    "start_time": "2023-03-02T14:29:50.995Z"
   },
   {
    "duration": 21,
    "start_time": "2023-03-02T14:31:11.471Z"
   },
   {
    "duration": 39,
    "start_time": "2023-03-02T14:32:18.835Z"
   },
   {
    "duration": 3,
    "start_time": "2023-03-02T14:34:00.836Z"
   },
   {
    "duration": 11,
    "start_time": "2023-03-02T14:35:04.722Z"
   },
   {
    "duration": 30,
    "start_time": "2023-03-02T14:36:12.162Z"
   },
   {
    "duration": 5,
    "start_time": "2023-03-02T14:38:14.357Z"
   },
   {
    "duration": 29,
    "start_time": "2023-03-02T14:38:50.121Z"
   },
   {
    "duration": 1250,
    "start_time": "2023-03-02T14:39:48.997Z"
   },
   {
    "duration": 21,
    "start_time": "2023-03-02T14:40:02.938Z"
   },
   {
    "duration": 182,
    "start_time": "2023-03-02T14:41:00.362Z"
   },
   {
    "duration": 12,
    "start_time": "2023-03-02T14:41:02.814Z"
   },
   {
    "duration": 44,
    "start_time": "2023-03-02T14:41:03.370Z"
   },
   {
    "duration": 28,
    "start_time": "2023-03-02T14:41:05.828Z"
   },
   {
    "duration": 6,
    "start_time": "2023-03-02T14:41:07.328Z"
   },
   {
    "duration": 29,
    "start_time": "2023-03-02T14:41:09.079Z"
   },
   {
    "duration": 42,
    "start_time": "2023-03-02T14:47:24.210Z"
   },
   {
    "duration": 25,
    "start_time": "2023-03-02T14:47:44.215Z"
   },
   {
    "duration": 59,
    "start_time": "2023-03-02T14:48:10.368Z"
   },
   {
    "duration": 43,
    "start_time": "2023-03-02T14:50:47.390Z"
   },
   {
    "duration": 39,
    "start_time": "2023-03-02T14:50:52.533Z"
   },
   {
    "duration": 97,
    "start_time": "2023-03-03T06:44:19.251Z"
   },
   {
    "duration": 8,
    "start_time": "2023-03-03T06:44:26.881Z"
   },
   {
    "duration": 8,
    "start_time": "2023-03-03T06:44:27.286Z"
   },
   {
    "duration": 22,
    "start_time": "2023-03-03T06:44:27.653Z"
   },
   {
    "duration": 11,
    "start_time": "2023-03-03T06:44:27.883Z"
   },
   {
    "duration": 18,
    "start_time": "2023-03-03T06:44:27.962Z"
   },
   {
    "duration": 15,
    "start_time": "2023-03-03T06:44:28.472Z"
   },
   {
    "duration": 15,
    "start_time": "2023-03-03T06:44:28.772Z"
   },
   {
    "duration": 9,
    "start_time": "2023-03-03T06:44:29.092Z"
   },
   {
    "duration": 20,
    "start_time": "2023-03-03T06:44:29.745Z"
   },
   {
    "duration": 16,
    "start_time": "2023-03-03T06:44:30.062Z"
   },
   {
    "duration": 11,
    "start_time": "2023-03-03T06:44:30.620Z"
   },
   {
    "duration": 37,
    "start_time": "2023-03-03T06:44:30.918Z"
   },
   {
    "duration": 19,
    "start_time": "2023-03-03T06:44:31.517Z"
   },
   {
    "duration": 23,
    "start_time": "2023-03-03T06:44:31.817Z"
   },
   {
    "duration": 18,
    "start_time": "2023-03-03T06:44:32.428Z"
   },
   {
    "duration": 18,
    "start_time": "2023-03-03T06:44:32.747Z"
   },
   {
    "duration": 2121,
    "start_time": "2023-03-03T06:44:41.116Z"
   },
   {
    "duration": 7,
    "start_time": "2023-03-03T06:44:43.240Z"
   },
   {
    "duration": 1322,
    "start_time": "2023-03-03T06:44:44.791Z"
   },
   {
    "duration": 43,
    "start_time": "2023-03-03T06:44:46.163Z"
   },
   {
    "duration": 53,
    "start_time": "2023-03-03T06:44:47.556Z"
   },
   {
    "duration": 33,
    "start_time": "2023-03-03T06:44:48.237Z"
   },
   {
    "duration": 49,
    "start_time": "2023-03-03T06:44:48.990Z"
   },
   {
    "duration": 109,
    "start_time": "2023-03-03T06:44:51.103Z"
   },
   {
    "duration": 178,
    "start_time": "2023-03-03T06:44:52.082Z"
   },
   {
    "duration": 25,
    "start_time": "2023-03-03T06:44:52.940Z"
   },
   {
    "duration": 135,
    "start_time": "2023-03-03T06:44:53.645Z"
   },
   {
    "duration": 23,
    "start_time": "2023-03-03T06:44:54.322Z"
   },
   {
    "duration": 218,
    "start_time": "2023-03-03T06:44:54.993Z"
   },
   {
    "duration": 11,
    "start_time": "2023-03-03T06:44:55.665Z"
   },
   {
    "duration": 13,
    "start_time": "2023-03-03T06:44:56.345Z"
   },
   {
    "duration": 264,
    "start_time": "2023-03-03T06:44:57.051Z"
   },
   {
    "duration": 10,
    "start_time": "2023-03-03T06:44:58.049Z"
   },
   {
    "duration": 7,
    "start_time": "2023-03-03T06:44:58.909Z"
   },
   {
    "duration": 244,
    "start_time": "2023-03-03T06:44:59.689Z"
   },
   {
    "duration": 19,
    "start_time": "2023-03-03T06:45:00.597Z"
   },
   {
    "duration": 226,
    "start_time": "2023-03-03T06:45:01.744Z"
   },
   {
    "duration": 7,
    "start_time": "2023-03-03T06:45:02.485Z"
   },
   {
    "duration": 21,
    "start_time": "2023-03-03T06:45:03.182Z"
   },
   {
    "duration": 81,
    "start_time": "2023-03-03T06:45:04.048Z"
   },
   {
    "duration": 18,
    "start_time": "2023-03-03T06:45:18.548Z"
   },
   {
    "duration": 20,
    "start_time": "2023-03-03T06:45:18.572Z"
   },
   {
    "duration": 414,
    "start_time": "2023-03-03T06:45:18.594Z"
   },
   {
    "duration": 61,
    "start_time": "2023-03-03T06:45:19.010Z"
   },
   {
    "duration": 64,
    "start_time": "2023-03-03T06:45:19.081Z"
   },
   {
    "duration": 32,
    "start_time": "2023-03-03T06:45:19.159Z"
   },
   {
    "duration": 42,
    "start_time": "2023-03-03T06:45:19.194Z"
   },
   {
    "duration": 145,
    "start_time": "2023-03-03T06:45:19.238Z"
   },
   {
    "duration": 172,
    "start_time": "2023-03-03T06:45:19.386Z"
   },
   {
    "duration": 18,
    "start_time": "2023-03-03T06:45:19.560Z"
   },
   {
    "duration": 178,
    "start_time": "2023-03-03T06:45:19.582Z"
   },
   {
    "duration": 10,
    "start_time": "2023-03-03T06:45:19.762Z"
   },
   {
    "duration": 154,
    "start_time": "2023-03-03T06:45:19.774Z"
   },
   {
    "duration": 7,
    "start_time": "2023-03-03T06:45:19.930Z"
   },
   {
    "duration": 33,
    "start_time": "2023-03-03T06:45:19.939Z"
   },
   {
    "duration": 140,
    "start_time": "2023-03-03T06:45:19.974Z"
   },
   {
    "duration": 9,
    "start_time": "2023-03-03T06:45:20.116Z"
   },
   {
    "duration": 61,
    "start_time": "2023-03-03T06:45:20.136Z"
   },
   {
    "duration": 147,
    "start_time": "2023-03-03T06:45:20.199Z"
   },
   {
    "duration": 8,
    "start_time": "2023-03-03T06:45:20.351Z"
   },
   {
    "duration": 134,
    "start_time": "2023-03-03T06:45:20.364Z"
   },
   {
    "duration": 6,
    "start_time": "2023-03-03T06:45:20.500Z"
   },
   {
    "duration": 41,
    "start_time": "2023-03-03T06:45:20.508Z"
   },
   {
    "duration": 80,
    "start_time": "2023-03-03T06:45:20.553Z"
   },
   {
    "duration": 15,
    "start_time": "2023-03-03T06:45:20.635Z"
   },
   {
    "duration": 39,
    "start_time": "2023-03-03T06:45:20.666Z"
   },
   {
    "duration": 5234,
    "start_time": "2023-03-03T06:45:20.708Z"
   },
   {
    "duration": 48,
    "start_time": "2023-03-03T06:45:25.943Z"
   },
   {
    "duration": 46,
    "start_time": "2023-03-03T06:45:25.993Z"
   },
   {
    "duration": 77,
    "start_time": "2023-03-03T06:45:26.043Z"
   },
   {
    "duration": 6,
    "start_time": "2023-03-03T06:45:26.122Z"
   },
   {
    "duration": 70,
    "start_time": "2023-03-03T06:45:26.132Z"
   },
   {
    "duration": 53,
    "start_time": "2023-03-03T06:45:26.204Z"
   },
   {
    "duration": 120,
    "start_time": "2023-03-03T06:45:26.259Z"
   },
   {
    "duration": 36,
    "start_time": "2023-03-03T06:45:26.381Z"
   },
   {
    "duration": 63,
    "start_time": "2023-03-03T06:45:26.419Z"
   },
   {
    "duration": 18,
    "start_time": "2023-03-03T06:45:26.484Z"
   },
   {
    "duration": 12,
    "start_time": "2023-03-03T06:45:26.504Z"
   },
   {
    "duration": 44,
    "start_time": "2023-03-03T06:45:26.518Z"
   },
   {
    "duration": 49,
    "start_time": "2023-03-03T06:45:26.568Z"
   },
   {
    "duration": 83,
    "start_time": "2023-03-03T06:45:26.619Z"
   },
   {
    "duration": 26,
    "start_time": "2023-03-03T06:45:26.704Z"
   },
   {
    "duration": 58,
    "start_time": "2023-03-03T06:45:26.732Z"
   },
   {
    "duration": 13,
    "start_time": "2023-03-03T06:45:26.792Z"
   },
   {
    "duration": 37,
    "start_time": "2023-03-03T06:45:26.807Z"
   },
   {
    "duration": 64,
    "start_time": "2023-03-03T06:45:26.846Z"
   },
   {
    "duration": 29,
    "start_time": "2023-03-03T06:45:26.912Z"
   },
   {
    "duration": 76,
    "start_time": "2023-03-03T06:45:26.943Z"
   },
   {
    "duration": 77,
    "start_time": "2023-03-03T06:45:27.023Z"
   },
   {
    "duration": 26,
    "start_time": "2023-03-03T06:45:27.101Z"
   },
   {
    "duration": 62,
    "start_time": "2023-03-03T06:45:27.128Z"
   },
   {
    "duration": 14,
    "start_time": "2023-03-03T06:45:27.192Z"
   },
   {
    "duration": 6,
    "start_time": "2023-03-03T06:45:27.208Z"
   },
   {
    "duration": 67,
    "start_time": "2023-03-03T06:45:27.216Z"
   },
   {
    "duration": 20,
    "start_time": "2023-03-03T06:45:27.287Z"
   },
   {
    "duration": 21,
    "start_time": "2023-03-03T06:45:27.309Z"
   },
   {
    "duration": 63,
    "start_time": "2023-03-03T06:45:27.332Z"
   },
   {
    "duration": 5,
    "start_time": "2023-03-03T06:45:27.397Z"
   },
   {
    "duration": 13,
    "start_time": "2023-03-03T06:45:27.404Z"
   },
   {
    "duration": 39,
    "start_time": "2023-03-03T06:45:27.419Z"
   },
   {
    "duration": 42,
    "start_time": "2023-03-03T06:45:27.460Z"
   },
   {
    "duration": 7,
    "start_time": "2023-03-03T06:45:27.504Z"
   },
   {
    "duration": 86,
    "start_time": "2023-03-03T06:45:27.512Z"
   },
   {
    "duration": 25,
    "start_time": "2023-03-03T06:45:27.601Z"
   },
   {
    "duration": 15,
    "start_time": "2023-03-03T06:45:27.628Z"
   },
   {
    "duration": 52,
    "start_time": "2023-03-03T06:45:27.645Z"
   },
   {
    "duration": 143,
    "start_time": "2023-03-03T06:45:27.699Z"
   },
   {
    "duration": 90,
    "start_time": "2023-03-03T06:45:27.852Z"
   },
   {
    "duration": 68,
    "start_time": "2023-03-03T06:45:27.949Z"
   },
   {
    "duration": 24,
    "start_time": "2023-03-03T06:45:28.019Z"
   },
   {
    "duration": 35,
    "start_time": "2023-03-03T06:45:28.049Z"
   },
   {
    "duration": 18,
    "start_time": "2023-03-03T06:45:28.090Z"
   },
   {
    "duration": 16,
    "start_time": "2023-03-03T06:45:28.110Z"
   },
   {
    "duration": 60,
    "start_time": "2023-03-03T06:45:28.129Z"
   },
   {
    "duration": 11,
    "start_time": "2023-03-03T06:45:28.191Z"
   },
   {
    "duration": 8,
    "start_time": "2023-03-03T06:45:28.205Z"
   },
   {
    "duration": 6,
    "start_time": "2023-03-03T06:45:28.216Z"
   },
   {
    "duration": 76,
    "start_time": "2023-03-03T06:45:28.229Z"
   },
   {
    "duration": 7,
    "start_time": "2023-03-03T06:45:28.308Z"
   },
   {
    "duration": 86,
    "start_time": "2023-03-03T06:45:28.317Z"
   },
   {
    "duration": 17,
    "start_time": "2023-03-03T06:45:28.406Z"
   },
   {
    "duration": 118,
    "start_time": "2023-03-03T06:45:28.425Z"
   },
   {
    "duration": 40,
    "start_time": "2023-03-03T06:45:28.544Z"
   },
   {
    "duration": 47,
    "start_time": "2023-03-03T06:45:28.590Z"
   },
   {
    "duration": 66,
    "start_time": "2023-03-03T06:45:28.646Z"
   },
   {
    "duration": 70,
    "start_time": "2023-03-03T06:45:28.714Z"
   },
   {
    "duration": 7,
    "start_time": "2023-03-03T06:45:28.786Z"
   },
   {
    "duration": 8,
    "start_time": "2023-03-03T06:45:28.796Z"
   },
   {
    "duration": 8,
    "start_time": "2023-03-03T06:45:28.806Z"
   },
   {
    "duration": 119,
    "start_time": "2023-03-03T06:45:28.816Z"
   },
   {
    "duration": 3,
    "start_time": "2023-03-03T06:45:28.936Z"
   },
   {
    "duration": 135,
    "start_time": "2023-03-03T06:45:28.940Z"
   },
   {
    "duration": 2722,
    "start_time": "2023-03-03T06:45:29.077Z"
   },
   {
    "duration": 893,
    "start_time": "2023-03-03T06:45:31.802Z"
   },
   {
    "duration": 1800,
    "start_time": "2023-03-03T06:45:32.698Z"
   },
   {
    "duration": 1120,
    "start_time": "2023-03-03T06:45:34.500Z"
   },
   {
    "duration": 767,
    "start_time": "2023-03-03T06:45:35.626Z"
   },
   {
    "duration": 1055,
    "start_time": "2023-03-03T06:45:36.394Z"
   },
   {
    "duration": 9,
    "start_time": "2023-03-03T06:45:37.451Z"
   },
   {
    "duration": 40,
    "start_time": "2023-03-03T06:45:37.465Z"
   },
   {
    "duration": 5,
    "start_time": "2023-03-03T06:45:37.507Z"
   },
   {
    "duration": 24,
    "start_time": "2023-03-03T06:45:37.514Z"
   },
   {
    "duration": 81,
    "start_time": "2023-03-03T06:45:37.546Z"
   },
   {
    "duration": 97,
    "start_time": "2023-03-03T06:45:37.630Z"
   },
   {
    "duration": 17,
    "start_time": "2023-03-03T06:45:37.731Z"
   },
   {
    "duration": 59,
    "start_time": "2023-03-03T06:45:37.753Z"
   },
   {
    "duration": 113,
    "start_time": "2023-03-03T06:45:37.814Z"
   },
   {
    "duration": 110,
    "start_time": "2023-03-03T06:45:37.929Z"
   },
   {
    "duration": 93,
    "start_time": "2023-03-03T06:45:38.041Z"
   },
   {
    "duration": 98,
    "start_time": "2023-03-03T06:45:38.137Z"
   },
   {
    "duration": 69,
    "start_time": "2023-03-03T06:45:38.237Z"
   },
   {
    "duration": 55,
    "start_time": "2023-03-03T06:45:38.308Z"
   },
   {
    "duration": 46,
    "start_time": "2023-03-03T06:45:38.372Z"
   },
   {
    "duration": 84,
    "start_time": "2023-03-03T06:45:38.420Z"
   },
   {
    "duration": 30,
    "start_time": "2023-03-03T06:45:38.507Z"
   },
   {
    "duration": 95,
    "start_time": "2023-03-03T06:45:38.541Z"
   },
   {
    "duration": 8,
    "start_time": "2023-03-03T06:45:38.638Z"
   },
   {
    "duration": 327,
    "start_time": "2023-03-03T06:45:38.648Z"
   },
   {
    "duration": 12,
    "start_time": "2023-03-03T06:45:38.979Z"
   },
   {
    "duration": 62,
    "start_time": "2023-03-03T06:45:38.993Z"
   },
   {
    "duration": 22,
    "start_time": "2023-03-03T06:45:39.062Z"
   },
   {
    "duration": 15,
    "start_time": "2023-03-03T06:45:39.088Z"
   },
   {
    "duration": 59,
    "start_time": "2023-03-03T06:45:39.106Z"
   },
   {
    "duration": 33,
    "start_time": "2023-03-03T06:45:39.167Z"
   },
   {
    "duration": 4,
    "start_time": "2023-03-03T06:53:53.210Z"
   },
   {
    "duration": 141,
    "start_time": "2023-03-03T06:55:51.055Z"
   },
   {
    "duration": 11,
    "start_time": "2023-03-03T06:55:55.306Z"
   },
   {
    "duration": 17,
    "start_time": "2023-03-03T06:56:09.284Z"
   },
   {
    "duration": 22,
    "start_time": "2023-03-03T06:56:31.673Z"
   },
   {
    "duration": 23,
    "start_time": "2023-03-03T06:57:06.518Z"
   },
   {
    "duration": 18,
    "start_time": "2023-03-03T06:57:46.212Z"
   },
   {
    "duration": 8,
    "start_time": "2023-03-03T06:57:46.906Z"
   },
   {
    "duration": 17,
    "start_time": "2023-03-03T06:57:58.084Z"
   },
   {
    "duration": 8,
    "start_time": "2023-03-03T06:58:06.109Z"
   },
   {
    "duration": 85,
    "start_time": "2023-03-03T06:58:06.120Z"
   },
   {
    "duration": 560,
    "start_time": "2023-03-03T06:58:06.211Z"
   },
   {
    "duration": 32,
    "start_time": "2023-03-03T06:58:06.773Z"
   },
   {
    "duration": 160,
    "start_time": "2023-03-03T06:58:06.808Z"
   },
   {
    "duration": 93,
    "start_time": "2023-03-03T06:58:06.970Z"
   },
   {
    "duration": 130,
    "start_time": "2023-03-03T06:58:07.065Z"
   },
   {
    "duration": 107,
    "start_time": "2023-03-03T06:58:07.202Z"
   },
   {
    "duration": 146,
    "start_time": "2023-03-03T06:58:07.314Z"
   },
   {
    "duration": 8,
    "start_time": "2023-03-03T06:58:07.465Z"
   },
   {
    "duration": 183,
    "start_time": "2023-03-03T06:58:07.480Z"
   },
   {
    "duration": 12,
    "start_time": "2023-03-03T06:58:07.668Z"
   },
   {
    "duration": 226,
    "start_time": "2023-03-03T06:58:07.686Z"
   },
   {
    "duration": 20,
    "start_time": "2023-03-03T06:58:07.916Z"
   },
   {
    "duration": 36,
    "start_time": "2023-03-03T06:58:07.947Z"
   },
   {
    "duration": 160,
    "start_time": "2023-03-03T06:58:07.987Z"
   },
   {
    "duration": 10,
    "start_time": "2023-03-03T06:58:08.149Z"
   },
   {
    "duration": 64,
    "start_time": "2023-03-03T06:58:08.161Z"
   },
   {
    "duration": 205,
    "start_time": "2023-03-03T06:58:08.230Z"
   },
   {
    "duration": 8,
    "start_time": "2023-03-03T06:58:08.437Z"
   },
   {
    "duration": 221,
    "start_time": "2023-03-03T06:58:08.447Z"
   },
   {
    "duration": 13,
    "start_time": "2023-03-03T06:58:08.676Z"
   },
   {
    "duration": 44,
    "start_time": "2023-03-03T06:58:08.694Z"
   },
   {
    "duration": 110,
    "start_time": "2023-03-03T06:58:08.742Z"
   },
   {
    "duration": 13,
    "start_time": "2023-03-03T06:58:08.863Z"
   },
   {
    "duration": 40,
    "start_time": "2023-03-03T06:58:08.878Z"
   },
   {
    "duration": 6736,
    "start_time": "2023-03-03T06:58:08.921Z"
   },
   {
    "duration": 20,
    "start_time": "2023-03-03T06:58:15.658Z"
   },
   {
    "duration": 106,
    "start_time": "2023-03-03T06:58:15.684Z"
   },
   {
    "duration": 190,
    "start_time": "2023-03-03T06:58:15.792Z"
   },
   {
    "duration": 26,
    "start_time": "2023-03-03T06:58:15.984Z"
   },
   {
    "duration": 221,
    "start_time": "2023-03-03T06:58:16.012Z"
   },
   {
    "duration": 312,
    "start_time": "2023-03-03T06:58:16.235Z"
   },
   {
    "duration": 238,
    "start_time": "2023-03-03T06:58:16.549Z"
   },
   {
    "duration": 162,
    "start_time": "2023-03-03T06:58:16.789Z"
   },
   {
    "duration": 66,
    "start_time": "2023-03-03T06:58:16.952Z"
   },
   {
    "duration": 91,
    "start_time": "2023-03-03T06:58:17.020Z"
   },
   {
    "duration": 25,
    "start_time": "2023-03-03T06:58:17.115Z"
   },
   {
    "duration": 37,
    "start_time": "2023-03-03T06:58:17.142Z"
   },
   {
    "duration": 91,
    "start_time": "2023-03-03T06:58:17.181Z"
   },
   {
    "duration": 69,
    "start_time": "2023-03-03T06:58:17.277Z"
   },
   {
    "duration": 124,
    "start_time": "2023-03-03T06:58:17.353Z"
   },
   {
    "duration": 78,
    "start_time": "2023-03-03T06:58:17.480Z"
   },
   {
    "duration": 80,
    "start_time": "2023-03-03T06:58:17.567Z"
   },
   {
    "duration": 48,
    "start_time": "2023-03-03T06:58:17.662Z"
   },
   {
    "duration": 20,
    "start_time": "2023-03-03T06:58:17.712Z"
   },
   {
    "duration": 132,
    "start_time": "2023-03-03T06:58:17.735Z"
   },
   {
    "duration": 235,
    "start_time": "2023-03-03T06:58:17.869Z"
   },
   {
    "duration": 173,
    "start_time": "2023-03-03T06:58:18.107Z"
   },
   {
    "duration": 143,
    "start_time": "2023-03-03T06:58:18.283Z"
   },
   {
    "duration": 49,
    "start_time": "2023-03-03T06:58:18.432Z"
   },
   {
    "duration": 58,
    "start_time": "2023-03-03T06:58:18.484Z"
   },
   {
    "duration": 62,
    "start_time": "2023-03-03T06:58:18.550Z"
   },
   {
    "duration": 109,
    "start_time": "2023-03-03T06:58:18.617Z"
   },
   {
    "duration": 126,
    "start_time": "2023-03-03T06:58:18.729Z"
   },
   {
    "duration": 144,
    "start_time": "2023-03-03T06:58:18.859Z"
   },
   {
    "duration": 22,
    "start_time": "2023-03-03T06:58:19.005Z"
   },
   {
    "duration": 43,
    "start_time": "2023-03-03T06:58:19.030Z"
   },
   {
    "duration": 39,
    "start_time": "2023-03-03T06:58:19.075Z"
   },
   {
    "duration": 135,
    "start_time": "2023-03-03T06:58:19.115Z"
   },
   {
    "duration": 151,
    "start_time": "2023-03-03T06:58:19.252Z"
   },
   {
    "duration": 43,
    "start_time": "2023-03-03T06:58:19.405Z"
   },
   {
    "duration": 37,
    "start_time": "2023-03-03T06:58:19.453Z"
   },
   {
    "duration": 116,
    "start_time": "2023-03-03T06:58:19.493Z"
   },
   {
    "duration": 14,
    "start_time": "2023-03-03T06:58:19.612Z"
   },
   {
    "duration": 81,
    "start_time": "2023-03-03T06:58:19.633Z"
   },
   {
    "duration": 161,
    "start_time": "2023-03-03T06:58:19.717Z"
   },
   {
    "duration": 51,
    "start_time": "2023-03-03T06:58:19.881Z"
   },
   {
    "duration": 67,
    "start_time": "2023-03-03T06:58:19.935Z"
   },
   {
    "duration": 94,
    "start_time": "2023-03-03T06:58:20.008Z"
   },
   {
    "duration": 134,
    "start_time": "2023-03-03T06:58:20.105Z"
   },
   {
    "duration": 112,
    "start_time": "2023-03-03T06:58:20.243Z"
   },
   {
    "duration": 179,
    "start_time": "2023-03-03T06:58:20.362Z"
   },
   {
    "duration": 120,
    "start_time": "2023-03-03T06:58:20.553Z"
   },
   {
    "duration": 74,
    "start_time": "2023-03-03T06:58:20.681Z"
   },
   {
    "duration": 101,
    "start_time": "2023-03-03T06:58:20.762Z"
   },
   {
    "duration": 24,
    "start_time": "2023-03-03T06:58:20.876Z"
   },
   {
    "duration": 96,
    "start_time": "2023-03-03T06:58:20.909Z"
   },
   {
    "duration": 96,
    "start_time": "2023-03-03T06:58:21.009Z"
   },
   {
    "duration": 9,
    "start_time": "2023-03-03T06:58:21.108Z"
   },
   {
    "duration": 62,
    "start_time": "2023-03-03T06:58:21.119Z"
   },
   {
    "duration": 30,
    "start_time": "2023-03-03T06:58:21.184Z"
   },
   {
    "duration": 76,
    "start_time": "2023-03-03T06:58:21.231Z"
   },
   {
    "duration": 22,
    "start_time": "2023-03-03T06:58:21.309Z"
   },
   {
    "duration": 139,
    "start_time": "2023-03-03T06:58:21.337Z"
   },
   {
    "duration": 132,
    "start_time": "2023-03-03T06:58:21.478Z"
   },
   {
    "duration": 133,
    "start_time": "2023-03-03T06:58:21.613Z"
   },
   {
    "duration": 29,
    "start_time": "2023-03-03T06:58:21.751Z"
   },
   {
    "duration": 63,
    "start_time": "2023-03-03T06:58:21.783Z"
   },
   {
    "duration": 65,
    "start_time": "2023-03-03T06:58:21.849Z"
   },
   {
    "duration": 82,
    "start_time": "2023-03-03T06:58:21.917Z"
   },
   {
    "duration": 14,
    "start_time": "2023-03-03T06:58:22.007Z"
   },
   {
    "duration": 70,
    "start_time": "2023-03-03T06:58:22.037Z"
   },
   {
    "duration": 201,
    "start_time": "2023-03-03T06:58:22.111Z"
   },
   {
    "duration": 4,
    "start_time": "2023-03-03T06:58:22.314Z"
   },
   {
    "duration": 204,
    "start_time": "2023-03-03T06:58:22.332Z"
   },
   {
    "duration": 3332,
    "start_time": "2023-03-03T06:58:22.539Z"
   },
   {
    "duration": 998,
    "start_time": "2023-03-03T06:58:25.876Z"
   },
   {
    "duration": 2173,
    "start_time": "2023-03-03T06:58:26.877Z"
   },
   {
    "duration": 1335,
    "start_time": "2023-03-03T06:58:29.053Z"
   },
   {
    "duration": 1078,
    "start_time": "2023-03-03T06:58:30.390Z"
   },
   {
    "duration": 1365,
    "start_time": "2023-03-03T06:58:31.474Z"
   },
   {
    "duration": 13,
    "start_time": "2023-03-03T06:58:32.845Z"
   },
   {
    "duration": 54,
    "start_time": "2023-03-03T06:58:32.865Z"
   },
   {
    "duration": 25,
    "start_time": "2023-03-03T06:58:32.929Z"
   },
   {
    "duration": 139,
    "start_time": "2023-03-03T06:58:32.959Z"
   },
   {
    "duration": 174,
    "start_time": "2023-03-03T06:58:33.102Z"
   },
   {
    "duration": 138,
    "start_time": "2023-03-03T06:58:33.279Z"
   },
   {
    "duration": 52,
    "start_time": "2023-03-03T06:58:33.419Z"
   },
   {
    "duration": 86,
    "start_time": "2023-03-03T06:58:33.473Z"
   },
   {
    "duration": 162,
    "start_time": "2023-03-03T06:58:33.572Z"
   },
   {
    "duration": 175,
    "start_time": "2023-03-03T06:58:33.736Z"
   },
   {
    "duration": 133,
    "start_time": "2023-03-03T06:58:33.915Z"
   },
   {
    "duration": 200,
    "start_time": "2023-03-03T06:58:34.051Z"
   },
   {
    "duration": 203,
    "start_time": "2023-03-03T06:58:34.268Z"
   },
   {
    "duration": 94,
    "start_time": "2023-03-03T06:58:34.473Z"
   },
   {
    "duration": 106,
    "start_time": "2023-03-03T06:58:34.588Z"
   },
   {
    "duration": 170,
    "start_time": "2023-03-03T06:58:34.696Z"
   },
   {
    "duration": 78,
    "start_time": "2023-03-03T06:58:34.883Z"
   },
   {
    "duration": 78,
    "start_time": "2023-03-03T06:58:34.969Z"
   },
   {
    "duration": 79,
    "start_time": "2023-03-03T06:58:35.054Z"
   },
   {
    "duration": 526,
    "start_time": "2023-03-03T06:58:35.139Z"
   },
   {
    "duration": 15,
    "start_time": "2023-03-03T06:58:35.673Z"
   },
   {
    "duration": 144,
    "start_time": "2023-03-03T06:58:35.694Z"
   },
   {
    "duration": 104,
    "start_time": "2023-03-03T06:58:35.845Z"
   },
   {
    "duration": 57,
    "start_time": "2023-03-03T06:58:35.956Z"
   },
   {
    "duration": 243,
    "start_time": "2023-03-03T06:58:36.016Z"
   },
   {
    "duration": 15,
    "start_time": "2023-03-03T06:58:36.268Z"
   },
   {
    "duration": 29,
    "start_time": "2023-03-03T06:59:17.860Z"
   },
   {
    "duration": 20,
    "start_time": "2023-03-03T06:59:28.511Z"
   },
   {
    "duration": 16,
    "start_time": "2023-03-03T06:59:31.860Z"
   },
   {
    "duration": 14,
    "start_time": "2023-03-03T06:59:41.477Z"
   },
   {
    "duration": 189,
    "start_time": "2023-03-03T06:59:44.220Z"
   },
   {
    "duration": 19,
    "start_time": "2023-03-03T07:00:07.682Z"
   },
   {
    "duration": 31,
    "start_time": "2023-03-03T07:00:14.552Z"
   },
   {
    "duration": 29,
    "start_time": "2023-03-03T07:00:15.310Z"
   },
   {
    "duration": 30,
    "start_time": "2023-03-03T07:00:21.100Z"
   },
   {
    "duration": 43,
    "start_time": "2023-03-03T07:00:23.919Z"
   },
   {
    "duration": 16,
    "start_time": "2023-03-03T07:00:31.899Z"
   },
   {
    "duration": 1860,
    "start_time": "2023-03-03T07:00:43.480Z"
   },
   {
    "duration": 4,
    "start_time": "2023-03-03T07:01:28.421Z"
   },
   {
    "duration": 47,
    "start_time": "2023-03-03T07:03:47.221Z"
   },
   {
    "duration": 22,
    "start_time": "2023-03-03T07:05:27.347Z"
   },
   {
    "duration": 549,
    "start_time": "2023-03-03T07:05:55.006Z"
   },
   {
    "duration": 25,
    "start_time": "2023-03-03T07:10:50.108Z"
   },
   {
    "duration": 3,
    "start_time": "2023-03-03T07:17:11.554Z"
   },
   {
    "duration": 8,
    "start_time": "2023-03-03T07:17:11.997Z"
   },
   {
    "duration": 29,
    "start_time": "2023-03-03T07:17:12.687Z"
   },
   {
    "duration": 6,
    "start_time": "2023-03-03T07:17:57.067Z"
   },
   {
    "duration": 38,
    "start_time": "2023-03-03T07:21:19.650Z"
   },
   {
    "duration": 6,
    "start_time": "2023-03-03T07:21:20.216Z"
   },
   {
    "duration": 78,
    "start_time": "2023-03-03T07:23:02.216Z"
   },
   {
    "duration": 6,
    "start_time": "2023-03-03T07:23:03.164Z"
   },
   {
    "duration": 17,
    "start_time": "2023-03-03T07:23:50.420Z"
   },
   {
    "duration": 69,
    "start_time": "2023-03-03T07:23:50.442Z"
   },
   {
    "duration": 386,
    "start_time": "2023-03-03T07:23:50.514Z"
   },
   {
    "duration": 33,
    "start_time": "2023-03-03T07:23:50.906Z"
   },
   {
    "duration": 145,
    "start_time": "2023-03-03T07:23:50.941Z"
   },
   {
    "duration": 49,
    "start_time": "2023-03-03T07:23:51.091Z"
   },
   {
    "duration": 124,
    "start_time": "2023-03-03T07:23:51.142Z"
   },
   {
    "duration": 194,
    "start_time": "2023-03-03T07:23:51.268Z"
   },
   {
    "duration": 137,
    "start_time": "2023-03-03T07:23:51.464Z"
   },
   {
    "duration": 5,
    "start_time": "2023-03-03T07:23:51.605Z"
   },
   {
    "duration": 194,
    "start_time": "2023-03-03T07:23:51.612Z"
   },
   {
    "duration": 23,
    "start_time": "2023-03-03T07:23:51.808Z"
   },
   {
    "duration": 259,
    "start_time": "2023-03-03T07:23:51.833Z"
   },
   {
    "duration": 7,
    "start_time": "2023-03-03T07:23:52.101Z"
   },
   {
    "duration": 17,
    "start_time": "2023-03-03T07:23:52.111Z"
   },
   {
    "duration": 205,
    "start_time": "2023-03-03T07:23:52.132Z"
   },
   {
    "duration": 15,
    "start_time": "2023-03-03T07:23:52.345Z"
   },
   {
    "duration": 20,
    "start_time": "2023-03-03T07:23:52.367Z"
   },
   {
    "duration": 168,
    "start_time": "2023-03-03T07:23:52.393Z"
   },
   {
    "duration": 15,
    "start_time": "2023-03-03T07:23:52.567Z"
   },
   {
    "duration": 253,
    "start_time": "2023-03-03T07:23:52.588Z"
   },
   {
    "duration": 16,
    "start_time": "2023-03-03T07:23:52.847Z"
   },
   {
    "duration": 51,
    "start_time": "2023-03-03T07:23:52.865Z"
   },
   {
    "duration": 81,
    "start_time": "2023-03-03T07:23:52.918Z"
   },
   {
    "duration": 24,
    "start_time": "2023-03-03T07:23:53.002Z"
   },
   {
    "duration": 64,
    "start_time": "2023-03-03T07:23:53.035Z"
   },
   {
    "duration": 4368,
    "start_time": "2023-03-03T07:23:53.102Z"
   },
   {
    "duration": 9,
    "start_time": "2023-03-03T07:23:57.475Z"
   },
   {
    "duration": 46,
    "start_time": "2023-03-03T07:23:57.486Z"
   },
   {
    "duration": 52,
    "start_time": "2023-03-03T07:23:57.534Z"
   },
   {
    "duration": 47,
    "start_time": "2023-03-03T07:23:57.589Z"
   },
   {
    "duration": 50,
    "start_time": "2023-03-03T07:23:57.638Z"
   },
   {
    "duration": 80,
    "start_time": "2023-03-03T07:23:57.690Z"
   },
   {
    "duration": 81,
    "start_time": "2023-03-03T07:23:57.773Z"
   },
   {
    "duration": 46,
    "start_time": "2023-03-03T07:23:57.860Z"
   },
   {
    "duration": 46,
    "start_time": "2023-03-03T07:23:57.907Z"
   },
   {
    "duration": 52,
    "start_time": "2023-03-03T07:23:57.955Z"
   },
   {
    "duration": 73,
    "start_time": "2023-03-03T07:23:58.010Z"
   },
   {
    "duration": 8,
    "start_time": "2023-03-03T07:23:58.086Z"
   },
   {
    "duration": 102,
    "start_time": "2023-03-03T07:23:58.096Z"
   },
   {
    "duration": 45,
    "start_time": "2023-03-03T07:23:58.201Z"
   },
   {
    "duration": 44,
    "start_time": "2023-03-03T07:23:58.253Z"
   },
   {
    "duration": 86,
    "start_time": "2023-03-03T07:23:58.299Z"
   },
   {
    "duration": 87,
    "start_time": "2023-03-03T07:23:58.388Z"
   },
   {
    "duration": 40,
    "start_time": "2023-03-03T07:23:58.477Z"
   },
   {
    "duration": 60,
    "start_time": "2023-03-03T07:23:58.519Z"
   },
   {
    "duration": 30,
    "start_time": "2023-03-03T07:23:58.581Z"
   },
   {
    "duration": 85,
    "start_time": "2023-03-03T07:23:58.613Z"
   },
   {
    "duration": 75,
    "start_time": "2023-03-03T07:23:58.700Z"
   },
   {
    "duration": 9,
    "start_time": "2023-03-03T07:23:58.777Z"
   },
   {
    "duration": 19,
    "start_time": "2023-03-03T07:23:58.788Z"
   },
   {
    "duration": 65,
    "start_time": "2023-03-03T07:23:58.809Z"
   },
   {
    "duration": 30,
    "start_time": "2023-03-03T07:23:58.876Z"
   },
   {
    "duration": 79,
    "start_time": "2023-03-03T07:23:58.907Z"
   },
   {
    "duration": 83,
    "start_time": "2023-03-03T07:23:58.989Z"
   },
   {
    "duration": 39,
    "start_time": "2023-03-03T07:23:59.075Z"
   },
   {
    "duration": 76,
    "start_time": "2023-03-03T07:23:59.116Z"
   },
   {
    "duration": 33,
    "start_time": "2023-03-03T07:23:59.194Z"
   },
   {
    "duration": 62,
    "start_time": "2023-03-03T07:23:59.229Z"
   },
   {
    "duration": 24,
    "start_time": "2023-03-03T07:23:59.293Z"
   },
   {
    "duration": 141,
    "start_time": "2023-03-03T07:23:59.319Z"
   },
   {
    "duration": 28,
    "start_time": "2023-03-03T07:23:59.463Z"
   },
   {
    "duration": 26,
    "start_time": "2023-03-03T07:23:59.492Z"
   },
   {
    "duration": 69,
    "start_time": "2023-03-03T07:23:59.520Z"
   },
   {
    "duration": 27,
    "start_time": "2023-03-03T07:23:59.591Z"
   },
   {
    "duration": 82,
    "start_time": "2023-03-03T07:23:59.620Z"
   },
   {
    "duration": 71,
    "start_time": "2023-03-03T07:23:59.704Z"
   },
   {
    "duration": 30,
    "start_time": "2023-03-03T07:23:59.778Z"
   },
   {
    "duration": 7,
    "start_time": "2023-03-03T07:23:59.810Z"
   },
   {
    "duration": 68,
    "start_time": "2023-03-03T07:23:59.818Z"
   },
   {
    "duration": 116,
    "start_time": "2023-03-03T07:23:59.888Z"
   },
   {
    "duration": 81,
    "start_time": "2023-03-03T07:24:00.006Z"
   },
   {
    "duration": 174,
    "start_time": "2023-03-03T07:24:00.088Z"
   },
   {
    "duration": 28,
    "start_time": "2023-03-03T07:24:00.264Z"
   },
   {
    "duration": 114,
    "start_time": "2023-03-03T07:24:00.294Z"
   },
   {
    "duration": 78,
    "start_time": "2023-03-03T07:24:00.410Z"
   },
   {
    "duration": 22,
    "start_time": "2023-03-03T07:24:00.491Z"
   },
   {
    "duration": 77,
    "start_time": "2023-03-03T07:24:00.515Z"
   },
   {
    "duration": 117,
    "start_time": "2023-03-03T07:24:00.594Z"
   },
   {
    "duration": 97,
    "start_time": "2023-03-03T07:24:00.713Z"
   },
   {
    "duration": 90,
    "start_time": "2023-03-03T07:24:00.813Z"
   },
   {
    "duration": 103,
    "start_time": "2023-03-03T07:24:00.910Z"
   },
   {
    "duration": 84,
    "start_time": "2023-03-03T07:24:01.015Z"
   },
   {
    "duration": 79,
    "start_time": "2023-03-03T07:24:01.101Z"
   },
   {
    "duration": 46,
    "start_time": "2023-03-03T07:24:01.182Z"
   },
   {
    "duration": 114,
    "start_time": "2023-03-03T07:24:01.230Z"
   },
   {
    "duration": 31,
    "start_time": "2023-03-03T07:24:01.347Z"
   },
   {
    "duration": 25,
    "start_time": "2023-03-03T07:24:01.381Z"
   },
   {
    "duration": 84,
    "start_time": "2023-03-03T07:24:01.408Z"
   },
   {
    "duration": 20,
    "start_time": "2023-03-03T07:24:01.494Z"
   },
   {
    "duration": 83,
    "start_time": "2023-03-03T07:24:01.516Z"
   },
   {
    "duration": 71,
    "start_time": "2023-03-03T07:24:01.600Z"
   },
   {
    "duration": 47,
    "start_time": "2023-03-03T07:24:01.673Z"
   },
   {
    "duration": 156,
    "start_time": "2023-03-03T07:24:01.728Z"
   },
   {
    "duration": 16,
    "start_time": "2023-03-03T07:24:01.886Z"
   },
   {
    "duration": 127,
    "start_time": "2023-03-03T07:24:01.904Z"
   },
   {
    "duration": 2566,
    "start_time": "2023-03-03T07:24:02.045Z"
   },
   {
    "duration": 888,
    "start_time": "2023-03-03T07:24:04.614Z"
   },
   {
    "duration": 1553,
    "start_time": "2023-03-03T07:24:05.504Z"
   },
   {
    "duration": 880,
    "start_time": "2023-03-03T07:24:07.064Z"
   },
   {
    "duration": 685,
    "start_time": "2023-03-03T07:24:07.946Z"
   },
   {
    "duration": 963,
    "start_time": "2023-03-03T07:24:08.633Z"
   },
   {
    "duration": 5,
    "start_time": "2023-03-03T07:24:09.597Z"
   },
   {
    "duration": 24,
    "start_time": "2023-03-03T07:24:09.604Z"
   },
   {
    "duration": 40,
    "start_time": "2023-03-03T07:24:09.637Z"
   },
   {
    "duration": 23,
    "start_time": "2023-03-03T07:24:09.679Z"
   },
   {
    "duration": 95,
    "start_time": "2023-03-03T07:24:09.704Z"
   },
   {
    "duration": 91,
    "start_time": "2023-03-03T07:24:09.801Z"
   },
   {
    "duration": 9,
    "start_time": "2023-03-03T07:24:09.894Z"
   },
   {
    "duration": 34,
    "start_time": "2023-03-03T07:24:09.904Z"
   },
   {
    "duration": 107,
    "start_time": "2023-03-03T07:24:09.940Z"
   },
   {
    "duration": 74,
    "start_time": "2023-03-03T07:24:10.055Z"
   },
   {
    "duration": 72,
    "start_time": "2023-03-03T07:24:10.131Z"
   },
   {
    "duration": 85,
    "start_time": "2023-03-03T07:24:10.205Z"
   },
   {
    "duration": 91,
    "start_time": "2023-03-03T07:24:10.292Z"
   },
   {
    "duration": 23,
    "start_time": "2023-03-03T07:24:10.386Z"
   },
   {
    "duration": 33,
    "start_time": "2023-03-03T07:24:10.411Z"
   },
   {
    "duration": 56,
    "start_time": "2023-03-03T07:24:10.446Z"
   },
   {
    "duration": 29,
    "start_time": "2023-03-03T07:24:10.504Z"
   },
   {
    "duration": 74,
    "start_time": "2023-03-03T07:24:10.535Z"
   },
   {
    "duration": 3,
    "start_time": "2023-03-03T07:24:10.611Z"
   },
   {
    "duration": 287,
    "start_time": "2023-03-03T07:24:10.617Z"
   },
   {
    "duration": 23,
    "start_time": "2023-03-03T07:24:10.906Z"
   },
   {
    "duration": 47,
    "start_time": "2023-03-03T07:24:10.933Z"
   },
   {
    "duration": 21,
    "start_time": "2023-03-03T07:24:10.982Z"
   },
   {
    "duration": 29,
    "start_time": "2023-03-03T07:24:11.004Z"
   },
   {
    "duration": 48,
    "start_time": "2023-03-03T07:24:11.040Z"
   },
   {
    "duration": 3,
    "start_time": "2023-03-03T07:24:11.091Z"
   },
   {
    "duration": 13,
    "start_time": "2023-03-03T07:25:41.474Z"
   },
   {
    "duration": 11,
    "start_time": "2023-03-03T07:25:41.905Z"
   },
   {
    "duration": 14,
    "start_time": "2023-03-03T07:25:42.298Z"
   },
   {
    "duration": 15,
    "start_time": "2023-03-03T07:25:43.069Z"
   },
   {
    "duration": 35,
    "start_time": "2023-03-03T07:25:54.408Z"
   },
   {
    "duration": 28,
    "start_time": "2023-03-03T07:26:09.543Z"
   },
   {
    "duration": 5,
    "start_time": "2023-03-03T07:26:10.006Z"
   },
   {
    "duration": 11,
    "start_time": "2023-03-03T07:27:17.372Z"
   },
   {
    "duration": 15,
    "start_time": "2023-03-03T07:27:45.372Z"
   },
   {
    "duration": 67,
    "start_time": "2023-03-03T07:28:45.027Z"
   },
   {
    "duration": 47,
    "start_time": "2023-03-03T07:28:45.650Z"
   },
   {
    "duration": 55,
    "start_time": "2023-03-03T07:28:46.244Z"
   },
   {
    "duration": 50,
    "start_time": "2023-03-03T07:28:46.827Z"
   },
   {
    "duration": 5,
    "start_time": "2023-03-03T07:28:47.501Z"
   },
   {
    "duration": 5,
    "start_time": "2023-03-03T07:32:12.073Z"
   },
   {
    "duration": 19,
    "start_time": "2023-03-03T07:38:37.244Z"
   },
   {
    "duration": 32,
    "start_time": "2023-03-03T07:38:37.265Z"
   },
   {
    "duration": 384,
    "start_time": "2023-03-03T07:38:37.299Z"
   },
   {
    "duration": 21,
    "start_time": "2023-03-03T07:38:37.689Z"
   },
   {
    "duration": 50,
    "start_time": "2023-03-03T07:38:37.712Z"
   },
   {
    "duration": 38,
    "start_time": "2023-03-03T07:38:37.771Z"
   },
   {
    "duration": 39,
    "start_time": "2023-03-03T07:38:37.811Z"
   },
   {
    "duration": 143,
    "start_time": "2023-03-03T07:38:37.852Z"
   },
   {
    "duration": 202,
    "start_time": "2023-03-03T07:38:38.000Z"
   },
   {
    "duration": 7,
    "start_time": "2023-03-03T07:38:38.205Z"
   },
   {
    "duration": 158,
    "start_time": "2023-03-03T07:38:38.213Z"
   },
   {
    "duration": 25,
    "start_time": "2023-03-03T07:38:38.375Z"
   },
   {
    "duration": 157,
    "start_time": "2023-03-03T07:38:38.402Z"
   },
   {
    "duration": 5,
    "start_time": "2023-03-03T07:38:38.563Z"
   },
   {
    "duration": 30,
    "start_time": "2023-03-03T07:38:38.570Z"
   },
   {
    "duration": 137,
    "start_time": "2023-03-03T07:38:38.602Z"
   },
   {
    "duration": 5,
    "start_time": "2023-03-03T07:38:38.741Z"
   },
   {
    "duration": 53,
    "start_time": "2023-03-03T07:38:38.748Z"
   },
   {
    "duration": 231,
    "start_time": "2023-03-03T07:38:38.803Z"
   },
   {
    "duration": 5,
    "start_time": "2023-03-03T07:38:39.036Z"
   },
   {
    "duration": 157,
    "start_time": "2023-03-03T07:38:39.043Z"
   },
   {
    "duration": 6,
    "start_time": "2023-03-03T07:38:39.202Z"
   },
   {
    "duration": 17,
    "start_time": "2023-03-03T07:38:39.228Z"
   },
   {
    "duration": 99,
    "start_time": "2023-03-03T07:38:39.247Z"
   },
   {
    "duration": 13,
    "start_time": "2023-03-03T07:38:39.348Z"
   },
   {
    "duration": 29,
    "start_time": "2023-03-03T07:38:39.365Z"
   },
   {
    "duration": 4919,
    "start_time": "2023-03-03T07:38:39.396Z"
   },
   {
    "duration": 9,
    "start_time": "2023-03-03T07:38:44.324Z"
   },
   {
    "duration": 204,
    "start_time": "2023-03-03T07:38:44.335Z"
   },
   {
    "duration": 64,
    "start_time": "2023-03-03T07:38:44.541Z"
   },
   {
    "duration": 25,
    "start_time": "2023-03-03T07:38:44.612Z"
   },
   {
    "duration": 48,
    "start_time": "2023-03-03T07:38:44.644Z"
   },
   {
    "duration": 74,
    "start_time": "2023-03-03T07:38:44.696Z"
   },
   {
    "duration": 70,
    "start_time": "2023-03-03T07:38:44.773Z"
   },
   {
    "duration": 53,
    "start_time": "2023-03-03T07:38:44.846Z"
   },
   {
    "duration": 92,
    "start_time": "2023-03-03T07:38:44.901Z"
   },
   {
    "duration": 179,
    "start_time": "2023-03-03T07:38:44.995Z"
   },
   {
    "duration": 33,
    "start_time": "2023-03-03T07:38:45.181Z"
   },
   {
    "duration": 155,
    "start_time": "2023-03-03T07:38:45.216Z"
   },
   {
    "duration": 110,
    "start_time": "2023-03-03T07:38:45.373Z"
   },
   {
    "duration": 154,
    "start_time": "2023-03-03T07:38:45.485Z"
   },
   {
    "duration": 78,
    "start_time": "2023-03-03T07:38:45.641Z"
   },
   {
    "duration": 87,
    "start_time": "2023-03-03T07:38:45.724Z"
   },
   {
    "duration": 21,
    "start_time": "2023-03-03T07:38:45.814Z"
   },
   {
    "duration": 89,
    "start_time": "2023-03-03T07:38:45.837Z"
   },
   {
    "duration": 66,
    "start_time": "2023-03-03T07:38:45.930Z"
   },
   {
    "duration": 17,
    "start_time": "2023-03-03T07:38:45.998Z"
   },
   {
    "duration": 79,
    "start_time": "2023-03-03T07:38:46.017Z"
   },
   {
    "duration": 11,
    "start_time": "2023-03-03T07:38:46.098Z"
   },
   {
    "duration": 6,
    "start_time": "2023-03-03T07:38:46.111Z"
   },
   {
    "duration": 49,
    "start_time": "2023-03-03T07:38:46.119Z"
   },
   {
    "duration": 42,
    "start_time": "2023-03-03T07:38:46.169Z"
   },
   {
    "duration": 33,
    "start_time": "2023-03-03T07:38:46.213Z"
   },
   {
    "duration": 90,
    "start_time": "2023-03-03T07:38:46.250Z"
   },
   {
    "duration": 82,
    "start_time": "2023-03-03T07:38:46.360Z"
   },
   {
    "duration": 55,
    "start_time": "2023-03-03T07:38:46.444Z"
   },
   {
    "duration": 7,
    "start_time": "2023-03-03T07:38:46.501Z"
   },
   {
    "duration": 73,
    "start_time": "2023-03-03T07:38:46.510Z"
   },
   {
    "duration": 20,
    "start_time": "2023-03-03T07:38:46.585Z"
   },
   {
    "duration": 10,
    "start_time": "2023-03-03T07:38:46.608Z"
   },
   {
    "duration": 101,
    "start_time": "2023-03-03T07:38:46.620Z"
   },
   {
    "duration": 89,
    "start_time": "2023-03-03T07:38:46.728Z"
   },
   {
    "duration": 90,
    "start_time": "2023-03-03T07:38:46.819Z"
   },
   {
    "duration": 66,
    "start_time": "2023-03-03T07:38:46.912Z"
   },
   {
    "duration": 11,
    "start_time": "2023-03-03T07:38:46.988Z"
   },
   {
    "duration": 8,
    "start_time": "2023-03-03T07:38:47.000Z"
   },
   {
    "duration": 8,
    "start_time": "2023-03-03T07:38:47.010Z"
   },
   {
    "duration": 98,
    "start_time": "2023-03-03T07:38:47.020Z"
   },
   {
    "duration": 178,
    "start_time": "2023-03-03T07:38:47.120Z"
   },
   {
    "duration": 10,
    "start_time": "2023-03-03T07:38:47.301Z"
   },
   {
    "duration": 88,
    "start_time": "2023-03-03T07:38:47.313Z"
   },
   {
    "duration": 36,
    "start_time": "2023-03-03T07:38:47.403Z"
   },
   {
    "duration": 25,
    "start_time": "2023-03-03T07:38:47.447Z"
   },
   {
    "duration": 26,
    "start_time": "2023-03-03T07:38:47.474Z"
   },
   {
    "duration": 162,
    "start_time": "2023-03-03T07:38:47.502Z"
   },
   {
    "duration": 169,
    "start_time": "2023-03-03T07:38:47.666Z"
   },
   {
    "duration": 97,
    "start_time": "2023-03-03T07:38:47.837Z"
   },
   {
    "duration": 48,
    "start_time": "2023-03-03T07:38:47.936Z"
   },
   {
    "duration": 58,
    "start_time": "2023-03-03T07:38:47.986Z"
   },
   {
    "duration": 2,
    "start_time": "2023-03-03T07:38:48.056Z"
   },
   {
    "duration": 3,
    "start_time": "2023-03-03T07:38:48.060Z"
   },
   {
    "duration": 2,
    "start_time": "2023-03-03T07:38:48.077Z"
   },
   {
    "duration": 41,
    "start_time": "2023-03-03T07:38:48.081Z"
   },
   {
    "duration": 75,
    "start_time": "2023-03-03T07:38:48.123Z"
   },
   {
    "duration": 7,
    "start_time": "2023-03-03T07:38:48.200Z"
   },
   {
    "duration": 11,
    "start_time": "2023-03-03T07:38:48.221Z"
   },
   {
    "duration": 117,
    "start_time": "2023-03-03T07:38:48.234Z"
   },
   {
    "duration": 36,
    "start_time": "2023-03-03T07:38:48.353Z"
   },
   {
    "duration": 4,
    "start_time": "2023-03-03T07:38:48.393Z"
   },
   {
    "duration": 125,
    "start_time": "2023-03-03T07:38:48.400Z"
   },
   {
    "duration": 100,
    "start_time": "2023-03-03T07:38:48.529Z"
   },
   {
    "duration": 66,
    "start_time": "2023-03-03T07:38:48.631Z"
   },
   {
    "duration": 65,
    "start_time": "2023-03-03T07:38:48.700Z"
   },
   {
    "duration": 44,
    "start_time": "2023-03-03T07:38:48.767Z"
   },
   {
    "duration": 34,
    "start_time": "2023-03-03T07:38:48.813Z"
   },
   {
    "duration": 48,
    "start_time": "2023-03-03T07:38:48.857Z"
   },
   {
    "duration": 8,
    "start_time": "2023-03-03T07:38:48.907Z"
   },
   {
    "duration": 86,
    "start_time": "2023-03-03T07:38:48.917Z"
   },
   {
    "duration": 3,
    "start_time": "2023-03-03T07:38:49.007Z"
   },
   {
    "duration": 83,
    "start_time": "2023-03-03T07:38:49.012Z"
   },
   {
    "duration": 3313,
    "start_time": "2023-03-03T07:38:49.096Z"
   },
   {
    "duration": 972,
    "start_time": "2023-03-03T07:38:52.411Z"
   },
   {
    "duration": 1978,
    "start_time": "2023-03-03T07:38:53.385Z"
   },
   {
    "duration": 1057,
    "start_time": "2023-03-03T07:38:55.365Z"
   },
   {
    "duration": 825,
    "start_time": "2023-03-03T07:38:56.425Z"
   },
   {
    "duration": 1052,
    "start_time": "2023-03-03T07:38:57.252Z"
   },
   {
    "duration": 4,
    "start_time": "2023-03-03T07:38:58.306Z"
   },
   {
    "duration": 38,
    "start_time": "2023-03-03T07:38:58.313Z"
   },
   {
    "duration": 55,
    "start_time": "2023-03-03T07:38:58.353Z"
   },
   {
    "duration": 45,
    "start_time": "2023-03-03T07:38:58.411Z"
   },
   {
    "duration": 89,
    "start_time": "2023-03-03T07:38:58.461Z"
   },
   {
    "duration": 54,
    "start_time": "2023-03-03T07:38:58.552Z"
   },
   {
    "duration": 7,
    "start_time": "2023-03-03T07:38:58.608Z"
   },
   {
    "duration": 58,
    "start_time": "2023-03-03T07:38:58.617Z"
   },
   {
    "duration": 40,
    "start_time": "2023-03-03T07:38:58.677Z"
   },
   {
    "duration": 51,
    "start_time": "2023-03-03T07:38:58.719Z"
   },
   {
    "duration": 26,
    "start_time": "2023-03-03T07:38:58.772Z"
   },
   {
    "duration": 49,
    "start_time": "2023-03-03T07:38:58.800Z"
   },
   {
    "duration": 28,
    "start_time": "2023-03-03T07:38:58.851Z"
   },
   {
    "duration": 58,
    "start_time": "2023-03-03T07:38:58.880Z"
   },
   {
    "duration": 53,
    "start_time": "2023-03-03T07:38:58.945Z"
   },
   {
    "duration": 15,
    "start_time": "2023-03-03T07:38:59.000Z"
   },
   {
    "duration": 35,
    "start_time": "2023-03-03T07:38:59.017Z"
   },
   {
    "duration": 53,
    "start_time": "2023-03-03T07:38:59.054Z"
   },
   {
    "duration": 4,
    "start_time": "2023-03-03T07:38:59.109Z"
   },
   {
    "duration": 321,
    "start_time": "2023-03-03T07:38:59.115Z"
   },
   {
    "duration": 10,
    "start_time": "2023-03-03T07:38:59.442Z"
   },
   {
    "duration": 64,
    "start_time": "2023-03-03T07:38:59.454Z"
   },
   {
    "duration": 33,
    "start_time": "2023-03-03T07:38:59.521Z"
   },
   {
    "duration": 37,
    "start_time": "2023-03-03T07:38:59.564Z"
   },
   {
    "duration": 37,
    "start_time": "2023-03-03T07:38:59.603Z"
   },
   {
    "duration": 54,
    "start_time": "2023-03-03T07:38:59.646Z"
   },
   {
    "duration": 12933,
    "start_time": "2023-03-03T07:41:49.248Z"
   },
   {
    "duration": 153301,
    "start_time": "2023-03-03T07:42:09.618Z"
   },
   {
    "duration": 13071,
    "start_time": "2023-03-03T07:46:04.484Z"
   },
   {
    "duration": 2335,
    "start_time": "2023-03-03T08:03:30.298Z"
   },
   {
    "duration": 3,
    "start_time": "2023-03-03T08:03:32.636Z"
   },
   {
    "duration": 420,
    "start_time": "2023-03-03T08:03:32.642Z"
   },
   {
    "duration": 24,
    "start_time": "2023-03-03T08:03:33.065Z"
   },
   {
    "duration": 69,
    "start_time": "2023-03-03T08:03:33.091Z"
   },
   {
    "duration": 16,
    "start_time": "2023-03-03T08:03:33.162Z"
   },
   {
    "duration": 42,
    "start_time": "2023-03-03T08:03:33.180Z"
   },
   {
    "duration": 125,
    "start_time": "2023-03-03T08:03:33.224Z"
   },
   {
    "duration": 299,
    "start_time": "2023-03-03T08:03:33.352Z"
   },
   {
    "duration": 9,
    "start_time": "2023-03-03T08:03:33.654Z"
   },
   {
    "duration": 365,
    "start_time": "2023-03-03T08:03:33.666Z"
   },
   {
    "duration": 7,
    "start_time": "2023-03-03T08:03:34.034Z"
   },
   {
    "duration": 307,
    "start_time": "2023-03-03T08:03:34.043Z"
   },
   {
    "duration": 7,
    "start_time": "2023-03-03T08:03:34.353Z"
   },
   {
    "duration": 63,
    "start_time": "2023-03-03T08:03:34.362Z"
   },
   {
    "duration": 303,
    "start_time": "2023-03-03T08:03:34.429Z"
   },
   {
    "duration": 6,
    "start_time": "2023-03-03T08:03:34.734Z"
   },
   {
    "duration": 46,
    "start_time": "2023-03-03T08:03:34.743Z"
   },
   {
    "duration": 369,
    "start_time": "2023-03-03T08:03:34.831Z"
   },
   {
    "duration": 7,
    "start_time": "2023-03-03T08:03:35.202Z"
   },
   {
    "duration": 182,
    "start_time": "2023-03-03T08:03:35.212Z"
   },
   {
    "duration": 5,
    "start_time": "2023-03-03T08:03:35.396Z"
   },
   {
    "duration": 28,
    "start_time": "2023-03-03T08:03:35.403Z"
   },
   {
    "duration": 52,
    "start_time": "2023-03-03T08:03:35.436Z"
   },
   {
    "duration": 12,
    "start_time": "2023-03-03T08:03:35.490Z"
   },
   {
    "duration": 14,
    "start_time": "2023-03-03T08:03:35.504Z"
   },
   {
    "duration": 4616,
    "start_time": "2023-03-03T08:03:35.520Z"
   },
   {
    "duration": 14,
    "start_time": "2023-03-03T08:03:40.144Z"
   },
   {
    "duration": 25,
    "start_time": "2023-03-03T08:03:40.165Z"
   },
   {
    "duration": 55,
    "start_time": "2023-03-03T08:03:40.221Z"
   },
   {
    "duration": 50,
    "start_time": "2023-03-03T08:03:40.280Z"
   },
   {
    "duration": 54,
    "start_time": "2023-03-03T08:03:40.333Z"
   },
   {
    "duration": 60,
    "start_time": "2023-03-03T08:03:40.389Z"
   },
   {
    "duration": 64,
    "start_time": "2023-03-03T08:03:40.452Z"
   },
   {
    "duration": 77,
    "start_time": "2023-03-03T08:03:40.518Z"
   },
   {
    "duration": 21,
    "start_time": "2023-03-03T08:03:40.598Z"
   },
   {
    "duration": 71,
    "start_time": "2023-03-03T08:03:40.621Z"
   },
   {
    "duration": 92,
    "start_time": "2023-03-03T08:03:40.695Z"
   },
   {
    "duration": 30,
    "start_time": "2023-03-03T08:03:40.789Z"
   },
   {
    "duration": 84,
    "start_time": "2023-03-03T08:03:40.827Z"
   },
   {
    "duration": 66,
    "start_time": "2023-03-03T08:03:40.914Z"
   },
   {
    "duration": 72,
    "start_time": "2023-03-03T08:03:40.983Z"
   },
   {
    "duration": 33,
    "start_time": "2023-03-03T08:03:41.059Z"
   },
   {
    "duration": 16,
    "start_time": "2023-03-03T08:03:41.094Z"
   },
   {
    "duration": 34,
    "start_time": "2023-03-03T08:03:41.112Z"
   },
   {
    "duration": 21,
    "start_time": "2023-03-03T08:03:41.151Z"
   },
   {
    "duration": 48,
    "start_time": "2023-03-03T08:03:41.174Z"
   },
   {
    "duration": 59,
    "start_time": "2023-03-03T08:03:41.227Z"
   },
   {
    "duration": 13,
    "start_time": "2023-03-03T08:03:41.289Z"
   },
   {
    "duration": 19,
    "start_time": "2023-03-03T08:03:41.305Z"
   },
   {
    "duration": 31,
    "start_time": "2023-03-03T08:03:41.328Z"
   },
   {
    "duration": 24,
    "start_time": "2023-03-03T08:03:41.361Z"
   },
   {
    "duration": 8,
    "start_time": "2023-03-03T08:03:41.387Z"
   },
   {
    "duration": 38,
    "start_time": "2023-03-03T08:03:41.399Z"
   },
   {
    "duration": 42,
    "start_time": "2023-03-03T08:03:41.442Z"
   },
   {
    "duration": 16,
    "start_time": "2023-03-03T08:03:41.487Z"
   },
   {
    "duration": 12,
    "start_time": "2023-03-03T08:03:41.505Z"
   },
   {
    "duration": 40,
    "start_time": "2023-03-03T08:03:41.519Z"
   },
   {
    "duration": 8,
    "start_time": "2023-03-03T08:03:41.561Z"
   },
   {
    "duration": 31,
    "start_time": "2023-03-03T08:03:41.571Z"
   },
   {
    "duration": 54,
    "start_time": "2023-03-03T08:03:41.603Z"
   },
   {
    "duration": 54,
    "start_time": "2023-03-03T08:03:41.660Z"
   },
   {
    "duration": 48,
    "start_time": "2023-03-03T08:03:41.717Z"
   },
   {
    "duration": 36,
    "start_time": "2023-03-03T08:03:41.767Z"
   },
   {
    "duration": 35,
    "start_time": "2023-03-03T08:03:41.806Z"
   },
   {
    "duration": 33,
    "start_time": "2023-03-03T08:03:41.843Z"
   },
   {
    "duration": 11,
    "start_time": "2023-03-03T08:03:41.878Z"
   },
   {
    "duration": 32,
    "start_time": "2023-03-03T08:03:41.892Z"
   },
   {
    "duration": 32,
    "start_time": "2023-03-03T08:03:41.928Z"
   },
   {
    "duration": 11,
    "start_time": "2023-03-03T08:03:41.964Z"
   },
   {
    "duration": 36,
    "start_time": "2023-03-03T08:03:41.977Z"
   },
   {
    "duration": 36,
    "start_time": "2023-03-03T08:03:42.015Z"
   },
   {
    "duration": 9,
    "start_time": "2023-03-03T08:03:42.053Z"
   },
   {
    "duration": 7,
    "start_time": "2023-03-03T08:03:42.064Z"
   },
   {
    "duration": 142,
    "start_time": "2023-03-03T08:03:42.073Z"
   },
   {
    "duration": 85,
    "start_time": "2023-03-03T08:03:42.217Z"
   },
   {
    "duration": 72,
    "start_time": "2023-03-03T08:03:42.305Z"
   },
   {
    "duration": 22,
    "start_time": "2023-03-03T08:03:42.380Z"
   },
   {
    "duration": 40,
    "start_time": "2023-03-03T08:03:42.405Z"
   },
   {
    "duration": 8,
    "start_time": "2023-03-03T08:03:42.448Z"
   },
   {
    "duration": 9,
    "start_time": "2023-03-03T08:03:42.459Z"
   },
   {
    "duration": 3,
    "start_time": "2023-03-03T08:03:42.483Z"
   },
   {
    "duration": 17,
    "start_time": "2023-03-03T08:03:42.488Z"
   },
   {
    "duration": 42,
    "start_time": "2023-03-03T08:03:42.507Z"
   },
   {
    "duration": 10,
    "start_time": "2023-03-03T08:03:42.552Z"
   },
   {
    "duration": 10,
    "start_time": "2023-03-03T08:03:42.564Z"
   },
   {
    "duration": 6,
    "start_time": "2023-03-03T08:03:42.577Z"
   },
   {
    "duration": 17,
    "start_time": "2023-03-03T08:03:42.585Z"
   },
   {
    "duration": 22,
    "start_time": "2023-03-03T08:03:42.607Z"
   },
   {
    "duration": 64,
    "start_time": "2023-03-03T08:03:42.631Z"
   },
   {
    "duration": 47,
    "start_time": "2023-03-03T08:03:42.698Z"
   },
   {
    "duration": 31,
    "start_time": "2023-03-03T08:03:42.750Z"
   },
   {
    "duration": 31,
    "start_time": "2023-03-03T08:03:42.784Z"
   },
   {
    "duration": 48,
    "start_time": "2023-03-03T08:03:42.817Z"
   },
   {
    "duration": 29,
    "start_time": "2023-03-03T08:03:42.867Z"
   },
   {
    "duration": 13,
    "start_time": "2023-03-03T08:03:42.898Z"
   },
   {
    "duration": 23,
    "start_time": "2023-03-03T08:03:42.914Z"
   },
   {
    "duration": 121,
    "start_time": "2023-03-03T08:03:42.944Z"
   },
   {
    "duration": 4,
    "start_time": "2023-03-03T08:03:43.068Z"
   },
   {
    "duration": 93,
    "start_time": "2023-03-03T08:03:43.075Z"
   },
   {
    "duration": 2883,
    "start_time": "2023-03-03T08:03:43.170Z"
   },
   {
    "duration": 750,
    "start_time": "2023-03-03T08:03:46.056Z"
   },
   {
    "duration": 1489,
    "start_time": "2023-03-03T08:03:46.808Z"
   },
   {
    "duration": 842,
    "start_time": "2023-03-03T08:03:48.299Z"
   },
   {
    "duration": 704,
    "start_time": "2023-03-03T08:03:49.146Z"
   },
   {
    "duration": 1043,
    "start_time": "2023-03-03T08:03:49.852Z"
   },
   {
    "duration": 10038,
    "start_time": "2023-03-03T08:03:50.897Z"
   },
   {
    "duration": 148660,
    "start_time": "2023-03-03T08:04:00.936Z"
   },
   {
    "duration": 12781,
    "start_time": "2023-03-03T08:06:29.598Z"
   },
   {
    "duration": 56,
    "start_time": "2023-03-03T08:06:42.424Z"
   },
   {
    "duration": 58,
    "start_time": "2023-03-03T08:06:42.483Z"
   },
   {
    "duration": 8,
    "start_time": "2023-03-03T08:06:42.543Z"
   },
   {
    "duration": 38,
    "start_time": "2023-03-03T08:06:42.556Z"
   },
   {
    "duration": 4,
    "start_time": "2023-03-03T08:06:42.596Z"
   },
   {
    "duration": 21,
    "start_time": "2023-03-03T08:06:42.602Z"
   },
   {
    "duration": 68,
    "start_time": "2023-03-03T08:06:42.625Z"
   },
   {
    "duration": 19,
    "start_time": "2023-03-03T08:06:42.695Z"
   },
   {
    "duration": 26,
    "start_time": "2023-03-03T08:06:42.716Z"
   },
   {
    "duration": 38,
    "start_time": "2023-03-03T08:06:42.743Z"
   },
   {
    "duration": 28,
    "start_time": "2023-03-03T08:06:42.784Z"
   },
   {
    "duration": 40,
    "start_time": "2023-03-03T08:06:42.814Z"
   },
   {
    "duration": 36,
    "start_time": "2023-03-03T08:06:42.856Z"
   },
   {
    "duration": 23,
    "start_time": "2023-03-03T08:06:42.894Z"
   },
   {
    "duration": 51,
    "start_time": "2023-03-03T08:06:42.918Z"
   },
   {
    "duration": 24,
    "start_time": "2023-03-03T08:06:42.972Z"
   },
   {
    "duration": 29,
    "start_time": "2023-03-03T08:06:42.998Z"
   },
   {
    "duration": 50,
    "start_time": "2023-03-03T08:06:43.029Z"
   },
   {
    "duration": 21,
    "start_time": "2023-03-03T08:06:43.082Z"
   },
   {
    "duration": 28,
    "start_time": "2023-03-03T08:06:43.105Z"
   },
   {
    "duration": 41,
    "start_time": "2023-03-03T08:06:43.135Z"
   },
   {
    "duration": 334,
    "start_time": "2023-03-03T08:06:43.178Z"
   },
   {
    "duration": 30,
    "start_time": "2023-03-03T08:06:43.514Z"
   },
   {
    "duration": 57,
    "start_time": "2023-03-03T08:06:43.551Z"
   },
   {
    "duration": 27,
    "start_time": "2023-03-03T08:06:43.611Z"
   },
   {
    "duration": 37,
    "start_time": "2023-03-03T08:06:43.640Z"
   },
   {
    "duration": 20,
    "start_time": "2023-03-03T08:06:43.680Z"
   },
   {
    "duration": 10,
    "start_time": "2023-03-03T08:06:43.702Z"
   },
   {
    "duration": 88,
    "start_time": "2023-03-03T08:06:43.715Z"
   },
   {
    "duration": 138,
    "start_time": "2023-03-03T08:10:54.942Z"
   },
   {
    "duration": 131,
    "start_time": "2023-03-03T08:29:34.497Z"
   },
   {
    "duration": 2275,
    "start_time": "2023-03-03T08:35:52.333Z"
   },
   {
    "duration": 166,
    "start_time": "2023-03-03T08:36:31.109Z"
   },
   {
    "duration": 3,
    "start_time": "2023-03-03T08:36:38.878Z"
   },
   {
    "duration": 56,
    "start_time": "2023-03-03T08:36:39.215Z"
   },
   {
    "duration": 22,
    "start_time": "2023-03-03T08:36:39.637Z"
   },
   {
    "duration": 105,
    "start_time": "2023-03-03T08:36:42.774Z"
   },
   {
    "duration": 2211,
    "start_time": "2023-03-03T08:36:48.308Z"
   },
   {
    "duration": 2314,
    "start_time": "2023-03-03T08:37:37.501Z"
   },
   {
    "duration": 2502,
    "start_time": "2023-03-03T08:37:53.072Z"
   },
   {
    "duration": 7,
    "start_time": "2023-03-03T08:38:33.787Z"
   },
   {
    "duration": 5,
    "start_time": "2023-03-03T08:39:02.885Z"
   },
   {
    "duration": 22,
    "start_time": "2023-03-03T08:42:27.760Z"
   },
   {
    "duration": 8,
    "start_time": "2023-03-03T08:42:31.027Z"
   },
   {
    "duration": 5,
    "start_time": "2023-03-03T08:42:31.409Z"
   },
   {
    "duration": 17,
    "start_time": "2023-03-03T08:42:31.840Z"
   },
   {
    "duration": 10,
    "start_time": "2023-03-03T08:42:32.150Z"
   },
   {
    "duration": 9,
    "start_time": "2023-03-03T08:42:32.547Z"
   },
   {
    "duration": 6,
    "start_time": "2023-03-03T08:42:32.993Z"
   },
   {
    "duration": 20,
    "start_time": "2023-03-03T08:42:33.985Z"
   },
   {
    "duration": 54,
    "start_time": "2023-03-03T08:46:56.280Z"
   },
   {
    "duration": 7,
    "start_time": "2023-03-03T08:57:01.284Z"
   },
   {
    "duration": 15,
    "start_time": "2023-03-03T08:57:02.219Z"
   },
   {
    "duration": 16,
    "start_time": "2023-03-03T08:57:02.815Z"
   },
   {
    "duration": 10,
    "start_time": "2023-03-03T08:57:03.286Z"
   },
   {
    "duration": 9,
    "start_time": "2023-03-03T08:57:03.782Z"
   },
   {
    "duration": 9,
    "start_time": "2023-03-03T08:57:04.263Z"
   },
   {
    "duration": 22,
    "start_time": "2023-03-03T08:57:04.942Z"
   },
   {
    "duration": 186,
    "start_time": "2023-03-03T08:58:48.948Z"
   },
   {
    "duration": 2059,
    "start_time": "2023-03-03T08:59:48.818Z"
   },
   {
    "duration": 4,
    "start_time": "2023-03-03T08:59:50.880Z"
   },
   {
    "duration": 437,
    "start_time": "2023-03-03T08:59:50.886Z"
   },
   {
    "duration": 29,
    "start_time": "2023-03-03T08:59:51.326Z"
   },
   {
    "duration": 54,
    "start_time": "2023-03-03T08:59:51.358Z"
   },
   {
    "duration": 21,
    "start_time": "2023-03-03T08:59:51.413Z"
   },
   {
    "duration": 57,
    "start_time": "2023-03-03T08:59:51.436Z"
   },
   {
    "duration": 102,
    "start_time": "2023-03-03T08:59:51.495Z"
   },
   {
    "duration": 139,
    "start_time": "2023-03-03T08:59:51.598Z"
   },
   {
    "duration": 9,
    "start_time": "2023-03-03T08:59:51.741Z"
   },
   {
    "duration": 146,
    "start_time": "2023-03-03T08:59:51.752Z"
   },
   {
    "duration": 6,
    "start_time": "2023-03-03T08:59:51.900Z"
   },
   {
    "duration": 286,
    "start_time": "2023-03-03T08:59:51.907Z"
   },
   {
    "duration": 7,
    "start_time": "2023-03-03T08:59:52.195Z"
   },
   {
    "duration": 61,
    "start_time": "2023-03-03T08:59:52.204Z"
   },
   {
    "duration": 303,
    "start_time": "2023-03-03T08:59:52.268Z"
   },
   {
    "duration": 8,
    "start_time": "2023-03-03T08:59:52.621Z"
   },
   {
    "duration": 51,
    "start_time": "2023-03-03T08:59:52.631Z"
   },
   {
    "duration": 459,
    "start_time": "2023-03-03T08:59:52.684Z"
   },
   {
    "duration": 9,
    "start_time": "2023-03-03T08:59:53.146Z"
   },
   {
    "duration": 346,
    "start_time": "2023-03-03T08:59:53.157Z"
   },
   {
    "duration": 7,
    "start_time": "2023-03-03T08:59:53.521Z"
   },
   {
    "duration": 81,
    "start_time": "2023-03-03T08:59:53.530Z"
   },
   {
    "duration": 52,
    "start_time": "2023-03-03T08:59:53.626Z"
   },
   {
    "duration": 9,
    "start_time": "2023-03-03T08:59:53.680Z"
   },
   {
    "duration": 20,
    "start_time": "2023-03-03T08:59:53.691Z"
   },
   {
    "duration": 5388,
    "start_time": "2023-03-03T08:59:53.713Z"
   },
   {
    "duration": 10,
    "start_time": "2023-03-03T08:59:59.109Z"
   },
   {
    "duration": 70,
    "start_time": "2023-03-03T08:59:59.121Z"
   },
   {
    "duration": 50,
    "start_time": "2023-03-03T08:59:59.193Z"
   },
   {
    "duration": 49,
    "start_time": "2023-03-03T08:59:59.245Z"
   },
   {
    "duration": 5,
    "start_time": "2023-03-03T08:59:59.322Z"
   },
   {
    "duration": 121,
    "start_time": "2023-03-03T08:59:59.329Z"
   },
   {
    "duration": 45,
    "start_time": "2023-03-03T08:59:59.453Z"
   },
   {
    "duration": 16,
    "start_time": "2023-03-03T08:59:59.500Z"
   },
   {
    "duration": 41,
    "start_time": "2023-03-03T08:59:59.518Z"
   },
   {
    "duration": 23,
    "start_time": "2023-03-03T08:59:59.567Z"
   },
   {
    "duration": 20,
    "start_time": "2023-03-03T08:59:59.592Z"
   },
   {
    "duration": 12,
    "start_time": "2023-03-03T08:59:59.615Z"
   },
   {
    "duration": 75,
    "start_time": "2023-03-03T08:59:59.629Z"
   },
   {
    "duration": 38,
    "start_time": "2023-03-03T08:59:59.707Z"
   },
   {
    "duration": 28,
    "start_time": "2023-03-03T08:59:59.751Z"
   },
   {
    "duration": 10,
    "start_time": "2023-03-03T08:59:59.781Z"
   },
   {
    "duration": 14,
    "start_time": "2023-03-03T08:59:59.793Z"
   },
   {
    "duration": 24,
    "start_time": "2023-03-03T08:59:59.809Z"
   },
   {
    "duration": 41,
    "start_time": "2023-03-03T08:59:59.840Z"
   },
   {
    "duration": 22,
    "start_time": "2023-03-03T08:59:59.883Z"
   },
   {
    "duration": 35,
    "start_time": "2023-03-03T08:59:59.908Z"
   },
   {
    "duration": 36,
    "start_time": "2023-03-03T08:59:59.950Z"
   },
   {
    "duration": 7,
    "start_time": "2023-03-03T08:59:59.988Z"
   },
   {
    "duration": 19,
    "start_time": "2023-03-03T08:59:59.997Z"
   },
   {
    "duration": 88,
    "start_time": "2023-03-03T09:00:00.018Z"
   },
   {
    "duration": 57,
    "start_time": "2023-03-03T09:00:00.109Z"
   },
   {
    "duration": 58,
    "start_time": "2023-03-03T09:00:00.169Z"
   },
   {
    "duration": 112,
    "start_time": "2023-03-03T09:00:00.236Z"
   },
   {
    "duration": 75,
    "start_time": "2023-03-03T09:00:00.353Z"
   },
   {
    "duration": 64,
    "start_time": "2023-03-03T09:00:00.433Z"
   },
   {
    "duration": 73,
    "start_time": "2023-03-03T09:00:00.499Z"
   },
   {
    "duration": 34,
    "start_time": "2023-03-03T09:00:00.576Z"
   },
   {
    "duration": 98,
    "start_time": "2023-03-03T09:00:00.613Z"
   },
   {
    "duration": 93,
    "start_time": "2023-03-03T09:00:00.713Z"
   },
   {
    "duration": 131,
    "start_time": "2023-03-03T09:00:00.809Z"
   },
   {
    "duration": 95,
    "start_time": "2023-03-03T09:00:00.942Z"
   },
   {
    "duration": 106,
    "start_time": "2023-03-03T09:00:01.040Z"
   },
   {
    "duration": 101,
    "start_time": "2023-03-03T09:00:01.148Z"
   },
   {
    "duration": 152,
    "start_time": "2023-03-03T09:00:01.251Z"
   },
   {
    "duration": 60,
    "start_time": "2023-03-03T09:00:01.405Z"
   },
   {
    "duration": 111,
    "start_time": "2023-03-03T09:00:01.467Z"
   },
   {
    "duration": 58,
    "start_time": "2023-03-03T09:00:01.581Z"
   },
   {
    "duration": 77,
    "start_time": "2023-03-03T09:00:01.641Z"
   },
   {
    "duration": 135,
    "start_time": "2023-03-03T09:00:01.720Z"
   },
   {
    "duration": 195,
    "start_time": "2023-03-03T09:00:01.857Z"
   },
   {
    "duration": 33,
    "start_time": "2023-03-03T09:00:02.062Z"
   },
   {
    "duration": 111,
    "start_time": "2023-03-03T09:00:02.097Z"
   },
   {
    "duration": 179,
    "start_time": "2023-03-03T09:00:02.211Z"
   },
   {
    "duration": 94,
    "start_time": "2023-03-03T09:00:02.393Z"
   },
   {
    "duration": 85,
    "start_time": "2023-03-03T09:00:02.490Z"
   },
   {
    "duration": 67,
    "start_time": "2023-03-03T09:00:02.577Z"
   },
   {
    "duration": 126,
    "start_time": "2023-03-03T09:00:02.646Z"
   },
   {
    "duration": 24,
    "start_time": "2023-03-03T09:00:02.774Z"
   },
   {
    "duration": 70,
    "start_time": "2023-03-03T09:00:02.801Z"
   },
   {
    "duration": 25,
    "start_time": "2023-03-03T09:00:02.884Z"
   },
   {
    "duration": 61,
    "start_time": "2023-03-03T09:00:02.911Z"
   },
   {
    "duration": 36,
    "start_time": "2023-03-03T09:00:02.974Z"
   },
   {
    "duration": 63,
    "start_time": "2023-03-03T09:00:03.013Z"
   },
   {
    "duration": 28,
    "start_time": "2023-03-03T09:00:03.078Z"
   },
   {
    "duration": 65,
    "start_time": "2023-03-03T09:00:03.109Z"
   },
   {
    "duration": 6,
    "start_time": "2023-03-03T09:00:03.177Z"
   },
   {
    "duration": 12,
    "start_time": "2023-03-03T09:00:03.186Z"
   },
   {
    "duration": 49,
    "start_time": "2023-03-03T09:00:03.201Z"
   },
   {
    "duration": 36,
    "start_time": "2023-03-03T09:00:03.252Z"
   },
   {
    "duration": 35,
    "start_time": "2023-03-03T09:00:03.291Z"
   },
   {
    "duration": 67,
    "start_time": "2023-03-03T09:00:03.328Z"
   },
   {
    "duration": 14,
    "start_time": "2023-03-03T09:00:03.397Z"
   },
   {
    "duration": 29,
    "start_time": "2023-03-03T09:00:03.414Z"
   },
   {
    "duration": 22,
    "start_time": "2023-03-03T09:00:03.452Z"
   },
   {
    "duration": 12,
    "start_time": "2023-03-03T09:00:03.476Z"
   },
   {
    "duration": 88,
    "start_time": "2023-03-03T09:00:03.492Z"
   },
   {
    "duration": 94,
    "start_time": "2023-03-03T09:00:03.583Z"
   },
   {
    "duration": 4,
    "start_time": "2023-03-03T09:00:03.679Z"
   },
   {
    "duration": 74,
    "start_time": "2023-03-03T09:00:03.685Z"
   },
   {
    "duration": 146,
    "start_time": "2023-03-03T09:00:03.761Z"
   },
   {
    "duration": 0,
    "start_time": "2023-03-03T09:00:03.912Z"
   },
   {
    "duration": 0,
    "start_time": "2023-03-03T09:00:03.914Z"
   },
   {
    "duration": 0,
    "start_time": "2023-03-03T09:00:03.921Z"
   },
   {
    "duration": 0,
    "start_time": "2023-03-03T09:00:03.924Z"
   },
   {
    "duration": 0,
    "start_time": "2023-03-03T09:00:03.925Z"
   },
   {
    "duration": 0,
    "start_time": "2023-03-03T09:00:03.927Z"
   },
   {
    "duration": 0,
    "start_time": "2023-03-03T09:00:03.928Z"
   },
   {
    "duration": 0,
    "start_time": "2023-03-03T09:00:03.929Z"
   },
   {
    "duration": 0,
    "start_time": "2023-03-03T09:00:03.930Z"
   },
   {
    "duration": 0,
    "start_time": "2023-03-03T09:00:03.941Z"
   },
   {
    "duration": 0,
    "start_time": "2023-03-03T09:00:03.945Z"
   },
   {
    "duration": 0,
    "start_time": "2023-03-03T09:00:03.947Z"
   },
   {
    "duration": 0,
    "start_time": "2023-03-03T09:00:03.948Z"
   },
   {
    "duration": 0,
    "start_time": "2023-03-03T09:00:03.948Z"
   },
   {
    "duration": 0,
    "start_time": "2023-03-03T09:00:03.949Z"
   },
   {
    "duration": 0,
    "start_time": "2023-03-03T09:00:03.950Z"
   },
   {
    "duration": 0,
    "start_time": "2023-03-03T09:00:03.950Z"
   },
   {
    "duration": 0,
    "start_time": "2023-03-03T09:00:03.952Z"
   },
   {
    "duration": 0,
    "start_time": "2023-03-03T09:00:03.953Z"
   },
   {
    "duration": 0,
    "start_time": "2023-03-03T09:00:03.954Z"
   },
   {
    "duration": 0,
    "start_time": "2023-03-03T09:00:03.955Z"
   },
   {
    "duration": 0,
    "start_time": "2023-03-03T09:00:03.957Z"
   },
   {
    "duration": 0,
    "start_time": "2023-03-03T09:00:03.958Z"
   },
   {
    "duration": 0,
    "start_time": "2023-03-03T09:00:03.959Z"
   },
   {
    "duration": 0,
    "start_time": "2023-03-03T09:00:03.961Z"
   },
   {
    "duration": 0,
    "start_time": "2023-03-03T09:00:03.961Z"
   },
   {
    "duration": 0,
    "start_time": "2023-03-03T09:00:03.962Z"
   },
   {
    "duration": 0,
    "start_time": "2023-03-03T09:00:03.963Z"
   },
   {
    "duration": 0,
    "start_time": "2023-03-03T09:00:03.964Z"
   },
   {
    "duration": 0,
    "start_time": "2023-03-03T09:00:03.965Z"
   },
   {
    "duration": 0,
    "start_time": "2023-03-03T09:00:03.966Z"
   },
   {
    "duration": 0,
    "start_time": "2023-03-03T09:00:03.968Z"
   },
   {
    "duration": 0,
    "start_time": "2023-03-03T09:00:03.969Z"
   },
   {
    "duration": 0,
    "start_time": "2023-03-03T09:00:03.970Z"
   },
   {
    "duration": 0,
    "start_time": "2023-03-03T09:00:03.971Z"
   },
   {
    "duration": 0,
    "start_time": "2023-03-03T09:00:03.972Z"
   },
   {
    "duration": 0,
    "start_time": "2023-03-03T09:00:03.972Z"
   },
   {
    "duration": 0,
    "start_time": "2023-03-03T09:00:03.975Z"
   },
   {
    "duration": 0,
    "start_time": "2023-03-03T09:00:03.976Z"
   },
   {
    "duration": 0,
    "start_time": "2023-03-03T09:00:03.977Z"
   },
   {
    "duration": 0,
    "start_time": "2023-03-03T09:00:03.978Z"
   },
   {
    "duration": 0,
    "start_time": "2023-03-03T09:00:03.978Z"
   },
   {
    "duration": 0,
    "start_time": "2023-03-03T09:00:03.979Z"
   },
   {
    "duration": 0,
    "start_time": "2023-03-03T09:00:03.980Z"
   },
   {
    "duration": 0,
    "start_time": "2023-03-03T09:00:03.980Z"
   },
   {
    "duration": 2097,
    "start_time": "2023-03-03T09:02:04.258Z"
   },
   {
    "duration": 13,
    "start_time": "2023-03-03T09:02:06.358Z"
   },
   {
    "duration": 574,
    "start_time": "2023-03-03T09:02:06.374Z"
   },
   {
    "duration": 46,
    "start_time": "2023-03-03T09:02:06.963Z"
   },
   {
    "duration": 67,
    "start_time": "2023-03-03T09:02:07.012Z"
   },
   {
    "duration": 25,
    "start_time": "2023-03-03T09:02:07.084Z"
   },
   {
    "duration": 40,
    "start_time": "2023-03-03T09:02:07.111Z"
   },
   {
    "duration": 146,
    "start_time": "2023-03-03T09:02:07.153Z"
   },
   {
    "duration": 171,
    "start_time": "2023-03-03T09:02:07.301Z"
   },
   {
    "duration": 9,
    "start_time": "2023-03-03T09:02:07.477Z"
   },
   {
    "duration": 144,
    "start_time": "2023-03-03T09:02:07.488Z"
   },
   {
    "duration": 12,
    "start_time": "2023-03-03T09:02:07.633Z"
   },
   {
    "duration": 138,
    "start_time": "2023-03-03T09:02:07.647Z"
   },
   {
    "duration": 7,
    "start_time": "2023-03-03T09:02:07.787Z"
   },
   {
    "duration": 9,
    "start_time": "2023-03-03T09:02:07.796Z"
   },
   {
    "duration": 226,
    "start_time": "2023-03-03T09:02:07.807Z"
   },
   {
    "duration": 21,
    "start_time": "2023-03-03T09:02:08.036Z"
   },
   {
    "duration": 28,
    "start_time": "2023-03-03T09:02:08.065Z"
   },
   {
    "duration": 631,
    "start_time": "2023-03-03T09:02:08.120Z"
   },
   {
    "duration": 9,
    "start_time": "2023-03-03T09:02:08.753Z"
   },
   {
    "duration": 311,
    "start_time": "2023-03-03T09:02:08.766Z"
   },
   {
    "duration": 11,
    "start_time": "2023-03-03T09:02:09.126Z"
   },
   {
    "duration": 46,
    "start_time": "2023-03-03T09:02:09.143Z"
   },
   {
    "duration": 58,
    "start_time": "2023-03-03T09:02:09.191Z"
   },
   {
    "duration": 12,
    "start_time": "2023-03-03T09:02:09.251Z"
   },
   {
    "duration": 17,
    "start_time": "2023-03-03T09:02:09.265Z"
   },
   {
    "duration": 4964,
    "start_time": "2023-03-03T09:02:09.285Z"
   },
   {
    "duration": 12,
    "start_time": "2023-03-03T09:02:14.254Z"
   },
   {
    "duration": 17,
    "start_time": "2023-03-03T09:02:14.268Z"
   },
   {
    "duration": 50,
    "start_time": "2023-03-03T09:02:14.287Z"
   },
   {
    "duration": 89,
    "start_time": "2023-03-03T09:02:14.340Z"
   },
   {
    "duration": 38,
    "start_time": "2023-03-03T09:02:14.432Z"
   },
   {
    "duration": 98,
    "start_time": "2023-03-03T09:02:14.472Z"
   },
   {
    "duration": 74,
    "start_time": "2023-03-03T09:02:14.572Z"
   },
   {
    "duration": 35,
    "start_time": "2023-03-03T09:02:14.648Z"
   },
   {
    "duration": 21,
    "start_time": "2023-03-03T09:02:14.686Z"
   },
   {
    "duration": 101,
    "start_time": "2023-03-03T09:02:14.710Z"
   },
   {
    "duration": 56,
    "start_time": "2023-03-03T09:02:14.813Z"
   },
   {
    "duration": 25,
    "start_time": "2023-03-03T09:02:14.871Z"
   },
   {
    "duration": 49,
    "start_time": "2023-03-03T09:02:14.899Z"
   },
   {
    "duration": 119,
    "start_time": "2023-03-03T09:02:14.951Z"
   },
   {
    "duration": 26,
    "start_time": "2023-03-03T09:02:15.079Z"
   },
   {
    "duration": 7,
    "start_time": "2023-03-03T09:02:15.108Z"
   },
   {
    "duration": 65,
    "start_time": "2023-03-03T09:02:15.120Z"
   },
   {
    "duration": 28,
    "start_time": "2023-03-03T09:02:15.188Z"
   },
   {
    "duration": 63,
    "start_time": "2023-03-03T09:02:15.219Z"
   },
   {
    "duration": 99,
    "start_time": "2023-03-03T09:02:15.284Z"
   },
   {
    "duration": 37,
    "start_time": "2023-03-03T09:02:15.386Z"
   },
   {
    "duration": 65,
    "start_time": "2023-03-03T09:02:15.425Z"
   },
   {
    "duration": 7,
    "start_time": "2023-03-03T09:02:15.492Z"
   },
   {
    "duration": 7,
    "start_time": "2023-03-03T09:02:15.501Z"
   },
   {
    "duration": 64,
    "start_time": "2023-03-03T09:02:15.511Z"
   },
   {
    "duration": 19,
    "start_time": "2023-03-03T09:02:15.577Z"
   },
   {
    "duration": 48,
    "start_time": "2023-03-03T09:02:15.597Z"
   },
   {
    "duration": 57,
    "start_time": "2023-03-03T09:02:15.647Z"
   },
   {
    "duration": 9,
    "start_time": "2023-03-03T09:02:15.706Z"
   },
   {
    "duration": 52,
    "start_time": "2023-03-03T09:02:15.717Z"
   },
   {
    "duration": 40,
    "start_time": "2023-03-03T09:02:15.771Z"
   },
   {
    "duration": 64,
    "start_time": "2023-03-03T09:02:15.813Z"
   },
   {
    "duration": 16,
    "start_time": "2023-03-03T09:02:15.879Z"
   },
   {
    "duration": 81,
    "start_time": "2023-03-03T09:02:15.897Z"
   },
   {
    "duration": 33,
    "start_time": "2023-03-03T09:02:15.980Z"
   },
   {
    "duration": 76,
    "start_time": "2023-03-03T09:02:16.015Z"
   },
   {
    "duration": 62,
    "start_time": "2023-03-03T09:02:16.093Z"
   },
   {
    "duration": 16,
    "start_time": "2023-03-03T09:02:16.159Z"
   },
   {
    "duration": 14,
    "start_time": "2023-03-03T09:02:16.177Z"
   },
   {
    "duration": 17,
    "start_time": "2023-03-03T09:02:16.194Z"
   },
   {
    "duration": 57,
    "start_time": "2023-03-03T09:02:16.213Z"
   },
   {
    "duration": 16,
    "start_time": "2023-03-03T09:02:16.272Z"
   },
   {
    "duration": 15,
    "start_time": "2023-03-03T09:02:16.291Z"
   },
   {
    "duration": 59,
    "start_time": "2023-03-03T09:02:16.309Z"
   },
   {
    "duration": 42,
    "start_time": "2023-03-03T09:02:16.375Z"
   },
   {
    "duration": 18,
    "start_time": "2023-03-03T09:02:16.419Z"
   },
   {
    "duration": 36,
    "start_time": "2023-03-03T09:02:16.439Z"
   },
   {
    "duration": 128,
    "start_time": "2023-03-03T09:02:16.477Z"
   },
   {
    "duration": 80,
    "start_time": "2023-03-03T09:02:16.607Z"
   },
   {
    "duration": 61,
    "start_time": "2023-03-03T09:02:16.689Z"
   },
   {
    "duration": 17,
    "start_time": "2023-03-03T09:02:16.751Z"
   },
   {
    "duration": 18,
    "start_time": "2023-03-03T09:02:16.770Z"
   },
   {
    "duration": 8,
    "start_time": "2023-03-03T09:02:16.790Z"
   },
   {
    "duration": 27,
    "start_time": "2023-03-03T09:02:16.800Z"
   },
   {
    "duration": 28,
    "start_time": "2023-03-03T09:02:16.844Z"
   },
   {
    "duration": 9,
    "start_time": "2023-03-03T09:02:16.874Z"
   },
   {
    "duration": 10,
    "start_time": "2023-03-03T09:02:16.886Z"
   },
   {
    "duration": 6,
    "start_time": "2023-03-03T09:02:16.898Z"
   },
   {
    "duration": 8,
    "start_time": "2023-03-03T09:02:16.906Z"
   },
   {
    "duration": 44,
    "start_time": "2023-03-03T09:02:16.916Z"
   },
   {
    "duration": 9,
    "start_time": "2023-03-03T09:02:16.963Z"
   },
   {
    "duration": 10,
    "start_time": "2023-03-03T09:02:16.974Z"
   },
   {
    "duration": 62,
    "start_time": "2023-03-03T09:02:16.987Z"
   },
   {
    "duration": 33,
    "start_time": "2023-03-03T09:02:17.054Z"
   },
   {
    "duration": 19,
    "start_time": "2023-03-03T09:02:17.088Z"
   },
   {
    "duration": 29,
    "start_time": "2023-03-03T09:02:17.109Z"
   },
   {
    "duration": 28,
    "start_time": "2023-03-03T09:02:17.140Z"
   },
   {
    "duration": 8,
    "start_time": "2023-03-03T09:02:17.170Z"
   },
   {
    "duration": 8,
    "start_time": "2023-03-03T09:02:17.180Z"
   },
   {
    "duration": 13,
    "start_time": "2023-03-03T09:02:17.190Z"
   },
   {
    "duration": 84,
    "start_time": "2023-03-03T09:02:17.205Z"
   },
   {
    "duration": 93,
    "start_time": "2023-03-03T09:02:17.291Z"
   },
   {
    "duration": 3,
    "start_time": "2023-03-03T09:02:17.386Z"
   },
   {
    "duration": 69,
    "start_time": "2023-03-03T09:02:17.391Z"
   },
   {
    "duration": 28,
    "start_time": "2023-03-03T09:02:17.463Z"
   },
   {
    "duration": 8,
    "start_time": "2023-03-03T09:02:17.494Z"
   },
   {
    "duration": 27,
    "start_time": "2023-03-03T09:02:17.504Z"
   },
   {
    "duration": 39,
    "start_time": "2023-03-03T09:02:17.533Z"
   },
   {
    "duration": 11,
    "start_time": "2023-03-03T09:02:17.574Z"
   },
   {
    "duration": 8,
    "start_time": "2023-03-03T09:02:17.587Z"
   },
   {
    "duration": 30,
    "start_time": "2023-03-03T09:02:17.596Z"
   },
   {
    "duration": 2547,
    "start_time": "2023-03-03T09:02:17.632Z"
   },
   {
    "duration": 835,
    "start_time": "2023-03-03T09:02:20.181Z"
   },
   {
    "duration": 289,
    "start_time": "2023-03-03T09:02:21.018Z"
   },
   {
    "duration": 0,
    "start_time": "2023-03-03T09:02:21.310Z"
   },
   {
    "duration": 0,
    "start_time": "2023-03-03T09:02:21.312Z"
   },
   {
    "duration": 0,
    "start_time": "2023-03-03T09:02:21.314Z"
   },
   {
    "duration": 0,
    "start_time": "2023-03-03T09:02:21.325Z"
   },
   {
    "duration": 0,
    "start_time": "2023-03-03T09:02:21.327Z"
   },
   {
    "duration": 0,
    "start_time": "2023-03-03T09:02:21.328Z"
   },
   {
    "duration": 0,
    "start_time": "2023-03-03T09:02:21.329Z"
   },
   {
    "duration": 0,
    "start_time": "2023-03-03T09:02:21.330Z"
   },
   {
    "duration": 0,
    "start_time": "2023-03-03T09:02:21.331Z"
   },
   {
    "duration": 0,
    "start_time": "2023-03-03T09:02:21.332Z"
   },
   {
    "duration": 0,
    "start_time": "2023-03-03T09:02:21.333Z"
   },
   {
    "duration": 0,
    "start_time": "2023-03-03T09:02:21.334Z"
   },
   {
    "duration": 0,
    "start_time": "2023-03-03T09:02:21.335Z"
   },
   {
    "duration": 0,
    "start_time": "2023-03-03T09:02:21.336Z"
   },
   {
    "duration": 0,
    "start_time": "2023-03-03T09:02:21.337Z"
   },
   {
    "duration": 0,
    "start_time": "2023-03-03T09:02:21.338Z"
   },
   {
    "duration": 0,
    "start_time": "2023-03-03T09:02:21.339Z"
   },
   {
    "duration": 0,
    "start_time": "2023-03-03T09:02:21.341Z"
   },
   {
    "duration": 0,
    "start_time": "2023-03-03T09:02:21.343Z"
   },
   {
    "duration": 0,
    "start_time": "2023-03-03T09:02:21.344Z"
   },
   {
    "duration": 0,
    "start_time": "2023-03-03T09:02:21.346Z"
   },
   {
    "duration": 0,
    "start_time": "2023-03-03T09:02:21.347Z"
   },
   {
    "duration": 0,
    "start_time": "2023-03-03T09:02:21.348Z"
   },
   {
    "duration": 0,
    "start_time": "2023-03-03T09:02:21.350Z"
   },
   {
    "duration": 0,
    "start_time": "2023-03-03T09:02:21.351Z"
   },
   {
    "duration": 0,
    "start_time": "2023-03-03T09:02:21.353Z"
   },
   {
    "duration": 0,
    "start_time": "2023-03-03T09:02:21.354Z"
   },
   {
    "duration": 0,
    "start_time": "2023-03-03T09:02:21.355Z"
   },
   {
    "duration": 0,
    "start_time": "2023-03-03T09:02:21.357Z"
   },
   {
    "duration": 0,
    "start_time": "2023-03-03T09:02:21.358Z"
   },
   {
    "duration": 0,
    "start_time": "2023-03-03T09:02:21.359Z"
   },
   {
    "duration": 0,
    "start_time": "2023-03-03T09:02:21.360Z"
   },
   {
    "duration": 0,
    "start_time": "2023-03-03T09:02:21.361Z"
   },
   {
    "duration": 0,
    "start_time": "2023-03-03T09:02:21.367Z"
   },
   {
    "duration": 0,
    "start_time": "2023-03-03T09:02:21.369Z"
   },
   {
    "duration": 0,
    "start_time": "2023-03-03T09:02:21.371Z"
   },
   {
    "duration": 10,
    "start_time": "2023-03-03T09:04:24.570Z"
   },
   {
    "duration": 11,
    "start_time": "2023-03-03T09:04:50.075Z"
   },
   {
    "duration": 134,
    "start_time": "2023-03-03T09:05:05.059Z"
   },
   {
    "duration": 11,
    "start_time": "2023-03-03T09:05:28.502Z"
   },
   {
    "duration": 26,
    "start_time": "2023-03-03T09:05:59.020Z"
   },
   {
    "duration": 18,
    "start_time": "2023-03-03T09:06:26.956Z"
   },
   {
    "duration": 52,
    "start_time": "2023-03-03T09:07:09.398Z"
   },
   {
    "duration": 10,
    "start_time": "2023-03-03T09:07:43.095Z"
   },
   {
    "duration": 7,
    "start_time": "2023-03-03T09:07:53.801Z"
   },
   {
    "duration": 11,
    "start_time": "2023-03-03T09:08:12.059Z"
   },
   {
    "duration": 22,
    "start_time": "2023-03-03T09:08:19.869Z"
   },
   {
    "duration": 17,
    "start_time": "2023-03-03T09:09:11.240Z"
   },
   {
    "duration": 236,
    "start_time": "2023-03-03T09:10:45.067Z"
   },
   {
    "duration": 18,
    "start_time": "2023-03-03T09:11:12.839Z"
   },
   {
    "duration": 404,
    "start_time": "2023-03-03T09:11:47.505Z"
   },
   {
    "duration": 584,
    "start_time": "2023-03-03T09:12:38.191Z"
   },
   {
    "duration": 648,
    "start_time": "2023-03-03T09:12:45.817Z"
   },
   {
    "duration": 748,
    "start_time": "2023-03-03T09:12:51.157Z"
   },
   {
    "duration": 2893,
    "start_time": "2023-03-03T09:13:14.391Z"
   },
   {
    "duration": 789,
    "start_time": "2023-03-03T09:13:17.286Z"
   },
   {
    "duration": 64,
    "start_time": "2023-03-03T09:13:18.079Z"
   },
   {
    "duration": 546,
    "start_time": "2023-03-03T09:13:18.150Z"
   },
   {
    "duration": 837,
    "start_time": "2023-03-03T09:13:18.699Z"
   },
   {
    "duration": 1064,
    "start_time": "2023-03-03T09:13:19.538Z"
   },
   {
    "duration": 15,
    "start_time": "2023-03-03T09:16:38.394Z"
   },
   {
    "duration": 19,
    "start_time": "2023-03-03T09:17:19.513Z"
   },
   {
    "duration": 48,
    "start_time": "2023-03-03T09:18:55.048Z"
   },
   {
    "duration": 380,
    "start_time": "2023-03-03T09:19:18.081Z"
   },
   {
    "duration": 41,
    "start_time": "2023-03-03T09:19:18.570Z"
   },
   {
    "duration": 1592,
    "start_time": "2023-03-03T09:19:19.101Z"
   },
   {
    "duration": 891,
    "start_time": "2023-03-03T09:19:20.695Z"
   },
   {
    "duration": 154,
    "start_time": "2023-03-03T09:19:47.314Z"
   },
   {
    "duration": 795,
    "start_time": "2023-03-03T09:19:48.457Z"
   },
   {
    "duration": 581,
    "start_time": "2023-03-03T09:20:11.507Z"
   },
   {
    "duration": 576,
    "start_time": "2023-03-03T09:20:17.820Z"
   },
   {
    "duration": 545,
    "start_time": "2023-03-03T09:20:27.154Z"
   },
   {
    "duration": 717,
    "start_time": "2023-03-03T09:21:37.058Z"
   },
   {
    "duration": 1942,
    "start_time": "2023-03-03T09:22:29.813Z"
   },
   {
    "duration": 11,
    "start_time": "2023-03-03T09:22:31.762Z"
   },
   {
    "duration": 393,
    "start_time": "2023-03-03T09:22:31.775Z"
   },
   {
    "duration": 24,
    "start_time": "2023-03-03T09:22:32.173Z"
   },
   {
    "duration": 65,
    "start_time": "2023-03-03T09:22:32.198Z"
   },
   {
    "duration": 15,
    "start_time": "2023-03-03T09:22:32.269Z"
   },
   {
    "duration": 73,
    "start_time": "2023-03-03T09:22:32.286Z"
   },
   {
    "duration": 125,
    "start_time": "2023-03-03T09:22:32.361Z"
   },
   {
    "duration": 160,
    "start_time": "2023-03-03T09:22:32.488Z"
   },
   {
    "duration": 9,
    "start_time": "2023-03-03T09:22:32.651Z"
   },
   {
    "duration": 147,
    "start_time": "2023-03-03T09:22:32.661Z"
   },
   {
    "duration": 16,
    "start_time": "2023-03-03T09:22:32.810Z"
   },
   {
    "duration": 178,
    "start_time": "2023-03-03T09:22:32.828Z"
   },
   {
    "duration": 25,
    "start_time": "2023-03-03T09:22:33.008Z"
   },
   {
    "duration": 19,
    "start_time": "2023-03-03T09:22:33.035Z"
   },
   {
    "duration": 115,
    "start_time": "2023-03-03T09:22:33.056Z"
   },
   {
    "duration": 6,
    "start_time": "2023-03-03T09:22:33.173Z"
   },
   {
    "duration": 18,
    "start_time": "2023-03-03T09:22:33.180Z"
   },
   {
    "duration": 229,
    "start_time": "2023-03-03T09:22:33.199Z"
   },
   {
    "duration": 10,
    "start_time": "2023-03-03T09:22:33.429Z"
   },
   {
    "duration": 133,
    "start_time": "2023-03-03T09:22:33.441Z"
   },
   {
    "duration": 6,
    "start_time": "2023-03-03T09:22:33.576Z"
   },
   {
    "duration": 18,
    "start_time": "2023-03-03T09:22:33.584Z"
   },
   {
    "duration": 71,
    "start_time": "2023-03-03T09:22:33.604Z"
   },
   {
    "duration": 12,
    "start_time": "2023-03-03T09:22:33.677Z"
   },
   {
    "duration": 36,
    "start_time": "2023-03-03T09:22:33.691Z"
   },
   {
    "duration": 5726,
    "start_time": "2023-03-03T09:22:33.729Z"
   },
   {
    "duration": 7,
    "start_time": "2023-03-03T09:22:39.462Z"
   },
   {
    "duration": 170,
    "start_time": "2023-03-03T09:22:39.471Z"
   },
   {
    "duration": 25,
    "start_time": "2023-03-03T09:22:39.655Z"
   },
   {
    "duration": 8,
    "start_time": "2023-03-03T09:22:39.683Z"
   },
   {
    "duration": 67,
    "start_time": "2023-03-03T09:22:39.693Z"
   },
   {
    "duration": 23,
    "start_time": "2023-03-03T09:22:39.762Z"
   },
   {
    "duration": 57,
    "start_time": "2023-03-03T09:22:39.820Z"
   },
   {
    "duration": 17,
    "start_time": "2023-03-03T09:22:39.879Z"
   },
   {
    "duration": 31,
    "start_time": "2023-03-03T09:22:39.898Z"
   },
   {
    "duration": 5,
    "start_time": "2023-03-03T09:22:39.931Z"
   },
   {
    "duration": 47,
    "start_time": "2023-03-03T09:22:39.937Z"
   },
   {
    "duration": 4,
    "start_time": "2023-03-03T09:22:39.986Z"
   },
   {
    "duration": 63,
    "start_time": "2023-03-03T09:22:40.028Z"
   },
   {
    "duration": 72,
    "start_time": "2023-03-03T09:22:40.126Z"
   },
   {
    "duration": 8,
    "start_time": "2023-03-03T09:22:40.200Z"
   },
   {
    "duration": 67,
    "start_time": "2023-03-03T09:22:40.210Z"
   },
   {
    "duration": 11,
    "start_time": "2023-03-03T09:22:40.279Z"
   },
   {
    "duration": 23,
    "start_time": "2023-03-03T09:22:40.292Z"
   },
   {
    "duration": 50,
    "start_time": "2023-03-03T09:22:40.317Z"
   },
   {
    "duration": 28,
    "start_time": "2023-03-03T09:22:40.371Z"
   },
   {
    "duration": 18,
    "start_time": "2023-03-03T09:22:40.402Z"
   },
   {
    "duration": 52,
    "start_time": "2023-03-03T09:22:40.424Z"
   },
   {
    "duration": 9,
    "start_time": "2023-03-03T09:22:40.478Z"
   },
   {
    "duration": 12,
    "start_time": "2023-03-03T09:22:40.488Z"
   },
   {
    "duration": 14,
    "start_time": "2023-03-03T09:22:40.502Z"
   },
   {
    "duration": 45,
    "start_time": "2023-03-03T09:22:40.519Z"
   },
   {
    "duration": 27,
    "start_time": "2023-03-03T09:22:40.567Z"
   },
   {
    "duration": 44,
    "start_time": "2023-03-03T09:22:40.597Z"
   },
   {
    "duration": 30,
    "start_time": "2023-03-03T09:22:40.643Z"
   },
   {
    "duration": 11,
    "start_time": "2023-03-03T09:22:40.675Z"
   },
   {
    "duration": 13,
    "start_time": "2023-03-03T09:22:40.689Z"
   },
   {
    "duration": 4,
    "start_time": "2023-03-03T09:22:40.705Z"
   },
   {
    "duration": 26,
    "start_time": "2023-03-03T09:22:40.711Z"
   },
   {
    "duration": 76,
    "start_time": "2023-03-03T09:22:40.742Z"
   },
   {
    "duration": 49,
    "start_time": "2023-03-03T09:22:40.820Z"
   },
   {
    "duration": 28,
    "start_time": "2023-03-03T09:22:40.871Z"
   },
   {
    "duration": 50,
    "start_time": "2023-03-03T09:22:40.901Z"
   },
   {
    "duration": 151,
    "start_time": "2023-03-03T09:22:40.953Z"
   },
   {
    "duration": 9,
    "start_time": "2023-03-03T09:22:41.106Z"
   },
   {
    "duration": 43,
    "start_time": "2023-03-03T09:22:41.116Z"
   },
   {
    "duration": 20,
    "start_time": "2023-03-03T09:22:41.161Z"
   },
   {
    "duration": 15,
    "start_time": "2023-03-03T09:22:41.184Z"
   },
   {
    "duration": 20,
    "start_time": "2023-03-03T09:22:41.202Z"
   },
   {
    "duration": 123,
    "start_time": "2023-03-03T09:22:41.228Z"
   },
   {
    "duration": 84,
    "start_time": "2023-03-03T09:22:41.353Z"
   },
   {
    "duration": 8,
    "start_time": "2023-03-03T09:22:41.439Z"
   },
   {
    "duration": 79,
    "start_time": "2023-03-03T09:22:41.449Z"
   },
   {
    "duration": 233,
    "start_time": "2023-03-03T09:22:41.531Z"
   },
   {
    "duration": 198,
    "start_time": "2023-03-03T09:22:41.769Z"
   },
   {
    "duration": 78,
    "start_time": "2023-03-03T09:22:41.970Z"
   },
   {
    "duration": 15,
    "start_time": "2023-03-03T09:22:42.056Z"
   },
   {
    "duration": 18,
    "start_time": "2023-03-03T09:22:42.073Z"
   },
   {
    "duration": 9,
    "start_time": "2023-03-03T09:22:42.094Z"
   },
   {
    "duration": 8,
    "start_time": "2023-03-03T09:22:42.105Z"
   },
   {
    "duration": 34,
    "start_time": "2023-03-03T09:22:42.121Z"
   },
   {
    "duration": 7,
    "start_time": "2023-03-03T09:22:42.158Z"
   },
   {
    "duration": 5,
    "start_time": "2023-03-03T09:22:42.168Z"
   },
   {
    "duration": 11,
    "start_time": "2023-03-03T09:22:42.175Z"
   },
   {
    "duration": 12,
    "start_time": "2023-03-03T09:22:42.188Z"
   },
   {
    "duration": 12,
    "start_time": "2023-03-03T09:22:42.202Z"
   },
   {
    "duration": 43,
    "start_time": "2023-03-03T09:22:42.216Z"
   },
   {
    "duration": 14,
    "start_time": "2023-03-03T09:22:42.260Z"
   },
   {
    "duration": 76,
    "start_time": "2023-03-03T09:22:42.276Z"
   },
   {
    "duration": 34,
    "start_time": "2023-03-03T09:22:42.354Z"
   },
   {
    "duration": 25,
    "start_time": "2023-03-03T09:22:42.390Z"
   },
   {
    "duration": 60,
    "start_time": "2023-03-03T09:22:42.417Z"
   },
   {
    "duration": 22,
    "start_time": "2023-03-03T09:22:42.479Z"
   },
   {
    "duration": 7,
    "start_time": "2023-03-03T09:22:42.503Z"
   },
   {
    "duration": 7,
    "start_time": "2023-03-03T09:22:42.512Z"
   },
   {
    "duration": 38,
    "start_time": "2023-03-03T09:22:42.530Z"
   },
   {
    "duration": 107,
    "start_time": "2023-03-03T09:22:42.570Z"
   },
   {
    "duration": 97,
    "start_time": "2023-03-03T09:22:42.679Z"
   },
   {
    "duration": 3,
    "start_time": "2023-03-03T09:22:42.779Z"
   },
   {
    "duration": 55,
    "start_time": "2023-03-03T09:22:42.785Z"
   },
   {
    "duration": 13,
    "start_time": "2023-03-03T09:22:42.844Z"
   },
   {
    "duration": 5,
    "start_time": "2023-03-03T09:22:42.858Z"
   },
   {
    "duration": 32,
    "start_time": "2023-03-03T09:22:42.865Z"
   },
   {
    "duration": 8,
    "start_time": "2023-03-03T09:22:42.898Z"
   },
   {
    "duration": 24,
    "start_time": "2023-03-03T09:22:42.908Z"
   },
   {
    "duration": 28,
    "start_time": "2023-03-03T09:22:42.934Z"
   },
   {
    "duration": 9,
    "start_time": "2023-03-03T09:22:42.964Z"
   },
   {
    "duration": 8,
    "start_time": "2023-03-03T09:22:42.974Z"
   },
   {
    "duration": 60,
    "start_time": "2023-03-03T09:22:42.984Z"
   },
   {
    "duration": 3826,
    "start_time": "2023-03-03T09:22:43.047Z"
   },
   {
    "duration": 742,
    "start_time": "2023-03-03T09:22:46.875Z"
   },
   {
    "duration": 1780,
    "start_time": "2023-03-03T09:22:47.619Z"
   },
   {
    "duration": 798,
    "start_time": "2023-03-03T09:22:49.400Z"
   },
   {
    "duration": 693,
    "start_time": "2023-03-03T09:22:50.200Z"
   },
   {
    "duration": 1064,
    "start_time": "2023-03-03T09:22:50.895Z"
   },
   {
    "duration": 10258,
    "start_time": "2023-03-03T09:22:51.962Z"
   },
   {
    "duration": 149244,
    "start_time": "2023-03-03T09:23:02.222Z"
   },
   {
    "duration": 15277,
    "start_time": "2023-03-03T09:25:31.468Z"
   },
   {
    "duration": 202,
    "start_time": "2023-03-03T09:25:46.749Z"
   },
   {
    "duration": 0,
    "start_time": "2023-03-03T09:25:46.953Z"
   },
   {
    "duration": 0,
    "start_time": "2023-03-03T09:25:46.955Z"
   },
   {
    "duration": 0,
    "start_time": "2023-03-03T09:25:46.956Z"
   },
   {
    "duration": 0,
    "start_time": "2023-03-03T09:25:46.957Z"
   },
   {
    "duration": 0,
    "start_time": "2023-03-03T09:25:46.958Z"
   },
   {
    "duration": 0,
    "start_time": "2023-03-03T09:25:46.959Z"
   },
   {
    "duration": 0,
    "start_time": "2023-03-03T09:25:46.960Z"
   },
   {
    "duration": 0,
    "start_time": "2023-03-03T09:25:46.961Z"
   },
   {
    "duration": 0,
    "start_time": "2023-03-03T09:25:46.962Z"
   },
   {
    "duration": 0,
    "start_time": "2023-03-03T09:25:46.963Z"
   },
   {
    "duration": 0,
    "start_time": "2023-03-03T09:25:46.964Z"
   },
   {
    "duration": 0,
    "start_time": "2023-03-03T09:25:46.965Z"
   },
   {
    "duration": 0,
    "start_time": "2023-03-03T09:25:46.966Z"
   },
   {
    "duration": 0,
    "start_time": "2023-03-03T09:25:46.968Z"
   },
   {
    "duration": 0,
    "start_time": "2023-03-03T09:25:46.969Z"
   },
   {
    "duration": 0,
    "start_time": "2023-03-03T09:25:46.970Z"
   },
   {
    "duration": 0,
    "start_time": "2023-03-03T09:25:46.971Z"
   },
   {
    "duration": 0,
    "start_time": "2023-03-03T09:25:46.971Z"
   },
   {
    "duration": 0,
    "start_time": "2023-03-03T09:25:46.973Z"
   },
   {
    "duration": 0,
    "start_time": "2023-03-03T09:25:46.974Z"
   },
   {
    "duration": 0,
    "start_time": "2023-03-03T09:25:46.975Z"
   },
   {
    "duration": 0,
    "start_time": "2023-03-03T09:25:46.977Z"
   },
   {
    "duration": 0,
    "start_time": "2023-03-03T09:25:46.979Z"
   },
   {
    "duration": 0,
    "start_time": "2023-03-03T09:25:46.980Z"
   },
   {
    "duration": 0,
    "start_time": "2023-03-03T09:25:46.982Z"
   },
   {
    "duration": 0,
    "start_time": "2023-03-03T09:25:46.983Z"
   },
   {
    "duration": 0,
    "start_time": "2023-03-03T09:25:46.985Z"
   },
   {
    "duration": 0,
    "start_time": "2023-03-03T09:25:46.986Z"
   },
   {
    "duration": 0,
    "start_time": "2023-03-03T09:25:46.987Z"
   },
   {
    "duration": 103,
    "start_time": "2023-03-03T09:26:12.318Z"
   },
   {
    "duration": 23,
    "start_time": "2023-03-03T09:26:13.765Z"
   },
   {
    "duration": 48,
    "start_time": "2023-03-03T09:27:02.917Z"
   },
   {
    "duration": 90,
    "start_time": "2023-03-03T09:28:32.656Z"
   },
   {
    "duration": 241,
    "start_time": "2023-03-03T09:29:46.122Z"
   },
   {
    "duration": 211,
    "start_time": "2023-03-03T09:30:42.182Z"
   },
   {
    "duration": 78,
    "start_time": "2023-03-03T09:32:31.649Z"
   },
   {
    "duration": 66,
    "start_time": "2023-03-03T09:34:11.458Z"
   },
   {
    "duration": 50,
    "start_time": "2023-03-03T09:34:18.881Z"
   },
   {
    "duration": 139,
    "start_time": "2023-03-03T09:35:20.489Z"
   },
   {
    "duration": 83,
    "start_time": "2023-03-03T09:36:34.449Z"
   },
   {
    "duration": 34,
    "start_time": "2023-03-03T09:37:54.689Z"
   },
   {
    "duration": 58,
    "start_time": "2023-03-03T09:38:52.485Z"
   },
   {
    "duration": 22,
    "start_time": "2023-03-03T09:40:01.314Z"
   },
   {
    "duration": 15,
    "start_time": "2023-03-03T09:45:07.294Z"
   },
   {
    "duration": 24,
    "start_time": "2023-03-03T09:45:11.952Z"
   },
   {
    "duration": 18,
    "start_time": "2023-03-03T09:45:29.797Z"
   },
   {
    "duration": 17,
    "start_time": "2023-03-03T09:45:48.693Z"
   },
   {
    "duration": 21,
    "start_time": "2023-03-03T09:46:42.820Z"
   },
   {
    "duration": 24,
    "start_time": "2023-03-03T09:46:48.150Z"
   },
   {
    "duration": 22,
    "start_time": "2023-03-03T09:47:07.496Z"
   },
   {
    "duration": 4,
    "start_time": "2023-03-03T09:49:58.964Z"
   },
   {
    "duration": 5,
    "start_time": "2023-03-03T09:51:13.060Z"
   },
   {
    "duration": 4,
    "start_time": "2023-03-03T09:51:39.907Z"
   },
   {
    "duration": 4,
    "start_time": "2023-03-03T09:52:20.174Z"
   },
   {
    "duration": 4,
    "start_time": "2023-03-03T09:56:22.284Z"
   },
   {
    "duration": 4,
    "start_time": "2023-03-03T09:56:22.560Z"
   },
   {
    "duration": 3,
    "start_time": "2023-03-03T09:56:22.783Z"
   },
   {
    "duration": 3,
    "start_time": "2023-03-03T09:56:23.065Z"
   },
   {
    "duration": 4,
    "start_time": "2023-03-03T09:56:23.348Z"
   },
   {
    "duration": 3,
    "start_time": "2023-03-03T09:56:23.666Z"
   },
   {
    "duration": 3,
    "start_time": "2023-03-03T09:56:24.103Z"
   },
   {
    "duration": 5,
    "start_time": "2023-03-03T09:58:50.326Z"
   },
   {
    "duration": 3,
    "start_time": "2023-03-03T09:58:50.710Z"
   },
   {
    "duration": 4,
    "start_time": "2023-03-03T09:58:51.066Z"
   },
   {
    "duration": 3,
    "start_time": "2023-03-03T09:58:51.396Z"
   },
   {
    "duration": 3,
    "start_time": "2023-03-03T09:58:51.760Z"
   },
   {
    "duration": 3,
    "start_time": "2023-03-03T09:58:52.097Z"
   },
   {
    "duration": 5,
    "start_time": "2023-03-03T09:58:52.569Z"
   },
   {
    "duration": 4,
    "start_time": "2023-03-03T09:58:53.103Z"
   },
   {
    "duration": 5,
    "start_time": "2023-03-03T09:59:03.175Z"
   },
   {
    "duration": 2128,
    "start_time": "2023-03-03T10:07:07.159Z"
   },
   {
    "duration": 5,
    "start_time": "2023-03-03T10:07:09.290Z"
   },
   {
    "duration": 462,
    "start_time": "2023-03-03T10:07:09.297Z"
   },
   {
    "duration": 29,
    "start_time": "2023-03-03T10:07:09.763Z"
   },
   {
    "duration": 174,
    "start_time": "2023-03-03T10:07:09.794Z"
   },
   {
    "duration": 16,
    "start_time": "2023-03-03T10:07:09.970Z"
   },
   {
    "duration": 25,
    "start_time": "2023-03-03T10:07:09.988Z"
   },
   {
    "duration": 132,
    "start_time": "2023-03-03T10:07:10.025Z"
   },
   {
    "duration": 397,
    "start_time": "2023-03-03T10:07:10.164Z"
   },
   {
    "duration": 60,
    "start_time": "2023-03-03T10:07:10.567Z"
   },
   {
    "duration": 314,
    "start_time": "2023-03-03T10:07:10.643Z"
   },
   {
    "duration": 13,
    "start_time": "2023-03-03T10:07:10.967Z"
   },
   {
    "duration": 342,
    "start_time": "2023-03-03T10:07:10.982Z"
   },
   {
    "duration": 7,
    "start_time": "2023-03-03T10:07:11.330Z"
   },
   {
    "duration": 40,
    "start_time": "2023-03-03T10:07:11.339Z"
   },
   {
    "duration": 345,
    "start_time": "2023-03-03T10:07:11.383Z"
   },
   {
    "duration": 11,
    "start_time": "2023-03-03T10:07:11.731Z"
   },
   {
    "duration": 28,
    "start_time": "2023-03-03T10:07:11.744Z"
   },
   {
    "duration": 299,
    "start_time": "2023-03-03T10:07:11.775Z"
   },
   {
    "duration": 7,
    "start_time": "2023-03-03T10:07:12.076Z"
   },
   {
    "duration": 164,
    "start_time": "2023-03-03T10:07:12.085Z"
   },
   {
    "duration": 8,
    "start_time": "2023-03-03T10:07:12.255Z"
   },
   {
    "duration": 18,
    "start_time": "2023-03-03T10:07:12.265Z"
   },
   {
    "duration": 32,
    "start_time": "2023-03-03T10:07:12.285Z"
   },
   {
    "duration": 25,
    "start_time": "2023-03-03T10:07:12.319Z"
   },
   {
    "duration": 45,
    "start_time": "2023-03-03T10:07:12.345Z"
   },
   {
    "duration": 6661,
    "start_time": "2023-03-03T10:07:12.392Z"
   },
   {
    "duration": 7,
    "start_time": "2023-03-03T10:07:19.063Z"
   },
   {
    "duration": 11,
    "start_time": "2023-03-03T10:07:19.072Z"
   },
   {
    "duration": 50,
    "start_time": "2023-03-03T10:07:19.084Z"
   },
   {
    "duration": 35,
    "start_time": "2023-03-03T10:07:19.137Z"
   },
   {
    "duration": 4,
    "start_time": "2023-03-03T10:07:19.175Z"
   },
   {
    "duration": 41,
    "start_time": "2023-03-03T10:07:19.221Z"
   },
   {
    "duration": 91,
    "start_time": "2023-03-03T10:07:19.267Z"
   },
   {
    "duration": 18,
    "start_time": "2023-03-03T10:07:19.360Z"
   },
   {
    "duration": 51,
    "start_time": "2023-03-03T10:07:19.380Z"
   },
   {
    "duration": 32,
    "start_time": "2023-03-03T10:07:19.432Z"
   },
   {
    "duration": 23,
    "start_time": "2023-03-03T10:07:19.467Z"
   },
   {
    "duration": 4,
    "start_time": "2023-03-03T10:07:19.492Z"
   },
   {
    "duration": 53,
    "start_time": "2023-03-03T10:07:19.498Z"
   },
   {
    "duration": 33,
    "start_time": "2023-03-03T10:07:19.554Z"
   },
   {
    "duration": 9,
    "start_time": "2023-03-03T10:07:19.589Z"
   },
   {
    "duration": 7,
    "start_time": "2023-03-03T10:07:19.600Z"
   },
   {
    "duration": 29,
    "start_time": "2023-03-03T10:07:19.609Z"
   },
   {
    "duration": 32,
    "start_time": "2023-03-03T10:07:19.644Z"
   },
   {
    "duration": 8,
    "start_time": "2023-03-03T10:07:19.678Z"
   },
   {
    "duration": 32,
    "start_time": "2023-03-03T10:07:19.688Z"
   },
   {
    "duration": 42,
    "start_time": "2023-03-03T10:07:19.731Z"
   },
   {
    "duration": 9,
    "start_time": "2023-03-03T10:07:19.775Z"
   },
   {
    "duration": 9,
    "start_time": "2023-03-03T10:07:19.786Z"
   },
   {
    "duration": 6,
    "start_time": "2023-03-03T10:07:19.797Z"
   },
   {
    "duration": 15,
    "start_time": "2023-03-03T10:07:19.804Z"
   },
   {
    "duration": 44,
    "start_time": "2023-03-03T10:07:19.820Z"
   },
   {
    "duration": 29,
    "start_time": "2023-03-03T10:07:19.865Z"
   },
   {
    "duration": 20,
    "start_time": "2023-03-03T10:07:19.897Z"
   },
   {
    "duration": 41,
    "start_time": "2023-03-03T10:07:19.920Z"
   },
   {
    "duration": 6,
    "start_time": "2023-03-03T10:07:19.963Z"
   },
   {
    "duration": 5,
    "start_time": "2023-03-03T10:07:19.971Z"
   },
   {
    "duration": 5,
    "start_time": "2023-03-03T10:07:19.978Z"
   },
   {
    "duration": 12,
    "start_time": "2023-03-03T10:07:19.984Z"
   },
   {
    "duration": 66,
    "start_time": "2023-03-03T10:07:19.997Z"
   },
   {
    "duration": 42,
    "start_time": "2023-03-03T10:07:20.065Z"
   },
   {
    "duration": 51,
    "start_time": "2023-03-03T10:07:20.109Z"
   },
   {
    "duration": 33,
    "start_time": "2023-03-03T10:07:20.161Z"
   },
   {
    "duration": 8,
    "start_time": "2023-03-03T10:07:20.196Z"
   },
   {
    "duration": 29,
    "start_time": "2023-03-03T10:07:20.205Z"
   },
   {
    "duration": 29,
    "start_time": "2023-03-03T10:07:20.236Z"
   },
   {
    "duration": 18,
    "start_time": "2023-03-03T10:07:20.267Z"
   },
   {
    "duration": 13,
    "start_time": "2023-03-03T10:07:20.287Z"
   },
   {
    "duration": 17,
    "start_time": "2023-03-03T10:07:20.303Z"
   },
   {
    "duration": 77,
    "start_time": "2023-03-03T10:07:20.327Z"
   },
   {
    "duration": 30,
    "start_time": "2023-03-03T10:07:20.406Z"
   },
   {
    "duration": 50,
    "start_time": "2023-03-03T10:07:20.438Z"
   },
   {
    "duration": 15,
    "start_time": "2023-03-03T10:07:20.490Z"
   },
   {
    "duration": 179,
    "start_time": "2023-03-03T10:07:20.507Z"
   },
   {
    "duration": 81,
    "start_time": "2023-03-03T10:07:20.688Z"
   },
   {
    "duration": 78,
    "start_time": "2023-03-03T10:07:20.771Z"
   },
   {
    "duration": 24,
    "start_time": "2023-03-03T10:07:20.856Z"
   },
   {
    "duration": 27,
    "start_time": "2023-03-03T10:07:20.881Z"
   },
   {
    "duration": 51,
    "start_time": "2023-03-03T10:07:20.910Z"
   },
   {
    "duration": 16,
    "start_time": "2023-03-03T10:07:20.964Z"
   },
   {
    "duration": 9,
    "start_time": "2023-03-03T10:07:20.990Z"
   },
   {
    "duration": 20,
    "start_time": "2023-03-03T10:07:21.000Z"
   },
   {
    "duration": 53,
    "start_time": "2023-03-03T10:07:21.021Z"
   },
   {
    "duration": 15,
    "start_time": "2023-03-03T10:07:21.077Z"
   },
   {
    "duration": 32,
    "start_time": "2023-03-03T10:07:21.095Z"
   },
   {
    "duration": 43,
    "start_time": "2023-03-03T10:07:21.130Z"
   },
   {
    "duration": 22,
    "start_time": "2023-03-03T10:07:21.175Z"
   },
   {
    "duration": 56,
    "start_time": "2023-03-03T10:07:21.199Z"
   },
   {
    "duration": 74,
    "start_time": "2023-03-03T10:07:21.257Z"
   },
   {
    "duration": 36,
    "start_time": "2023-03-03T10:07:21.336Z"
   },
   {
    "duration": 17,
    "start_time": "2023-03-03T10:07:21.375Z"
   },
   {
    "duration": 41,
    "start_time": "2023-03-03T10:07:21.394Z"
   },
   {
    "duration": 23,
    "start_time": "2023-03-03T10:07:21.446Z"
   },
   {
    "duration": 30,
    "start_time": "2023-03-03T10:07:21.471Z"
   },
   {
    "duration": 54,
    "start_time": "2023-03-03T10:07:21.504Z"
   },
   {
    "duration": 21,
    "start_time": "2023-03-03T10:07:21.561Z"
   },
   {
    "duration": 132,
    "start_time": "2023-03-03T10:07:21.584Z"
   },
   {
    "duration": 112,
    "start_time": "2023-03-03T10:07:21.719Z"
   },
   {
    "duration": 6,
    "start_time": "2023-03-03T10:07:21.833Z"
   },
   {
    "duration": 133,
    "start_time": "2023-03-03T10:07:21.843Z"
   },
   {
    "duration": 15,
    "start_time": "2023-03-03T10:07:21.978Z"
   },
   {
    "duration": 20,
    "start_time": "2023-03-03T10:07:21.996Z"
   },
   {
    "duration": 79,
    "start_time": "2023-03-03T10:07:22.018Z"
   },
   {
    "duration": 8,
    "start_time": "2023-03-03T10:07:22.099Z"
   },
   {
    "duration": 65,
    "start_time": "2023-03-03T10:07:22.109Z"
   },
   {
    "duration": 15,
    "start_time": "2023-03-03T10:07:22.176Z"
   },
   {
    "duration": 22,
    "start_time": "2023-03-03T10:07:22.193Z"
   },
   {
    "duration": 51,
    "start_time": "2023-03-03T10:07:22.217Z"
   },
   {
    "duration": 90,
    "start_time": "2023-03-03T10:07:22.272Z"
   },
   {
    "duration": 2813,
    "start_time": "2023-03-03T10:07:22.366Z"
   },
   {
    "duration": 882,
    "start_time": "2023-03-03T10:07:25.181Z"
   },
   {
    "duration": 1854,
    "start_time": "2023-03-03T10:07:26.065Z"
   },
   {
    "duration": 840,
    "start_time": "2023-03-03T10:07:27.925Z"
   },
   {
    "duration": 744,
    "start_time": "2023-03-03T10:07:28.768Z"
   },
   {
    "duration": 1055,
    "start_time": "2023-03-03T10:07:29.514Z"
   },
   {
    "duration": 10448,
    "start_time": "2023-03-03T10:07:30.571Z"
   },
   {
    "duration": 8390,
    "start_time": "2023-03-03T10:07:41.021Z"
   },
   {
    "duration": 148803,
    "start_time": "2023-03-03T10:07:49.413Z"
   },
   {
    "duration": 184482,
    "start_time": "2023-03-03T10:10:18.220Z"
   },
   {
    "duration": 16347,
    "start_time": "2023-03-03T10:13:22.704Z"
   },
   {
    "duration": 2193806,
    "start_time": "2023-03-03T10:13:39.058Z"
   },
   {
    "duration": 145,
    "start_time": "2023-03-03T10:50:12.947Z"
   },
   {
    "duration": 189,
    "start_time": "2023-03-03T10:50:13.099Z"
   },
   {
    "duration": 157,
    "start_time": "2023-03-03T10:50:13.291Z"
   },
   {
    "duration": 88,
    "start_time": "2023-03-03T10:50:13.453Z"
   },
   {
    "duration": 292,
    "start_time": "2023-03-03T10:50:13.543Z"
   },
   {
    "duration": 109,
    "start_time": "2023-03-03T10:50:13.843Z"
   },
   {
    "duration": 146,
    "start_time": "2023-03-03T10:50:13.988Z"
   },
   {
    "duration": 126,
    "start_time": "2023-03-03T10:50:14.144Z"
   },
   {
    "duration": 75,
    "start_time": "2023-03-03T10:50:14.323Z"
   },
   {
    "duration": 27,
    "start_time": "2023-03-03T10:50:14.401Z"
   },
   {
    "duration": 23,
    "start_time": "2023-03-03T10:50:14.430Z"
   },
   {
    "duration": 34,
    "start_time": "2023-03-03T10:50:14.458Z"
   },
   {
    "duration": 9,
    "start_time": "2023-03-03T10:50:14.495Z"
   },
   {
    "duration": 43,
    "start_time": "2023-03-03T10:50:14.506Z"
   },
   {
    "duration": 53,
    "start_time": "2023-03-03T10:50:14.557Z"
   },
   {
    "duration": 31,
    "start_time": "2023-03-03T10:50:14.613Z"
   },
   {
    "duration": 69,
    "start_time": "2023-03-03T10:50:14.649Z"
   },
   {
    "duration": 107,
    "start_time": "2023-03-03T10:50:14.720Z"
   },
   {
    "duration": 76,
    "start_time": "2023-03-03T10:50:14.830Z"
   },
   {
    "duration": 30,
    "start_time": "2023-03-03T10:50:14.909Z"
   },
   {
    "duration": 126,
    "start_time": "2023-03-03T10:50:14.941Z"
   },
   {
    "duration": 108,
    "start_time": "2023-03-03T10:50:15.071Z"
   },
   {
    "duration": 92,
    "start_time": "2023-03-03T10:50:15.187Z"
   },
   {
    "duration": 33,
    "start_time": "2023-03-03T10:50:15.286Z"
   },
   {
    "duration": 108,
    "start_time": "2023-03-03T10:50:15.327Z"
   },
   {
    "duration": 82,
    "start_time": "2023-03-03T10:50:15.436Z"
   },
   {
    "duration": 204,
    "start_time": "2023-03-03T10:50:15.520Z"
   },
   {
    "duration": 43,
    "start_time": "2023-03-03T10:50:15.726Z"
   },
   {
    "duration": 65,
    "start_time": "2023-03-03T10:50:15.776Z"
   },
   {
    "duration": 47,
    "start_time": "2023-03-03T10:50:15.849Z"
   },
   {
    "duration": 29,
    "start_time": "2023-03-03T10:50:15.898Z"
   },
   {
    "duration": 37,
    "start_time": "2023-03-03T10:50:15.932Z"
   },
   {
    "duration": 37,
    "start_time": "2023-03-03T10:50:15.975Z"
   },
   {
    "duration": 33,
    "start_time": "2023-03-03T10:50:16.014Z"
   },
   {
    "duration": 77,
    "start_time": "2023-03-03T10:50:16.049Z"
   },
   {
    "duration": 66,
    "start_time": "2023-03-03T10:50:16.138Z"
   },
   {
    "duration": 5,
    "start_time": "2023-03-03T10:50:16.206Z"
   },
   {
    "duration": 362,
    "start_time": "2023-03-03T10:50:16.213Z"
   },
   {
    "duration": 21,
    "start_time": "2023-03-03T10:50:16.577Z"
   },
   {
    "duration": 116,
    "start_time": "2023-03-03T10:50:16.601Z"
   },
   {
    "duration": 54,
    "start_time": "2023-03-03T10:50:16.719Z"
   },
   {
    "duration": 55,
    "start_time": "2023-03-03T10:50:16.776Z"
   },
   {
    "duration": 56,
    "start_time": "2023-03-03T10:50:16.846Z"
   },
   {
    "duration": 7,
    "start_time": "2023-03-03T10:50:16.905Z"
   }
  ],
  "kernelspec": {
   "display_name": "Python 3 (ipykernel)",
   "language": "python",
   "name": "python3"
  },
  "language_info": {
   "codemirror_mode": {
    "name": "ipython",
    "version": 3
   },
   "file_extension": ".py",
   "mimetype": "text/x-python",
   "name": "python",
   "nbconvert_exporter": "python",
   "pygments_lexer": "ipython3",
   "version": "3.9.12"
  },
  "toc": {
   "base_numbering": 1,
   "nav_menu": {},
   "number_sections": true,
   "sideBar": true,
   "skip_h1_title": true,
   "title_cell": "Table of Contents",
   "title_sidebar": "Contents",
   "toc_cell": false,
   "toc_position": {
    "height": "calc(100% - 180px)",
    "left": "10px",
    "top": "150px",
    "width": "348.391px"
   },
   "toc_section_display": true,
   "toc_window_display": true
  }
 },
 "nbformat": 4,
 "nbformat_minor": 2
}
